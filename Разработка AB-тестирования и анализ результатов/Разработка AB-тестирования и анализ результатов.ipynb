{
 "cells": [
  {
   "cell_type": "markdown",
   "metadata": {
    "id": "u98L9TgH0eMk"
   },
   "source": [
    "# Разработка A/B-тестирования и анализ результатов\n",
    "\n",
    "\n",
    "### Цель проекта заключается в разработке и расчёте параметров A/B-теста, который позволит проверить гипотезу: внедрение нового алгоритма рекомендаций увеличит долю успешных сессий, когда за одну сессию было просмотрено 4 и более страниц, и проанализировать его результаты."
   ]
  },
  {
   "cell_type": "markdown",
   "metadata": {
    "id": "LJBRALHs0eMf"
   },
   "source": [
    "## Описание данных\n",
    "\n",
    "- `sessions_project_history.csv` — таблица с историческими данными по сессиям пользователей на период с 2025-08-15 по 2025-09-23. Путь к файлу: `/datasets/sessions_project_history.csv`.\n",
    "\n",
    "- `sessions_project_test_part.csv` — таблица с данными за первый день проведения A/B-теста, то есть за 2025-10-14. Путь к файлу: `/datasets/sessions_project_test_part.csv`.\n",
    "\n",
    "- `sessions_project_test.csv` — таблица с данными за весь период проведения A/B-теста, то есть с 2025-10-14 по 2025-11-02. Путь к файлу: `/datasets/sessions_project_test.csv`.\n",
    "\n",
    "У этих таблиц почти совпадает структура и содержание колонок, различаются лишь периоды наблюдения.\n",
    "\n",
    "Поля таблиц `sessions_project_history.csv`, `sessions_project_test.csv`, `sessions_project_test_part.csv`:\n",
    "\n",
    "- `user_id` — идентификатор пользователя;\n",
    "\n",
    "- `session_id` — идентификатор сессии в приложении;\n",
    "\n",
    "- `session_date` — дата сессии;\n",
    "\n",
    "- `session_start_ts` — дата и время начала сессии;\n",
    "\n",
    "- `install_date` — дата установки приложения;\n",
    "\n",
    "- `session_number` — порядковый номер сессии для конкретного пользователя;\n",
    "\n",
    "- `registration_flag` — является ли пользователь зарегистрированным;\n",
    "\n",
    "- `page_counter` — количество просмотренных страниц во время сессии;\n",
    "\n",
    "- `region` — регион пользователя;\n",
    "\n",
    "- `device` — тип устройства пользователя;\n",
    "\n",
    "- `test_group` — тестовая группа (в таблице с историческими данными этого столбца нет).\n",
    "\n",
    "\n",
    "## Что нужно сделать\n",
    "Задачи: рассчитать параметры теста, оценить корректность его проведения и проанализировать результаты эксперимента.\n",
    "\n",
    "- Основной метрикой, изменение которой ожидается в ходе проведения A/B-тестирования, будет выступать увеличение доли сессий с четырьмя и более просмотренными страницами. Увеличение этой метрики будет отражать интерес пользователей к нововведению.\n",
    "- Отследить изменения числа сессий в день. Необходимо убедиться, что количество уникальных дневных сессий в двух выборках не различается или различия не статистически значимые.\n",
    "- В A/B-тест будет вовлечена вся аудитория приложения, будут учтены все регионы и все виды устройств."
   ]
  },
  {
   "cell_type": "markdown",
   "metadata": {
    "id": "UpOucjID0eMl"
   },
   "source": [
    "### 1. Работа с историческими данными (EDA)"
   ]
  },
  {
   "cell_type": "markdown",
   "metadata": {
    "id": "8iJMtL-30eMl"
   },
   "source": [
    "#### 1.1. Загрузка исторических данных"
   ]
  },
  {
   "cell_type": "code",
   "execution_count": 1,
   "metadata": {
    "id": "6TPR2-1RPboT"
   },
   "outputs": [],
   "source": [
    "import pandas as pd\n",
    "import numpy as np\n",
    "import matplotlib.pyplot as plt\n",
    "import seaborn as sns\n",
    "from scipy.stats import ttest_ind\n",
    "from statsmodels.stats.proportion import proportions_ztest"
   ]
  },
  {
   "cell_type": "code",
   "execution_count": 2,
   "metadata": {},
   "outputs": [
    {
     "data": {
      "text/html": [
       "<div>\n",
       "<style scoped>\n",
       "    .dataframe tbody tr th:only-of-type {\n",
       "        vertical-align: middle;\n",
       "    }\n",
       "\n",
       "    .dataframe tbody tr th {\n",
       "        vertical-align: top;\n",
       "    }\n",
       "\n",
       "    .dataframe thead th {\n",
       "        text-align: right;\n",
       "    }\n",
       "</style>\n",
       "<table border=\"1\" class=\"dataframe\">\n",
       "  <thead>\n",
       "    <tr style=\"text-align: right;\">\n",
       "      <th></th>\n",
       "      <th>user_id</th>\n",
       "      <th>session_id</th>\n",
       "      <th>session_date</th>\n",
       "      <th>session_start_ts</th>\n",
       "      <th>install_date</th>\n",
       "      <th>session_number</th>\n",
       "      <th>registration_flag</th>\n",
       "      <th>page_counter</th>\n",
       "      <th>region</th>\n",
       "      <th>device</th>\n",
       "    </tr>\n",
       "  </thead>\n",
       "  <tbody>\n",
       "    <tr>\n",
       "      <th>0</th>\n",
       "      <td>E302123B7000BFE4</td>\n",
       "      <td>F9AF61A0C2023832</td>\n",
       "      <td>2025-08-15</td>\n",
       "      <td>2025-08-15 17:47:35</td>\n",
       "      <td>2025-08-15</td>\n",
       "      <td>1</td>\n",
       "      <td>0</td>\n",
       "      <td>3</td>\n",
       "      <td>CIS</td>\n",
       "      <td>iPhone</td>\n",
       "    </tr>\n",
       "    <tr>\n",
       "      <th>1</th>\n",
       "      <td>2530F72E221829FB</td>\n",
       "      <td>85003A206CBDAC6F</td>\n",
       "      <td>2025-08-15</td>\n",
       "      <td>2025-08-15 16:42:14</td>\n",
       "      <td>2025-08-15</td>\n",
       "      <td>1</td>\n",
       "      <td>0</td>\n",
       "      <td>4</td>\n",
       "      <td>MENA</td>\n",
       "      <td>Android</td>\n",
       "    </tr>\n",
       "    <tr>\n",
       "      <th>2</th>\n",
       "      <td>876E020A4FC512F5</td>\n",
       "      <td>3677423E49D72DEE</td>\n",
       "      <td>2025-08-15</td>\n",
       "      <td>2025-08-15 12:30:00</td>\n",
       "      <td>2025-08-15</td>\n",
       "      <td>1</td>\n",
       "      <td>0</td>\n",
       "      <td>4</td>\n",
       "      <td>EU</td>\n",
       "      <td>PC</td>\n",
       "    </tr>\n",
       "    <tr>\n",
       "      <th>3</th>\n",
       "      <td>2640B349E1D81584</td>\n",
       "      <td>956B45F5915CA225</td>\n",
       "      <td>2025-08-15</td>\n",
       "      <td>2025-08-15 15:31:31</td>\n",
       "      <td>2025-08-15</td>\n",
       "      <td>1</td>\n",
       "      <td>0</td>\n",
       "      <td>4</td>\n",
       "      <td>CIS</td>\n",
       "      <td>Android</td>\n",
       "    </tr>\n",
       "    <tr>\n",
       "      <th>4</th>\n",
       "      <td>94E1CBFAEF1F5EE9</td>\n",
       "      <td>83BF0DA35F9F1F40</td>\n",
       "      <td>2025-08-15</td>\n",
       "      <td>2025-08-15 21:33:53</td>\n",
       "      <td>2025-08-15</td>\n",
       "      <td>1</td>\n",
       "      <td>0</td>\n",
       "      <td>3</td>\n",
       "      <td>CIS</td>\n",
       "      <td>Android</td>\n",
       "    </tr>\n",
       "  </tbody>\n",
       "</table>\n",
       "</div>"
      ],
      "text/plain": [
       "            user_id        session_id session_date     session_start_ts  \\\n",
       "0  E302123B7000BFE4  F9AF61A0C2023832   2025-08-15  2025-08-15 17:47:35   \n",
       "1  2530F72E221829FB  85003A206CBDAC6F   2025-08-15  2025-08-15 16:42:14   \n",
       "2  876E020A4FC512F5  3677423E49D72DEE   2025-08-15  2025-08-15 12:30:00   \n",
       "3  2640B349E1D81584  956B45F5915CA225   2025-08-15  2025-08-15 15:31:31   \n",
       "4  94E1CBFAEF1F5EE9  83BF0DA35F9F1F40   2025-08-15  2025-08-15 21:33:53   \n",
       "\n",
       "  install_date  session_number  registration_flag  page_counter region  \\\n",
       "0   2025-08-15               1                  0             3    CIS   \n",
       "1   2025-08-15               1                  0             4   MENA   \n",
       "2   2025-08-15               1                  0             4     EU   \n",
       "3   2025-08-15               1                  0             4    CIS   \n",
       "4   2025-08-15               1                  0             3    CIS   \n",
       "\n",
       "    device  \n",
       "0   iPhone  \n",
       "1  Android  \n",
       "2       PC  \n",
       "3  Android  \n",
       "4  Android  "
      ]
     },
     "execution_count": 2,
     "metadata": {},
     "output_type": "execute_result"
    }
   ],
   "source": [
    "sessions_history = pd.read_csv('/datasets/sessions_project_history.csv')\n",
    "sessions_history.head()"
   ]
  },
  {
   "cell_type": "code",
   "execution_count": 3,
   "metadata": {},
   "outputs": [
    {
     "name": "stdout",
     "output_type": "stream",
     "text": [
      "<class 'pandas.core.frame.DataFrame'>\n",
      "RangeIndex: 435924 entries, 0 to 435923\n",
      "Data columns (total 10 columns):\n",
      " #   Column             Non-Null Count   Dtype \n",
      "---  ------             --------------   ----- \n",
      " 0   user_id            435924 non-null  object\n",
      " 1   session_id         435924 non-null  object\n",
      " 2   session_date       435924 non-null  object\n",
      " 3   session_start_ts   435924 non-null  object\n",
      " 4   install_date       435924 non-null  object\n",
      " 5   session_number     435924 non-null  int64 \n",
      " 6   registration_flag  435924 non-null  int64 \n",
      " 7   page_counter       435924 non-null  int64 \n",
      " 8   region             435924 non-null  object\n",
      " 9   device             435924 non-null  object\n",
      "dtypes: int64(3), object(7)\n",
      "memory usage: 33.3+ MB\n"
     ]
    }
   ],
   "source": [
    "sessions_history.info()"
   ]
  },
  {
   "cell_type": "markdown",
   "metadata": {
    "id": "qTDoiODz0eMo"
   },
   "source": [
    "#### 1.2. Знакомство с данными"
   ]
  },
  {
   "cell_type": "code",
   "execution_count": 4,
   "metadata": {
    "id": "PWZO9vTIPbPN"
   },
   "outputs": [],
   "source": [
    "count_unique_session_id = sessions_history.groupby('user_id')['session_id'].nunique()"
   ]
  },
  {
   "cell_type": "code",
   "execution_count": 5,
   "metadata": {},
   "outputs": [
    {
     "data": {
      "text/plain": [
       "0"
      ]
     },
     "execution_count": 5,
     "metadata": {},
     "output_type": "execute_result"
    }
   ],
   "source": [
    "sessions_history.duplicated().sum()"
   ]
  },
  {
   "cell_type": "code",
   "execution_count": 6,
   "metadata": {
    "scrolled": false
   },
   "outputs": [
    {
     "data": {
      "text/html": [
       "<div>\n",
       "<style scoped>\n",
       "    .dataframe tbody tr th:only-of-type {\n",
       "        vertical-align: middle;\n",
       "    }\n",
       "\n",
       "    .dataframe tbody tr th {\n",
       "        vertical-align: top;\n",
       "    }\n",
       "\n",
       "    .dataframe thead th {\n",
       "        text-align: right;\n",
       "    }\n",
       "</style>\n",
       "<table border=\"1\" class=\"dataframe\">\n",
       "  <thead>\n",
       "    <tr style=\"text-align: right;\">\n",
       "      <th></th>\n",
       "      <th>user_id</th>\n",
       "      <th>session_id</th>\n",
       "      <th>session_date</th>\n",
       "      <th>session_start_ts</th>\n",
       "      <th>install_date</th>\n",
       "      <th>session_number</th>\n",
       "      <th>registration_flag</th>\n",
       "      <th>page_counter</th>\n",
       "      <th>region</th>\n",
       "      <th>device</th>\n",
       "    </tr>\n",
       "  </thead>\n",
       "  <tbody>\n",
       "    <tr>\n",
       "      <th>115558</th>\n",
       "      <td>10E0DEFC1ABDBBE0</td>\n",
       "      <td>B8F0423BBFFCF5DC</td>\n",
       "      <td>2025-08-14</td>\n",
       "      <td>2025-08-14 13:57:39</td>\n",
       "      <td>2025-08-14</td>\n",
       "      <td>1</td>\n",
       "      <td>0</td>\n",
       "      <td>4</td>\n",
       "      <td>CIS</td>\n",
       "      <td>Android</td>\n",
       "    </tr>\n",
       "    <tr>\n",
       "      <th>191751</th>\n",
       "      <td>10E0DEFC1ABDBBE0</td>\n",
       "      <td>87CA2FA549473837</td>\n",
       "      <td>2025-08-15</td>\n",
       "      <td>2025-08-15 16:42:10</td>\n",
       "      <td>2025-08-14</td>\n",
       "      <td>2</td>\n",
       "      <td>0</td>\n",
       "      <td>3</td>\n",
       "      <td>CIS</td>\n",
       "      <td>Android</td>\n",
       "    </tr>\n",
       "    <tr>\n",
       "      <th>239370</th>\n",
       "      <td>10E0DEFC1ABDBBE0</td>\n",
       "      <td>4ADD8011DCDCE318</td>\n",
       "      <td>2025-08-16</td>\n",
       "      <td>2025-08-16 19:53:21</td>\n",
       "      <td>2025-08-14</td>\n",
       "      <td>3</td>\n",
       "      <td>0</td>\n",
       "      <td>3</td>\n",
       "      <td>CIS</td>\n",
       "      <td>Android</td>\n",
       "    </tr>\n",
       "    <tr>\n",
       "      <th>274629</th>\n",
       "      <td>10E0DEFC1ABDBBE0</td>\n",
       "      <td>DF0FD0E09BF1F3D7</td>\n",
       "      <td>2025-08-17</td>\n",
       "      <td>2025-08-17 15:03:43</td>\n",
       "      <td>2025-08-14</td>\n",
       "      <td>4</td>\n",
       "      <td>0</td>\n",
       "      <td>1</td>\n",
       "      <td>CIS</td>\n",
       "      <td>Android</td>\n",
       "    </tr>\n",
       "    <tr>\n",
       "      <th>302501</th>\n",
       "      <td>10E0DEFC1ABDBBE0</td>\n",
       "      <td>3C221774B4DE6885</td>\n",
       "      <td>2025-08-18</td>\n",
       "      <td>2025-08-18 17:29:14</td>\n",
       "      <td>2025-08-14</td>\n",
       "      <td>5</td>\n",
       "      <td>0</td>\n",
       "      <td>4</td>\n",
       "      <td>CIS</td>\n",
       "      <td>Android</td>\n",
       "    </tr>\n",
       "    <tr>\n",
       "      <th>325557</th>\n",
       "      <td>10E0DEFC1ABDBBE0</td>\n",
       "      <td>031BD7A67048105B</td>\n",
       "      <td>2025-08-19</td>\n",
       "      <td>2025-08-19 13:23:55</td>\n",
       "      <td>2025-08-14</td>\n",
       "      <td>6</td>\n",
       "      <td>0</td>\n",
       "      <td>2</td>\n",
       "      <td>CIS</td>\n",
       "      <td>Android</td>\n",
       "    </tr>\n",
       "    <tr>\n",
       "      <th>345336</th>\n",
       "      <td>10E0DEFC1ABDBBE0</td>\n",
       "      <td>FF4315CF4AD4B100</td>\n",
       "      <td>2025-08-20</td>\n",
       "      <td>2025-08-20 19:31:54</td>\n",
       "      <td>2025-08-14</td>\n",
       "      <td>7</td>\n",
       "      <td>0</td>\n",
       "      <td>2</td>\n",
       "      <td>CIS</td>\n",
       "      <td>Android</td>\n",
       "    </tr>\n",
       "    <tr>\n",
       "      <th>377532</th>\n",
       "      <td>10E0DEFC1ABDBBE0</td>\n",
       "      <td>4045FEA0747203B4</td>\n",
       "      <td>2025-08-22</td>\n",
       "      <td>2025-08-22 17:54:13</td>\n",
       "      <td>2025-08-14</td>\n",
       "      <td>8</td>\n",
       "      <td>0</td>\n",
       "      <td>2</td>\n",
       "      <td>CIS</td>\n",
       "      <td>Android</td>\n",
       "    </tr>\n",
       "    <tr>\n",
       "      <th>403538</th>\n",
       "      <td>10E0DEFC1ABDBBE0</td>\n",
       "      <td>344B086C421C7F37</td>\n",
       "      <td>2025-08-24</td>\n",
       "      <td>2025-08-24 14:46:13</td>\n",
       "      <td>2025-08-14</td>\n",
       "      <td>9</td>\n",
       "      <td>0</td>\n",
       "      <td>2</td>\n",
       "      <td>CIS</td>\n",
       "      <td>Android</td>\n",
       "    </tr>\n",
       "    <tr>\n",
       "      <th>414743</th>\n",
       "      <td>10E0DEFC1ABDBBE0</td>\n",
       "      <td>054F20BA371E4C9D</td>\n",
       "      <td>2025-08-25</td>\n",
       "      <td>2025-08-25 18:36:41</td>\n",
       "      <td>2025-08-14</td>\n",
       "      <td>10</td>\n",
       "      <td>0</td>\n",
       "      <td>3</td>\n",
       "      <td>CIS</td>\n",
       "      <td>Android</td>\n",
       "    </tr>\n",
       "  </tbody>\n",
       "</table>\n",
       "</div>"
      ],
      "text/plain": [
       "                 user_id        session_id session_date     session_start_ts  \\\n",
       "115558  10E0DEFC1ABDBBE0  B8F0423BBFFCF5DC   2025-08-14  2025-08-14 13:57:39   \n",
       "191751  10E0DEFC1ABDBBE0  87CA2FA549473837   2025-08-15  2025-08-15 16:42:10   \n",
       "239370  10E0DEFC1ABDBBE0  4ADD8011DCDCE318   2025-08-16  2025-08-16 19:53:21   \n",
       "274629  10E0DEFC1ABDBBE0  DF0FD0E09BF1F3D7   2025-08-17  2025-08-17 15:03:43   \n",
       "302501  10E0DEFC1ABDBBE0  3C221774B4DE6885   2025-08-18  2025-08-18 17:29:14   \n",
       "325557  10E0DEFC1ABDBBE0  031BD7A67048105B   2025-08-19  2025-08-19 13:23:55   \n",
       "345336  10E0DEFC1ABDBBE0  FF4315CF4AD4B100   2025-08-20  2025-08-20 19:31:54   \n",
       "377532  10E0DEFC1ABDBBE0  4045FEA0747203B4   2025-08-22  2025-08-22 17:54:13   \n",
       "403538  10E0DEFC1ABDBBE0  344B086C421C7F37   2025-08-24  2025-08-24 14:46:13   \n",
       "414743  10E0DEFC1ABDBBE0  054F20BA371E4C9D   2025-08-25  2025-08-25 18:36:41   \n",
       "\n",
       "       install_date  session_number  registration_flag  page_counter region  \\\n",
       "115558   2025-08-14               1                  0             4    CIS   \n",
       "191751   2025-08-14               2                  0             3    CIS   \n",
       "239370   2025-08-14               3                  0             3    CIS   \n",
       "274629   2025-08-14               4                  0             1    CIS   \n",
       "302501   2025-08-14               5                  0             4    CIS   \n",
       "325557   2025-08-14               6                  0             2    CIS   \n",
       "345336   2025-08-14               7                  0             2    CIS   \n",
       "377532   2025-08-14               8                  0             2    CIS   \n",
       "403538   2025-08-14               9                  0             2    CIS   \n",
       "414743   2025-08-14              10                  0             3    CIS   \n",
       "\n",
       "         device  \n",
       "115558  Android  \n",
       "191751  Android  \n",
       "239370  Android  \n",
       "274629  Android  \n",
       "302501  Android  \n",
       "325557  Android  \n",
       "345336  Android  \n",
       "377532  Android  \n",
       "403538  Android  \n",
       "414743  Android  "
      ]
     },
     "execution_count": 6,
     "metadata": {},
     "output_type": "execute_result"
    }
   ],
   "source": [
    "max_user_id = count_unique_session_id.idxmax()\n",
    "data_max_user_id = sessions_history[sessions_history['user_id'] == max_user_id]\n",
    "data_max_user_id"
   ]
  },
  {
   "cell_type": "code",
   "execution_count": 7,
   "metadata": {},
   "outputs": [
    {
     "name": "stdout",
     "output_type": "stream",
     "text": [
      "<class 'pandas.core.frame.DataFrame'>\n",
      "Int64Index: 10 entries, 115558 to 414743\n",
      "Data columns (total 10 columns):\n",
      " #   Column             Non-Null Count  Dtype \n",
      "---  ------             --------------  ----- \n",
      " 0   user_id            10 non-null     object\n",
      " 1   session_id         10 non-null     object\n",
      " 2   session_date       10 non-null     object\n",
      " 3   session_start_ts   10 non-null     object\n",
      " 4   install_date       10 non-null     object\n",
      " 5   session_number     10 non-null     int64 \n",
      " 6   registration_flag  10 non-null     int64 \n",
      " 7   page_counter       10 non-null     int64 \n",
      " 8   region             10 non-null     object\n",
      " 9   device             10 non-null     object\n",
      "dtypes: int64(3), object(7)\n",
      "memory usage: 880.0+ bytes\n"
     ]
    }
   ],
   "source": [
    "data_max_user_id.info()"
   ]
  },
  {
   "cell_type": "markdown",
   "metadata": {},
   "source": [
    "После знакомства с данными можно сделать вывод, что значения в столбцах соответствуют своему описанию, а так же стоит поменять формат даты на более привычный"
   ]
  },
  {
   "cell_type": "markdown",
   "metadata": {
    "id": "CmcGpJTP0eMq"
   },
   "source": [
    "#### 1.3. Анализ числа регистраций"
   ]
  },
  {
   "cell_type": "code",
   "execution_count": 8,
   "metadata": {
    "id": "tN_6Ml3EPatS"
   },
   "outputs": [],
   "source": [
    "sessions_history['session_date'] = pd.to_datetime(sessions_history['session_date'])\n",
    "daily_sessions_history = sessions_history.groupby('session_date').agg(unique_users=('user_id', 'nunique'),\n",
    "    registered_users=('registration_flag', 'sum')).reset_index()"
   ]
  },
  {
   "cell_type": "code",
   "execution_count": 9,
   "metadata": {
    "scrolled": false
   },
   "outputs": [
    {
     "data": {
      "image/png": "[encoded data removed]",
      "text/plain": [
       "<Figure size 864x432 with 1 Axes>"
      ]
     },
     "metadata": {
      "needs_background": "light"
     },
     "output_type": "display_data"
    }
   ],
   "source": [
    "plt.figure(figsize=(12, 6))\n",
    "plt.plot(daily_sessions_history['session_date'], daily_sessions_history['unique_users'], label='Уникальные пользователи')\n",
    "plt.plot(daily_sessions_history['session_date'], daily_sessions_history['registered_users'], label='Зарегистрированные пользователи')\n",
    "plt.title('Число уникальных и зарегистрированных пользователей по дням')\n",
    "plt.xlabel('Дата')\n",
    "plt.ylabel('Количество пользователей')\n",
    "plt.legend()\n",
    "plt.grid()\n",
    "plt.tight_layout()\n",
    "plt.show()"
   ]
  },
  {
   "cell_type": "code",
   "execution_count": 10,
   "metadata": {},
   "outputs": [
    {
     "data": {
      "image/png": "[encoded data removed]",
      "text/plain": [
       "<Figure size 864x288 with 1 Axes>"
      ]
     },
     "metadata": {
      "needs_background": "light"
     },
     "output_type": "display_data"
    }
   ],
   "source": [
    "plt.figure(figsize=(12, 4))\n",
    "plt.plot(daily_sessions_history['session_date'], daily_sessions_history['registered_users'] / daily_sessions_history['unique_users'], label='Доля зарегистрированных пользователей')\n",
    "plt.xlabel('Дата')\n",
    "plt.ylabel('Доля зарегистрированных пользователей')\n",
    "plt.title('Доля зарегистрированных пользователей от всех пользователей по дням')\n",
    "plt.legend()\n",
    "plt.grid()\n",
    "plt.tight_layout()\n",
    "plt.show()"
   ]
  },
  {
   "cell_type": "markdown",
   "metadata": {
    "id": "UR7D7RhF0eMr"
   },
   "source": [
    "#### 1.4. Анализ числа просмотренных страниц"
   ]
  },
  {
   "cell_type": "code",
   "execution_count": 11,
   "metadata": {
    "id": "cb6hPlVzPaSf"
   },
   "outputs": [
    {
     "data": {
      "text/plain": [
       "1     29160\n",
       "2    105536\n",
       "3    166690\n",
       "4    105569\n",
       "5     26288\n",
       "6      2589\n",
       "7        92\n",
       "Name: page_counter, dtype: int64"
      ]
     },
     "execution_count": 11,
     "metadata": {},
     "output_type": "execute_result"
    }
   ],
   "source": [
    "count_pages_sessions_history = sessions_history['page_counter'].value_counts().sort_index()\n",
    "count_pages_sessions_history"
   ]
  },
  {
   "cell_type": "code",
   "execution_count": 12,
   "metadata": {},
   "outputs": [
    {
     "data": {
      "image/png": "[encoded data removed]",
      "text/plain": [
       "<Figure size 864x432 with 1 Axes>"
      ]
     },
     "metadata": {
      "needs_background": "light"
     },
     "output_type": "display_data"
    }
   ],
   "source": [
    "plt.figure(figsize=(12, 6))\n",
    "count_pages_sessions_history.plot(kind='bar')\n",
    "for i, v in enumerate(count_pages_sessions_history.values):\n",
    "    count_pages_sessions_history.plot(kind='bar').text(i, v + 0.01 * max(count_pages_sessions_history.values), str(v), ha='center', va='bottom')\n",
    "plt.title('Количество сессий для каждого числа просмотренных страниц')\n",
    "plt.xlabel('Число просмотренных страниц')\n",
    "plt.ylabel('Количество сессий')\n",
    "plt.xticks(rotation=0)\n",
    "plt.tight_layout()\n",
    "plt.show()"
   ]
  },
  {
   "cell_type": "markdown",
   "metadata": {
    "id": "xDltSpVP0eMr"
   },
   "source": [
    "#### 1.5. Доля пользователей, просмотревших более четырёх страниц"
   ]
  },
  {
   "cell_type": "code",
   "execution_count": 13,
   "metadata": {
    "id": "iygaPfixPYMW"
   },
   "outputs": [],
   "source": [
    "sessions_history[\"good_session\"] = np.where(sessions_history[\"page_counter\"] >= 4, 1, 0)"
   ]
  },
  {
   "cell_type": "code",
   "execution_count": 14,
   "metadata": {},
   "outputs": [
    {
     "name": "stdout",
     "output_type": "stream",
     "text": [
      "Среднее за весь период: 0.30862719189583504\n",
      "Среднее за последний период: 0.5714285714285714\n"
     ]
    }
   ],
   "source": [
    "mean_all = sessions_history[\"good_session\"].mean()\n",
    "mean_last_period = sessions_history.tail(7)[\"good_session\"].mean()\n",
    "print(f\"Среднее за весь период: {mean_all}\")\n",
    "print(f\"Среднее за последний период: {mean_last_period}\")"
   ]
  },
  {
   "cell_type": "code",
   "execution_count": 15,
   "metadata": {
    "scrolled": false
   },
   "outputs": [
    {
     "data": {
      "image/png": "[encoded data removed]",
      "text/plain": [
       "<Figure size 864x432 with 1 Axes>"
      ]
     },
     "metadata": {
      "needs_background": "light"
     },
     "output_type": "display_data"
    }
   ],
   "source": [
    "share_of_successful_session = sessions_history.groupby('session_date')['good_session'].mean().reset_index()\n",
    "plt.figure(figsize=(12, 6))\n",
    "plt.plot(share_of_successful_session['session_date'], share_of_successful_session['good_session'])\n",
    "plt.axhline(mean_all, color='red', linestyle='--', label=\"Среднее значение\")\n",
    "plt.title('Доля успешных сессий по дням')\n",
    "plt.xlabel('Дата')\n",
    "plt.ylabel('Доля успешных сессий')\n",
    "plt.grid()\n",
    "plt.tight_layout()\n",
    "plt.show()"
   ]
  },
  {
   "cell_type": "code",
   "execution_count": 16,
   "metadata": {},
   "outputs": [
    {
     "name": "stdout",
     "output_type": "stream",
     "text": [
      "Стандартное отклонение: 0.46192741616004496\n"
     ]
    }
   ],
   "source": [
    "std_dev = sessions_history[\"good_session\"].std()\n",
    "print(f\"Стандартное отклонение: {std_dev}\")"
   ]
  },
  {
   "cell_type": "markdown",
   "metadata": {
    "id": "21JcG77Y0eMt"
   },
   "source": [
    "### 2. Подготовка к тесту"
   ]
  },
  {
   "cell_type": "markdown",
   "metadata": {
    "id": "kXdcwkjf859k"
   },
   "source": [
    "#### 2.1 Формулировка нулевой и альтернативной гипотез"
   ]
  },
  {
   "cell_type": "markdown",
   "metadata": {},
   "source": [
    "- Целевой метрикой будет выступать увеличение доли успешных сессий, когда за одну сессию было просмотрено 4 и более страниц. Увеличение этой метрики будет отражать интерес пользователей к нововведению."
   ]
  },
  {
   "cell_type": "markdown",
   "metadata": {},
   "source": [
    "- Нулевая гипотеза (H0) - Новый алгоритм рекомендаций не оказывает значительного влияния на просмотр страниц во время сессии, по сравнению с текущим алгоритмом.\n",
    "- Альтернативная гипотеза (H1) - Внедрение нового алгоритма рекомендаций увеличит долю успешных сессий, когда за одну сессию было просмотрено 4 и более страниц."
   ]
  },
  {
   "cell_type": "markdown",
   "metadata": {
    "id": "uzaeln270eMt"
   },
   "source": [
    "#### 2.2. Расчёт размера выборки"
   ]
  },
  {
   "cell_type": "code",
   "execution_count": 17,
   "metadata": {
    "id": "zSxJyPGPNdaI"
   },
   "outputs": [
    {
     "name": "stdout",
     "output_type": "stream",
     "text": [
      "Необходимый размер выборки для каждой группы: 41040\n"
     ]
    }
   ],
   "source": [
    "from statsmodels.stats.power import NormalIndPower\n",
    "from statsmodels.stats.proportion import proportion_effectsize\n",
    "\n",
    "# Задаём параметры\n",
    "alpha = 0.05  # Уровень значимости\n",
    "beta = 0.2  # Ошибка второго рода, часто 1 - мощность\n",
    "power = 1 - beta  # Мощность теста\n",
    "p1 = 0.3 # Базовый уровень доли\n",
    "mde = p1 * 0.03  # Минимальный детектируемый эффект\n",
    "effect_size = proportion_effectsize(p1, p1 + mde)\n",
    "\n",
    "# Инициализируем класс NormalIndPower\n",
    "power_analysis = NormalIndPower()\n",
    "\n",
    "# Рассчитываем размер выборки\n",
    "sample_size = power_analysis.solve_power(\n",
    "    effect_size = effect_size,\n",
    "    power = power,\n",
    "    alpha = alpha,\n",
    "    ratio = 1 # Равномерное распределение выборок\n",
    ")\n",
    "\n",
    "print(f\"Необходимый размер выборки для каждой группы: {int(sample_size)}\")"
   ]
  },
  {
   "cell_type": "markdown",
   "metadata": {},
   "source": [
    "При уровне значимости - 0.05, ошибке второго рода - 0.2, мощности теста - 0.8, базовом уровне доли - 0.3 и минимальном детектируемом эффекте - 0.03, получен необходимый размер выборки для каждой группы - 41040."
   ]
  },
  {
   "cell_type": "markdown",
   "metadata": {
    "id": "qLEv4RoV0eMu"
   },
   "source": [
    "#### 2.3. Расчёт длительности A/B-теста"
   ]
  },
  {
   "cell_type": "code",
   "execution_count": 18,
   "metadata": {
    "id": "KZDRbryDOGHa"
   },
   "outputs": [
    {
     "name": "stdout",
     "output_type": "stream",
     "text": [
      "Рассчитанная длительность A/B-теста при текущем уровене трафика в 9907 пользователей в день составит 9 дней\n"
     ]
    }
   ],
   "source": [
    "from math import ceil\n",
    "\n",
    "# Среднее количество пользователей приложения в день по историческим данным\n",
    "avg_daily_users = round(sessions_history.groupby('session_date')['user_id'].nunique().mean())\n",
    "\n",
    "# Рассчитываем длительность теста в днях как отношение размера выборки к среднему числу пользователей\n",
    "test_duration = ceil(sample_size*2 / avg_daily_users)\n",
    "\n",
    "print(f\"Рассчитанная длительность A/B-теста при текущем уровене трафика в {avg_daily_users} пользователей в день составит {test_duration} дней\")"
   ]
  },
  {
   "cell_type": "markdown",
   "metadata": {
    "id": "ZuvtAdha0eMv"
   },
   "source": [
    "### 3. Мониторинг А/В-теста"
   ]
  },
  {
   "cell_type": "markdown",
   "metadata": {
    "id": "jq5sE3Ya0eMv"
   },
   "source": [
    "#### 3.1. Проверка распределения пользователей"
   ]
  },
  {
   "cell_type": "code",
   "execution_count": 19,
   "metadata": {
    "id": "G1bqIzDJOUiz"
   },
   "outputs": [
    {
     "data": {
      "text/html": [
       "<div>\n",
       "<style scoped>\n",
       "    .dataframe tbody tr th:only-of-type {\n",
       "        vertical-align: middle;\n",
       "    }\n",
       "\n",
       "    .dataframe tbody tr th {\n",
       "        vertical-align: top;\n",
       "    }\n",
       "\n",
       "    .dataframe thead th {\n",
       "        text-align: right;\n",
       "    }\n",
       "</style>\n",
       "<table border=\"1\" class=\"dataframe\">\n",
       "  <thead>\n",
       "    <tr style=\"text-align: right;\">\n",
       "      <th></th>\n",
       "      <th>user_id</th>\n",
       "      <th>session_id</th>\n",
       "      <th>session_date</th>\n",
       "      <th>session_start_ts</th>\n",
       "      <th>install_date</th>\n",
       "      <th>session_number</th>\n",
       "      <th>registration_flag</th>\n",
       "      <th>page_counter</th>\n",
       "      <th>region</th>\n",
       "      <th>device</th>\n",
       "      <th>test_group</th>\n",
       "    </tr>\n",
       "  </thead>\n",
       "  <tbody>\n",
       "    <tr>\n",
       "      <th>0</th>\n",
       "      <td>3404844B53442747</td>\n",
       "      <td>B4901323BD537E45</td>\n",
       "      <td>2025-10-14</td>\n",
       "      <td>2025-10-14 19:28:49</td>\n",
       "      <td>2025-10-14</td>\n",
       "      <td>1</td>\n",
       "      <td>0</td>\n",
       "      <td>3</td>\n",
       "      <td>CIS</td>\n",
       "      <td>Android</td>\n",
       "      <td>B</td>\n",
       "    </tr>\n",
       "    <tr>\n",
       "      <th>1</th>\n",
       "      <td>3A2BF4D364E62D89</td>\n",
       "      <td>216FC619308F8788</td>\n",
       "      <td>2025-10-14</td>\n",
       "      <td>2025-10-14 21:11:04</td>\n",
       "      <td>2025-10-14</td>\n",
       "      <td>1</td>\n",
       "      <td>0</td>\n",
       "      <td>3</td>\n",
       "      <td>MENA</td>\n",
       "      <td>iPhone</td>\n",
       "      <td>A</td>\n",
       "    </tr>\n",
       "    <tr>\n",
       "      <th>2</th>\n",
       "      <td>79CDAE11E32B1597</td>\n",
       "      <td>EDFCE4AC1A504074</td>\n",
       "      <td>2025-10-14</td>\n",
       "      <td>2025-10-14 21:44:03</td>\n",
       "      <td>2025-10-14</td>\n",
       "      <td>1</td>\n",
       "      <td>0</td>\n",
       "      <td>3</td>\n",
       "      <td>CIS</td>\n",
       "      <td>iPhone</td>\n",
       "      <td>A</td>\n",
       "    </tr>\n",
       "    <tr>\n",
       "      <th>3</th>\n",
       "      <td>D6AF8D78297A931F</td>\n",
       "      <td>CF0AC0EEDE92C690</td>\n",
       "      <td>2025-10-14</td>\n",
       "      <td>2025-10-14 19:07:55</td>\n",
       "      <td>2025-10-14</td>\n",
       "      <td>1</td>\n",
       "      <td>0</td>\n",
       "      <td>4</td>\n",
       "      <td>CIS</td>\n",
       "      <td>PC</td>\n",
       "      <td>A</td>\n",
       "    </tr>\n",
       "    <tr>\n",
       "      <th>4</th>\n",
       "      <td>37E0CE723AE568E0</td>\n",
       "      <td>2E6ED45E8C86C4E9</td>\n",
       "      <td>2025-10-14</td>\n",
       "      <td>2025-10-14 15:39:44</td>\n",
       "      <td>2025-10-14</td>\n",
       "      <td>1</td>\n",
       "      <td>0</td>\n",
       "      <td>3</td>\n",
       "      <td>CIS</td>\n",
       "      <td>Mac</td>\n",
       "      <td>B</td>\n",
       "    </tr>\n",
       "  </tbody>\n",
       "</table>\n",
       "</div>"
      ],
      "text/plain": [
       "            user_id        session_id session_date     session_start_ts  \\\n",
       "0  3404844B53442747  B4901323BD537E45   2025-10-14  2025-10-14 19:28:49   \n",
       "1  3A2BF4D364E62D89  216FC619308F8788   2025-10-14  2025-10-14 21:11:04   \n",
       "2  79CDAE11E32B1597  EDFCE4AC1A504074   2025-10-14  2025-10-14 21:44:03   \n",
       "3  D6AF8D78297A931F  CF0AC0EEDE92C690   2025-10-14  2025-10-14 19:07:55   \n",
       "4  37E0CE723AE568E0  2E6ED45E8C86C4E9   2025-10-14  2025-10-14 15:39:44   \n",
       "\n",
       "  install_date  session_number  registration_flag  page_counter region  \\\n",
       "0   2025-10-14               1                  0             3    CIS   \n",
       "1   2025-10-14               1                  0             3   MENA   \n",
       "2   2025-10-14               1                  0             3    CIS   \n",
       "3   2025-10-14               1                  0             4    CIS   \n",
       "4   2025-10-14               1                  0             3    CIS   \n",
       "\n",
       "    device test_group  \n",
       "0  Android          B  \n",
       "1   iPhone          A  \n",
       "2   iPhone          A  \n",
       "3       PC          A  \n",
       "4      Mac          B  "
      ]
     },
     "execution_count": 19,
     "metadata": {},
     "output_type": "execute_result"
    }
   ],
   "source": [
    "sessions_test_part = pd.read_csv('/datasets/sessions_project_test_part.csv')\n",
    "sessions_test_part.head()"
   ]
  },
  {
   "cell_type": "code",
   "execution_count": 20,
   "metadata": {},
   "outputs": [
    {
     "data": {
      "text/plain": [
       "test_group\n",
       "A    1477\n",
       "B    1466\n",
       "Name: user_id, dtype: int64"
      ]
     },
     "execution_count": 20,
     "metadata": {},
     "output_type": "execute_result"
    }
   ],
   "source": [
    "unique_users_test_group = sessions_test_part.groupby('test_group')['user_id'].nunique()\n",
    "unique_users_test_group"
   ]
  },
  {
   "cell_type": "code",
   "execution_count": 21,
   "metadata": {},
   "outputs": [
    {
     "name": "stdout",
     "output_type": "stream",
     "text": [
      "Процентная разница в количестве пользователей между группами A и B: 0.74%\n"
     ]
    }
   ],
   "source": [
    "percent_diff_unique_users_test_group = 100 * abs(unique_users_test_group.get('A') - unique_users_test_group.get('B')) / unique_users_test_group.get('A')\n",
    "print(f\"Процентная разница в количестве пользователей между группами A и B: {percent_diff_unique_users_test_group:.2f}%\")"
   ]
  },
  {
   "cell_type": "code",
   "execution_count": 22,
   "metadata": {},
   "outputs": [
    {
     "data": {
      "image/png": "[encoded data removed]",
      "text/plain": [
       "<Figure size 864x432 with 1 Axes>"
      ]
     },
     "metadata": {
      "needs_background": "light"
     },
     "output_type": "display_data"
    }
   ],
   "source": [
    "plt.figure(figsize=(12, 6))\n",
    "for i, v in enumerate(unique_users_test_group.values):\n",
    "    unique_users_test_group.plot(kind='bar').text(i, v + 0.02 * max(unique_users_test_group.values), str(v), ha='center', va='bottom')\n",
    "unique_users_test_group.plot(kind='bar', color=['blue', 'green'])\n",
    "plt.title(f'Уникальные пользователи в группах A и B за 2025-10-14')\n",
    "plt.ylabel('Количество уникальных пользователей')\n",
    "plt.xlabel('Тестовая группа')\n",
    "plt.xticks(rotation=0)\n",
    "plt.grid()\n",
    "plt.tight_layout()\n",
    "plt.show()"
   ]
  },
  {
   "cell_type": "markdown",
   "metadata": {
    "id": "sgpNY5bv0eM0"
   },
   "source": [
    "#### 3.2. Проверка пересечений пользователей"
   ]
  },
  {
   "cell_type": "code",
   "execution_count": 23,
   "metadata": {
    "id": "E72ozN9FOX1u"
   },
   "outputs": [
    {
     "name": "stdout",
     "output_type": "stream",
     "text": [
      "[]\n"
     ]
    }
   ],
   "source": [
    "test_group_A = sessions_test_part[sessions_test_part['test_group'] == 'A']['user_id']\n",
    "test_group_B = sessions_test_part[sessions_test_part['test_group'] == 'B']['user_id']\n",
    "\n",
    "intersection = list(set(test_group_A) & set(test_group_B))\n",
    "print(intersection) "
   ]
  },
  {
   "cell_type": "markdown",
   "metadata": {
    "id": "6RvkNLrg0eM1"
   },
   "source": [
    "#### 3.3. Равномерность разделения пользователей по устройствам"
   ]
  },
  {
   "cell_type": "code",
   "execution_count": 24,
   "metadata": {
    "id": "x_IP6PUNPWHC"
   },
   "outputs": [],
   "source": [
    "unique_users_device = sessions_test_part[['user_id', 'device', 'test_group']].drop_duplicates(subset='user_id')\n",
    "group_a_device = unique_users_device[unique_users_device['test_group'] == 'A']\n",
    "group_b_device = unique_users_device[unique_users_device['test_group'] == 'B']\n",
    "device_test_a = group_a_device['device'].value_counts(normalize=True) * 100\n",
    "device_test_b = group_b_device['device'].value_counts(normalize=True) * 100"
   ]
  },
  {
   "cell_type": "code",
   "execution_count": 25,
   "metadata": {},
   "outputs": [
    {
     "data": {
      "text/plain": [
       "<matplotlib.legend.Legend at 0x7f5744060a30>"
      ]
     },
     "execution_count": 25,
     "metadata": {},
     "output_type": "execute_result"
    },
    {
     "data": {
      "image/png": "[encoded data removed]",
      "text/plain": [
       "<Figure size 432x288 with 1 Axes>"
      ]
     },
     "metadata": {},
     "output_type": "display_data"
    }
   ],
   "source": [
    "plt.pie(device_test_a, labels=device_test_a.index, autopct='%1.1f%%', startangle=90)\n",
    "plt.title('Распределение типов устройств для группы A', fontsize=14)\n",
    "plt.axis('equal')\n",
    "plt.legend(title='Типы устройств', bbox_to_anchor=(1.05, 1), loc='upper left')"
   ]
  },
  {
   "cell_type": "code",
   "execution_count": 26,
   "metadata": {},
   "outputs": [
    {
     "data": {
      "text/plain": [
       "<matplotlib.legend.Legend at 0x7f5743f4c8e0>"
      ]
     },
     "execution_count": 26,
     "metadata": {},
     "output_type": "execute_result"
    },
    {
     "data": {
      "image/png": "[encoded data removed]",
      "text/plain": [
       "<Figure size 432x288 with 1 Axes>"
      ]
     },
     "metadata": {},
     "output_type": "display_data"
    }
   ],
   "source": [
    "plt.pie(device_test_b, labels=device_test_b.index, autopct='%1.1f%%', startangle=90)\n",
    "plt.title('Распределение типов устройств для группы B', fontsize=14)\n",
    "plt.axis('equal')\n",
    "plt.legend(title='Типы устройств', bbox_to_anchor=(1.05, 1), loc='upper left')"
   ]
  },
  {
   "cell_type": "markdown",
   "metadata": {
    "id": "gAgmP6vo0eM1"
   },
   "source": [
    "#### 3.4. Равномерность распределения пользователей по регионам"
   ]
  },
  {
   "cell_type": "code",
   "execution_count": 27,
   "metadata": {
    "id": "3hAq-FG4OdYM"
   },
   "outputs": [],
   "source": [
    "unique_users_regions = sessions_test_part[['user_id', 'region', 'test_group']].drop_duplicates(subset='user_id')\n",
    "group_a_region = unique_users_regions[unique_users_regions['test_group'] == 'A']\n",
    "group_b_region = unique_users_regions[unique_users_regions['test_group'] == 'B']\n",
    "region_test_a = group_a_region['region'].value_counts(normalize=True) * 100\n",
    "region_test_b = group_b_region['region'].value_counts(normalize=True) * 100"
   ]
  },
  {
   "cell_type": "code",
   "execution_count": 28,
   "metadata": {},
   "outputs": [
    {
     "data": {
      "image/png": "[encoded data removed]",
      "text/plain": [
       "<Figure size 864x432 with 1 Axes>"
      ]
     },
     "metadata": {
      "needs_background": "light"
     },
     "output_type": "display_data"
    }
   ],
   "source": [
    "plt.figure(figsize=(12, 6))\n",
    "region_test_a.plot(kind='bar', color=['blue', 'green', 'red'])\n",
    "plt.title('Распределение регионов в группе A')\n",
    "plt.xlabel('Регион')\n",
    "plt.ylabel('Доля пользователей (%)')\n",
    "plt.xticks(rotation=0)\n",
    "plt.grid()\n",
    "plt.tight_layout()\n",
    "plt.show()"
   ]
  },
  {
   "cell_type": "code",
   "execution_count": 29,
   "metadata": {},
   "outputs": [
    {
     "data": {
      "image/png": "[encoded data removed]",
      "text/plain": [
       "<Figure size 864x432 with 1 Axes>"
      ]
     },
     "metadata": {
      "needs_background": "light"
     },
     "output_type": "display_data"
    }
   ],
   "source": [
    "plt.figure(figsize=(12, 6))\n",
    "region_test_b.plot(kind='bar', color=['Blue', 'Green','red'])\n",
    "plt.title('Распределение регионов в группе B')\n",
    "plt.xlabel('Регион')\n",
    "plt.ylabel('Доля пользователей (%)')\n",
    "plt.xticks(rotation=0)\n",
    "plt.grid()\n",
    "plt.tight_layout()\n",
    "plt.show()"
   ]
  },
  {
   "cell_type": "markdown",
   "metadata": {
    "id": "X2WSZ-sDrSUi"
   },
   "source": [
    "#### 3.5. Вывод после проверки A/B-теста"
   ]
  },
  {
   "cell_type": "markdown",
   "metadata": {
    "id": "dDELHlAcOi8d"
   },
   "source": [
    "На основе проведённого анализа A/B-теста, можно сделать следующие выводы:\n",
    "- Различие в количестве пользователей в двух группах незначительное и в процентном соотношении составляет: 0.74%. В группе A - 1477 пользователей, в группе B - 1466 пользователей.\n",
    "- Выборки являются независимыми, пересечение пользователей из тестовой и контрольной групп отсутствует.\n",
    "- Распределение распределение пользователей тестовой и контрольной групп по категориальным переменным: устройствам и регионами отличается, но незначительно, различие не более 2%, что говорит о равномерном распределении."
   ]
  },
  {
   "cell_type": "markdown",
   "metadata": {},
   "source": [
    "Можно сделать вывод, что A/B-тест проходит корректно, нарушений не наблюдается."
   ]
  },
  {
   "cell_type": "markdown",
   "metadata": {
    "id": "nudRr_BQ0eM2"
   },
   "source": [
    "### 4. Проверка результатов A/B-теста"
   ]
  },
  {
   "cell_type": "markdown",
   "metadata": {
    "id": "JVve-YBB0eM2"
   },
   "source": [
    "#### 4.1. Получение результатов теста и подсчёт основной метрики"
   ]
  },
  {
   "cell_type": "code",
   "execution_count": 30,
   "metadata": {
    "id": "EqRlwMtKPTir"
   },
   "outputs": [
    {
     "data": {
      "text/html": [
       "<div>\n",
       "<style scoped>\n",
       "    .dataframe tbody tr th:only-of-type {\n",
       "        vertical-align: middle;\n",
       "    }\n",
       "\n",
       "    .dataframe tbody tr th {\n",
       "        vertical-align: top;\n",
       "    }\n",
       "\n",
       "    .dataframe thead th {\n",
       "        text-align: right;\n",
       "    }\n",
       "</style>\n",
       "<table border=\"1\" class=\"dataframe\">\n",
       "  <thead>\n",
       "    <tr style=\"text-align: right;\">\n",
       "      <th></th>\n",
       "      <th>user_id</th>\n",
       "      <th>session_id</th>\n",
       "      <th>session_date</th>\n",
       "      <th>session_start_ts</th>\n",
       "      <th>install_date</th>\n",
       "      <th>session_number</th>\n",
       "      <th>registration_flag</th>\n",
       "      <th>page_counter</th>\n",
       "      <th>region</th>\n",
       "      <th>device</th>\n",
       "      <th>test_group</th>\n",
       "    </tr>\n",
       "  </thead>\n",
       "  <tbody>\n",
       "    <tr>\n",
       "      <th>0</th>\n",
       "      <td>6DAE3B3654DA738E</td>\n",
       "      <td>C69249E26E58F6E2</td>\n",
       "      <td>2025-10-26</td>\n",
       "      <td>2025-10-26 18:15:05</td>\n",
       "      <td>2025-10-16</td>\n",
       "      <td>3</td>\n",
       "      <td>0</td>\n",
       "      <td>3</td>\n",
       "      <td>MENA</td>\n",
       "      <td>Android</td>\n",
       "      <td>A</td>\n",
       "    </tr>\n",
       "    <tr>\n",
       "      <th>1</th>\n",
       "      <td>0A3FE5D1DD59110A</td>\n",
       "      <td>66D66D7C9F5181B7</td>\n",
       "      <td>2025-10-21</td>\n",
       "      <td>2025-10-21 17:04:53</td>\n",
       "      <td>2025-10-15</td>\n",
       "      <td>2</td>\n",
       "      <td>1</td>\n",
       "      <td>2</td>\n",
       "      <td>CIS</td>\n",
       "      <td>Android</td>\n",
       "      <td>B</td>\n",
       "    </tr>\n",
       "    <tr>\n",
       "      <th>2</th>\n",
       "      <td>2041F1D7AA740B88</td>\n",
       "      <td>50DE51D42215E74C</td>\n",
       "      <td>2025-10-23</td>\n",
       "      <td>2025-10-23 17:39:29</td>\n",
       "      <td>2025-10-19</td>\n",
       "      <td>3</td>\n",
       "      <td>0</td>\n",
       "      <td>2</td>\n",
       "      <td>MENA</td>\n",
       "      <td>Android</td>\n",
       "      <td>A</td>\n",
       "    </tr>\n",
       "    <tr>\n",
       "      <th>3</th>\n",
       "      <td>43D7585009168086</td>\n",
       "      <td>5763C0C353C22263</td>\n",
       "      <td>2025-10-24</td>\n",
       "      <td>2025-10-24 15:01:57</td>\n",
       "      <td>2025-10-18</td>\n",
       "      <td>4</td>\n",
       "      <td>0</td>\n",
       "      <td>1</td>\n",
       "      <td>CIS</td>\n",
       "      <td>iPhone</td>\n",
       "      <td>B</td>\n",
       "    </tr>\n",
       "    <tr>\n",
       "      <th>4</th>\n",
       "      <td>15AD68B14D62D88C</td>\n",
       "      <td>B1AD09F93C1053BC</td>\n",
       "      <td>2025-10-17</td>\n",
       "      <td>2025-10-17 17:34:39</td>\n",
       "      <td>2025-10-17</td>\n",
       "      <td>1</td>\n",
       "      <td>0</td>\n",
       "      <td>2</td>\n",
       "      <td>MENA</td>\n",
       "      <td>Android</td>\n",
       "      <td>B</td>\n",
       "    </tr>\n",
       "  </tbody>\n",
       "</table>\n",
       "</div>"
      ],
      "text/plain": [
       "            user_id        session_id session_date     session_start_ts  \\\n",
       "0  6DAE3B3654DA738E  C69249E26E58F6E2   2025-10-26  2025-10-26 18:15:05   \n",
       "1  0A3FE5D1DD59110A  66D66D7C9F5181B7   2025-10-21  2025-10-21 17:04:53   \n",
       "2  2041F1D7AA740B88  50DE51D42215E74C   2025-10-23  2025-10-23 17:39:29   \n",
       "3  43D7585009168086  5763C0C353C22263   2025-10-24  2025-10-24 15:01:57   \n",
       "4  15AD68B14D62D88C  B1AD09F93C1053BC   2025-10-17  2025-10-17 17:34:39   \n",
       "\n",
       "  install_date  session_number  registration_flag  page_counter region  \\\n",
       "0   2025-10-16               3                  0             3   MENA   \n",
       "1   2025-10-15               2                  1             2    CIS   \n",
       "2   2025-10-19               3                  0             2   MENA   \n",
       "3   2025-10-18               4                  0             1    CIS   \n",
       "4   2025-10-17               1                  0             2   MENA   \n",
       "\n",
       "    device test_group  \n",
       "0  Android          A  \n",
       "1  Android          B  \n",
       "2  Android          A  \n",
       "3   iPhone          B  \n",
       "4  Android          B  "
      ]
     },
     "execution_count": 30,
     "metadata": {},
     "output_type": "execute_result"
    }
   ],
   "source": [
    "sessions_test = pd.read_csv('/datasets/sessions_project_test.csv')\n",
    "sessions_test.head()"
   ]
  },
  {
   "cell_type": "code",
   "execution_count": 31,
   "metadata": {},
   "outputs": [],
   "source": [
    "sessions_test['good_session'] = (sessions_test['page_counter'] >= 4).astype(int)"
   ]
  },
  {
   "cell_type": "markdown",
   "metadata": {
    "id": "aeYhrMYy0eM2"
   },
   "source": [
    "#### 4.2. Проверка корректности результатов теста"
   ]
  },
  {
   "cell_type": "code",
   "execution_count": 32,
   "metadata": {
    "id": "5NUlcltkTTSU"
   },
   "outputs": [],
   "source": [
    "sessions_test['session_date'] = pd.to_datetime(sessions_test['session_date'])\n",
    "daily_sessions_test = sessions_test.groupby(['session_date', 'test_group'])['session_id'].nunique().reset_index()"
   ]
  },
  {
   "cell_type": "code",
   "execution_count": 33,
   "metadata": {},
   "outputs": [
    {
     "name": "stdout",
     "output_type": "stream",
     "text": [
      "Полученное значение p-value = 0.47\n",
      "Нет различий в количестве уникальных сессий между группами A и B.\n",
      "При внедрении нового алгоритма количество сессий в обеих выборках не различалось.\n"
     ]
    }
   ],
   "source": [
    "sessions_test_a = daily_sessions_test[daily_sessions_test['test_group'] == 'A']['session_id']\n",
    "sessions_test_b = daily_sessions_test[daily_sessions_test['test_group'] == 'B']['session_id']\n",
    "stat_ttest, p_value_ttest = ttest_ind(sessions_test_a, sessions_test_b, alternative='less')\n",
    "print(f\"Полученное значение p-value = {round(p_value_ttest, 2)}\")\n",
    "alpha = 0.05\n",
    "if p_value_ttest < alpha:\n",
    "    print(\"Существует различие в количестве уникальных сессий между группами A и B.\")\n",
    "else:\n",
    "    print(\"Нет различий в количестве уникальных сессий между группами A и B.\")\n",
    "print(f'При внедрении нового алгоритма количество сессий в обеих выборках не различалось.')"
   ]
  },
  {
   "cell_type": "markdown",
   "metadata": {
    "id": "7kwRxzg70eM3"
   },
   "source": [
    "#### 4.3. Сравнение доли успешных сессий"
   ]
  },
  {
   "cell_type": "code",
   "execution_count": 34,
   "metadata": {},
   "outputs": [
    {
     "name": "stdout",
     "output_type": "stream",
     "text": [
      "Доля успешных сессий в группе A: 30.77%\n",
      "Доля успешных сессий в группе B: 31.83%\n",
      "Разница в долях успешных сессий (B - A): 1.06%\n"
     ]
    }
   ],
   "source": [
    "success_rate_sessions_test_a = sessions_test[sessions_test['test_group'] == 'A']['good_session'].mean()\n",
    "success_rate_sessions_test_b = sessions_test[sessions_test['test_group'] == 'B']['good_session'].mean()\n",
    "diff_sessions_test = success_rate_sessions_test_b - success_rate_sessions_test_a\n",
    "print(f\"Доля успешных сессий в группе A: {success_rate_sessions_test_a:.2%}\")\n",
    "print(f\"Доля успешных сессий в группе B: {success_rate_sessions_test_b:.2%}\")\n",
    "print(f\"Разница в долях успешных сессий (B - A): {diff_sessions_test:.2%}\")"
   ]
  },
  {
   "cell_type": "markdown",
   "metadata": {
    "id": "9fMFuja10eM4"
   },
   "source": [
    "#### 4.4. Насколько статистически значимо изменение ключевой метрики"
   ]
  },
  {
   "cell_type": "code",
   "execution_count": 35,
   "metadata": {
    "id": "gFvhRGwlPLS0"
   },
   "outputs": [
    {
     "name": "stdout",
     "output_type": "stream",
     "text": [
      "pvalue=0.0002\n",
      "Нулевая гипотеза не находит подтверждения!\n"
     ]
    }
   ],
   "source": [
    "n_a = sessions_test[sessions_test.test_group=='A'].shape[0]\n",
    "n_b = sessions_test[sessions_test.test_group=='B'].shape[0]\n",
    "m_a = sessions_test[(sessions_test.test_group=='A')&(sessions_test.good_session==1)].shape[0]\n",
    "m_b = sessions_test[(sessions_test.test_group=='B')&(sessions_test.good_session==1)].shape[0]\n",
    "p_a, p_b = m_a/n_a, m_b/n_b\n",
    "alpha = 0.05\n",
    "stat_ztest, p_value_ztest = proportions_ztest([m_a, m_b], [n_a, n_b], alternative='smaller')\n",
    "\n",
    "print(f'pvalue={p_value_ztest:.4f}')\n",
    "\n",
    "if p_value_ztest > alpha:\n",
    "    print('Нулевая гипотеза находит подтверждение!')\n",
    "else:\n",
    "    print('Нулевая гипотеза не находит подтверждения!')"
   ]
  },
  {
   "cell_type": "markdown",
   "metadata": {
    "id": "GnJrkY9Q63zS"
   },
   "source": [
    "#### 4.5. Вывод по результатам A/B-эксперимента"
   ]
  },
  {
   "cell_type": "markdown",
   "metadata": {
    "id": "rri8KRIgPMrW"
   },
   "source": [
    "На основе проверки результатов A/B-теста, можно сделать следующие выводы:\n",
    "- В A/B-тесте участвовало 2943 пользователя, в группе А (текущей версии продукта) - 1477 пользователей, в группе B (изменённой версии продукта) - 1466 пользователей. Период эксперимента - с 2025-10-14 по 2025-11-02, длительность - 19 дней. Целевой метрикой является увеличение доли успешных сессий, когда за одну сессию было просмотрено 4 и более страниц. Увеличение этой метрики должно отражать интерес пользователей к нововведению.\n",
    "- Внедрение нового алгоритма рекомендации повлияла на рост ключевой метрики, но увеличение доли небольшое, рост составляет 1,1%. Доля успешных сессий в группе A составила 30.77%, а в в группе B: 31.83%, разница между ними составила - 1.06%.\n",
    "- Значение pvalue для оценки статистической значимости выявленного эффекта составило - 0.0002.\n",
    "- На основе статистического теста можно сделать вывод, что стоит внедрять нововведение в приложение, так как подтвердилась альтернативная гипотеза, которая гласит: Внедрение нового алгоритма рекомендаций увеличит долю успешных сессий, когда за одну сессию было просмотрено 4 и более страниц."
   ]
  }
 ],
 "metadata": {
  "ExecuteTimeLog": [
   {
    "duration": 521,
    "start_time": "2025-06-25T04:12:41.937Z"
   },
   {
    "duration": 1799,
    "start_time": "2025-06-25T04:13:04.528Z"
   },
   {
    "duration": 2,
    "start_time": "2025-06-25T04:14:09.383Z"
   },
   {
    "duration": 1812,
    "start_time": "2025-06-25T04:14:09.846Z"
   },
   {
    "duration": 2118,
    "start_time": "2025-06-25T04:15:18.469Z"
   },
   {
    "duration": 9,
    "start_time": "2025-06-25T04:18:07.623Z"
   },
   {
    "duration": 586,
    "start_time": "2025-06-25T04:18:14.101Z"
   },
   {
    "duration": 568,
    "start_time": "2025-06-25T04:21:45.422Z"
   },
   {
    "duration": 543,
    "start_time": "2025-06-25T04:22:26.974Z"
   },
   {
    "duration": 539,
    "start_time": "2025-06-25T04:22:41.188Z"
   },
   {
    "duration": 1038,
    "start_time": "2025-06-25T04:25:11.797Z"
   },
   {
    "duration": 7,
    "start_time": "2025-06-25T04:26:52.809Z"
   },
   {
    "duration": 7,
    "start_time": "2025-06-25T04:27:23.833Z"
   },
   {
    "duration": 528,
    "start_time": "2025-06-25T04:27:28.039Z"
   },
   {
    "duration": 7,
    "start_time": "2025-06-25T04:27:28.569Z"
   },
   {
    "duration": 7,
    "start_time": "2025-06-25T04:29:33.939Z"
   },
   {
    "duration": 533,
    "start_time": "2025-06-25T04:29:35.768Z"
   },
   {
    "duration": 7,
    "start_time": "2025-06-25T04:29:36.303Z"
   },
   {
    "duration": 4,
    "start_time": "2025-06-25T04:30:06.693Z"
   },
   {
    "duration": 4,
    "start_time": "2025-06-25T04:30:18.891Z"
   },
   {
    "duration": 4,
    "start_time": "2025-06-25T04:30:25.957Z"
   },
   {
    "duration": 30,
    "start_time": "2025-06-25T04:30:55.322Z"
   },
   {
    "duration": 39,
    "start_time": "2025-06-25T04:31:00.264Z"
   },
   {
    "duration": 39,
    "start_time": "2025-06-25T04:31:55.956Z"
   },
   {
    "duration": 7,
    "start_time": "2025-06-25T04:34:46.457Z"
   },
   {
    "duration": 4,
    "start_time": "2025-06-25T04:36:13.581Z"
   },
   {
    "duration": 11,
    "start_time": "2025-06-25T04:36:16.495Z"
   },
   {
    "duration": 42,
    "start_time": "2025-06-25T04:37:55.203Z"
   },
   {
    "duration": 11,
    "start_time": "2025-06-25T04:47:53.900Z"
   },
   {
    "duration": 10,
    "start_time": "2025-06-25T04:52:26.244Z"
   },
   {
    "duration": 993,
    "start_time": "2025-06-25T04:53:45.122Z"
   },
   {
    "duration": 20,
    "start_time": "2025-06-25T04:53:59.811Z"
   },
   {
    "duration": 102,
    "start_time": "2025-06-25T04:54:20.209Z"
   },
   {
    "duration": 58,
    "start_time": "2025-06-25T04:55:38.170Z"
   },
   {
    "duration": 201,
    "start_time": "2025-06-25T04:55:46.408Z"
   },
   {
    "duration": 176,
    "start_time": "2025-06-25T04:56:06.780Z"
   },
   {
    "duration": 24,
    "start_time": "2025-06-25T04:56:58.968Z"
   },
   {
    "duration": 180,
    "start_time": "2025-06-25T04:57:04.028Z"
   },
   {
    "duration": 186,
    "start_time": "2025-06-25T04:57:09.940Z"
   },
   {
    "duration": 183,
    "start_time": "2025-06-25T04:59:53.144Z"
   },
   {
    "duration": 409,
    "start_time": "2025-06-25T05:00:02.761Z"
   },
   {
    "duration": 2100,
    "start_time": "2025-06-25T05:00:03.172Z"
   },
   {
    "duration": 572,
    "start_time": "2025-06-25T05:00:05.274Z"
   },
   {
    "duration": 42,
    "start_time": "2025-06-25T05:00:05.848Z"
   },
   {
    "duration": 51,
    "start_time": "2025-06-25T05:00:05.892Z"
   },
   {
    "duration": 320,
    "start_time": "2025-06-25T05:00:05.945Z"
   },
   {
    "duration": 558,
    "start_time": "2025-06-25T05:00:06.267Z"
   },
   {
    "duration": 0,
    "start_time": "2025-06-25T05:00:06.827Z"
   },
   {
    "duration": 208,
    "start_time": "2025-06-25T05:00:40.565Z"
   },
   {
    "duration": 10,
    "start_time": "2025-06-25T05:01:53.846Z"
   },
   {
    "duration": 440,
    "start_time": "2025-06-25T05:02:15.890Z"
   },
   {
    "duration": 511,
    "start_time": "2025-06-25T05:02:20.214Z"
   },
   {
    "duration": 239,
    "start_time": "2025-06-25T05:03:04.565Z"
   },
   {
    "duration": 218,
    "start_time": "2025-06-25T05:04:15.231Z"
   },
   {
    "duration": 226,
    "start_time": "2025-06-25T05:04:40.739Z"
   },
   {
    "duration": 66,
    "start_time": "2025-06-25T05:05:06.757Z"
   },
   {
    "duration": 200,
    "start_time": "2025-06-25T05:05:22.970Z"
   },
   {
    "duration": 99,
    "start_time": "2025-06-25T05:05:59.714Z"
   },
   {
    "duration": 273,
    "start_time": "2025-06-25T05:06:04.723Z"
   },
   {
    "duration": 153,
    "start_time": "2025-06-25T05:06:48.008Z"
   },
   {
    "duration": 204,
    "start_time": "2025-06-25T05:06:57.982Z"
   },
   {
    "duration": 4,
    "start_time": "2025-06-25T05:08:27.603Z"
   },
   {
    "duration": 59,
    "start_time": "2025-06-25T05:08:35.609Z"
   },
   {
    "duration": 24,
    "start_time": "2025-06-25T05:09:08.300Z"
   },
   {
    "duration": 206,
    "start_time": "2025-06-25T05:09:18.927Z"
   },
   {
    "duration": 3,
    "start_time": "2025-06-25T05:09:41.943Z"
   },
   {
    "duration": 198,
    "start_time": "2025-06-25T05:09:55.874Z"
   },
   {
    "duration": 104,
    "start_time": "2025-06-25T05:10:04.890Z"
   },
   {
    "duration": 205,
    "start_time": "2025-06-25T05:10:46.185Z"
   },
   {
    "duration": 215,
    "start_time": "2025-06-25T05:13:59.748Z"
   },
   {
    "duration": 208,
    "start_time": "2025-06-25T05:14:23.751Z"
   },
   {
    "duration": 279,
    "start_time": "2025-06-25T05:16:40.896Z"
   },
   {
    "duration": 189,
    "start_time": "2025-06-25T05:17:26.940Z"
   },
   {
    "duration": 202,
    "start_time": "2025-06-25T05:17:35.525Z"
   },
   {
    "duration": 381,
    "start_time": "2025-06-25T05:17:59.092Z"
   },
   {
    "duration": 185,
    "start_time": "2025-06-25T05:18:13.386Z"
   },
   {
    "duration": 354,
    "start_time": "2025-06-25T05:18:26.483Z"
   },
   {
    "duration": 372,
    "start_time": "2025-06-25T05:19:35.062Z"
   },
   {
    "duration": 207,
    "start_time": "2025-06-25T05:19:54.125Z"
   },
   {
    "duration": 348,
    "start_time": "2025-06-25T05:19:57.383Z"
   },
   {
    "duration": 331,
    "start_time": "2025-06-25T05:20:33.958Z"
   },
   {
    "duration": 205,
    "start_time": "2025-06-25T05:21:22.607Z"
   },
   {
    "duration": 339,
    "start_time": "2025-06-25T05:21:25.060Z"
   },
   {
    "duration": 11,
    "start_time": "2025-06-25T05:22:47.347Z"
   },
   {
    "duration": 240,
    "start_time": "2025-06-25T05:24:08.648Z"
   },
   {
    "duration": 368,
    "start_time": "2025-06-25T05:24:08.890Z"
   },
   {
    "duration": 188,
    "start_time": "2025-06-25T05:24:24.270Z"
   },
   {
    "duration": 390,
    "start_time": "2025-06-25T05:24:24.880Z"
   },
   {
    "duration": 11,
    "start_time": "2025-06-25T05:25:05.864Z"
   },
   {
    "duration": 14,
    "start_time": "2025-06-25T05:25:33.084Z"
   },
   {
    "duration": 307,
    "start_time": "2025-06-25T05:25:42.719Z"
   },
   {
    "duration": 170,
    "start_time": "2025-06-25T05:26:06.960Z"
   },
   {
    "duration": 339,
    "start_time": "2025-06-25T05:26:07.132Z"
   },
   {
    "duration": 170,
    "start_time": "2025-06-25T05:26:10.173Z"
   },
   {
    "duration": 338,
    "start_time": "2025-06-25T05:26:10.426Z"
   },
   {
    "duration": 284,
    "start_time": "2025-06-25T05:26:12.074Z"
   },
   {
    "duration": 363,
    "start_time": "2025-06-25T05:26:49.908Z"
   },
   {
    "duration": 294,
    "start_time": "2025-06-25T05:26:58.966Z"
   },
   {
    "duration": 317,
    "start_time": "2025-06-25T05:27:20.747Z"
   },
   {
    "duration": 295,
    "start_time": "2025-06-25T05:27:33.678Z"
   },
   {
    "duration": 291,
    "start_time": "2025-06-25T05:27:37.957Z"
   },
   {
    "duration": 316,
    "start_time": "2025-06-25T05:27:55.519Z"
   },
   {
    "duration": 321,
    "start_time": "2025-06-25T05:27:58.771Z"
   },
   {
    "duration": 315,
    "start_time": "2025-06-25T05:28:03.916Z"
   },
   {
    "duration": 65,
    "start_time": "2025-06-25T05:28:53.280Z"
   },
   {
    "duration": 306,
    "start_time": "2025-06-25T05:29:21.966Z"
   },
   {
    "duration": 318,
    "start_time": "2025-06-25T05:30:07.080Z"
   },
   {
    "duration": 675,
    "start_time": "2025-06-25T05:32:05.331Z"
   },
   {
    "duration": 1712,
    "start_time": "2025-06-25T05:32:06.007Z"
   },
   {
    "duration": 565,
    "start_time": "2025-06-25T05:32:07.720Z"
   },
   {
    "duration": 36,
    "start_time": "2025-06-25T05:32:08.287Z"
   },
   {
    "duration": 73,
    "start_time": "2025-06-25T05:32:08.324Z"
   },
   {
    "duration": 262,
    "start_time": "2025-06-25T05:32:08.398Z"
   },
   {
    "duration": 417,
    "start_time": "2025-06-25T05:32:08.661Z"
   },
   {
    "duration": 337,
    "start_time": "2025-06-25T05:32:09.079Z"
   },
   {
    "duration": 541,
    "start_time": "2025-06-25T05:32:09.417Z"
   },
   {
    "duration": 0,
    "start_time": "2025-06-25T05:32:09.960Z"
   },
   {
    "duration": 25,
    "start_time": "2025-06-25T05:38:27.412Z"
   },
   {
    "duration": 757,
    "start_time": "2025-06-25T05:43:51.543Z"
   },
   {
    "duration": 672,
    "start_time": "2025-06-25T05:44:05.938Z"
   },
   {
    "duration": 1914,
    "start_time": "2025-06-25T05:44:06.612Z"
   },
   {
    "duration": 539,
    "start_time": "2025-06-25T05:44:08.528Z"
   },
   {
    "duration": 38,
    "start_time": "2025-06-25T05:44:09.069Z"
   },
   {
    "duration": 10,
    "start_time": "2025-06-25T05:44:09.108Z"
   },
   {
    "duration": 275,
    "start_time": "2025-06-25T05:44:09.120Z"
   },
   {
    "duration": 412,
    "start_time": "2025-06-25T05:44:09.396Z"
   },
   {
    "duration": 337,
    "start_time": "2025-06-25T05:44:09.810Z"
   },
   {
    "duration": 13,
    "start_time": "2025-06-25T05:44:10.149Z"
   },
   {
    "duration": 576,
    "start_time": "2025-06-25T05:44:10.164Z"
   },
   {
    "duration": 0,
    "start_time": "2025-06-25T05:44:10.742Z"
   },
   {
    "duration": 14,
    "start_time": "2025-06-25T05:44:40.908Z"
   },
   {
    "duration": 281,
    "start_time": "2025-06-25T05:44:50.349Z"
   },
   {
    "duration": 292,
    "start_time": "2025-06-25T05:44:58.827Z"
   },
   {
    "duration": 287,
    "start_time": "2025-06-25T05:45:05.060Z"
   },
   {
    "duration": 302,
    "start_time": "2025-06-25T05:45:20.577Z"
   },
   {
    "duration": 308,
    "start_time": "2025-06-25T05:45:32.082Z"
   },
   {
    "duration": 287,
    "start_time": "2025-06-25T05:45:50.280Z"
   },
   {
    "duration": 356,
    "start_time": "2025-06-25T05:46:38.971Z"
   },
   {
    "duration": 7,
    "start_time": "2025-06-25T05:47:08.973Z"
   },
   {
    "duration": 269,
    "start_time": "2025-06-25T05:47:10.567Z"
   },
   {
    "duration": 11,
    "start_time": "2025-06-25T06:12:53.511Z"
   },
   {
    "duration": 24,
    "start_time": "2025-06-25T06:13:00.159Z"
   },
   {
    "duration": 21,
    "start_time": "2025-06-25T06:13:09.894Z"
   },
   {
    "duration": 8,
    "start_time": "2025-06-25T06:13:36.514Z"
   },
   {
    "duration": 6,
    "start_time": "2025-06-25T06:13:40.315Z"
   },
   {
    "duration": 8,
    "start_time": "2025-06-25T06:13:46.989Z"
   },
   {
    "duration": 20,
    "start_time": "2025-06-25T06:14:12.240Z"
   },
   {
    "duration": 6,
    "start_time": "2025-06-25T06:14:17.850Z"
   },
   {
    "duration": 19,
    "start_time": "2025-06-25T06:14:34.670Z"
   },
   {
    "duration": 6,
    "start_time": "2025-06-25T06:14:44.542Z"
   },
   {
    "duration": 328,
    "start_time": "2025-06-25T06:16:53.340Z"
   },
   {
    "duration": 352,
    "start_time": "2025-06-25T06:17:01.508Z"
   },
   {
    "duration": 301,
    "start_time": "2025-06-25T06:18:36.765Z"
   },
   {
    "duration": 1342,
    "start_time": "2025-06-25T06:19:16.109Z"
   },
   {
    "duration": 291,
    "start_time": "2025-06-25T06:19:23.469Z"
   },
   {
    "duration": 173,
    "start_time": "2025-06-25T06:20:02.691Z"
   },
   {
    "duration": 174,
    "start_time": "2025-06-25T06:20:06.596Z"
   },
   {
    "duration": 127,
    "start_time": "2025-06-25T06:20:17.612Z"
   },
   {
    "duration": 307,
    "start_time": "2025-06-25T06:22:41.254Z"
   },
   {
    "duration": 136,
    "start_time": "2025-06-25T06:25:46.132Z"
   },
   {
    "duration": 330,
    "start_time": "2025-06-25T06:25:46.853Z"
   },
   {
    "duration": 7,
    "start_time": "2025-06-25T06:25:54.835Z"
   },
   {
    "duration": 388,
    "start_time": "2025-06-25T06:26:13.493Z"
   },
   {
    "duration": 318,
    "start_time": "2025-06-25T06:26:19.240Z"
   },
   {
    "duration": 354,
    "start_time": "2025-06-25T06:28:26.496Z"
   },
   {
    "duration": 9,
    "start_time": "2025-06-25T06:29:18.752Z"
   },
   {
    "duration": 6,
    "start_time": "2025-06-25T06:29:23.021Z"
   },
   {
    "duration": 49,
    "start_time": "2025-06-25T06:34:26.590Z"
   },
   {
    "duration": 331,
    "start_time": "2025-06-25T06:34:27.521Z"
   },
   {
    "duration": 361,
    "start_time": "2025-06-25T06:34:44.601Z"
   },
   {
    "duration": 1177,
    "start_time": "2025-06-25T06:41:55.747Z"
   },
   {
    "duration": 0,
    "start_time": "2025-06-25T06:41:56.926Z"
   },
   {
    "duration": 38,
    "start_time": "2025-06-25T06:42:29.927Z"
   },
   {
    "duration": 373,
    "start_time": "2025-06-25T06:42:31.678Z"
   },
   {
    "duration": 1131,
    "start_time": "2025-06-25T06:42:42.594Z"
   },
   {
    "duration": 39,
    "start_time": "2025-06-25T06:43:09.783Z"
   },
   {
    "duration": 369,
    "start_time": "2025-06-25T06:43:10.409Z"
   },
   {
    "duration": 44,
    "start_time": "2025-06-25T06:44:07.839Z"
   },
   {
    "duration": 318,
    "start_time": "2025-06-25T06:44:08.329Z"
   },
   {
    "duration": 41,
    "start_time": "2025-06-25T06:45:10.112Z"
   },
   {
    "duration": 289,
    "start_time": "2025-06-25T06:45:11.989Z"
   },
   {
    "duration": 96,
    "start_time": "2025-06-25T06:45:16.715Z"
   },
   {
    "duration": 282,
    "start_time": "2025-06-25T06:45:16.954Z"
   },
   {
    "duration": 6,
    "start_time": "2025-06-25T06:45:18.965Z"
   },
   {
    "duration": 87,
    "start_time": "2025-06-25T06:45:19.155Z"
   },
   {
    "duration": 301,
    "start_time": "2025-06-25T06:45:19.926Z"
   },
   {
    "duration": 44,
    "start_time": "2025-06-25T06:45:24.314Z"
   },
   {
    "duration": 289,
    "start_time": "2025-06-25T06:45:24.858Z"
   },
   {
    "duration": 1115,
    "start_time": "2025-06-25T06:54:20.393Z"
   },
   {
    "duration": 18,
    "start_time": "2025-06-25T06:54:25.168Z"
   },
   {
    "duration": 392,
    "start_time": "2025-06-25T06:54:25.468Z"
   },
   {
    "duration": 345,
    "start_time": "2025-06-25T06:54:41.684Z"
   },
   {
    "duration": 314,
    "start_time": "2025-06-25T06:54:53.620Z"
   },
   {
    "duration": 12,
    "start_time": "2025-06-25T06:55:05.047Z"
   },
   {
    "duration": 310,
    "start_time": "2025-06-25T06:55:05.241Z"
   },
   {
    "duration": 676,
    "start_time": "2025-06-25T07:01:29.647Z"
   },
   {
    "duration": 2248,
    "start_time": "2025-06-25T07:01:30.325Z"
   },
   {
    "duration": 583,
    "start_time": "2025-06-25T07:01:32.575Z"
   },
   {
    "duration": 39,
    "start_time": "2025-06-25T07:01:33.159Z"
   },
   {
    "duration": 11,
    "start_time": "2025-06-25T07:01:33.201Z"
   },
   {
    "duration": 299,
    "start_time": "2025-06-25T07:01:33.214Z"
   },
   {
    "duration": 453,
    "start_time": "2025-06-25T07:01:33.514Z"
   },
   {
    "duration": 374,
    "start_time": "2025-06-25T07:01:33.969Z"
   },
   {
    "duration": 12,
    "start_time": "2025-06-25T07:01:34.345Z"
   },
   {
    "duration": 366,
    "start_time": "2025-06-25T07:01:34.359Z"
   },
   {
    "duration": 10,
    "start_time": "2025-06-25T07:01:34.727Z"
   },
   {
    "duration": 321,
    "start_time": "2025-06-25T07:01:34.739Z"
   },
   {
    "duration": 628,
    "start_time": "2025-06-25T07:01:35.062Z"
   },
   {
    "duration": 0,
    "start_time": "2025-06-25T07:01:35.692Z"
   },
   {
    "duration": 1013,
    "start_time": "2025-06-25T16:35:21.134Z"
   },
   {
    "duration": 10,
    "start_time": "2025-06-25T16:36:13.230Z"
   },
   {
    "duration": 16,
    "start_time": "2025-06-25T16:38:01.944Z"
   },
   {
    "duration": 849,
    "start_time": "2025-06-25T16:38:40.226Z"
   },
   {
    "duration": 2254,
    "start_time": "2025-06-25T16:38:41.077Z"
   },
   {
    "duration": 592,
    "start_time": "2025-06-25T16:38:43.332Z"
   },
   {
    "duration": 45,
    "start_time": "2025-06-25T16:38:43.926Z"
   },
   {
    "duration": 12,
    "start_time": "2025-06-25T16:38:43.973Z"
   },
   {
    "duration": 302,
    "start_time": "2025-06-25T16:38:43.987Z"
   },
   {
    "duration": 543,
    "start_time": "2025-06-25T16:38:44.291Z"
   },
   {
    "duration": 351,
    "start_time": "2025-06-25T16:38:44.836Z"
   },
   {
    "duration": 9,
    "start_time": "2025-06-25T16:38:45.189Z"
   },
   {
    "duration": 335,
    "start_time": "2025-06-25T16:38:45.201Z"
   },
   {
    "duration": 23,
    "start_time": "2025-06-25T16:38:45.538Z"
   },
   {
    "duration": 324,
    "start_time": "2025-06-25T16:38:45.563Z"
   },
   {
    "duration": 619,
    "start_time": "2025-06-25T16:38:45.889Z"
   },
   {
    "duration": 0,
    "start_time": "2025-06-25T16:38:46.510Z"
   },
   {
    "duration": 17,
    "start_time": "2025-06-25T16:38:52.954Z"
   },
   {
    "duration": 15,
    "start_time": "2025-06-25T16:39:27.518Z"
   },
   {
    "duration": 12,
    "start_time": "2025-06-25T16:42:40.971Z"
   },
   {
    "duration": 12,
    "start_time": "2025-06-25T16:44:03.408Z"
   },
   {
    "duration": 13,
    "start_time": "2025-06-25T16:44:31.999Z"
   },
   {
    "duration": 162,
    "start_time": "2025-06-25T17:13:22.230Z"
   },
   {
    "duration": 17,
    "start_time": "2025-06-25T17:14:03.087Z"
   },
   {
    "duration": 159,
    "start_time": "2025-06-25T17:14:05.500Z"
   },
   {
    "duration": 16,
    "start_time": "2025-06-25T17:17:53.569Z"
   },
   {
    "duration": 171,
    "start_time": "2025-06-25T17:17:55.596Z"
   },
   {
    "duration": 178,
    "start_time": "2025-06-25T17:19:21.931Z"
   },
   {
    "duration": 166,
    "start_time": "2025-06-25T17:19:25.319Z"
   },
   {
    "duration": 13,
    "start_time": "2025-06-25T17:20:54.362Z"
   },
   {
    "duration": 15,
    "start_time": "2025-06-25T17:20:57.714Z"
   },
   {
    "duration": 16,
    "start_time": "2025-06-25T17:21:05.819Z"
   },
   {
    "duration": 14,
    "start_time": "2025-06-25T17:21:12.796Z"
   },
   {
    "duration": 13,
    "start_time": "2025-06-25T17:22:35.127Z"
   },
   {
    "duration": 15,
    "start_time": "2025-06-25T17:22:43.732Z"
   },
   {
    "duration": 15,
    "start_time": "2025-06-25T17:22:49.431Z"
   },
   {
    "duration": 167,
    "start_time": "2025-06-25T17:22:50.550Z"
   },
   {
    "duration": 168,
    "start_time": "2025-06-25T17:23:00.931Z"
   },
   {
    "duration": 149,
    "start_time": "2025-06-25T17:28:06.184Z"
   },
   {
    "duration": 171,
    "start_time": "2025-06-25T17:28:09.023Z"
   },
   {
    "duration": 638,
    "start_time": "2025-06-25T17:28:19.392Z"
   },
   {
    "duration": 623,
    "start_time": "2025-06-25T17:28:31.123Z"
   },
   {
    "duration": 633,
    "start_time": "2025-06-25T17:28:36.409Z"
   },
   {
    "duration": 16,
    "start_time": "2025-06-25T17:28:39.255Z"
   },
   {
    "duration": 716,
    "start_time": "2025-06-25T17:28:44.274Z"
   },
   {
    "duration": 2220,
    "start_time": "2025-06-25T17:28:44.992Z"
   },
   {
    "duration": 682,
    "start_time": "2025-06-25T17:28:47.214Z"
   },
   {
    "duration": 93,
    "start_time": "2025-06-25T17:28:47.898Z"
   },
   {
    "duration": 0,
    "start_time": "2025-06-25T17:28:47.993Z"
   },
   {
    "duration": 0,
    "start_time": "2025-06-25T17:28:47.994Z"
   },
   {
    "duration": 0,
    "start_time": "2025-06-25T17:28:47.995Z"
   },
   {
    "duration": 0,
    "start_time": "2025-06-25T17:28:47.996Z"
   },
   {
    "duration": 0,
    "start_time": "2025-06-25T17:28:47.998Z"
   },
   {
    "duration": 0,
    "start_time": "2025-06-25T17:28:47.999Z"
   },
   {
    "duration": 0,
    "start_time": "2025-06-25T17:28:48.000Z"
   },
   {
    "duration": 0,
    "start_time": "2025-06-25T17:28:48.001Z"
   },
   {
    "duration": 0,
    "start_time": "2025-06-25T17:28:48.002Z"
   },
   {
    "duration": 0,
    "start_time": "2025-06-25T17:28:48.003Z"
   },
   {
    "duration": 699,
    "start_time": "2025-06-25T17:29:17.528Z"
   },
   {
    "duration": 1822,
    "start_time": "2025-06-25T17:29:18.229Z"
   },
   {
    "duration": 599,
    "start_time": "2025-06-25T17:29:20.061Z"
   },
   {
    "duration": 70,
    "start_time": "2025-06-25T17:29:20.662Z"
   },
   {
    "duration": 0,
    "start_time": "2025-06-25T17:29:20.734Z"
   },
   {
    "duration": 0,
    "start_time": "2025-06-25T17:29:20.736Z"
   },
   {
    "duration": 0,
    "start_time": "2025-06-25T17:29:20.737Z"
   },
   {
    "duration": 0,
    "start_time": "2025-06-25T17:29:20.738Z"
   },
   {
    "duration": 0,
    "start_time": "2025-06-25T17:29:20.739Z"
   },
   {
    "duration": 0,
    "start_time": "2025-06-25T17:29:20.760Z"
   },
   {
    "duration": 0,
    "start_time": "2025-06-25T17:29:20.762Z"
   },
   {
    "duration": 0,
    "start_time": "2025-06-25T17:29:20.763Z"
   },
   {
    "duration": 0,
    "start_time": "2025-06-25T17:29:20.764Z"
   },
   {
    "duration": 0,
    "start_time": "2025-06-25T17:29:20.766Z"
   },
   {
    "duration": 609,
    "start_time": "2025-06-25T17:29:33.179Z"
   },
   {
    "duration": 40,
    "start_time": "2025-06-25T17:29:33.790Z"
   },
   {
    "duration": 11,
    "start_time": "2025-06-25T17:29:51.963Z"
   },
   {
    "duration": 265,
    "start_time": "2025-06-25T17:29:52.873Z"
   },
   {
    "duration": 461,
    "start_time": "2025-06-25T17:29:53.141Z"
   },
   {
    "duration": 355,
    "start_time": "2025-06-25T17:29:53.605Z"
   },
   {
    "duration": 8,
    "start_time": "2025-06-25T17:29:53.963Z"
   },
   {
    "duration": 333,
    "start_time": "2025-06-25T17:29:54.327Z"
   },
   {
    "duration": 6,
    "start_time": "2025-06-25T17:29:55.118Z"
   },
   {
    "duration": 345,
    "start_time": "2025-06-25T17:29:55.510Z"
   },
   {
    "duration": 475,
    "start_time": "2025-06-25T17:29:58.033Z"
   },
   {
    "duration": 160,
    "start_time": "2025-06-25T17:29:59.800Z"
   },
   {
    "duration": 179,
    "start_time": "2025-06-25T17:30:51.900Z"
   },
   {
    "duration": 3,
    "start_time": "2025-06-25T17:31:07.763Z"
   },
   {
    "duration": 171,
    "start_time": "2025-06-25T17:32:10.248Z"
   },
   {
    "duration": 14,
    "start_time": "2025-06-25T17:37:56.611Z"
   },
   {
    "duration": 165,
    "start_time": "2025-06-25T17:37:57.788Z"
   },
   {
    "duration": 14,
    "start_time": "2025-06-25T17:39:29.628Z"
   },
   {
    "duration": 188,
    "start_time": "2025-06-25T17:39:31.647Z"
   },
   {
    "duration": 159,
    "start_time": "2025-06-25T17:40:14.607Z"
   },
   {
    "duration": 16,
    "start_time": "2025-06-25T17:44:28.890Z"
   },
   {
    "duration": 168,
    "start_time": "2025-06-25T17:44:35.459Z"
   },
   {
    "duration": 136,
    "start_time": "2025-06-25T17:46:26.486Z"
   },
   {
    "duration": 4,
    "start_time": "2025-06-25T17:51:03.154Z"
   },
   {
    "duration": 6,
    "start_time": "2025-06-25T17:51:06.471Z"
   },
   {
    "duration": 38,
    "start_time": "2025-06-25T17:51:44.484Z"
   },
   {
    "duration": 5,
    "start_time": "2025-06-25T17:51:58.695Z"
   },
   {
    "duration": 5,
    "start_time": "2025-06-25T17:52:03.342Z"
   },
   {
    "duration": 5,
    "start_time": "2025-06-25T17:52:07.542Z"
   },
   {
    "duration": 10,
    "start_time": "2025-06-25T17:52:28.683Z"
   },
   {
    "duration": 9,
    "start_time": "2025-06-25T17:52:47.366Z"
   },
   {
    "duration": 6,
    "start_time": "2025-06-25T17:55:16.689Z"
   },
   {
    "duration": 54,
    "start_time": "2025-06-25T17:55:20.026Z"
   },
   {
    "duration": 6,
    "start_time": "2025-06-25T17:55:20.681Z"
   },
   {
    "duration": 682,
    "start_time": "2025-06-25T17:55:26.328Z"
   },
   {
    "duration": 2358,
    "start_time": "2025-06-25T17:55:27.012Z"
   },
   {
    "duration": 588,
    "start_time": "2025-06-25T17:55:29.372Z"
   },
   {
    "duration": 38,
    "start_time": "2025-06-25T17:55:29.963Z"
   },
   {
    "duration": 33,
    "start_time": "2025-06-25T17:55:30.003Z"
   },
   {
    "duration": 312,
    "start_time": "2025-06-25T17:55:30.038Z"
   },
   {
    "duration": 434,
    "start_time": "2025-06-25T17:55:30.352Z"
   },
   {
    "duration": 363,
    "start_time": "2025-06-25T17:55:30.788Z"
   },
   {
    "duration": 11,
    "start_time": "2025-06-25T17:55:31.153Z"
   },
   {
    "duration": 315,
    "start_time": "2025-06-25T17:55:31.166Z"
   },
   {
    "duration": 9,
    "start_time": "2025-06-25T17:55:31.482Z"
   },
   {
    "duration": 358,
    "start_time": "2025-06-25T17:55:31.493Z"
   },
   {
    "duration": 512,
    "start_time": "2025-06-25T17:55:31.852Z"
   },
   {
    "duration": 170,
    "start_time": "2025-06-25T17:55:32.366Z"
   },
   {
    "duration": 99,
    "start_time": "2025-06-25T17:55:32.538Z"
   },
   {
    "duration": 102,
    "start_time": "2025-06-25T17:55:32.638Z"
   },
   {
    "duration": 6,
    "start_time": "2025-06-25T17:55:47.188Z"
   },
   {
    "duration": 6,
    "start_time": "2025-06-25T17:56:24.974Z"
   },
   {
    "duration": 6,
    "start_time": "2025-06-25T17:56:56.922Z"
   },
   {
    "duration": 10,
    "start_time": "2025-06-25T17:57:21.082Z"
   },
   {
    "duration": 3,
    "start_time": "2025-06-25T17:57:45.981Z"
   },
   {
    "duration": 5,
    "start_time": "2025-06-25T17:57:51.887Z"
   },
   {
    "duration": 5,
    "start_time": "2025-06-25T17:57:58.994Z"
   },
   {
    "duration": 5,
    "start_time": "2025-06-25T17:58:02.008Z"
   },
   {
    "duration": 6,
    "start_time": "2025-06-25T17:58:06.307Z"
   },
   {
    "duration": 9,
    "start_time": "2025-06-25T17:58:09.983Z"
   },
   {
    "duration": 6,
    "start_time": "2025-06-25T17:58:13.422Z"
   },
   {
    "duration": 5,
    "start_time": "2025-06-25T17:58:29.508Z"
   },
   {
    "duration": 4,
    "start_time": "2025-06-25T17:58:34.532Z"
   },
   {
    "duration": 4,
    "start_time": "2025-06-25T17:59:07.978Z"
   },
   {
    "duration": 4,
    "start_time": "2025-06-25T17:59:34.335Z"
   },
   {
    "duration": 679,
    "start_time": "2025-06-25T17:59:40.350Z"
   },
   {
    "duration": 1997,
    "start_time": "2025-06-25T17:59:41.031Z"
   },
   {
    "duration": 595,
    "start_time": "2025-06-25T17:59:43.030Z"
   },
   {
    "duration": 43,
    "start_time": "2025-06-25T17:59:43.627Z"
   },
   {
    "duration": 15,
    "start_time": "2025-06-25T17:59:43.672Z"
   },
   {
    "duration": 301,
    "start_time": "2025-06-25T17:59:43.689Z"
   },
   {
    "duration": 440,
    "start_time": "2025-06-25T17:59:43.992Z"
   },
   {
    "duration": 329,
    "start_time": "2025-06-25T17:59:44.433Z"
   },
   {
    "duration": 7,
    "start_time": "2025-06-25T17:59:44.764Z"
   },
   {
    "duration": 353,
    "start_time": "2025-06-25T17:59:44.773Z"
   },
   {
    "duration": 9,
    "start_time": "2025-06-25T17:59:45.127Z"
   },
   {
    "duration": 396,
    "start_time": "2025-06-25T17:59:45.138Z"
   },
   {
    "duration": 491,
    "start_time": "2025-06-25T17:59:45.536Z"
   },
   {
    "duration": 157,
    "start_time": "2025-06-25T17:59:46.029Z"
   },
   {
    "duration": 51,
    "start_time": "2025-06-25T17:59:46.188Z"
   },
   {
    "duration": 6,
    "start_time": "2025-06-25T17:59:46.241Z"
   },
   {
    "duration": 97,
    "start_time": "2025-06-25T17:59:46.248Z"
   },
   {
    "duration": 4,
    "start_time": "2025-06-25T18:00:25.605Z"
   },
   {
    "duration": 719,
    "start_time": "2025-06-25T18:00:33.337Z"
   },
   {
    "duration": 1897,
    "start_time": "2025-06-25T18:00:34.058Z"
   },
   {
    "duration": 651,
    "start_time": "2025-06-25T18:00:35.961Z"
   },
   {
    "duration": 53,
    "start_time": "2025-06-25T18:00:36.613Z"
   },
   {
    "duration": 99,
    "start_time": "2025-06-25T18:00:36.668Z"
   },
   {
    "duration": 305,
    "start_time": "2025-06-25T18:00:36.769Z"
   },
   {
    "duration": 431,
    "start_time": "2025-06-25T18:00:37.076Z"
   },
   {
    "duration": 344,
    "start_time": "2025-06-25T18:00:37.509Z"
   },
   {
    "duration": 8,
    "start_time": "2025-06-25T18:00:37.859Z"
   },
   {
    "duration": 316,
    "start_time": "2025-06-25T18:00:37.869Z"
   },
   {
    "duration": 10,
    "start_time": "2025-06-25T18:00:38.187Z"
   },
   {
    "duration": 348,
    "start_time": "2025-06-25T18:00:38.199Z"
   },
   {
    "duration": 570,
    "start_time": "2025-06-25T18:00:38.560Z"
   },
   {
    "duration": 179,
    "start_time": "2025-06-25T18:00:39.133Z"
   },
   {
    "duration": 45,
    "start_time": "2025-06-25T18:00:39.314Z"
   },
   {
    "duration": 9,
    "start_time": "2025-06-25T18:00:39.361Z"
   },
   {
    "duration": 13,
    "start_time": "2025-06-25T18:00:39.372Z"
   },
   {
    "duration": 132,
    "start_time": "2025-06-25T18:01:13.025Z"
   },
   {
    "duration": 128,
    "start_time": "2025-06-25T18:01:17.283Z"
   },
   {
    "duration": 126,
    "start_time": "2025-06-25T18:01:21.289Z"
   },
   {
    "duration": 126,
    "start_time": "2025-06-25T18:01:47.680Z"
   },
   {
    "duration": 147,
    "start_time": "2025-06-25T18:01:55.015Z"
   },
   {
    "duration": 340,
    "start_time": "2025-06-25T18:02:43.635Z"
   },
   {
    "duration": 294,
    "start_time": "2025-06-25T18:03:00.824Z"
   },
   {
    "duration": 108,
    "start_time": "2025-06-25T18:05:02.073Z"
   },
   {
    "duration": 8,
    "start_time": "2025-06-25T18:05:12.668Z"
   },
   {
    "duration": 8,
    "start_time": "2025-06-25T18:05:46.311Z"
   },
   {
    "duration": 10,
    "start_time": "2025-06-25T18:08:55.057Z"
   },
   {
    "duration": 54,
    "start_time": "2025-06-25T18:09:12.371Z"
   },
   {
    "duration": 645,
    "start_time": "2025-06-25T18:10:33.297Z"
   },
   {
    "duration": 3241,
    "start_time": "2025-06-25T18:10:33.944Z"
   },
   {
    "duration": 625,
    "start_time": "2025-06-25T18:10:37.187Z"
   },
   {
    "duration": 47,
    "start_time": "2025-06-25T18:10:37.814Z"
   },
   {
    "duration": 11,
    "start_time": "2025-06-25T18:10:37.863Z"
   },
   {
    "duration": 302,
    "start_time": "2025-06-25T18:10:37.876Z"
   },
   {
    "duration": 434,
    "start_time": "2025-06-25T18:10:38.179Z"
   },
   {
    "duration": 350,
    "start_time": "2025-06-25T18:10:38.615Z"
   },
   {
    "duration": 9,
    "start_time": "2025-06-25T18:10:38.967Z"
   },
   {
    "duration": 370,
    "start_time": "2025-06-25T18:10:38.979Z"
   },
   {
    "duration": 15,
    "start_time": "2025-06-25T18:10:39.351Z"
   },
   {
    "duration": 372,
    "start_time": "2025-06-25T18:10:39.368Z"
   },
   {
    "duration": 482,
    "start_time": "2025-06-25T18:10:39.742Z"
   },
   {
    "duration": 169,
    "start_time": "2025-06-25T18:10:40.226Z"
   },
   {
    "duration": 50,
    "start_time": "2025-06-25T18:10:40.397Z"
   },
   {
    "duration": 9,
    "start_time": "2025-06-25T18:10:40.448Z"
   },
   {
    "duration": 104,
    "start_time": "2025-06-25T18:10:40.458Z"
   },
   {
    "duration": 0,
    "start_time": "2025-06-25T18:10:40.564Z"
   },
   {
    "duration": 0,
    "start_time": "2025-06-25T18:10:40.566Z"
   },
   {
    "duration": 8,
    "start_time": "2025-06-25T18:10:57.381Z"
   },
   {
    "duration": 9,
    "start_time": "2025-06-25T18:10:58.029Z"
   },
   {
    "duration": 9,
    "start_time": "2025-06-25T18:11:21.744Z"
   },
   {
    "duration": 4,
    "start_time": "2025-06-25T18:11:29.878Z"
   },
   {
    "duration": 8,
    "start_time": "2025-06-25T18:11:34.316Z"
   },
   {
    "duration": 5,
    "start_time": "2025-06-25T18:11:35.609Z"
   },
   {
    "duration": 270,
    "start_time": "2025-06-25T18:11:36.865Z"
   },
   {
    "duration": 692,
    "start_time": "2025-06-25T18:12:40.140Z"
   },
   {
    "duration": 1779,
    "start_time": "2025-06-25T18:12:40.834Z"
   },
   {
    "duration": 607,
    "start_time": "2025-06-25T18:12:42.615Z"
   },
   {
    "duration": 49,
    "start_time": "2025-06-25T18:12:43.223Z"
   },
   {
    "duration": 11,
    "start_time": "2025-06-25T18:12:43.274Z"
   },
   {
    "duration": 285,
    "start_time": "2025-06-25T18:12:43.286Z"
   },
   {
    "duration": 419,
    "start_time": "2025-06-25T18:12:43.573Z"
   },
   {
    "duration": 354,
    "start_time": "2025-06-25T18:12:43.993Z"
   },
   {
    "duration": 15,
    "start_time": "2025-06-25T18:12:44.349Z"
   },
   {
    "duration": 283,
    "start_time": "2025-06-25T18:12:44.365Z"
   },
   {
    "duration": 9,
    "start_time": "2025-06-25T18:12:44.660Z"
   },
   {
    "duration": 324,
    "start_time": "2025-06-25T18:12:44.671Z"
   },
   {
    "duration": 528,
    "start_time": "2025-06-25T18:12:44.997Z"
   },
   {
    "duration": 167,
    "start_time": "2025-06-25T18:12:45.528Z"
   },
   {
    "duration": 53,
    "start_time": "2025-06-25T18:12:45.697Z"
   },
   {
    "duration": 9,
    "start_time": "2025-06-25T18:12:45.752Z"
   },
   {
    "duration": 4,
    "start_time": "2025-06-25T18:12:45.764Z"
   },
   {
    "duration": 344,
    "start_time": "2025-06-25T18:12:45.770Z"
   },
   {
    "duration": 9,
    "start_time": "2025-06-25T18:12:46.116Z"
   },
   {
    "duration": 96,
    "start_time": "2025-06-25T18:16:27.601Z"
   },
   {
    "duration": 9,
    "start_time": "2025-06-25T18:16:48.573Z"
   },
   {
    "duration": 9,
    "start_time": "2025-06-25T18:17:41.066Z"
   },
   {
    "duration": 110,
    "start_time": "2025-06-25T18:18:29.676Z"
   },
   {
    "duration": 1233,
    "start_time": "2025-06-25T18:18:42.165Z"
   },
   {
    "duration": 1890,
    "start_time": "2025-06-25T18:18:43.400Z"
   },
   {
    "duration": 621,
    "start_time": "2025-06-25T18:18:45.292Z"
   },
   {
    "duration": 51,
    "start_time": "2025-06-25T18:18:45.916Z"
   },
   {
    "duration": 12,
    "start_time": "2025-06-25T18:18:45.969Z"
   },
   {
    "duration": 301,
    "start_time": "2025-06-25T18:18:45.982Z"
   },
   {
    "duration": 431,
    "start_time": "2025-06-25T18:18:46.285Z"
   },
   {
    "duration": 346,
    "start_time": "2025-06-25T18:18:46.718Z"
   },
   {
    "duration": 6,
    "start_time": "2025-06-25T18:18:47.066Z"
   },
   {
    "duration": 316,
    "start_time": "2025-06-25T18:18:47.074Z"
   },
   {
    "duration": 9,
    "start_time": "2025-06-25T18:18:47.392Z"
   },
   {
    "duration": 345,
    "start_time": "2025-06-25T18:18:47.402Z"
   },
   {
    "duration": 22,
    "start_time": "2025-06-25T18:18:47.759Z"
   },
   {
    "duration": 177,
    "start_time": "2025-06-25T18:18:47.783Z"
   },
   {
    "duration": 47,
    "start_time": "2025-06-25T18:18:47.962Z"
   },
   {
    "duration": 6,
    "start_time": "2025-06-25T18:18:48.011Z"
   },
   {
    "duration": 77,
    "start_time": "2025-06-25T18:18:48.019Z"
   },
   {
    "duration": 313,
    "start_time": "2025-06-25T18:18:48.098Z"
   },
   {
    "duration": 7,
    "start_time": "2025-06-25T18:18:48.413Z"
   },
   {
    "duration": 8,
    "start_time": "2025-06-25T18:18:48.421Z"
   },
   {
    "duration": 161,
    "start_time": "2025-06-25T18:18:48.431Z"
   },
   {
    "duration": 129,
    "start_time": "2025-06-25T18:18:53.172Z"
   },
   {
    "duration": 213,
    "start_time": "2025-06-25T18:18:59.724Z"
   },
   {
    "duration": 167,
    "start_time": "2025-06-25T18:20:01.481Z"
   },
   {
    "duration": 135,
    "start_time": "2025-06-25T18:20:05.873Z"
   },
   {
    "duration": 164,
    "start_time": "2025-06-25T18:20:18.877Z"
   },
   {
    "duration": 135,
    "start_time": "2025-06-25T18:20:36.373Z"
   },
   {
    "duration": 1189,
    "start_time": "2025-06-25T18:20:51.209Z"
   },
   {
    "duration": 1780,
    "start_time": "2025-06-25T18:20:52.399Z"
   },
   {
    "duration": 599,
    "start_time": "2025-06-25T18:20:54.181Z"
   },
   {
    "duration": 41,
    "start_time": "2025-06-25T18:20:54.782Z"
   },
   {
    "duration": 11,
    "start_time": "2025-06-25T18:20:54.825Z"
   },
   {
    "duration": 342,
    "start_time": "2025-06-25T18:20:54.838Z"
   },
   {
    "duration": 448,
    "start_time": "2025-06-25T18:20:55.182Z"
   },
   {
    "duration": 347,
    "start_time": "2025-06-25T18:20:55.631Z"
   },
   {
    "duration": 6,
    "start_time": "2025-06-25T18:20:55.980Z"
   },
   {
    "duration": 346,
    "start_time": "2025-06-25T18:20:55.989Z"
   },
   {
    "duration": 9,
    "start_time": "2025-06-25T18:20:56.336Z"
   },
   {
    "duration": 323,
    "start_time": "2025-06-25T18:20:56.346Z"
   },
   {
    "duration": 22,
    "start_time": "2025-06-25T18:20:56.671Z"
   },
   {
    "duration": 253,
    "start_time": "2025-06-25T18:20:56.695Z"
   },
   {
    "duration": 70,
    "start_time": "2025-06-25T18:20:56.950Z"
   },
   {
    "duration": 21,
    "start_time": "2025-06-25T18:20:57.022Z"
   },
   {
    "duration": 4,
    "start_time": "2025-06-25T18:20:57.045Z"
   },
   {
    "duration": 274,
    "start_time": "2025-06-25T18:20:57.051Z"
   },
   {
    "duration": 8,
    "start_time": "2025-06-25T18:20:57.327Z"
   },
   {
    "duration": 87,
    "start_time": "2025-06-25T18:20:57.337Z"
   },
   {
    "duration": 138,
    "start_time": "2025-06-25T18:20:57.426Z"
   },
   {
    "duration": 147,
    "start_time": "2025-06-25T18:21:37.077Z"
   },
   {
    "duration": 368,
    "start_time": "2025-06-25T18:21:47.559Z"
   },
   {
    "duration": 234,
    "start_time": "2025-06-25T18:21:58.487Z"
   },
   {
    "duration": 299,
    "start_time": "2025-06-25T18:22:07.110Z"
   },
   {
    "duration": 294,
    "start_time": "2025-06-25T18:22:12.105Z"
   },
   {
    "duration": 300,
    "start_time": "2025-06-25T18:22:18.713Z"
   },
   {
    "duration": 268,
    "start_time": "2025-06-25T18:22:28.165Z"
   },
   {
    "duration": 301,
    "start_time": "2025-06-25T18:22:43.513Z"
   },
   {
    "duration": 271,
    "start_time": "2025-06-25T18:23:02.740Z"
   },
   {
    "duration": 233,
    "start_time": "2025-06-25T18:23:11.690Z"
   },
   {
    "duration": 594,
    "start_time": "2025-06-25T18:24:20.869Z"
   },
   {
    "duration": 267,
    "start_time": "2025-06-25T18:25:15.348Z"
   },
   {
    "duration": 265,
    "start_time": "2025-06-25T18:25:17.555Z"
   },
   {
    "duration": 9,
    "start_time": "2025-06-25T18:27:18.587Z"
   },
   {
    "duration": 389,
    "start_time": "2025-06-25T18:27:35.210Z"
   },
   {
    "duration": 270,
    "start_time": "2025-06-25T18:27:49.836Z"
   },
   {
    "duration": 112,
    "start_time": "2025-06-25T18:30:14.334Z"
   },
   {
    "duration": 108,
    "start_time": "2025-06-25T18:30:33.185Z"
   },
   {
    "duration": 136,
    "start_time": "2025-06-25T18:30:52.712Z"
   },
   {
    "duration": 141,
    "start_time": "2025-06-25T18:31:00.622Z"
   },
   {
    "duration": 91,
    "start_time": "2025-06-25T18:32:56.304Z"
   },
   {
    "duration": 141,
    "start_time": "2025-06-25T18:33:10.632Z"
   },
   {
    "duration": 150,
    "start_time": "2025-06-25T18:33:24.706Z"
   },
   {
    "duration": 133,
    "start_time": "2025-06-25T18:33:43.101Z"
   },
   {
    "duration": 140,
    "start_time": "2025-06-25T18:33:52.108Z"
   },
   {
    "duration": 177,
    "start_time": "2025-06-25T18:33:55.728Z"
   },
   {
    "duration": 136,
    "start_time": "2025-06-25T18:34:02.406Z"
   },
   {
    "duration": 146,
    "start_time": "2025-06-25T18:34:26.416Z"
   },
   {
    "duration": 236,
    "start_time": "2025-06-25T18:34:29.825Z"
   },
   {
    "duration": 148,
    "start_time": "2025-06-25T18:34:43.091Z"
   },
   {
    "duration": 111,
    "start_time": "2025-06-25T18:35:02.395Z"
   },
   {
    "duration": 111,
    "start_time": "2025-06-25T18:35:07.572Z"
   },
   {
    "duration": 112,
    "start_time": "2025-06-25T18:35:44.924Z"
   },
   {
    "duration": 115,
    "start_time": "2025-06-25T18:36:08.278Z"
   },
   {
    "duration": 107,
    "start_time": "2025-06-25T18:36:10.565Z"
   },
   {
    "duration": 115,
    "start_time": "2025-06-25T18:36:29.135Z"
   },
   {
    "duration": 114,
    "start_time": "2025-06-25T18:36:33.321Z"
   },
   {
    "duration": 1225,
    "start_time": "2025-06-25T18:36:58.096Z"
   },
   {
    "duration": 1962,
    "start_time": "2025-06-25T18:36:59.322Z"
   },
   {
    "duration": 652,
    "start_time": "2025-06-25T18:37:01.286Z"
   },
   {
    "duration": 41,
    "start_time": "2025-06-25T18:37:01.941Z"
   },
   {
    "duration": 12,
    "start_time": "2025-06-25T18:37:01.985Z"
   },
   {
    "duration": 314,
    "start_time": "2025-06-25T18:37:01.998Z"
   },
   {
    "duration": 453,
    "start_time": "2025-06-25T18:37:02.314Z"
   },
   {
    "duration": 318,
    "start_time": "2025-06-25T18:37:02.768Z"
   },
   {
    "duration": 7,
    "start_time": "2025-06-25T18:37:03.087Z"
   },
   {
    "duration": 336,
    "start_time": "2025-06-25T18:37:03.096Z"
   },
   {
    "duration": 9,
    "start_time": "2025-06-25T18:37:03.434Z"
   },
   {
    "duration": 321,
    "start_time": "2025-06-25T18:37:03.445Z"
   },
   {
    "duration": 21,
    "start_time": "2025-06-25T18:37:03.768Z"
   },
   {
    "duration": 194,
    "start_time": "2025-06-25T18:37:03.791Z"
   },
   {
    "duration": 54,
    "start_time": "2025-06-25T18:37:03.986Z"
   },
   {
    "duration": 7,
    "start_time": "2025-06-25T18:37:04.042Z"
   },
   {
    "duration": 4,
    "start_time": "2025-06-25T18:37:04.050Z"
   },
   {
    "duration": 272,
    "start_time": "2025-06-25T18:37:04.056Z"
   },
   {
    "duration": 7,
    "start_time": "2025-06-25T18:37:04.330Z"
   },
   {
    "duration": 26,
    "start_time": "2025-06-25T18:37:04.338Z"
   },
   {
    "duration": 265,
    "start_time": "2025-06-25T18:37:04.366Z"
   },
   {
    "duration": 285,
    "start_time": "2025-06-25T18:37:04.632Z"
   },
   {
    "duration": 9,
    "start_time": "2025-06-25T18:37:04.918Z"
   },
   {
    "duration": 253,
    "start_time": "2025-06-25T18:37:04.928Z"
   },
   {
    "duration": 125,
    "start_time": "2025-06-25T18:37:05.183Z"
   },
   {
    "duration": 109,
    "start_time": "2025-06-25T18:37:21.420Z"
   },
   {
    "duration": 145,
    "start_time": "2025-06-25T18:37:27.190Z"
   },
   {
    "duration": 148,
    "start_time": "2025-06-25T18:37:31.223Z"
   },
   {
    "duration": 147,
    "start_time": "2025-06-25T18:37:46.456Z"
   },
   {
    "duration": 144,
    "start_time": "2025-06-25T18:37:49.388Z"
   },
   {
    "duration": 142,
    "start_time": "2025-06-25T18:37:52.721Z"
   },
   {
    "duration": 113,
    "start_time": "2025-06-25T18:37:57.221Z"
   },
   {
    "duration": 111,
    "start_time": "2025-06-25T18:37:59.297Z"
   },
   {
    "duration": 233,
    "start_time": "2025-06-25T18:39:13.483Z"
   },
   {
    "duration": 260,
    "start_time": "2025-06-25T18:39:51.347Z"
   },
   {
    "duration": 139,
    "start_time": "2025-06-25T18:40:29.013Z"
   },
   {
    "duration": 196,
    "start_time": "2025-06-25T18:40:48.659Z"
   },
   {
    "duration": 131,
    "start_time": "2025-06-25T18:41:06.304Z"
   },
   {
    "duration": 130,
    "start_time": "2025-06-25T18:41:20.708Z"
   },
   {
    "duration": 142,
    "start_time": "2025-06-25T18:41:22.460Z"
   },
   {
    "duration": 9,
    "start_time": "2025-06-25T18:41:27.964Z"
   },
   {
    "duration": 130,
    "start_time": "2025-06-25T18:41:28.268Z"
   },
   {
    "duration": 128,
    "start_time": "2025-06-25T18:41:29.236Z"
   },
   {
    "duration": 9,
    "start_time": "2025-06-25T18:41:32.027Z"
   },
   {
    "duration": 237,
    "start_time": "2025-06-25T18:41:41.375Z"
   },
   {
    "duration": 269,
    "start_time": "2025-06-25T18:41:43.330Z"
   },
   {
    "duration": 275,
    "start_time": "2025-06-25T18:42:00.103Z"
   },
   {
    "duration": 251,
    "start_time": "2025-06-25T18:42:01.055Z"
   },
   {
    "duration": 3,
    "start_time": "2025-06-25T18:42:37.194Z"
   },
   {
    "duration": 1857,
    "start_time": "2025-06-25T18:42:37.199Z"
   },
   {
    "duration": 536,
    "start_time": "2025-06-25T18:42:39.060Z"
   },
   {
    "duration": 40,
    "start_time": "2025-06-25T18:42:39.597Z"
   },
   {
    "duration": 25,
    "start_time": "2025-06-25T18:42:39.639Z"
   },
   {
    "duration": 222,
    "start_time": "2025-06-25T18:42:39.666Z"
   },
   {
    "duration": 376,
    "start_time": "2025-06-25T18:42:39.889Z"
   },
   {
    "duration": 310,
    "start_time": "2025-06-25T18:42:40.266Z"
   },
   {
    "duration": 6,
    "start_time": "2025-06-25T18:42:40.578Z"
   },
   {
    "duration": 337,
    "start_time": "2025-06-25T18:42:40.585Z"
   },
   {
    "duration": 6,
    "start_time": "2025-06-25T18:42:40.923Z"
   },
   {
    "duration": 395,
    "start_time": "2025-06-25T18:42:40.930Z"
   },
   {
    "duration": 14,
    "start_time": "2025-06-25T18:42:41.326Z"
   },
   {
    "duration": 165,
    "start_time": "2025-06-25T18:42:41.342Z"
   },
   {
    "duration": 57,
    "start_time": "2025-06-25T18:42:41.509Z"
   },
   {
    "duration": 7,
    "start_time": "2025-06-25T18:42:41.570Z"
   },
   {
    "duration": 6,
    "start_time": "2025-06-25T18:42:41.578Z"
   },
   {
    "duration": 323,
    "start_time": "2025-06-25T18:42:41.586Z"
   },
   {
    "duration": 8,
    "start_time": "2025-06-25T18:42:41.910Z"
   },
   {
    "duration": 8,
    "start_time": "2025-06-25T18:42:41.920Z"
   },
   {
    "duration": 159,
    "start_time": "2025-06-25T18:42:41.929Z"
   },
   {
    "duration": 136,
    "start_time": "2025-06-25T18:42:42.089Z"
   },
   {
    "duration": 8,
    "start_time": "2025-06-25T18:42:42.227Z"
   },
   {
    "duration": 271,
    "start_time": "2025-06-25T18:42:42.237Z"
   },
   {
    "duration": 288,
    "start_time": "2025-06-25T18:42:42.510Z"
   },
   {
    "duration": 298,
    "start_time": "2025-06-25T18:43:18.996Z"
   },
   {
    "duration": 552,
    "start_time": "2025-06-25T19:06:41.671Z"
   },
   {
    "duration": 12,
    "start_time": "2025-06-25T19:08:41.108Z"
   },
   {
    "duration": 11,
    "start_time": "2025-06-25T19:08:45.588Z"
   },
   {
    "duration": 4,
    "start_time": "2025-06-25T19:08:52.114Z"
   },
   {
    "duration": 120,
    "start_time": "2025-06-25T19:10:11.866Z"
   },
   {
    "duration": 141,
    "start_time": "2025-06-25T19:10:55.721Z"
   },
   {
    "duration": 21,
    "start_time": "2025-06-25T19:10:57.690Z"
   },
   {
    "duration": 48,
    "start_time": "2025-06-25T19:11:24.861Z"
   },
   {
    "duration": 60,
    "start_time": "2025-06-25T19:11:36.958Z"
   },
   {
    "duration": 47,
    "start_time": "2025-06-25T19:11:58.035Z"
   },
   {
    "duration": 11,
    "start_time": "2025-06-25T19:12:43.041Z"
   },
   {
    "duration": 5,
    "start_time": "2025-06-25T19:14:05.586Z"
   },
   {
    "duration": 12,
    "start_time": "2025-06-25T19:15:24.590Z"
   },
   {
    "duration": 1213,
    "start_time": "2025-06-25T19:16:04.722Z"
   },
   {
    "duration": 2171,
    "start_time": "2025-06-25T19:16:05.938Z"
   },
   {
    "duration": 627,
    "start_time": "2025-06-25T19:16:08.110Z"
   },
   {
    "duration": 44,
    "start_time": "2025-06-25T19:16:08.739Z"
   },
   {
    "duration": 11,
    "start_time": "2025-06-25T19:16:08.786Z"
   },
   {
    "duration": 325,
    "start_time": "2025-06-25T19:16:08.798Z"
   },
   {
    "duration": 468,
    "start_time": "2025-06-25T19:16:09.124Z"
   },
   {
    "duration": 357,
    "start_time": "2025-06-25T19:16:09.594Z"
   },
   {
    "duration": 7,
    "start_time": "2025-06-25T19:16:09.960Z"
   },
   {
    "duration": 311,
    "start_time": "2025-06-25T19:16:09.969Z"
   },
   {
    "duration": 9,
    "start_time": "2025-06-25T19:16:10.282Z"
   },
   {
    "duration": 349,
    "start_time": "2025-06-25T19:16:10.293Z"
   },
   {
    "duration": 30,
    "start_time": "2025-06-25T19:16:10.644Z"
   },
   {
    "duration": 173,
    "start_time": "2025-06-25T19:16:10.677Z"
   },
   {
    "duration": 599,
    "start_time": "2025-06-25T19:16:10.851Z"
   },
   {
    "duration": 6,
    "start_time": "2025-06-25T19:16:11.452Z"
   },
   {
    "duration": 7,
    "start_time": "2025-06-25T19:16:11.460Z"
   },
   {
    "duration": 265,
    "start_time": "2025-06-25T19:16:11.469Z"
   },
   {
    "duration": 9,
    "start_time": "2025-06-25T19:16:11.736Z"
   },
   {
    "duration": 22,
    "start_time": "2025-06-25T19:16:11.747Z"
   },
   {
    "duration": 154,
    "start_time": "2025-06-25T19:16:11.771Z"
   },
   {
    "duration": 141,
    "start_time": "2025-06-25T19:16:11.927Z"
   },
   {
    "duration": 9,
    "start_time": "2025-06-25T19:16:12.069Z"
   },
   {
    "duration": 351,
    "start_time": "2025-06-25T19:16:12.079Z"
   },
   {
    "duration": 279,
    "start_time": "2025-06-25T19:16:12.432Z"
   },
   {
    "duration": 626,
    "start_time": "2025-06-25T19:16:12.713Z"
   },
   {
    "duration": 6,
    "start_time": "2025-06-25T19:16:13.341Z"
   },
   {
    "duration": 63,
    "start_time": "2025-06-25T19:16:13.361Z"
   },
   {
    "duration": 5,
    "start_time": "2025-06-25T19:16:13.426Z"
   },
   {
    "duration": 106,
    "start_time": "2025-06-25T19:16:55.583Z"
   },
   {
    "duration": 7,
    "start_time": "2025-06-25T19:17:02.598Z"
   },
   {
    "duration": 13,
    "start_time": "2025-06-25T19:18:02.094Z"
   },
   {
    "duration": 8,
    "start_time": "2025-06-25T19:18:08.954Z"
   },
   {
    "duration": 14,
    "start_time": "2025-06-25T19:19:30.004Z"
   },
   {
    "duration": 8,
    "start_time": "2025-06-25T19:19:33.178Z"
   },
   {
    "duration": 7,
    "start_time": "2025-06-25T19:19:40.839Z"
   },
   {
    "duration": 7,
    "start_time": "2025-06-25T19:20:05.871Z"
   },
   {
    "duration": 13,
    "start_time": "2025-06-25T19:21:17.676Z"
   },
   {
    "duration": 8,
    "start_time": "2025-06-25T19:21:24.469Z"
   },
   {
    "duration": 8,
    "start_time": "2025-06-25T19:22:12.309Z"
   },
   {
    "duration": 7,
    "start_time": "2025-06-25T19:22:25.139Z"
   },
   {
    "duration": 11,
    "start_time": "2025-06-25T19:23:59.767Z"
   },
   {
    "duration": 20,
    "start_time": "2025-06-25T19:24:58.585Z"
   },
   {
    "duration": 12,
    "start_time": "2025-06-25T19:25:02.909Z"
   },
   {
    "duration": 12,
    "start_time": "2025-06-25T19:26:44.443Z"
   },
   {
    "duration": 7,
    "start_time": "2025-06-25T19:32:43.047Z"
   },
   {
    "duration": 13,
    "start_time": "2025-06-25T19:35:49.211Z"
   },
   {
    "duration": 14,
    "start_time": "2025-06-25T19:36:22.336Z"
   },
   {
    "duration": 16,
    "start_time": "2025-06-25T19:36:38.160Z"
   },
   {
    "duration": 9224,
    "start_time": "2025-06-25T19:37:33.945Z"
   },
   {
    "duration": 35,
    "start_time": "2025-06-25T19:37:49.900Z"
   },
   {
    "duration": 14,
    "start_time": "2025-06-25T19:38:17.103Z"
   },
   {
    "duration": 35,
    "start_time": "2025-06-25T19:38:28.818Z"
   },
   {
    "duration": 13,
    "start_time": "2025-06-25T19:39:21.057Z"
   },
   {
    "duration": 40,
    "start_time": "2025-06-25T19:39:59.050Z"
   },
   {
    "duration": 35,
    "start_time": "2025-06-25T19:40:09.399Z"
   },
   {
    "duration": 8,
    "start_time": "2025-06-25T19:45:19.937Z"
   },
   {
    "duration": 8,
    "start_time": "2025-06-25T19:50:04.576Z"
   },
   {
    "duration": 19,
    "start_time": "2025-06-25T19:51:28.928Z"
   },
   {
    "duration": 17,
    "start_time": "2025-06-25T19:52:28.409Z"
   },
   {
    "duration": 18,
    "start_time": "2025-06-25T19:52:32.584Z"
   },
   {
    "duration": 43,
    "start_time": "2025-06-25T19:53:31.313Z"
   },
   {
    "duration": 46,
    "start_time": "2025-06-25T19:53:35.340Z"
   },
   {
    "duration": 55,
    "start_time": "2025-06-25T19:53:46.165Z"
   },
   {
    "duration": 57,
    "start_time": "2025-06-25T19:53:59.423Z"
   },
   {
    "duration": 55,
    "start_time": "2025-06-25T19:54:03.449Z"
   },
   {
    "duration": 61,
    "start_time": "2025-06-25T19:54:49.856Z"
   },
   {
    "duration": 1291,
    "start_time": "2025-06-25T19:55:12.732Z"
   },
   {
    "duration": 2576,
    "start_time": "2025-06-25T19:55:14.025Z"
   },
   {
    "duration": 617,
    "start_time": "2025-06-25T19:55:16.603Z"
   },
   {
    "duration": 50,
    "start_time": "2025-06-25T19:55:17.222Z"
   },
   {
    "duration": 11,
    "start_time": "2025-06-25T19:55:17.274Z"
   },
   {
    "duration": 424,
    "start_time": "2025-06-25T19:55:17.287Z"
   },
   {
    "duration": 476,
    "start_time": "2025-06-25T19:55:17.713Z"
   },
   {
    "duration": 378,
    "start_time": "2025-06-25T19:55:18.190Z"
   },
   {
    "duration": 8,
    "start_time": "2025-06-25T19:55:18.570Z"
   },
   {
    "duration": 358,
    "start_time": "2025-06-25T19:55:18.581Z"
   },
   {
    "duration": 22,
    "start_time": "2025-06-25T19:55:18.941Z"
   },
   {
    "duration": 390,
    "start_time": "2025-06-25T19:55:18.966Z"
   },
   {
    "duration": 16,
    "start_time": "2025-06-25T19:55:19.360Z"
   },
   {
    "duration": 220,
    "start_time": "2025-06-25T19:55:19.378Z"
   },
   {
    "duration": 65,
    "start_time": "2025-06-25T19:55:19.600Z"
   },
   {
    "duration": 33,
    "start_time": "2025-06-25T19:55:19.668Z"
   },
   {
    "duration": 4,
    "start_time": "2025-06-25T19:55:19.703Z"
   },
   {
    "duration": 325,
    "start_time": "2025-06-25T19:55:19.709Z"
   },
   {
    "duration": 9,
    "start_time": "2025-06-25T19:55:20.036Z"
   },
   {
    "duration": 21,
    "start_time": "2025-06-25T19:55:20.047Z"
   },
   {
    "duration": 153,
    "start_time": "2025-06-25T19:55:20.070Z"
   },
   {
    "duration": 146,
    "start_time": "2025-06-25T19:55:20.225Z"
   },
   {
    "duration": 10,
    "start_time": "2025-06-25T19:55:20.373Z"
   },
   {
    "duration": 404,
    "start_time": "2025-06-25T19:55:20.384Z"
   },
   {
    "duration": 278,
    "start_time": "2025-06-25T19:55:20.790Z"
   },
   {
    "duration": 780,
    "start_time": "2025-06-25T19:55:21.070Z"
   },
   {
    "duration": 8,
    "start_time": "2025-06-25T19:55:21.852Z"
   },
   {
    "duration": 60,
    "start_time": "2025-06-25T19:55:21.864Z"
   },
   {
    "duration": 8,
    "start_time": "2025-06-25T19:55:21.925Z"
   },
   {
    "duration": 59,
    "start_time": "2025-06-25T19:55:21.934Z"
   },
   {
    "duration": 77,
    "start_time": "2025-06-25T19:55:21.994Z"
   },
   {
    "duration": 64,
    "start_time": "2025-06-25T19:55:48.197Z"
   },
   {
    "duration": 59,
    "start_time": "2025-06-25T19:59:21.456Z"
   },
   {
    "duration": 8,
    "start_time": "2025-06-25T20:03:04.928Z"
   },
   {
    "duration": 55,
    "start_time": "2025-06-25T20:05:58.293Z"
   },
   {
    "duration": 56,
    "start_time": "2025-06-25T20:17:29.347Z"
   },
   {
    "duration": 60,
    "start_time": "2025-06-25T20:17:39.049Z"
   },
   {
    "duration": 57,
    "start_time": "2025-06-25T20:17:54.992Z"
   },
   {
    "duration": 68,
    "start_time": "2025-06-25T20:18:05.615Z"
   },
   {
    "duration": 63,
    "start_time": "2025-06-25T20:18:08.854Z"
   },
   {
    "duration": 55,
    "start_time": "2025-06-25T20:18:11.587Z"
   },
   {
    "duration": 55,
    "start_time": "2025-06-25T20:19:52.274Z"
   },
   {
    "duration": 1212,
    "start_time": "2025-06-25T20:35:20.295Z"
   },
   {
    "duration": 2104,
    "start_time": "2025-06-25T20:35:21.509Z"
   },
   {
    "duration": 617,
    "start_time": "2025-06-25T20:35:23.614Z"
   },
   {
    "duration": 50,
    "start_time": "2025-06-25T20:35:24.233Z"
   },
   {
    "duration": 11,
    "start_time": "2025-06-25T20:35:24.284Z"
   },
   {
    "duration": 297,
    "start_time": "2025-06-25T20:35:24.297Z"
   },
   {
    "duration": 450,
    "start_time": "2025-06-25T20:35:24.596Z"
   },
   {
    "duration": 371,
    "start_time": "2025-06-25T20:35:25.047Z"
   },
   {
    "duration": 7,
    "start_time": "2025-06-25T20:35:25.420Z"
   },
   {
    "duration": 416,
    "start_time": "2025-06-25T20:35:25.430Z"
   },
   {
    "duration": 19,
    "start_time": "2025-06-25T20:35:25.848Z"
   },
   {
    "duration": 314,
    "start_time": "2025-06-25T20:35:25.868Z"
   },
   {
    "duration": 17,
    "start_time": "2025-06-25T20:35:26.184Z"
   },
   {
    "duration": 194,
    "start_time": "2025-06-25T20:35:26.203Z"
   },
   {
    "duration": 112,
    "start_time": "2025-06-25T20:35:26.399Z"
   },
   {
    "duration": 9,
    "start_time": "2025-06-25T20:35:26.513Z"
   },
   {
    "duration": 34,
    "start_time": "2025-06-25T20:35:26.524Z"
   },
   {
    "duration": 282,
    "start_time": "2025-06-25T20:35:26.560Z"
   },
   {
    "duration": 21,
    "start_time": "2025-06-25T20:35:26.844Z"
   },
   {
    "duration": 10,
    "start_time": "2025-06-25T20:35:26.867Z"
   },
   {
    "duration": 164,
    "start_time": "2025-06-25T20:35:26.879Z"
   },
   {
    "duration": 151,
    "start_time": "2025-06-25T20:35:27.045Z"
   },
   {
    "duration": 9,
    "start_time": "2025-06-25T20:35:27.198Z"
   },
   {
    "duration": 415,
    "start_time": "2025-06-25T20:35:27.208Z"
   },
   {
    "duration": 284,
    "start_time": "2025-06-25T20:35:27.625Z"
   },
   {
    "duration": 479,
    "start_time": "2025-06-25T20:35:27.910Z"
   },
   {
    "duration": 4,
    "start_time": "2025-06-25T20:35:28.391Z"
   },
   {
    "duration": 75,
    "start_time": "2025-06-25T20:35:28.398Z"
   },
   {
    "duration": 8,
    "start_time": "2025-06-25T20:35:28.475Z"
   },
   {
    "duration": 97,
    "start_time": "2025-06-25T20:35:28.484Z"
   },
   {
    "duration": 58,
    "start_time": "2025-06-25T20:35:28.582Z"
   },
   {
    "duration": 9,
    "start_time": "2025-06-25T20:39:15.496Z"
   },
   {
    "duration": 81,
    "start_time": "2025-06-25T20:44:27.431Z"
   },
   {
    "duration": 8,
    "start_time": "2025-06-25T20:44:39.122Z"
   },
   {
    "duration": 8,
    "start_time": "2025-06-25T20:45:06.950Z"
   },
   {
    "duration": 1177,
    "start_time": "2025-06-25T20:49:19.823Z"
   },
   {
    "duration": 2169,
    "start_time": "2025-06-25T20:49:21.002Z"
   },
   {
    "duration": 630,
    "start_time": "2025-06-25T20:49:23.177Z"
   },
   {
    "duration": 54,
    "start_time": "2025-06-25T20:49:23.809Z"
   },
   {
    "duration": 13,
    "start_time": "2025-06-25T20:49:23.865Z"
   },
   {
    "duration": 309,
    "start_time": "2025-06-25T20:49:23.880Z"
   },
   {
    "duration": 440,
    "start_time": "2025-06-25T20:49:24.191Z"
   },
   {
    "duration": 335,
    "start_time": "2025-06-25T20:49:24.634Z"
   },
   {
    "duration": 10,
    "start_time": "2025-06-25T20:49:24.971Z"
   },
   {
    "duration": 348,
    "start_time": "2025-06-25T20:49:24.983Z"
   },
   {
    "duration": 28,
    "start_time": "2025-06-25T20:49:25.333Z"
   },
   {
    "duration": 311,
    "start_time": "2025-06-25T20:49:25.362Z"
   },
   {
    "duration": 18,
    "start_time": "2025-06-25T20:49:25.675Z"
   },
   {
    "duration": 210,
    "start_time": "2025-06-25T20:49:25.695Z"
   },
   {
    "duration": 58,
    "start_time": "2025-06-25T20:49:25.907Z"
   },
   {
    "duration": 9,
    "start_time": "2025-06-25T20:49:25.967Z"
   },
   {
    "duration": 4,
    "start_time": "2025-06-25T20:49:25.978Z"
   },
   {
    "duration": 327,
    "start_time": "2025-06-25T20:49:25.984Z"
   },
   {
    "duration": 8,
    "start_time": "2025-06-25T20:49:26.313Z"
   },
   {
    "duration": 10,
    "start_time": "2025-06-25T20:49:26.322Z"
   },
   {
    "duration": 170,
    "start_time": "2025-06-25T20:49:26.334Z"
   },
   {
    "duration": 156,
    "start_time": "2025-06-25T20:49:26.506Z"
   },
   {
    "duration": 9,
    "start_time": "2025-06-25T20:49:26.664Z"
   },
   {
    "duration": 361,
    "start_time": "2025-06-25T20:49:26.675Z"
   },
   {
    "duration": 273,
    "start_time": "2025-06-25T20:49:27.037Z"
   },
   {
    "duration": 687,
    "start_time": "2025-06-25T20:49:27.315Z"
   },
   {
    "duration": 5,
    "start_time": "2025-06-25T20:49:28.003Z"
   },
   {
    "duration": 77,
    "start_time": "2025-06-25T20:49:28.009Z"
   },
   {
    "duration": 7,
    "start_time": "2025-06-25T20:49:28.088Z"
   },
   {
    "duration": 38,
    "start_time": "2025-06-25T20:49:28.097Z"
   },
   {
    "duration": 80,
    "start_time": "2025-06-25T20:49:28.137Z"
   },
   {
    "duration": 1363,
    "start_time": "2025-06-25T21:18:28.548Z"
   },
   {
    "duration": 2321,
    "start_time": "2025-06-25T21:18:29.913Z"
   },
   {
    "duration": 598,
    "start_time": "2025-06-25T21:18:32.237Z"
   },
   {
    "duration": 41,
    "start_time": "2025-06-25T21:18:32.837Z"
   },
   {
    "duration": 11,
    "start_time": "2025-06-25T21:18:32.879Z"
   },
   {
    "duration": 285,
    "start_time": "2025-06-25T21:18:32.892Z"
   },
   {
    "duration": 455,
    "start_time": "2025-06-25T21:18:33.178Z"
   },
   {
    "duration": 355,
    "start_time": "2025-06-25T21:18:33.635Z"
   },
   {
    "duration": 9,
    "start_time": "2025-06-25T21:18:33.991Z"
   },
   {
    "duration": 357,
    "start_time": "2025-06-25T21:18:34.002Z"
   },
   {
    "duration": 17,
    "start_time": "2025-06-25T21:18:34.361Z"
   },
   {
    "duration": 296,
    "start_time": "2025-06-25T21:18:34.380Z"
   },
   {
    "duration": 14,
    "start_time": "2025-06-25T21:18:34.678Z"
   },
   {
    "duration": 178,
    "start_time": "2025-06-25T21:18:34.693Z"
   },
   {
    "duration": 116,
    "start_time": "2025-06-25T21:18:34.873Z"
   },
   {
    "duration": 7,
    "start_time": "2025-06-25T21:18:34.991Z"
   },
   {
    "duration": 4,
    "start_time": "2025-06-25T21:18:35.000Z"
   },
   {
    "duration": 328,
    "start_time": "2025-06-25T21:18:35.005Z"
   },
   {
    "duration": 8,
    "start_time": "2025-06-25T21:18:35.335Z"
   },
   {
    "duration": 20,
    "start_time": "2025-06-25T21:18:35.344Z"
   },
   {
    "duration": 138,
    "start_time": "2025-06-25T21:18:35.366Z"
   },
   {
    "duration": 137,
    "start_time": "2025-06-25T21:18:35.506Z"
   },
   {
    "duration": 9,
    "start_time": "2025-06-25T21:18:35.645Z"
   },
   {
    "duration": 359,
    "start_time": "2025-06-25T21:18:35.655Z"
   },
   {
    "duration": 291,
    "start_time": "2025-06-25T21:18:36.016Z"
   },
   {
    "duration": 876,
    "start_time": "2025-06-25T21:18:36.309Z"
   },
   {
    "duration": 5,
    "start_time": "2025-06-25T21:18:37.186Z"
   },
   {
    "duration": 59,
    "start_time": "2025-06-25T21:18:37.193Z"
   },
   {
    "duration": 21,
    "start_time": "2025-06-25T21:18:37.254Z"
   },
   {
    "duration": 37,
    "start_time": "2025-06-25T21:18:37.277Z"
   },
   {
    "duration": 72,
    "start_time": "2025-06-25T21:18:37.315Z"
   },
   {
    "duration": 13,
    "start_time": "2025-06-25T21:21:07.600Z"
   },
   {
    "duration": 15,
    "start_time": "2025-06-25T21:21:15.039Z"
   },
   {
    "duration": 903,
    "start_time": "2025-06-26T01:56:43.692Z"
   },
   {
    "duration": 103,
    "start_time": "2025-06-26T02:16:01.111Z"
   },
   {
    "duration": 89,
    "start_time": "2025-06-26T02:17:08.118Z"
   },
   {
    "duration": 9,
    "start_time": "2025-06-26T02:17:17.218Z"
   },
   {
    "duration": 1459,
    "start_time": "2025-06-26T02:17:22.374Z"
   },
   {
    "duration": 2054,
    "start_time": "2025-06-26T02:17:23.835Z"
   },
   {
    "duration": 158,
    "start_time": "2025-06-26T02:17:25.891Z"
   },
   {
    "duration": 666,
    "start_time": "2025-06-26T02:17:26.051Z"
   },
   {
    "duration": 38,
    "start_time": "2025-06-26T02:17:26.720Z"
   },
   {
    "duration": 19,
    "start_time": "2025-06-26T02:17:26.759Z"
   },
   {
    "duration": 302,
    "start_time": "2025-06-26T02:17:26.780Z"
   },
   {
    "duration": 460,
    "start_time": "2025-06-26T02:17:27.084Z"
   },
   {
    "duration": 325,
    "start_time": "2025-06-26T02:17:27.546Z"
   },
   {
    "duration": 9,
    "start_time": "2025-06-26T02:17:27.873Z"
   },
   {
    "duration": 301,
    "start_time": "2025-06-26T02:17:27.884Z"
   },
   {
    "duration": 9,
    "start_time": "2025-06-26T02:17:28.187Z"
   },
   {
    "duration": 367,
    "start_time": "2025-06-26T02:17:28.197Z"
   },
   {
    "duration": 15,
    "start_time": "2025-06-26T02:17:28.571Z"
   },
   {
    "duration": 169,
    "start_time": "2025-06-26T02:17:28.588Z"
   },
   {
    "duration": 102,
    "start_time": "2025-06-26T02:17:28.758Z"
   },
   {
    "duration": 6,
    "start_time": "2025-06-26T02:17:28.862Z"
   },
   {
    "duration": 12,
    "start_time": "2025-06-26T02:17:28.870Z"
   },
   {
    "duration": 252,
    "start_time": "2025-06-26T02:17:28.884Z"
   },
   {
    "duration": 34,
    "start_time": "2025-06-26T02:17:29.138Z"
   },
   {
    "duration": 91,
    "start_time": "2025-06-26T02:17:29.174Z"
   },
   {
    "duration": 136,
    "start_time": "2025-06-26T02:17:29.267Z"
   },
   {
    "duration": 136,
    "start_time": "2025-06-26T02:17:29.404Z"
   },
   {
    "duration": 9,
    "start_time": "2025-06-26T02:17:29.541Z"
   },
   {
    "duration": 362,
    "start_time": "2025-06-26T02:17:29.552Z"
   },
   {
    "duration": 288,
    "start_time": "2025-06-26T02:17:29.915Z"
   },
   {
    "duration": 585,
    "start_time": "2025-06-26T02:17:30.205Z"
   },
   {
    "duration": 4,
    "start_time": "2025-06-26T02:17:30.792Z"
   },
   {
    "duration": 64,
    "start_time": "2025-06-26T02:17:30.797Z"
   },
   {
    "duration": 12,
    "start_time": "2025-06-26T02:17:30.863Z"
   },
   {
    "duration": 47,
    "start_time": "2025-06-26T02:17:30.877Z"
   },
   {
    "duration": 73,
    "start_time": "2025-06-26T02:17:30.926Z"
   },
   {
    "duration": 71,
    "start_time": "2025-06-26T02:17:46.629Z"
   },
   {
    "duration": 119,
    "start_time": "2025-06-26T02:17:53.848Z"
   },
   {
    "duration": 4,
    "start_time": "2025-06-26T02:18:02.232Z"
   },
   {
    "duration": 1785,
    "start_time": "2025-06-26T02:18:02.734Z"
   },
   {
    "duration": 139,
    "start_time": "2025-06-26T02:18:04.521Z"
   },
   {
    "duration": 104,
    "start_time": "2025-06-26T02:18:41.323Z"
   },
   {
    "duration": 104,
    "start_time": "2025-06-26T02:20:05.143Z"
   },
   {
    "duration": 127,
    "start_time": "2025-06-26T02:20:10.695Z"
   },
   {
    "duration": 655,
    "start_time": "2025-06-26T02:20:32.200Z"
   },
   {
    "duration": 125,
    "start_time": "2025-06-26T02:22:31.129Z"
   },
   {
    "duration": 13,
    "start_time": "2025-06-26T02:24:02.145Z"
   },
   {
    "duration": 298,
    "start_time": "2025-06-26T02:24:06.686Z"
   },
   {
    "duration": 148,
    "start_time": "2025-06-26T02:25:36.808Z"
   },
   {
    "duration": 155,
    "start_time": "2025-06-26T02:25:51.408Z"
   },
   {
    "duration": 9,
    "start_time": "2025-06-26T02:26:03.627Z"
   },
   {
    "duration": 146,
    "start_time": "2025-06-26T02:26:04.419Z"
   },
   {
    "duration": 147,
    "start_time": "2025-06-26T02:26:11.522Z"
   },
   {
    "duration": 317,
    "start_time": "2025-06-26T02:26:29.179Z"
   },
   {
    "duration": 339,
    "start_time": "2025-06-26T02:26:51.598Z"
   },
   {
    "duration": 303,
    "start_time": "2025-06-26T02:27:04.943Z"
   },
   {
    "duration": 336,
    "start_time": "2025-06-26T02:27:12.425Z"
   },
   {
    "duration": 411,
    "start_time": "2025-06-26T02:27:17.745Z"
   },
   {
    "duration": 333,
    "start_time": "2025-06-26T02:29:53.815Z"
   },
   {
    "duration": 333,
    "start_time": "2025-06-26T02:30:49.145Z"
   },
   {
    "duration": 315,
    "start_time": "2025-06-26T02:30:56.839Z"
   },
   {
    "duration": 330,
    "start_time": "2025-06-26T02:31:00.146Z"
   },
   {
    "duration": 192,
    "start_time": "2025-06-26T02:31:15.049Z"
   },
   {
    "duration": 361,
    "start_time": "2025-06-26T02:31:17.891Z"
   },
   {
    "duration": 443,
    "start_time": "2025-06-26T02:31:45.105Z"
   },
   {
    "duration": 1258,
    "start_time": "2025-06-26T02:32:01.172Z"
   },
   {
    "duration": 1847,
    "start_time": "2025-06-26T02:32:02.432Z"
   },
   {
    "duration": 150,
    "start_time": "2025-06-26T02:32:04.280Z"
   },
   {
    "duration": 600,
    "start_time": "2025-06-26T02:32:04.432Z"
   },
   {
    "duration": 754,
    "start_time": "2025-06-26T02:32:05.034Z"
   },
   {
    "duration": 38,
    "start_time": "2025-06-26T02:32:05.789Z"
   },
   {
    "duration": 11,
    "start_time": "2025-06-26T02:32:05.829Z"
   },
   {
    "duration": 306,
    "start_time": "2025-06-26T02:32:05.842Z"
   },
   {
    "duration": 449,
    "start_time": "2025-06-26T02:32:06.150Z"
   },
   {
    "duration": 351,
    "start_time": "2025-06-26T02:32:06.602Z"
   },
   {
    "duration": 17,
    "start_time": "2025-06-26T02:32:06.955Z"
   },
   {
    "duration": 454,
    "start_time": "2025-06-26T02:32:06.973Z"
   },
   {
    "duration": 8,
    "start_time": "2025-06-26T02:32:07.429Z"
   },
   {
    "duration": 324,
    "start_time": "2025-06-26T02:32:07.439Z"
   },
   {
    "duration": 19,
    "start_time": "2025-06-26T02:32:07.765Z"
   },
   {
    "duration": 180,
    "start_time": "2025-06-26T02:32:07.786Z"
   },
   {
    "duration": 95,
    "start_time": "2025-06-26T02:32:07.971Z"
   },
   {
    "duration": 7,
    "start_time": "2025-06-26T02:32:08.068Z"
   },
   {
    "duration": 7,
    "start_time": "2025-06-26T02:32:08.077Z"
   },
   {
    "duration": 324,
    "start_time": "2025-06-26T02:32:08.086Z"
   },
   {
    "duration": 8,
    "start_time": "2025-06-26T02:32:08.411Z"
   },
   {
    "duration": 8,
    "start_time": "2025-06-26T02:32:08.421Z"
   },
   {
    "duration": 159,
    "start_time": "2025-06-26T02:32:08.430Z"
   },
   {
    "duration": 230,
    "start_time": "2025-06-26T02:32:08.591Z"
   },
   {
    "duration": 8,
    "start_time": "2025-06-26T02:32:08.823Z"
   },
   {
    "duration": 277,
    "start_time": "2025-06-26T02:32:08.833Z"
   },
   {
    "duration": 295,
    "start_time": "2025-06-26T02:32:09.111Z"
   },
   {
    "duration": 508,
    "start_time": "2025-06-26T02:32:09.409Z"
   },
   {
    "duration": 4,
    "start_time": "2025-06-26T02:32:09.919Z"
   },
   {
    "duration": 72,
    "start_time": "2025-06-26T02:32:09.925Z"
   },
   {
    "duration": 8,
    "start_time": "2025-06-26T02:32:09.998Z"
   },
   {
    "duration": 48,
    "start_time": "2025-06-26T02:32:10.007Z"
   },
   {
    "duration": 61,
    "start_time": "2025-06-26T02:32:10.057Z"
   },
   {
    "duration": 337,
    "start_time": "2025-06-26T02:33:00.745Z"
   },
   {
    "duration": 464,
    "start_time": "2025-06-26T02:33:05.245Z"
   },
   {
    "duration": 292,
    "start_time": "2025-06-26T02:33:20.716Z"
   },
   {
    "duration": 437,
    "start_time": "2025-06-26T02:33:24.115Z"
   },
   {
    "duration": 497,
    "start_time": "2025-06-26T02:33:27.710Z"
   },
   {
    "duration": 479,
    "start_time": "2025-06-26T02:33:32.744Z"
   },
   {
    "duration": 444,
    "start_time": "2025-06-26T02:33:36.296Z"
   },
   {
    "duration": 91,
    "start_time": "2025-06-26T02:34:06.226Z"
   },
   {
    "duration": 98,
    "start_time": "2025-06-26T02:34:29.485Z"
   },
   {
    "duration": 1253,
    "start_time": "2025-06-26T02:35:51.278Z"
   },
   {
    "duration": 1917,
    "start_time": "2025-06-26T02:35:52.533Z"
   },
   {
    "duration": 157,
    "start_time": "2025-06-26T02:35:54.452Z"
   },
   {
    "duration": 587,
    "start_time": "2025-06-26T02:35:54.612Z"
   },
   {
    "duration": 693,
    "start_time": "2025-06-26T02:35:55.200Z"
   },
   {
    "duration": 38,
    "start_time": "2025-06-26T02:35:55.895Z"
   },
   {
    "duration": 10,
    "start_time": "2025-06-26T02:35:55.935Z"
   },
   {
    "duration": 296,
    "start_time": "2025-06-26T02:35:55.970Z"
   },
   {
    "duration": 424,
    "start_time": "2025-06-26T02:35:56.270Z"
   },
   {
    "duration": 334,
    "start_time": "2025-06-26T02:35:56.696Z"
   },
   {
    "duration": 9,
    "start_time": "2025-06-26T02:35:57.032Z"
   },
   {
    "duration": 479,
    "start_time": "2025-06-26T02:35:57.042Z"
   },
   {
    "duration": 109,
    "start_time": "2025-06-26T02:35:57.523Z"
   },
   {
    "duration": 0,
    "start_time": "2025-06-26T02:35:57.634Z"
   },
   {
    "duration": 0,
    "start_time": "2025-06-26T02:35:57.635Z"
   },
   {
    "duration": 0,
    "start_time": "2025-06-26T02:35:57.636Z"
   },
   {
    "duration": 0,
    "start_time": "2025-06-26T02:35:57.637Z"
   },
   {
    "duration": 0,
    "start_time": "2025-06-26T02:35:57.638Z"
   },
   {
    "duration": 0,
    "start_time": "2025-06-26T02:35:57.640Z"
   },
   {
    "duration": 0,
    "start_time": "2025-06-26T02:35:57.641Z"
   },
   {
    "duration": 0,
    "start_time": "2025-06-26T02:35:57.642Z"
   },
   {
    "duration": 0,
    "start_time": "2025-06-26T02:35:57.643Z"
   },
   {
    "duration": 0,
    "start_time": "2025-06-26T02:35:57.644Z"
   },
   {
    "duration": 0,
    "start_time": "2025-06-26T02:35:57.645Z"
   },
   {
    "duration": 0,
    "start_time": "2025-06-26T02:35:57.646Z"
   },
   {
    "duration": 0,
    "start_time": "2025-06-26T02:35:57.647Z"
   },
   {
    "duration": 0,
    "start_time": "2025-06-26T02:35:57.649Z"
   },
   {
    "duration": 0,
    "start_time": "2025-06-26T02:35:57.649Z"
   },
   {
    "duration": 0,
    "start_time": "2025-06-26T02:35:57.672Z"
   },
   {
    "duration": 0,
    "start_time": "2025-06-26T02:35:57.673Z"
   },
   {
    "duration": 0,
    "start_time": "2025-06-26T02:35:57.674Z"
   },
   {
    "duration": 0,
    "start_time": "2025-06-26T02:35:57.675Z"
   },
   {
    "duration": 0,
    "start_time": "2025-06-26T02:35:57.676Z"
   },
   {
    "duration": 11,
    "start_time": "2025-06-26T02:36:13.104Z"
   },
   {
    "duration": 337,
    "start_time": "2025-06-26T02:36:21.500Z"
   },
   {
    "duration": 88,
    "start_time": "2025-06-26T02:36:43.526Z"
   },
   {
    "duration": 24,
    "start_time": "2025-06-26T02:37:38.055Z"
   },
   {
    "duration": 23,
    "start_time": "2025-06-26T02:37:56.171Z"
   },
   {
    "duration": 425,
    "start_time": "2025-06-26T02:38:03.979Z"
   },
   {
    "duration": 303,
    "start_time": "2025-06-26T02:38:47.859Z"
   },
   {
    "duration": 5,
    "start_time": "2025-06-26T02:40:05.622Z"
   },
   {
    "duration": 453,
    "start_time": "2025-06-26T02:40:24.710Z"
   },
   {
    "duration": 7,
    "start_time": "2025-06-26T02:40:47.383Z"
   },
   {
    "duration": 101,
    "start_time": "2025-06-26T02:41:06.216Z"
   },
   {
    "duration": 14,
    "start_time": "2025-06-26T02:41:32.797Z"
   },
   {
    "duration": 125,
    "start_time": "2025-06-26T02:41:56.703Z"
   },
   {
    "duration": 146,
    "start_time": "2025-06-26T02:42:14.276Z"
   },
   {
    "duration": 1220,
    "start_time": "2025-06-26T02:43:01.008Z"
   },
   {
    "duration": 2259,
    "start_time": "2025-06-26T02:43:02.231Z"
   },
   {
    "duration": 150,
    "start_time": "2025-06-26T02:43:04.492Z"
   },
   {
    "duration": 633,
    "start_time": "2025-06-26T02:43:04.643Z"
   },
   {
    "duration": 739,
    "start_time": "2025-06-26T02:43:05.277Z"
   },
   {
    "duration": 39,
    "start_time": "2025-06-26T02:43:06.018Z"
   },
   {
    "duration": 11,
    "start_time": "2025-06-26T02:43:06.071Z"
   },
   {
    "duration": 322,
    "start_time": "2025-06-26T02:43:06.084Z"
   },
   {
    "duration": 456,
    "start_time": "2025-06-26T02:43:06.408Z"
   },
   {
    "duration": 312,
    "start_time": "2025-06-26T02:43:06.870Z"
   },
   {
    "duration": 10,
    "start_time": "2025-06-26T02:43:07.184Z"
   },
   {
    "duration": 517,
    "start_time": "2025-06-26T02:43:07.196Z"
   },
   {
    "duration": 12,
    "start_time": "2025-06-26T02:43:07.715Z"
   },
   {
    "duration": 7,
    "start_time": "2025-06-26T02:43:07.729Z"
   },
   {
    "duration": 421,
    "start_time": "2025-06-26T02:43:07.738Z"
   },
   {
    "duration": 17,
    "start_time": "2025-06-26T02:43:08.160Z"
   },
   {
    "duration": 16,
    "start_time": "2025-06-26T02:43:08.179Z"
   },
   {
    "duration": 202,
    "start_time": "2025-06-26T02:43:08.197Z"
   },
   {
    "duration": 66,
    "start_time": "2025-06-26T02:43:08.401Z"
   },
   {
    "duration": 9,
    "start_time": "2025-06-26T02:43:08.469Z"
   },
   {
    "duration": 7,
    "start_time": "2025-06-26T02:43:08.480Z"
   },
   {
    "duration": 296,
    "start_time": "2025-06-26T02:43:08.489Z"
   },
   {
    "duration": 8,
    "start_time": "2025-06-26T02:43:08.787Z"
   },
   {
    "duration": 50,
    "start_time": "2025-06-26T02:43:08.797Z"
   },
   {
    "duration": 130,
    "start_time": "2025-06-26T02:43:08.849Z"
   },
   {
    "duration": 217,
    "start_time": "2025-06-26T02:43:08.981Z"
   },
   {
    "duration": 9,
    "start_time": "2025-06-26T02:43:09.200Z"
   },
   {
    "duration": 367,
    "start_time": "2025-06-26T02:43:09.212Z"
   },
   {
    "duration": 250,
    "start_time": "2025-06-26T02:43:09.581Z"
   },
   {
    "duration": 537,
    "start_time": "2025-06-26T02:43:09.833Z"
   },
   {
    "duration": 4,
    "start_time": "2025-06-26T02:43:10.372Z"
   },
   {
    "duration": 95,
    "start_time": "2025-06-26T02:43:10.378Z"
   },
   {
    "duration": 9,
    "start_time": "2025-06-26T02:43:10.474Z"
   },
   {
    "duration": 43,
    "start_time": "2025-06-26T02:43:10.484Z"
   },
   {
    "duration": 85,
    "start_time": "2025-06-26T02:43:10.528Z"
   },
   {
    "duration": 290,
    "start_time": "2025-06-26T02:44:18.841Z"
   },
   {
    "duration": 281,
    "start_time": "2025-06-26T02:44:25.659Z"
   },
   {
    "duration": 322,
    "start_time": "2025-06-26T02:44:28.507Z"
   },
   {
    "duration": 316,
    "start_time": "2025-06-26T02:44:39.113Z"
   },
   {
    "duration": 316,
    "start_time": "2025-06-26T02:44:46.482Z"
   },
   {
    "duration": 11,
    "start_time": "2025-06-26T02:52:05.132Z"
   },
   {
    "duration": 130,
    "start_time": "2025-06-26T02:52:05.933Z"
   },
   {
    "duration": 134,
    "start_time": "2025-06-26T02:52:07.526Z"
   },
   {
    "duration": 1493,
    "start_time": "2025-06-26T02:52:57.981Z"
   },
   {
    "duration": 0,
    "start_time": "2025-06-26T02:52:59.476Z"
   },
   {
    "duration": 260,
    "start_time": "2025-06-26T02:53:01.865Z"
   },
   {
    "duration": 11,
    "start_time": "2025-06-26T02:53:36.965Z"
   },
   {
    "duration": 220,
    "start_time": "2025-06-26T02:53:37.617Z"
   },
   {
    "duration": 135,
    "start_time": "2025-06-26T02:53:38.581Z"
   },
   {
    "duration": 15,
    "start_time": "2025-06-26T02:55:28.396Z"
   },
   {
    "duration": 273,
    "start_time": "2025-06-26T02:55:29.249Z"
   },
   {
    "duration": 273,
    "start_time": "2025-06-26T02:55:30.241Z"
   },
   {
    "duration": 280,
    "start_time": "2025-06-26T02:55:47.237Z"
   },
   {
    "duration": 80,
    "start_time": "2025-06-26T02:56:12.642Z"
   },
   {
    "duration": 69,
    "start_time": "2025-06-26T02:57:06.441Z"
   },
   {
    "duration": 1199,
    "start_time": "2025-06-26T03:01:43.717Z"
   },
   {
    "duration": 2266,
    "start_time": "2025-06-26T03:01:44.918Z"
   },
   {
    "duration": 159,
    "start_time": "2025-06-26T03:01:47.187Z"
   },
   {
    "duration": 586,
    "start_time": "2025-06-26T03:01:47.348Z"
   },
   {
    "duration": 685,
    "start_time": "2025-06-26T03:01:47.935Z"
   },
   {
    "duration": 59,
    "start_time": "2025-06-26T03:01:48.621Z"
   },
   {
    "duration": 12,
    "start_time": "2025-06-26T03:01:48.682Z"
   },
   {
    "duration": 305,
    "start_time": "2025-06-26T03:01:48.696Z"
   },
   {
    "duration": 438,
    "start_time": "2025-06-26T03:01:49.003Z"
   },
   {
    "duration": 338,
    "start_time": "2025-06-26T03:01:49.443Z"
   },
   {
    "duration": 9,
    "start_time": "2025-06-26T03:01:49.782Z"
   },
   {
    "duration": 481,
    "start_time": "2025-06-26T03:01:49.793Z"
   },
   {
    "duration": 10,
    "start_time": "2025-06-26T03:01:50.277Z"
   },
   {
    "duration": 5,
    "start_time": "2025-06-26T03:01:50.289Z"
   },
   {
    "duration": 425,
    "start_time": "2025-06-26T03:01:50.295Z"
   },
   {
    "duration": 9,
    "start_time": "2025-06-26T03:01:50.722Z"
   },
   {
    "duration": 16,
    "start_time": "2025-06-26T03:01:50.733Z"
   },
   {
    "duration": 179,
    "start_time": "2025-06-26T03:01:50.771Z"
   },
   {
    "duration": 93,
    "start_time": "2025-06-26T03:01:50.952Z"
   },
   {
    "duration": 7,
    "start_time": "2025-06-26T03:01:51.047Z"
   },
   {
    "duration": 17,
    "start_time": "2025-06-26T03:01:51.055Z"
   },
   {
    "duration": 305,
    "start_time": "2025-06-26T03:01:51.074Z"
   },
   {
    "duration": 10,
    "start_time": "2025-06-26T03:01:51.381Z"
   },
   {
    "duration": 10,
    "start_time": "2025-06-26T03:01:51.394Z"
   },
   {
    "duration": 161,
    "start_time": "2025-06-26T03:01:51.406Z"
   },
   {
    "duration": 231,
    "start_time": "2025-06-26T03:01:51.569Z"
   },
   {
    "duration": 11,
    "start_time": "2025-06-26T03:01:51.801Z"
   },
   {
    "duration": 292,
    "start_time": "2025-06-26T03:01:51.814Z"
   },
   {
    "duration": 302,
    "start_time": "2025-06-26T03:01:52.108Z"
   },
   {
    "duration": 682,
    "start_time": "2025-06-26T03:01:52.412Z"
   },
   {
    "duration": 4,
    "start_time": "2025-06-26T03:01:53.096Z"
   },
   {
    "duration": 73,
    "start_time": "2025-06-26T03:01:53.101Z"
   },
   {
    "duration": 8,
    "start_time": "2025-06-26T03:01:53.176Z"
   },
   {
    "duration": 41,
    "start_time": "2025-06-26T03:01:53.185Z"
   },
   {
    "duration": 82,
    "start_time": "2025-06-26T03:01:53.228Z"
   },
   {
    "duration": 1281,
    "start_time": "2025-06-26T03:42:02.956Z"
   },
   {
    "duration": 2188,
    "start_time": "2025-06-26T03:42:04.240Z"
   },
   {
    "duration": 156,
    "start_time": "2025-06-26T03:42:06.430Z"
   },
   {
    "duration": 657,
    "start_time": "2025-06-26T03:42:06.588Z"
   },
   {
    "duration": 778,
    "start_time": "2025-06-26T03:42:07.247Z"
   },
   {
    "duration": 53,
    "start_time": "2025-06-26T03:42:08.027Z"
   },
   {
    "duration": 11,
    "start_time": "2025-06-26T03:42:08.082Z"
   },
   {
    "duration": 312,
    "start_time": "2025-06-26T03:42:08.095Z"
   },
   {
    "duration": 489,
    "start_time": "2025-06-26T03:42:08.409Z"
   },
   {
    "duration": 365,
    "start_time": "2025-06-26T03:42:08.900Z"
   },
   {
    "duration": 9,
    "start_time": "2025-06-26T03:42:09.271Z"
   },
   {
    "duration": 477,
    "start_time": "2025-06-26T03:42:09.282Z"
   },
   {
    "duration": 18,
    "start_time": "2025-06-26T03:42:09.761Z"
   },
   {
    "duration": 6,
    "start_time": "2025-06-26T03:42:09.782Z"
   },
   {
    "duration": 400,
    "start_time": "2025-06-26T03:42:09.789Z"
   },
   {
    "duration": 9,
    "start_time": "2025-06-26T03:42:10.191Z"
   },
   {
    "duration": 15,
    "start_time": "2025-06-26T03:42:10.201Z"
   },
   {
    "duration": 191,
    "start_time": "2025-06-26T03:42:10.218Z"
   },
   {
    "duration": 93,
    "start_time": "2025-06-26T03:42:10.411Z"
   },
   {
    "duration": 7,
    "start_time": "2025-06-26T03:42:10.505Z"
   },
   {
    "duration": 4,
    "start_time": "2025-06-26T03:42:10.514Z"
   },
   {
    "duration": 318,
    "start_time": "2025-06-26T03:42:10.520Z"
   },
   {
    "duration": 7,
    "start_time": "2025-06-26T03:42:10.840Z"
   },
   {
    "duration": 28,
    "start_time": "2025-06-26T03:42:10.848Z"
   },
   {
    "duration": 154,
    "start_time": "2025-06-26T03:42:10.878Z"
   },
   {
    "duration": 241,
    "start_time": "2025-06-26T03:42:11.034Z"
   },
   {
    "duration": 11,
    "start_time": "2025-06-26T03:42:11.277Z"
   },
   {
    "duration": 246,
    "start_time": "2025-06-26T03:42:11.290Z"
   },
   {
    "duration": 275,
    "start_time": "2025-06-26T03:42:11.537Z"
   },
   {
    "duration": 510,
    "start_time": "2025-06-26T03:42:11.814Z"
   },
   {
    "duration": 4,
    "start_time": "2025-06-26T03:42:12.326Z"
   },
   {
    "duration": 77,
    "start_time": "2025-06-26T03:42:12.332Z"
   },
   {
    "duration": 7,
    "start_time": "2025-06-26T03:42:12.412Z"
   },
   {
    "duration": 57,
    "start_time": "2025-06-26T03:42:12.421Z"
   },
   {
    "duration": 61,
    "start_time": "2025-06-26T03:42:12.480Z"
   },
   {
    "duration": 1155,
    "start_time": "2025-06-26T10:33:32.267Z"
   },
   {
    "duration": 1999,
    "start_time": "2025-06-26T10:33:33.424Z"
   },
   {
    "duration": 144,
    "start_time": "2025-06-26T10:33:35.424Z"
   },
   {
    "duration": 530,
    "start_time": "2025-06-26T10:33:35.570Z"
   },
   {
    "duration": 594,
    "start_time": "2025-06-26T10:33:36.102Z"
   },
   {
    "duration": 34,
    "start_time": "2025-06-26T10:33:36.697Z"
   },
   {
    "duration": 91,
    "start_time": "2025-06-26T10:33:36.732Z"
   },
   {
    "duration": 256,
    "start_time": "2025-06-26T10:33:36.825Z"
   },
   {
    "duration": 388,
    "start_time": "2025-06-26T10:33:37.083Z"
   },
   {
    "duration": 299,
    "start_time": "2025-06-26T10:33:37.474Z"
   },
   {
    "duration": 7,
    "start_time": "2025-06-26T10:33:37.775Z"
   },
   {
    "duration": 461,
    "start_time": "2025-06-26T10:33:37.784Z"
   },
   {
    "duration": 17,
    "start_time": "2025-06-26T10:33:38.246Z"
   },
   {
    "duration": 5,
    "start_time": "2025-06-26T10:33:38.264Z"
   },
   {
    "duration": 429,
    "start_time": "2025-06-26T10:33:38.270Z"
   },
   {
    "duration": 7,
    "start_time": "2025-06-26T10:33:38.701Z"
   },
   {
    "duration": 106,
    "start_time": "2025-06-26T10:33:38.709Z"
   },
   {
    "duration": 128,
    "start_time": "2025-06-26T10:33:38.817Z"
   },
   {
    "duration": 251,
    "start_time": "2025-06-26T10:33:38.947Z"
   },
   {
    "duration": 6,
    "start_time": "2025-06-26T10:33:39.200Z"
   },
   {
    "duration": 4,
    "start_time": "2025-06-26T10:33:39.208Z"
   },
   {
    "duration": 290,
    "start_time": "2025-06-26T10:33:39.213Z"
   },
   {
    "duration": 7,
    "start_time": "2025-06-26T10:33:39.505Z"
   },
   {
    "duration": 101,
    "start_time": "2025-06-26T10:33:39.514Z"
   },
   {
    "duration": 110,
    "start_time": "2025-06-26T10:33:39.617Z"
   },
   {
    "duration": 197,
    "start_time": "2025-06-26T10:33:39.729Z"
   },
   {
    "duration": 10,
    "start_time": "2025-06-26T10:33:39.928Z"
   },
   {
    "duration": 270,
    "start_time": "2025-06-26T10:33:39.941Z"
   },
   {
    "duration": 276,
    "start_time": "2025-06-26T10:33:40.213Z"
   },
   {
    "duration": 1441,
    "start_time": "2025-06-26T10:33:40.491Z"
   },
   {
    "duration": 4,
    "start_time": "2025-06-26T10:33:41.934Z"
   },
   {
    "duration": 60,
    "start_time": "2025-06-26T10:33:41.940Z"
   },
   {
    "duration": 7,
    "start_time": "2025-06-26T10:33:42.002Z"
   },
   {
    "duration": 36,
    "start_time": "2025-06-26T10:33:42.011Z"
   },
   {
    "duration": 53,
    "start_time": "2025-06-26T10:33:42.061Z"
   }
  ],
  "colab": {
   "provenance": []
  },
  "kernelspec": {
   "display_name": "Python 3 (ipykernel)",
   "language": "python",
   "name": "python3"
  },
  "language_info": {
   "codemirror_mode": {
    "name": "ipython",
    "version": 3
   },
   "file_extension": ".py",
   "mimetype": "text/x-python",
   "name": "python",
   "nbconvert_exporter": "python",
   "pygments_lexer": "ipython3",
   "version": "3.9.7"
  },
  "toc": {
   "base_numbering": 1,
   "nav_menu": {},
   "number_sections": true,
   "sideBar": true,
   "skip_h1_title": true,
   "title_cell": "Table of Contents",
   "title_sidebar": "Contents",
   "toc_cell": false,
   "toc_position": {},
   "toc_section_display": true,
   "toc_window_display": false
  }
 },
 "nbformat": 4,
 "nbformat_minor": 1
}
