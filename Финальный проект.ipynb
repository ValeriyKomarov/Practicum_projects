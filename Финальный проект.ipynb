{
 "cells": [
  {
   "cell_type": "markdown",
   "metadata": {},
   "source": [
    "<div style=\"border:solid green 2px; padding: 20px\">\n",
    "    \n",
    "<b>Валерий, привет!</b> Мы рады тебя видеть на территории код-ревьюеров 😎. Ты проделал большую работу над проектом, но давай познакомимся и сделаем его еще лучше! У нас тут своя атмосфера и несколько правил:\n",
    "\n",
    "\n",
    "1. Меня зовут Александр Матвеевский. Я работаю код-ревьюером, моя основная цель — не указать на совершенные тобою ошибки, а поделиться своим опытом и помочь тебе стать дата-специалистом.\n",
    "2. Общаемся на ты.\n",
    "3. Если хочешь написать, спросить - не нужно стесняться. Только выбери свой цвет для комментария.  \n",
    "4. Это учебный проект, тут можно не бояться сделать ошибку.  \n",
    "5. У нас с тобой 6 попыток для сдачи проекта.  \n",
    "6. Let's Go!\n",
    "\n",
    "---\n",
    "\n",
    "Я буду красить комментарии цветом, пожалуйста, не удаляй их:\n",
    "\n",
    "<div class=\"alert alert-block alert-danger\">✍\n",
    "    \n",
    "\n",
    "__Комментарий от ревьюера №1__\n",
    "\n",
    "Такой комментарий нужно исправить обязательно, он критически влияет на удачное выполнение проекта.\n",
    "</div>\n",
    "    \n",
    "---\n",
    "\n",
    "<div class=\"alert alert-block alert-warning\">📝\n",
    "    \n",
    "\n",
    "__Комментарий от ревьюера №1__\n",
    "\n",
    "\n",
    "Такой комментарий является рекомендацией или советом. Можешь использовать их на своё усмотрение.\n",
    "</div>\n",
    "\n",
    "---\n",
    "\n",
    "<div class=\"alert alert-block alert-success\">✔️\n",
    "    \n",
    "\n",
    "__Комментарий от ревьюера №1__\n",
    "\n",
    "Такой комментарий  говорит о том, что было сделано что-то качественное и правильное =)\n",
    "</div>\n",
    "    \n",
    "---\n",
    "    \n",
    "Предлагаю работать над проектом в диалоге: если ты что-то меняешь в проекте или отвечаешь на мои комментарии — пиши об этом. Мне будет легче отследить изменения, если ты выделишь свои комментарии:   \n",
    "    \n",
    "<div class=\"alert alert-info\"> <b>Комментарии студента:</b> Например, вот так.</div>\n",
    "    \n",
    "Всё это поможет выполнить повторную проверку твоего проекта оперативнее. Если будут какие-нибудь вопросы по моим комментариям, пиши, будем разбираться вместе :)    \n",
    "    \n",
    "---"
   ]
  },
  {
   "cell_type": "markdown",
   "metadata": {
    "id": "LMuaGIE3lGcr"
   },
   "source": [
    "# Исследовательский анализ данных в Python и проверка гипотез сервиса Яндекс Афиша"
   ]
  },
  {
   "cell_type": "markdown",
   "metadata": {},
   "source": [
    "- Автор: Комаров Валерий\n",
    "- Дата: 25.07"
   ]
  },
  {
   "cell_type": "markdown",
   "metadata": {},
   "source": [
    "## Цели и задачи проекта"
   ]
  },
  {
   "cell_type": "markdown",
   "metadata": {},
   "source": [
    "Цель проекта заключается в проведении исследовательского анализа данных в Python, чтобы выявить инсайты об изменении пользовательских предпочтений и популярности событий осенью 2024 года, а также проверить гипотезы о разнице в поведении пользователей с мобильными и стационарными устройствами"
   ]
  },
  {
   "cell_type": "markdown",
   "metadata": {},
   "source": [
    "#### Задачи:\n",
    "- 1. Загрузка данных из датасетов и знакомство с ними. Необходимо оценить объём данных, их корректность и соответствие описанию.\n",
    "- 2. Предобработка данных и подготовка их к исследованию.\n",
    "    - Проверить данные на пропуски.\n",
    "    - Изучить значения в ключевых столбцах и при обнаружении ошибок обработать их.\n",
    "    - Проверить явные и неявные дубликаты.\n",
    "    - Провести преобразования типов данных.\n",
    "    - Создать несколько новых столбцов: `revenue_rub`, `one_ticket_revenue_rub`, `month` и `season`.\n",
    "- 3. Провести исследовательский анализ данных.\n",
    "    - Изучить изменение пользовательской активности или пользовательского интереса в связи с сезонностью.\n",
    "        - Для каждого месяца найти количество заказов и визуализировать результаты.\n",
    "        - Для осеннего и летнего периодов сравнить распределение заказов билетов по разным категориям: тип мероприятия, тип устройства, категория мероприятия по возрастному рейтингу.\n",
    "        - Изучить изменение выручки с продажи одного билета в зависимости от типа мероприятия летом и осенью.\n",
    "        - Сделать промежуточный вывод.\n",
    "    - Изучить активность пользователей осенью 2024 года.\n",
    "        - Проанализировать динамику изменений по дням для: общего числа заказов; количества активных пользователей DAU; среднего числа заказов на одного пользователя; средней стоимости одного билета.\n",
    "        - Изучить недельную цикличность.\n",
    "        - Сделать промежуточный вывод.\n",
    "    - Посмотреть, как события распределены по регионам и партнёрам.\n",
    "        - Для каждого региона посчитать уникальное количество мероприятий и общее число заказов.\n",
    "        - Для каждого билетного партнёра посчитайте общее число уникальных мероприятий, обработанных заказов и суммарную выручку с заказов билетов.\n",
    "        - Сделать промежуточный вывод.\n",
    "- 4. Статистический анализ данных.\n",
    "    - Проверить две гипотезы, которые предполагают большую активность пользователей мобильных устройств:\n",
    "        - Среднее количество заказов на одного пользователя мобильного приложения выше по сравнению с пользователями стационарных устройств.\n",
    "        - Среднее время между заказами пользователей мобильных приложений выше по сравнению с пользователями стационарных устройств.\n",
    "- 5. Сформулировать вывод и предложить рекомендации."
   ]
  },
  {
   "cell_type": "markdown",
   "metadata": {},
   "source": [
    "## Описание данных"
   ]
  },
  {
   "cell_type": "markdown",
   "metadata": {},
   "source": [
    "Датасет `final_tickets_orders_df.csv` включает информацию обо всех заказах билетов, совершённых с двух типов устройств — мобильных и стационарных.\n",
    "\n",
    "- `order_id` — уникальный идентификатор заказа.\n",
    "- `user_id` — уникальный идентификатор пользователя.\n",
    "- `created_dt_msk` — дата создания заказа (московское время).\n",
    "- `created_ts_msk` — дата и время создания заказа (московское время).\n",
    "- `event_id` — идентификатор мероприятия из таблицы `events`.\n",
    "- `cinema_circuit` — сеть кинотеатров. Если не применимо, то здесь будет значение `нет`.\n",
    "- `age_limit` — возрастное ограничение мероприятия.\n",
    "- `currency_code` — валюта оплаты, например `rub` для российских рублей.\n",
    "- `device_type_canonical` — тип устройства, с которого был оформлен заказ, например `mobile` для мобильных устройств, `desktop` для стационарных;\n",
    "- `revenue` — выручка от заказа.\n",
    "- `service_name` — название билетного оператора.\n",
    "- `tickets_count` — количество купленных билетов.\n",
    "- `total` — общая сумма заказа.\n",
    "- `days_since_prev` - количество дней с предыдущей покупки для каждого пользователя. Если покупки не было, то данные содержат пропуск.\n",
    "\n",
    "Датасет `final_tickets_events_df.csv` содержит информацию о событиях, включая город и регион события, а также информацию о площадке проведения мероприятия.\n",
    "\n",
    "- `event_id` — уникальный идентификатор мероприятия.\n",
    "- `event_name` — название мероприятия.\n",
    "- `event_type_description` — описание типа мероприятия.\n",
    "- `event_type_main` — основной тип мероприятия: театральная постановка, концерт и так далее.\n",
    "- `organizers` — организаторы мероприятия.\n",
    "- `region_name` — название региона.\n",
    "- `city_name` — название города.\n",
    "- `city_id` — уникальный идентификатор города.\n",
    "- `venue_id` — уникальный идентификатор площадки.\n",
    "- `venue_name` — название площадки.\n",
    "- `venue_address` — адрес площадки.\n",
    "\n",
    "Датасет `final_tickets_tenge_df.csv` содержит информацию о курсе тенге к российскому рублю за 2024 год. Значения в рублях представлено для 100 тенге.\n",
    "\n",
    "- `nominal` — номинал (100 тенге);\n",
    "- `data` — дата;\n",
    "- `curs` — курс тенге к рублю;\n",
    "- `cdx` — обозначение валюты (kzt)."
   ]
  },
  {
   "cell_type": "markdown",
   "metadata": {},
   "source": [
    "## Содержимое проекта\n",
    "\n",
    "- Загрузка данных из датасетов `final_tickets_orders_df.csv`, `final_tickets_events_df.csv`, `final_tickets_tenge_df.csv` и знакомство с ними.\n",
    "- Предобработка данных и подготовка их к исследованию.\n",
    "- Исследовательский анализ данных.\n",
    "- Статистический анализ данных.\n",
    "- Общий вывод и рекомендации"
   ]
  },
  {
   "cell_type": "markdown",
   "metadata": {},
   "source": [
    "<div class=\"alert alert-block alert-success\">✔️\n",
    "    \n",
    "\n",
    "__Комментарий от ревьюера №1__\n",
    " \n",
    "Хорошее вступление!\n",
    "    \n",
    "\n",
    "    "
   ]
  },
  {
   "cell_type": "markdown",
   "metadata": {},
   "source": [
    "## Загрузка данных и знакомство с ними"
   ]
  },
  {
   "cell_type": "code",
   "execution_count": 1,
   "metadata": {},
   "outputs": [],
   "source": [
    "import pandas as pd\n",
    "import numpy as np\n",
    "import matplotlib.pyplot as plt\n",
    "import seaborn as sns\n",
    "import scipy.stats as stats\n",
    "from scipy.stats import mannwhitneyu"
   ]
  },
  {
   "cell_type": "code",
   "execution_count": 2,
   "metadata": {},
   "outputs": [
    {
     "data": {
      "text/html": [
       "<div>\n",
       "<style scoped>\n",
       "    .dataframe tbody tr th:only-of-type {\n",
       "        vertical-align: middle;\n",
       "    }\n",
       "\n",
       "    .dataframe tbody tr th {\n",
       "        vertical-align: top;\n",
       "    }\n",
       "\n",
       "    .dataframe thead th {\n",
       "        text-align: right;\n",
       "    }\n",
       "</style>\n",
       "<table border=\"1\" class=\"dataframe\">\n",
       "  <thead>\n",
       "    <tr style=\"text-align: right;\">\n",
       "      <th></th>\n",
       "      <th>order_id</th>\n",
       "      <th>user_id</th>\n",
       "      <th>created_dt_msk</th>\n",
       "      <th>created_ts_msk</th>\n",
       "      <th>event_id</th>\n",
       "      <th>cinema_circuit</th>\n",
       "      <th>age_limit</th>\n",
       "      <th>currency_code</th>\n",
       "      <th>device_type_canonical</th>\n",
       "      <th>revenue</th>\n",
       "      <th>service_name</th>\n",
       "      <th>tickets_count</th>\n",
       "      <th>total</th>\n",
       "      <th>days_since_prev</th>\n",
       "    </tr>\n",
       "  </thead>\n",
       "  <tbody>\n",
       "    <tr>\n",
       "      <th>0</th>\n",
       "      <td>4359165</td>\n",
       "      <td>0002849b70a3ce2</td>\n",
       "      <td>2024-08-20</td>\n",
       "      <td>2024-08-20 16:08:03</td>\n",
       "      <td>169230</td>\n",
       "      <td>нет</td>\n",
       "      <td>16</td>\n",
       "      <td>rub</td>\n",
       "      <td>mobile</td>\n",
       "      <td>1521.94</td>\n",
       "      <td>Край билетов</td>\n",
       "      <td>4</td>\n",
       "      <td>10870.99</td>\n",
       "      <td>NaN</td>\n",
       "    </tr>\n",
       "    <tr>\n",
       "      <th>1</th>\n",
       "      <td>7965605</td>\n",
       "      <td>0005ca5e93f2cf4</td>\n",
       "      <td>2024-07-23</td>\n",
       "      <td>2024-07-23 18:36:24</td>\n",
       "      <td>237325</td>\n",
       "      <td>нет</td>\n",
       "      <td>0</td>\n",
       "      <td>rub</td>\n",
       "      <td>mobile</td>\n",
       "      <td>289.45</td>\n",
       "      <td>Мой билет</td>\n",
       "      <td>2</td>\n",
       "      <td>2067.51</td>\n",
       "      <td>NaN</td>\n",
       "    </tr>\n",
       "    <tr>\n",
       "      <th>2</th>\n",
       "      <td>7292370</td>\n",
       "      <td>0005ca5e93f2cf4</td>\n",
       "      <td>2024-10-06</td>\n",
       "      <td>2024-10-06 13:56:02</td>\n",
       "      <td>578454</td>\n",
       "      <td>нет</td>\n",
       "      <td>0</td>\n",
       "      <td>rub</td>\n",
       "      <td>mobile</td>\n",
       "      <td>1258.57</td>\n",
       "      <td>За билетом!</td>\n",
       "      <td>4</td>\n",
       "      <td>13984.16</td>\n",
       "      <td>75.0</td>\n",
       "    </tr>\n",
       "    <tr>\n",
       "      <th>3</th>\n",
       "      <td>1139875</td>\n",
       "      <td>000898990054619</td>\n",
       "      <td>2024-07-13</td>\n",
       "      <td>2024-07-13 19:40:48</td>\n",
       "      <td>387271</td>\n",
       "      <td>нет</td>\n",
       "      <td>0</td>\n",
       "      <td>rub</td>\n",
       "      <td>mobile</td>\n",
       "      <td>8.49</td>\n",
       "      <td>Лови билет!</td>\n",
       "      <td>2</td>\n",
       "      <td>212.28</td>\n",
       "      <td>NaN</td>\n",
       "    </tr>\n",
       "    <tr>\n",
       "      <th>4</th>\n",
       "      <td>972400</td>\n",
       "      <td>000898990054619</td>\n",
       "      <td>2024-10-04</td>\n",
       "      <td>2024-10-04 22:33:15</td>\n",
       "      <td>509453</td>\n",
       "      <td>нет</td>\n",
       "      <td>18</td>\n",
       "      <td>rub</td>\n",
       "      <td>mobile</td>\n",
       "      <td>1390.41</td>\n",
       "      <td>Билеты без проблем</td>\n",
       "      <td>3</td>\n",
       "      <td>10695.43</td>\n",
       "      <td>83.0</td>\n",
       "    </tr>\n",
       "  </tbody>\n",
       "</table>\n",
       "</div>"
      ],
      "text/plain": [
       "   order_id          user_id created_dt_msk       created_ts_msk  event_id  \\\n",
       "0   4359165  0002849b70a3ce2     2024-08-20  2024-08-20 16:08:03    169230   \n",
       "1   7965605  0005ca5e93f2cf4     2024-07-23  2024-07-23 18:36:24    237325   \n",
       "2   7292370  0005ca5e93f2cf4     2024-10-06  2024-10-06 13:56:02    578454   \n",
       "3   1139875  000898990054619     2024-07-13  2024-07-13 19:40:48    387271   \n",
       "4    972400  000898990054619     2024-10-04  2024-10-04 22:33:15    509453   \n",
       "\n",
       "  cinema_circuit  age_limit currency_code device_type_canonical  revenue  \\\n",
       "0            нет         16           rub                mobile  1521.94   \n",
       "1            нет          0           rub                mobile   289.45   \n",
       "2            нет          0           rub                mobile  1258.57   \n",
       "3            нет          0           rub                mobile     8.49   \n",
       "4            нет         18           rub                mobile  1390.41   \n",
       "\n",
       "         service_name  tickets_count     total  days_since_prev  \n",
       "0        Край билетов              4  10870.99              NaN  \n",
       "1           Мой билет              2   2067.51              NaN  \n",
       "2         За билетом!              4  13984.16             75.0  \n",
       "3         Лови билет!              2    212.28              NaN  \n",
       "4  Билеты без проблем              3  10695.43             83.0  "
      ]
     },
     "execution_count": 2,
     "metadata": {},
     "output_type": "execute_result"
    }
   ],
   "source": [
    "orders_df = pd.read_csv('https://code.s3.yandex.net/datasets/final_tickets_orders_df.csv')\n",
    "orders_df.head()"
   ]
  },
  {
   "cell_type": "code",
   "execution_count": 3,
   "metadata": {},
   "outputs": [
    {
     "name": "stdout",
     "output_type": "stream",
     "text": [
      "<class 'pandas.core.frame.DataFrame'>\n",
      "RangeIndex: 290849 entries, 0 to 290848\n",
      "Data columns (total 14 columns):\n",
      " #   Column                 Non-Null Count   Dtype  \n",
      "---  ------                 --------------   -----  \n",
      " 0   order_id               290849 non-null  int64  \n",
      " 1   user_id                290849 non-null  object \n",
      " 2   created_dt_msk         290849 non-null  object \n",
      " 3   created_ts_msk         290849 non-null  object \n",
      " 4   event_id               290849 non-null  int64  \n",
      " 5   cinema_circuit         290849 non-null  object \n",
      " 6   age_limit              290849 non-null  int64  \n",
      " 7   currency_code          290849 non-null  object \n",
      " 8   device_type_canonical  290849 non-null  object \n",
      " 9   revenue                290849 non-null  float64\n",
      " 10  service_name           290849 non-null  object \n",
      " 11  tickets_count          290849 non-null  int64  \n",
      " 12  total                  290849 non-null  float64\n",
      " 13  days_since_prev        268909 non-null  float64\n",
      "dtypes: float64(3), int64(4), object(7)\n",
      "memory usage: 31.1+ MB\n"
     ]
    }
   ],
   "source": [
    "orders_df.info()"
   ]
  },
  {
   "cell_type": "code",
   "execution_count": 4,
   "metadata": {},
   "outputs": [
    {
     "data": {
      "text/html": [
       "<div>\n",
       "<style scoped>\n",
       "    .dataframe tbody tr th:only-of-type {\n",
       "        vertical-align: middle;\n",
       "    }\n",
       "\n",
       "    .dataframe tbody tr th {\n",
       "        vertical-align: top;\n",
       "    }\n",
       "\n",
       "    .dataframe thead th {\n",
       "        text-align: right;\n",
       "    }\n",
       "</style>\n",
       "<table border=\"1\" class=\"dataframe\">\n",
       "  <thead>\n",
       "    <tr style=\"text-align: right;\">\n",
       "      <th></th>\n",
       "      <th>event_id</th>\n",
       "      <th>event_name</th>\n",
       "      <th>event_type_description</th>\n",
       "      <th>event_type_main</th>\n",
       "      <th>organizers</th>\n",
       "      <th>region_name</th>\n",
       "      <th>city_name</th>\n",
       "      <th>city_id</th>\n",
       "      <th>venue_id</th>\n",
       "      <th>venue_name</th>\n",
       "      <th>venue_address</th>\n",
       "    </tr>\n",
       "  </thead>\n",
       "  <tbody>\n",
       "    <tr>\n",
       "      <th>0</th>\n",
       "      <td>4436</td>\n",
       "      <td>e4f26fba-da77-4c61-928a-6c3e434d793f</td>\n",
       "      <td>спектакль</td>\n",
       "      <td>театр</td>\n",
       "      <td>№4893</td>\n",
       "      <td>Североярская область</td>\n",
       "      <td>Озёрск</td>\n",
       "      <td>2</td>\n",
       "      <td>1600</td>\n",
       "      <td>Кладбище искусств \"Проблема\" и партнеры</td>\n",
       "      <td>наб. Загородная, д. 785</td>\n",
       "    </tr>\n",
       "    <tr>\n",
       "      <th>1</th>\n",
       "      <td>5785</td>\n",
       "      <td>5cc08a60-fdea-4186-9bb2-bffc3603fb77</td>\n",
       "      <td>спектакль</td>\n",
       "      <td>театр</td>\n",
       "      <td>№1931</td>\n",
       "      <td>Светополянский округ</td>\n",
       "      <td>Глиноград</td>\n",
       "      <td>54</td>\n",
       "      <td>2196</td>\n",
       "      <td>Лекции по искусству \"Свет\" Групп</td>\n",
       "      <td>ул. Ягодная, д. 942</td>\n",
       "    </tr>\n",
       "    <tr>\n",
       "      <th>2</th>\n",
       "      <td>8817</td>\n",
       "      <td>8e379a89-3a10-4811-ba06-ec22ebebe989</td>\n",
       "      <td>спектакль</td>\n",
       "      <td>театр</td>\n",
       "      <td>№4896</td>\n",
       "      <td>Североярская область</td>\n",
       "      <td>Озёрск</td>\n",
       "      <td>2</td>\n",
       "      <td>4043</td>\n",
       "      <td>Кинокомитет \"Золотая\" Инк</td>\n",
       "      <td>ш. Коммуны, д. 92 стр. 6</td>\n",
       "    </tr>\n",
       "    <tr>\n",
       "      <th>3</th>\n",
       "      <td>8849</td>\n",
       "      <td>682e3129-6a32-4952-9d8a-ef7f60d4c247</td>\n",
       "      <td>спектакль</td>\n",
       "      <td>театр</td>\n",
       "      <td>№4960</td>\n",
       "      <td>Каменевский регион</td>\n",
       "      <td>Глиногорск</td>\n",
       "      <td>213</td>\n",
       "      <td>1987</td>\n",
       "      <td>Выставка ремесел \"Свет\" Лтд</td>\n",
       "      <td>пер. Набережный, д. 35</td>\n",
       "    </tr>\n",
       "    <tr>\n",
       "      <th>4</th>\n",
       "      <td>8850</td>\n",
       "      <td>d6e99176-c77f-4af0-9222-07c571f6c624</td>\n",
       "      <td>спектакль</td>\n",
       "      <td>театр</td>\n",
       "      <td>№4770</td>\n",
       "      <td>Лесодальний край</td>\n",
       "      <td>Родниковец</td>\n",
       "      <td>55</td>\n",
       "      <td>4230</td>\n",
       "      <td>Фестивальный проект \"Листья\" Групп</td>\n",
       "      <td>пер. Проезжий, д. 9</td>\n",
       "    </tr>\n",
       "  </tbody>\n",
       "</table>\n",
       "</div>"
      ],
      "text/plain": [
       "   event_id                            event_name event_type_description  \\\n",
       "0      4436  e4f26fba-da77-4c61-928a-6c3e434d793f              спектакль   \n",
       "1      5785  5cc08a60-fdea-4186-9bb2-bffc3603fb77              спектакль   \n",
       "2      8817  8e379a89-3a10-4811-ba06-ec22ebebe989              спектакль   \n",
       "3      8849  682e3129-6a32-4952-9d8a-ef7f60d4c247              спектакль   \n",
       "4      8850  d6e99176-c77f-4af0-9222-07c571f6c624              спектакль   \n",
       "\n",
       "  event_type_main organizers           region_name   city_name  city_id  \\\n",
       "0           театр      №4893  Североярская область      Озёрск        2   \n",
       "1           театр      №1931  Светополянский округ   Глиноград       54   \n",
       "2           театр      №4896  Североярская область      Озёрск        2   \n",
       "3           театр      №4960    Каменевский регион  Глиногорск      213   \n",
       "4           театр      №4770      Лесодальний край  Родниковец       55   \n",
       "\n",
       "   venue_id                               venue_name             venue_address  \n",
       "0      1600  Кладбище искусств \"Проблема\" и партнеры   наб. Загородная, д. 785  \n",
       "1      2196         Лекции по искусству \"Свет\" Групп       ул. Ягодная, д. 942  \n",
       "2      4043                Кинокомитет \"Золотая\" Инк  ш. Коммуны, д. 92 стр. 6  \n",
       "3      1987              Выставка ремесел \"Свет\" Лтд    пер. Набережный, д. 35  \n",
       "4      4230       Фестивальный проект \"Листья\" Групп       пер. Проезжий, д. 9  "
      ]
     },
     "execution_count": 4,
     "metadata": {},
     "output_type": "execute_result"
    }
   ],
   "source": [
    "events_df = pd.read_csv('https://code.s3.yandex.net/datasets/final_tickets_events_df.csv')\n",
    "events_df.head()"
   ]
  },
  {
   "cell_type": "code",
   "execution_count": 5,
   "metadata": {},
   "outputs": [
    {
     "name": "stdout",
     "output_type": "stream",
     "text": [
      "<class 'pandas.core.frame.DataFrame'>\n",
      "RangeIndex: 22427 entries, 0 to 22426\n",
      "Data columns (total 11 columns):\n",
      " #   Column                  Non-Null Count  Dtype \n",
      "---  ------                  --------------  ----- \n",
      " 0   event_id                22427 non-null  int64 \n",
      " 1   event_name              22427 non-null  object\n",
      " 2   event_type_description  22427 non-null  object\n",
      " 3   event_type_main         22427 non-null  object\n",
      " 4   organizers              22427 non-null  object\n",
      " 5   region_name             22427 non-null  object\n",
      " 6   city_name               22427 non-null  object\n",
      " 7   city_id                 22427 non-null  int64 \n",
      " 8   venue_id                22427 non-null  int64 \n",
      " 9   venue_name              22427 non-null  object\n",
      " 10  venue_address           22427 non-null  object\n",
      "dtypes: int64(3), object(8)\n",
      "memory usage: 1.9+ MB\n"
     ]
    }
   ],
   "source": [
    "events_df.info()"
   ]
  },
  {
   "cell_type": "code",
   "execution_count": 6,
   "metadata": {},
   "outputs": [
    {
     "data": {
      "text/html": [
       "<div>\n",
       "<style scoped>\n",
       "    .dataframe tbody tr th:only-of-type {\n",
       "        vertical-align: middle;\n",
       "    }\n",
       "\n",
       "    .dataframe tbody tr th {\n",
       "        vertical-align: top;\n",
       "    }\n",
       "\n",
       "    .dataframe thead th {\n",
       "        text-align: right;\n",
       "    }\n",
       "</style>\n",
       "<table border=\"1\" class=\"dataframe\">\n",
       "  <thead>\n",
       "    <tr style=\"text-align: right;\">\n",
       "      <th></th>\n",
       "      <th>data</th>\n",
       "      <th>nominal</th>\n",
       "      <th>curs</th>\n",
       "      <th>cdx</th>\n",
       "    </tr>\n",
       "  </thead>\n",
       "  <tbody>\n",
       "    <tr>\n",
       "      <th>0</th>\n",
       "      <td>2024-01-10</td>\n",
       "      <td>100</td>\n",
       "      <td>19.9391</td>\n",
       "      <td>kzt</td>\n",
       "    </tr>\n",
       "    <tr>\n",
       "      <th>1</th>\n",
       "      <td>2024-01-11</td>\n",
       "      <td>100</td>\n",
       "      <td>19.7255</td>\n",
       "      <td>kzt</td>\n",
       "    </tr>\n",
       "    <tr>\n",
       "      <th>2</th>\n",
       "      <td>2024-01-12</td>\n",
       "      <td>100</td>\n",
       "      <td>19.5839</td>\n",
       "      <td>kzt</td>\n",
       "    </tr>\n",
       "    <tr>\n",
       "      <th>3</th>\n",
       "      <td>2024-01-13</td>\n",
       "      <td>100</td>\n",
       "      <td>19.4501</td>\n",
       "      <td>kzt</td>\n",
       "    </tr>\n",
       "    <tr>\n",
       "      <th>4</th>\n",
       "      <td>2024-01-14</td>\n",
       "      <td>100</td>\n",
       "      <td>19.4501</td>\n",
       "      <td>kzt</td>\n",
       "    </tr>\n",
       "  </tbody>\n",
       "</table>\n",
       "</div>"
      ],
      "text/plain": [
       "         data  nominal     curs  cdx\n",
       "0  2024-01-10      100  19.9391  kzt\n",
       "1  2024-01-11      100  19.7255  kzt\n",
       "2  2024-01-12      100  19.5839  kzt\n",
       "3  2024-01-13      100  19.4501  kzt\n",
       "4  2024-01-14      100  19.4501  kzt"
      ]
     },
     "execution_count": 6,
     "metadata": {},
     "output_type": "execute_result"
    }
   ],
   "source": [
    "tenge_df = pd.read_csv('https://code.s3.yandex.net/datasets/final_tickets_tenge_df.csv')\n",
    "tenge_df.head()"
   ]
  },
  {
   "cell_type": "code",
   "execution_count": 7,
   "metadata": {},
   "outputs": [
    {
     "name": "stdout",
     "output_type": "stream",
     "text": [
      "<class 'pandas.core.frame.DataFrame'>\n",
      "RangeIndex: 357 entries, 0 to 356\n",
      "Data columns (total 4 columns):\n",
      " #   Column   Non-Null Count  Dtype  \n",
      "---  ------   --------------  -----  \n",
      " 0   data     357 non-null    object \n",
      " 1   nominal  357 non-null    int64  \n",
      " 2   curs     357 non-null    float64\n",
      " 3   cdx      357 non-null    object \n",
      "dtypes: float64(1), int64(1), object(2)\n",
      "memory usage: 11.3+ KB\n"
     ]
    }
   ],
   "source": [
    "tenge_df.info()"
   ]
  },
  {
   "cell_type": "markdown",
   "metadata": {},
   "source": [
    "### Промежуточный вывод\n",
    "\n",
    "Датасет `final_tickets_orders_df.csv` содержит 14 столбцов и 290849 строк, в которых представлена информация обо всех заказах билетов, совершённых с двух типов устройств — мобильных и стационарных. После первичного анализа можно сделать следующие выводы:\n",
    "\n",
    "- Значения в столбцах `user_id`, `created_dt_msk`, `created_ts_msk`, `cinema_circuit`, `currency_code`, `device_type_canonical` и `service_name` хранятся в типе данных object и представляют из себя текстовые данные или текстовые данные с датами — поля `created_dt_msk` и `created_ts_msk`.\n",
    "- Значения в столбцах `order_id`, `event_id`, `age_limit`, `revenue`, `tickets_count`, `total` и `days_since_prev` хранятся в типах данных int64 и float64 и представляют из себя целые числа или числа с плавающей точкой.\n",
    "\n",
    "Датасет `final_tickets_events_df.csv` содержит 11 столбцов и 22427 строк, в которых представлена информация о событиях, включая город и регион события, а также информация о площадке проведения мероприятия. После первичного анализа можно сделать следующие выводы:\n",
    "\n",
    "- Значения в столбцах `event_name`, `event_type_description`, `event_type_main`, `organizers`, `region_name`, `city_name`, `venue_name` и `venue_address` хранятся в типе данных object и представляют из себя текстовые данные.\n",
    "- Значения в столбцах `event_id`, `city_id`, `venue_id` хранятся в типах данных int64 и представляют из себя целые числа.\n",
    "\n",
    "Датасет `final_tickets_tenge_df.csv` содержит 4 столбца и 357 строк, в которых представлена информация о курсе тенге к российскому рублю за 2024 год. Значения в рублях представлено для 100 тенге. После первичного анализа можно сделать следующие выводы:\n",
    "\n",
    "- Значения в столбцах `data` и `cdx` хранятся в типе данных object и представляют из себя текстовые данные или текстовые данные с датами — поле `data`.\n",
    "- Значения в столбцах `nominal` и `curs` хранятся в типах данных int64 и float64 и представляют из себя целые числа или числа с плавающей точкой.\n",
    "\n",
    "Судя по первому знакомству с данными, значения в столбцах соответствуют своему описанию.\n",
    "\n",
    "На стадии предобработки данных необходимо:\n",
    "- Проверить данные на пропуски.\n",
    "- Изучить значения в ключевых столбцах и при обнаружении ошибок обработать их.\n",
    "- Проверить явные и неявные дубликаты.\n",
    "- Провести преобразования типов данных. Привести даты к формату datetime - поля `created_dt_msk` и `created_ts_msk` в датасете `final_tickets_orders_df` и поле `data` в датасете `final_tickets_tenge_df`."
   ]
  },
  {
   "cell_type": "markdown",
   "metadata": {},
   "source": [
    "<div class=\"alert alert-block alert-success\">✔️\n",
    "    \n",
    "\n",
    "__Комментарий от ревьюера №1__\n",
    "\n",
    "По итогу первичного знакомства с данными верно отмечено, что за данные, какого они качества, есть ли пропуски/типы данных, которые нужно скорректировать."
   ]
  },
  {
   "cell_type": "markdown",
   "metadata": {},
   "source": [
    "### Подготовка единого датафрейма"
   ]
  },
  {
   "cell_type": "code",
   "execution_count": 8,
   "metadata": {},
   "outputs": [
    {
     "name": "stdout",
     "output_type": "stream",
     "text": [
      "<class 'pandas.core.frame.DataFrame'>\n",
      "Int64Index: 290849 entries, 0 to 290848\n",
      "Data columns (total 24 columns):\n",
      " #   Column                  Non-Null Count   Dtype  \n",
      "---  ------                  --------------   -----  \n",
      " 0   order_id                290849 non-null  int64  \n",
      " 1   user_id                 290849 non-null  object \n",
      " 2   created_dt_msk          290849 non-null  object \n",
      " 3   created_ts_msk          290849 non-null  object \n",
      " 4   event_id                290849 non-null  int64  \n",
      " 5   cinema_circuit          290849 non-null  object \n",
      " 6   age_limit               290849 non-null  int64  \n",
      " 7   currency_code           290849 non-null  object \n",
      " 8   device_type_canonical   290849 non-null  object \n",
      " 9   revenue                 290849 non-null  float64\n",
      " 10  service_name            290849 non-null  object \n",
      " 11  tickets_count           290849 non-null  int64  \n",
      " 12  total                   290849 non-null  float64\n",
      " 13  days_since_prev         268909 non-null  float64\n",
      " 14  event_name              290611 non-null  object \n",
      " 15  event_type_description  290611 non-null  object \n",
      " 16  event_type_main         290611 non-null  object \n",
      " 17  organizers              290611 non-null  object \n",
      " 18  region_name             290611 non-null  object \n",
      " 19  city_name               290611 non-null  object \n",
      " 20  city_id                 290611 non-null  float64\n",
      " 21  venue_id                290611 non-null  float64\n",
      " 22  venue_name              290611 non-null  object \n",
      " 23  venue_address           290611 non-null  object \n",
      "dtypes: float64(5), int64(4), object(15)\n",
      "memory usage: 55.5+ MB\n"
     ]
    }
   ],
   "source": [
    "full_df = orders_df.merge(events_df, on='event_id', how='left')\n",
    "full_df.info()"
   ]
  },
  {
   "cell_type": "code",
   "execution_count": 9,
   "metadata": {},
   "outputs": [],
   "source": [
    "origin_len = full_df.shape[0]"
   ]
  },
  {
   "cell_type": "markdown",
   "metadata": {},
   "source": [
    "## Предобработка данных"
   ]
  },
  {
   "cell_type": "markdown",
   "metadata": {},
   "source": [
    "### Проверка данных на пропуски"
   ]
  },
  {
   "cell_type": "code",
   "execution_count": 10,
   "metadata": {},
   "outputs": [
    {
     "data": {
      "text/plain": [
       "order_id                      0\n",
       "user_id                       0\n",
       "created_dt_msk                0\n",
       "created_ts_msk                0\n",
       "event_id                      0\n",
       "cinema_circuit                0\n",
       "age_limit                     0\n",
       "currency_code                 0\n",
       "device_type_canonical         0\n",
       "revenue                       0\n",
       "service_name                  0\n",
       "tickets_count                 0\n",
       "total                         0\n",
       "days_since_prev           21940\n",
       "event_name                  238\n",
       "event_type_description      238\n",
       "event_type_main             238\n",
       "organizers                  238\n",
       "region_name                 238\n",
       "city_name                   238\n",
       "city_id                     238\n",
       "venue_id                    238\n",
       "venue_name                  238\n",
       "venue_address               238\n",
       "dtype: int64"
      ]
     },
     "execution_count": 10,
     "metadata": {},
     "output_type": "execute_result"
    }
   ],
   "source": [
    "full_df.isna().sum()"
   ]
  },
  {
   "cell_type": "code",
   "execution_count": 11,
   "metadata": {},
   "outputs": [
    {
     "data": {
      "text/plain": [
       "order_id                  0.000000\n",
       "user_id                   0.000000\n",
       "created_dt_msk            0.000000\n",
       "created_ts_msk            0.000000\n",
       "event_id                  0.000000\n",
       "cinema_circuit            0.000000\n",
       "age_limit                 0.000000\n",
       "currency_code             0.000000\n",
       "device_type_canonical     0.000000\n",
       "revenue                   0.000000\n",
       "service_name              0.000000\n",
       "tickets_count             0.000000\n",
       "total                     0.000000\n",
       "days_since_prev           0.075434\n",
       "event_name                0.000818\n",
       "event_type_description    0.000818\n",
       "event_type_main           0.000818\n",
       "organizers                0.000818\n",
       "region_name               0.000818\n",
       "city_name                 0.000818\n",
       "city_id                   0.000818\n",
       "venue_id                  0.000818\n",
       "venue_name                0.000818\n",
       "venue_address             0.000818\n",
       "dtype: float64"
      ]
     },
     "execution_count": 11,
     "metadata": {},
     "output_type": "execute_result"
    }
   ],
   "source": [
    "full_df.isna().mean()"
   ]
  },
  {
   "cell_type": "code",
   "execution_count": 12,
   "metadata": {},
   "outputs": [
    {
     "data": {
      "text/plain": [
       "order_id                      0\n",
       "user_id                       0\n",
       "created_dt_msk                0\n",
       "created_ts_msk                0\n",
       "event_id                      0\n",
       "cinema_circuit                0\n",
       "age_limit                     0\n",
       "currency_code                 0\n",
       "device_type_canonical         0\n",
       "revenue                       0\n",
       "service_name                  0\n",
       "tickets_count                 0\n",
       "total                         0\n",
       "days_since_prev           21913\n",
       "event_name                    0\n",
       "event_type_description        0\n",
       "event_type_main               0\n",
       "organizers                    0\n",
       "region_name                   0\n",
       "city_name                     0\n",
       "city_id                       0\n",
       "venue_id                      0\n",
       "venue_name                    0\n",
       "venue_address                 0\n",
       "dtype: int64"
      ]
     },
     "execution_count": 12,
     "metadata": {},
     "output_type": "execute_result"
    }
   ],
   "source": [
    "columns_check = [col for col in full_df.columns if col != 'days_since_prev']\n",
    "full_df = full_df.dropna(subset=columns_check, how='any')\n",
    "full_df.isna().sum()"
   ]
  },
  {
   "cell_type": "markdown",
   "metadata": {},
   "source": [
    "<div class=\"alert alert-block alert-success\">✔️\n",
    "    \n",
    "\n",
    "__Комментарий от ревьюера №1__\n",
    "    \n",
    "\n",
    "\n",
    "Проверить проще колличество пропусков в % можно вот так: \n",
    "    \n",
    "    \n",
    "    df.isna().sum() - смотришь, а есть ли вообще пропуски\n",
    "    df.isna().mean() - смотришь, а если есть, то насколько их много от общего числа ...\n",
    "    "
   ]
  },
  {
   "cell_type": "markdown",
   "metadata": {},
   "source": [
    "### Изучение значений в ключевых столбцах"
   ]
  },
  {
   "cell_type": "code",
   "execution_count": 13,
   "metadata": {
    "scrolled": false
   },
   "outputs": [
    {
     "name": "stdout",
     "output_type": "stream",
     "text": [
      "cinema_circuit: ['нет' 'Другое' 'Киномакс' 'КиноСити' 'Москино' 'ЦентрФильм']\n",
      "currency_code: ['rub' 'kzt']\n",
      "device_type_canonical: ['mobile' 'desktop']\n",
      "service_name: ['Край билетов' 'Мой билет' 'За билетом!' 'Лови билет!'\n",
      " 'Билеты без проблем' 'Облачко' 'Лучшие билеты' 'Прачечная' 'Быстробилет'\n",
      " 'Дом культуры' 'Весь в билетах' 'Билеты в руки' 'Тебе билет!'\n",
      " 'Show_ticket' 'Городской дом культуры' 'Яблоко' 'Билет по телефону'\n",
      " 'Выступления.ру' 'Росбилет' 'Шоу начинается!' 'Мир касс' 'Восьмёрка'\n",
      " 'Телебилет' 'Crazy ticket!' 'Реестр' 'Быстрый кассир' 'КарандашРУ'\n",
      " 'Радио ticket' 'Дырокол' 'Вперёд!' 'Кино билет' 'Цвет и билет' 'Зе Бест!'\n",
      " 'Тех билет' 'Лимоны' 'Билеты в интернете']\n",
      "region_name: ['Каменевский регион' 'Североярская область' 'Озернинский край'\n",
      " 'Лугоградская область' 'Поленовский край' 'Широковская область'\n",
      " 'Медовская область' 'Златопольский округ' 'Малиновоярский округ'\n",
      " 'Яблоневская область' 'Ветренский регион' 'Боровлянский край'\n",
      " 'Крутоводская область' 'Ягодиновская область' 'Серебряноярский округ'\n",
      " 'Лесодальний край' 'Верхоречная область' 'Горицветская область'\n",
      " 'Речиновская область' 'Травиницкий округ' 'Сосновская область'\n",
      " 'Серебринская область' 'Травяная область' 'Каменноярский край'\n",
      " 'Солнечноземская область' 'Светополянский округ' 'Заречная область'\n",
      " 'Ручейковский край' 'Глиногорская область' 'Тепляковская область'\n",
      " 'Каменноозёрный край' 'Солнечнореченская область' 'Зоринский регион'\n",
      " 'Берёзовская область' 'Лесостепной край' 'Малиновая область'\n",
      " 'Синегорский регион' 'Луговая область' 'Шанырский регион'\n",
      " 'Каменополянский округ' 'Речицкая область' 'Горностепной регион'\n",
      " 'Речицкий регион' 'Золотоключевской край' 'Лесоярская область'\n",
      " 'Зеленоградский округ' 'Миропольская область' 'Дальнеземская область'\n",
      " 'Озернопольская область' 'Берестовский округ' 'Ключеводский округ'\n",
      " 'Нежинская область' 'Дальнезорский край' 'Вишнёвский край'\n",
      " 'Каменичская область' 'Голубевский округ' 'Тихогорская область'\n",
      " 'Крутоводский регион' 'Чистогорская область' 'Североозёрский округ'\n",
      " 'Тихолесский край' 'Кристальная область' 'Горноземский регион'\n",
      " 'Радужнопольский край' 'Белоярская область' 'Островная область'\n",
      " 'Тихореченская область' 'Кристаловская область' 'Яснопольский округ'\n",
      " 'Островогорский округ' 'Радужногорская область' 'Дубравная область'\n",
      " 'Залесский край' 'Североключевской округ' 'Верховинская область'\n",
      " 'Светолесский край' 'Сосноводолинская область' 'Верхозёрский край'\n",
      " 'Лесноярский край' 'Теплоозёрский округ' 'Лесополянская область']\n",
      "city_name: ['Глиногорск' 'Озёрск' 'Родниковецк' 'Кристалевск' 'Дальнозолотск'\n",
      " 'Радужнополье' 'Радужсвет' 'Кумсай' 'Верховино' 'Светополье' 'Кокжар'\n",
      " 'Каменский' 'Лесоярич' 'Никольянов' 'Речинцево' 'Лесозолотск'\n",
      " 'Дальнозерск' 'Серебрянка' 'Островецк' 'Родниковец' 'Дальнесветск'\n",
      " 'Луговаярово' 'Ягодиновка' 'Дальнополин' 'Солчелуг' 'Озёрчане'\n",
      " 'Серебровино' 'Лесоярово' 'Глинополье' 'Глиноград' 'Дальнесветин'\n",
      " 'Северополье' 'Теплоозеро' 'Горнодолинск' 'Ордакент' 'Озёрово'\n",
      " 'Луговинск' 'Лугоград' 'Златопольск' 'Крутовинск' 'Сарыжар' 'Сосновечин'\n",
      " 'Тихоярск' 'Яблонецк' 'Жаркентай' 'Широковка' 'Синеводов' 'Синеводск'\n",
      " 'Тихосветск' 'Радужанов' 'Глиногорь' 'Каменосветск' 'Родниковск'\n",
      " 'Травогород' 'Глинянск' 'Радужинск' 'Поляногорье' 'Дальнолесье'\n",
      " 'Ручейник' 'Ключеград' 'Ключеводск' 'Поленовино' 'Речичанск'\n",
      " 'Ключевополье' 'Шаныртау' 'Дальнесоснов' 'Ордасай' 'Теплоозёрск'\n",
      " 'Чистогорье' 'Ручейный' 'Островярово' 'Ягодинск' 'Поленоозёрово'\n",
      " 'Акбасты' 'Медовино' 'Каменёвка' 'Рощино' 'Солнечнёвка' 'Верхозолотск'\n",
      " 'Боровлянск' 'Лугиново' 'Сосноград' 'Радужнояр' 'Кенесар' 'Островенск'\n",
      " 'Горнополец' 'Яблоновец' 'Вишнёво' 'Ясногородин' 'Нежинск' 'Малиноворск'\n",
      " 'Леснойск' 'Озёриново' 'Островополь' 'Тихоречка' 'Поленояр' 'Ручьевино'\n",
      " 'Травяниново' 'Кристаловец' 'Буркиттау' 'Ручейковск' 'Песковино'\n",
      " 'Горнополье' 'Зоревец' 'Акбастау' 'Заречиновка' 'Сосновогорец'\n",
      " 'Лесочистка' 'Лесоводск' 'Каменевовск' 'Сарытау' 'Малиновец' 'Речевинец'\n",
      " 'Кристалинск' 'Верхоозёров' 'Травяночистск' 'Байкуль' 'Светоярчик'\n",
      " 'Зориново' 'Лесореченск' 'Водниково' 'Берестовец' 'Мироярово'\n",
      " 'Медвежанск' 'Тихолесье' 'Каменичи' 'Тихогорово' 'Лесиново'\n",
      " 'Синегориново' 'Зелёнаярово' 'Лесозерск' 'Солнечеполье' 'Солнечеводск'\n",
      " 'Лесогорич' 'Ключевогорск' 'Нивинск' 'Травогорск' 'Лесоярка' 'Шынгысай'\n",
      " 'Луговское' 'Горноставинск' 'Зоречанск' 'Ручейновинск' 'Лесодолинск'\n",
      " 'Поленовец' 'Крутово' 'Зеленополье' 'Тепляковск' 'Желкаин' 'Березиноск'\n",
      " 'Горнополянск' 'Песчанская' 'Светополь' 'Поленоград' 'Вишнёвогорск'\n",
      " 'Северогорск' 'Речное' 'Каменевск' 'Травянский' 'Глинозорь' 'Луговинец'\n",
      " 'Серебровка' 'Горяново' 'Медовецк' 'Каменозолото' 'Желтоксан' 'Ясногорец'\n",
      " 'Горицветск' 'Ясносветск' 'Сосновинск' 'Белоярск' 'Солнечейск' 'Каменояр'\n",
      " 'Зеленолесье' 'Нуртас' 'Светогория' 'Беловодск' 'Малиновинск'\n",
      " 'Серебринск' 'Ключевинск' 'Тихозорин' 'Голубино' 'Долиновка' 'Шалкартау'\n",
      " 'Миросветск' 'Травяниково' 'Ясноград' 'Светочистенск' 'Кумсары'\n",
      " 'Зеленоградовск' 'Поленосветск' 'Каменодолин' 'Вишнёводск'\n",
      " 'Северобережье' 'Светозёринск' 'Каражар' 'Горнополёк' 'Ключезолотск'\n",
      " 'Горнолуг' 'Песчанец' 'Бережанка' 'Соловьёвка' 'Крутоводск' 'Бозарык'\n",
      " 'Родничанск' 'Берёзодальн' 'Озёречин' 'Поленосвет' 'Зоревичск' 'Коксуйск'\n",
      " 'Златоречинск' 'Жетисайск' 'Байтерековск' 'Акжолтау' 'Сереброяр'\n",
      " 'Яблоневое' 'Лесинск' 'Речинск' 'Заречнинск' 'Яснополянск' 'Речиноград'\n",
      " 'Радужнаярова' 'Светозорск' 'Горнополяровск' 'Речепольск' 'Тиходеревск'\n",
      " 'Ягодиноград' 'Желтау' 'Поленовичи' 'Тулебайск' 'Златоозёрово'\n",
      " 'Кристальевка' 'Сарыбулак' 'Сосновогорск' 'Теплоград' 'Яблоневск'\n",
      " 'Реченск' 'Бурьяново' 'Островозёров' 'Солнечёвино' 'Берёзоречье'\n",
      " 'Ветеринск' 'Тихолесьевск' 'Зореполин' 'Тихоозёрск' 'Родинсветск'\n",
      " 'Медвежник' 'Ясновский' 'Заречнаярово' 'Светоярич' 'Ручейницк'\n",
      " 'Лесогорский' 'Зелёново' 'Крутоводинск' 'Яснолесье' 'Солнечелесье'\n",
      " 'Луновка' 'Мироград' 'Светлоярск' 'Североград' 'Медвежиновск' 'Сосновецк'\n",
      " 'Зеленополин' 'Каражол' 'Заречка' 'Глинореч' 'Каменевский' 'Берёзогорск'\n",
      " 'Светозолотск' 'Гореловск' 'Малиновочист' 'Островской' 'Каменогорье'\n",
      " 'Чистояр' 'Ташбулак' 'Бережанск' 'Кристалин' 'Зареченец' 'Талдысай'\n",
      " 'Ягодино' 'Синеполинск' 'Берестяград' 'Алтынсай' 'Заречийск'\n",
      " 'Берёзополье' 'Зеленополец' 'Шынартас' 'Радужновка' 'Поленолесье'\n",
      " 'Златоречье' 'Островсков' 'Тогусжол' 'Светоречин' 'Айкольск'\n",
      " 'Радужовинск' 'Айсуак' 'Заречник' 'Глинолес' 'Зелёнояр' 'Синегорск'\n",
      " 'Каменогорский' 'Полянск' 'Крутовичи' 'Глинозолото' 'Ягодинска'\n",
      " 'Верховка' 'Тепляровск' 'Реченогор' 'Озёроярск' 'Тастай' 'Светоярово'\n",
      " 'Верхозорье' 'Поляноречинск' 'Малиновецк' 'Острововск' 'Светочистка'\n",
      " 'Долиновск' 'Мирополь' 'Озёряновск' 'Златополье' 'Кристаловка'\n",
      " 'Берёзореч' 'Зеленогорье' 'Солнечеград' 'Голубевск' 'Глинополянск'\n",
      " 'Радугорь' 'Кристолесье' 'Березиногорск' 'Миролесье' 'Заречинск'\n",
      " 'Ягодиноск' 'Байсары' 'Берёзиново' 'Солнечегорск' 'Глинополин'\n",
      " 'Озёроград' 'Ягодинец' 'Алтынкала' 'Горнолесье' 'Карасуй' 'Лесополин'\n",
      " 'Дальнеград' 'Горноград' 'Березовцево' 'Берёзовка' 'Дальнозелен'\n",
      " 'Травино' 'Карасуйск' 'Кызылжол' 'Поляновск' 'Лесогорск']\n",
      "event_type_main: ['театр' 'выставки' 'другое' 'стендап' 'концерты' 'спорт' 'ёлки']\n"
     ]
    }
   ],
   "source": [
    "categorical_columns = ['cinema_circuit', 'currency_code', 'device_type_canonical', 'service_name', 'region_name', 'city_name', 'event_type_main']\n",
    "for col in categorical_columns:\n",
    "    print(f\"{col}: {full_df[col].unique()}\")"
   ]
  },
  {
   "cell_type": "markdown",
   "metadata": {},
   "source": []
  },
  {
   "cell_type": "markdown",
   "metadata": {},
   "source": [
    "<div class=\"alert alert-block alert-warning\">📝\n",
    "    \n",
    "\n",
    "__Комментарий от ревьюера №1__\n",
    "\n",
    "Тут я бы рекомендовал более тщательнее следить за чистотой данных, проверить категориальные признаки на предмет аномалий и сследить за распределением данных по признакам. Так можно сразу отловить категории с небольшим количеством данных\n",
    "    \n",
    "    # Анализ категориальных значений\n",
    "    for column in ['age_limit', 'currency_code', 'device_type_canonical', 'service_name']:\n",
    "    print(f\"\\nColumn: {column}\")\n",
    "    print(\"Unique values:\", df[column].unique())\n",
    "    print(\"Missing values count:\", df[column].isna().sum())\n",
    "    print(\"Value counts:\")\n",
    "    print(df[column].value_counts(dropna=False), \"\\n\")"
   ]
  },
  {
   "cell_type": "code",
   "execution_count": 14,
   "metadata": {},
   "outputs": [],
   "source": [
    "full_df['cinema_circuit'] = full_df['cinema_circuit'].replace(['Другое'], 'нет')"
   ]
  },
  {
   "cell_type": "code",
   "execution_count": 15,
   "metadata": {},
   "outputs": [
    {
     "data": {
      "text/html": [
       "<div>\n",
       "<style scoped>\n",
       "    .dataframe tbody tr th:only-of-type {\n",
       "        vertical-align: middle;\n",
       "    }\n",
       "\n",
       "    .dataframe tbody tr th {\n",
       "        vertical-align: top;\n",
       "    }\n",
       "\n",
       "    .dataframe thead th {\n",
       "        text-align: right;\n",
       "    }\n",
       "</style>\n",
       "<table border=\"1\" class=\"dataframe\">\n",
       "  <thead>\n",
       "    <tr style=\"text-align: right;\">\n",
       "      <th></th>\n",
       "      <th>revenue</th>\n",
       "      <th>tickets_count</th>\n",
       "    </tr>\n",
       "  </thead>\n",
       "  <tbody>\n",
       "    <tr>\n",
       "      <th>count</th>\n",
       "      <td>285542.000000</td>\n",
       "      <td>285542.000000</td>\n",
       "    </tr>\n",
       "    <tr>\n",
       "      <th>mean</th>\n",
       "      <td>548.013929</td>\n",
       "      <td>2.754159</td>\n",
       "    </tr>\n",
       "    <tr>\n",
       "      <th>std</th>\n",
       "      <td>871.750181</td>\n",
       "      <td>1.171575</td>\n",
       "    </tr>\n",
       "    <tr>\n",
       "      <th>min</th>\n",
       "      <td>-90.760000</td>\n",
       "      <td>1.000000</td>\n",
       "    </tr>\n",
       "    <tr>\n",
       "      <th>25%</th>\n",
       "      <td>114.170000</td>\n",
       "      <td>2.000000</td>\n",
       "    </tr>\n",
       "    <tr>\n",
       "      <th>50%</th>\n",
       "      <td>346.630000</td>\n",
       "      <td>3.000000</td>\n",
       "    </tr>\n",
       "    <tr>\n",
       "      <th>75%</th>\n",
       "      <td>793.320000</td>\n",
       "      <td>4.000000</td>\n",
       "    </tr>\n",
       "    <tr>\n",
       "      <th>max</th>\n",
       "      <td>81174.540000</td>\n",
       "      <td>57.000000</td>\n",
       "    </tr>\n",
       "  </tbody>\n",
       "</table>\n",
       "</div>"
      ],
      "text/plain": [
       "             revenue  tickets_count\n",
       "count  285542.000000  285542.000000\n",
       "mean      548.013929       2.754159\n",
       "std       871.750181       1.171575\n",
       "min       -90.760000       1.000000\n",
       "25%       114.170000       2.000000\n",
       "50%       346.630000       3.000000\n",
       "75%       793.320000       4.000000\n",
       "max     81174.540000      57.000000"
      ]
     },
     "execution_count": 15,
     "metadata": {},
     "output_type": "execute_result"
    }
   ],
   "source": [
    "full_df_rub = full_df[full_df['currency_code'] == 'rub'].copy()\n",
    "full_df_kzt = full_df[full_df['currency_code'] == 'kzt'].copy()\n",
    "full_df_rub[['revenue', 'tickets_count']].describe()"
   ]
  },
  {
   "cell_type": "markdown",
   "metadata": {},
   "source": [
    "<div class=\"alert alert-block alert-warning\">📝\n",
    "    \n",
    "\n",
    "__Комментарий от ревьюера №1__\n",
    "    \n",
    "Вот тут `copy` нужен, так как мы создаём срезы из основной таблицы."
   ]
  },
  {
   "cell_type": "markdown",
   "metadata": {},
   "source": [
    "<div class=\"alert alert-info\"> <b>Комментарии студента:</b> Привет! Поправил)</div>"
   ]
  },
  {
   "cell_type": "markdown",
   "metadata": {},
   "source": [
    "<div class=\"alert alert-block alert-success\">✔️\n",
    "    \n",
    "\n",
    "__Комментарий от ревьюера №2__\n",
    "\n",
    "Супер, старайся, пожалуйста, придерживаться этой стратегии в дальнейших проектах =)\n",
    "</div>"
   ]
  },
  {
   "cell_type": "code",
   "execution_count": 16,
   "metadata": {},
   "outputs": [
    {
     "data": {
      "text/html": [
       "<div>\n",
       "<style scoped>\n",
       "    .dataframe tbody tr th:only-of-type {\n",
       "        vertical-align: middle;\n",
       "    }\n",
       "\n",
       "    .dataframe tbody tr th {\n",
       "        vertical-align: top;\n",
       "    }\n",
       "\n",
       "    .dataframe thead th {\n",
       "        text-align: right;\n",
       "    }\n",
       "</style>\n",
       "<table border=\"1\" class=\"dataframe\">\n",
       "  <thead>\n",
       "    <tr style=\"text-align: right;\">\n",
       "      <th></th>\n",
       "      <th>revenue</th>\n",
       "      <th>tickets_count</th>\n",
       "    </tr>\n",
       "  </thead>\n",
       "  <tbody>\n",
       "    <tr>\n",
       "      <th>count</th>\n",
       "      <td>5069.000000</td>\n",
       "      <td>5069.000000</td>\n",
       "    </tr>\n",
       "    <tr>\n",
       "      <th>mean</th>\n",
       "      <td>4995.206767</td>\n",
       "      <td>2.762872</td>\n",
       "    </tr>\n",
       "    <tr>\n",
       "      <th>std</th>\n",
       "      <td>4916.752776</td>\n",
       "      <td>1.115558</td>\n",
       "    </tr>\n",
       "    <tr>\n",
       "      <th>min</th>\n",
       "      <td>0.000000</td>\n",
       "      <td>1.000000</td>\n",
       "    </tr>\n",
       "    <tr>\n",
       "      <th>25%</th>\n",
       "      <td>518.100000</td>\n",
       "      <td>2.000000</td>\n",
       "    </tr>\n",
       "    <tr>\n",
       "      <th>50%</th>\n",
       "      <td>3698.830000</td>\n",
       "      <td>3.000000</td>\n",
       "    </tr>\n",
       "    <tr>\n",
       "      <th>75%</th>\n",
       "      <td>7397.660000</td>\n",
       "      <td>4.000000</td>\n",
       "    </tr>\n",
       "    <tr>\n",
       "      <th>max</th>\n",
       "      <td>26425.860000</td>\n",
       "      <td>6.000000</td>\n",
       "    </tr>\n",
       "  </tbody>\n",
       "</table>\n",
       "</div>"
      ],
      "text/plain": [
       "            revenue  tickets_count\n",
       "count   5069.000000    5069.000000\n",
       "mean    4995.206767       2.762872\n",
       "std     4916.752776       1.115558\n",
       "min        0.000000       1.000000\n",
       "25%      518.100000       2.000000\n",
       "50%     3698.830000       3.000000\n",
       "75%     7397.660000       4.000000\n",
       "max    26425.860000       6.000000"
      ]
     },
     "execution_count": 16,
     "metadata": {},
     "output_type": "execute_result"
    }
   ],
   "source": [
    "full_df_kzt[['revenue', 'tickets_count']].describe()"
   ]
  },
  {
   "cell_type": "code",
   "execution_count": 17,
   "metadata": {},
   "outputs": [
    {
     "data": {
      "image/png": "[encoded data removed]",
      "text/plain": [
       "<Figure size 864x432 with 4 Axes>"
      ]
     },
     "metadata": {
      "needs_background": "light"
     },
     "output_type": "display_data"
    }
   ],
   "source": [
    "fig, axs = plt.subplots(2, 2, figsize=(12, 6))\n",
    "\n",
    "sns.boxplot(x=full_df_rub['revenue'], ax=axs[0, 0])\n",
    "axs[0, 0].set_title('Revenue (RUB)')\n",
    "\n",
    "sns.boxplot(x=full_df_kzt['revenue'], ax=axs[0, 1])\n",
    "axs[0, 1].set_title('Revenue (KZT)')\n",
    "\n",
    "sns.boxplot(x=full_df_rub['tickets_count'], ax=axs[1, 0])\n",
    "axs[1, 0].set_title('Tickets count (RUB)')\n",
    "\n",
    "sns.boxplot(x=full_df_kzt['tickets_count'], ax=axs[1, 1])\n",
    "axs[1, 1].set_title('Tickets count (KZT)')\n",
    "\n",
    "plt.tight_layout()\n",
    "plt.show()"
   ]
  },
  {
   "cell_type": "code",
   "execution_count": 18,
   "metadata": {},
   "outputs": [
    {
     "data": {
      "text/plain": [
       "287782"
      ]
     },
     "execution_count": 18,
     "metadata": {},
     "output_type": "execute_result"
    }
   ],
   "source": [
    "quantile_rub = full_df_rub['revenue'].quantile(0.99)\n",
    "quantile_kzt = full_df_kzt['revenue'].quantile(0.99)\n",
    "\n",
    "full_df_rub = full_df_rub[full_df_rub['revenue'] <= quantile_rub]\n",
    "full_df_kzt = full_df_kzt[full_df_kzt['revenue'] <= quantile_kzt]\n",
    "\n",
    "full_df = pd.concat([full_df_rub, full_df_kzt])\n",
    "len(full_df)"
   ]
  },
  {
   "cell_type": "markdown",
   "metadata": {},
   "source": [
    "<div class=\"alert alert-block alert-success\">✔️\n",
    "    \n",
    "\n",
    "__Комментарий от ревьюера №1__\n",
    "\n",
    "Правильно, что срезаешь отдельно по тенге и рублям"
   ]
  },
  {
   "cell_type": "code",
   "execution_count": 19,
   "metadata": {},
   "outputs": [
    {
     "data": {
      "text/plain": [
       "287401"
      ]
     },
     "execution_count": 19,
     "metadata": {},
     "output_type": "execute_result"
    }
   ],
   "source": [
    "full_df = full_df[(full_df['revenue'] >= 0) & (full_df['tickets_count'] >= 0)]\n",
    "len(full_df)"
   ]
  },
  {
   "cell_type": "markdown",
   "metadata": {},
   "source": [
    "### Проверка на явные и неявные дубликаты"
   ]
  },
  {
   "cell_type": "code",
   "execution_count": 20,
   "metadata": {},
   "outputs": [
    {
     "data": {
      "text/plain": [
       "0"
      ]
     },
     "execution_count": 20,
     "metadata": {},
     "output_type": "execute_result"
    }
   ],
   "source": [
    "full_df.duplicated().sum()"
   ]
  },
  {
   "cell_type": "code",
   "execution_count": 21,
   "metadata": {},
   "outputs": [
    {
     "data": {
      "text/plain": [
       "58"
      ]
     },
     "execution_count": 21,
     "metadata": {},
     "output_type": "execute_result"
    }
   ],
   "source": [
    "full_df_columns_check = ['user_id', 'created_dt_msk', 'created_ts_msk', 'event_id', 'cinema_circuit', 'age_limit', 'currency_code', 'device_type_canonical', 'revenue', 'service_name', 'tickets_count', 'total', 'days_since_prev', 'event_name', 'event_type_description', 'event_type_main', 'organizers', 'region_name', 'city_name', 'city_id', 'venue_id', 'venue_name', 'venue_address']\n",
    "full_df_duplicates = full_df.duplicated(subset=full_df_columns_check, keep=False)\n",
    "full_df_dupe_df = full_df[full_df_duplicates].sort_values(by=full_df_columns_check)\n",
    "full_df_dupe_df.shape[0]"
   ]
  },
  {
   "cell_type": "code",
   "execution_count": 22,
   "metadata": {},
   "outputs": [],
   "source": [
    "full_df = full_df.drop_duplicates(subset=full_df_columns_check, keep='first').reset_index(drop=True)"
   ]
  },
  {
   "cell_type": "markdown",
   "metadata": {},
   "source": [
    "<div class=\"alert alert-block alert-danger\">✍\n",
    "    \n",
    "\n",
    "__Комментарий от ревьюера №1__\n",
    "\n",
    "    \n",
    "Неявные дубликаты нужно проверить по всем признакам, кроме `order_id`. Ведь в задании указано `кроме идентификатора заказа`"
   ]
  },
  {
   "cell_type": "markdown",
   "metadata": {},
   "source": [
    "<div class=\"alert alert-info\"> <b>Комментарии студента:</b> Согласен, поправил)</div>"
   ]
  },
  {
   "cell_type": "markdown",
   "metadata": {},
   "source": [
    "<div class=\"alert alert-block alert-success\">✔️\n",
    "    \n",
    "\n",
    "__Комментарий от ревьюера №2__\n",
    "\n",
    "Отлично, неявные дубликаты найдены и обработаны"
   ]
  },
  {
   "cell_type": "markdown",
   "metadata": {},
   "source": [
    "### Преобразование типов данных"
   ]
  },
  {
   "cell_type": "code",
   "execution_count": 23,
   "metadata": {},
   "outputs": [],
   "source": [
    "full_df['created_ts_msk'] = pd.to_datetime(full_df['created_ts_msk'])\n",
    "full_df['created_dt_msk'] = pd.to_datetime(full_df['created_dt_msk'])\n",
    "tenge_df['data'] = pd.to_datetime(tenge_df['data'])"
   ]
  },
  {
   "cell_type": "code",
   "execution_count": 24,
   "metadata": {},
   "outputs": [],
   "source": [
    "int_columns = ['order_id', 'event_id', 'venue_id', 'tickets_count', 'age_limit']\n",
    "for col in int_columns:\n",
    "    if col in full_df.columns:\n",
    "        full_df[col] = pd.to_numeric(full_df[col], downcast='integer')\n",
    "float_columns = ['revenue', 'total', 'days_since_prev', 'city_id']\n",
    "for col in float_columns:\n",
    "    if col in full_df.columns:\n",
    "        full_df[col] = pd.to_numeric(full_df[col], downcast='float')"
   ]
  },
  {
   "cell_type": "markdown",
   "metadata": {},
   "source": [
    "### Создание новых столбцов"
   ]
  },
  {
   "cell_type": "code",
   "execution_count": 25,
   "metadata": {},
   "outputs": [],
   "source": [
    "full_df = full_df.rename(columns={'created_dt_msk': 'order_dt'})\n",
    "tenge_df = tenge_df.rename(columns={'data': 'order_dt'})\n",
    "full_df = full_df.merge(\n",
    "    tenge_df[['order_dt', 'curs']], on='order_dt', how='left')\n",
    "def convert_to_rub(row):\n",
    "    if row['currency_code'] == 'rub':\n",
    "        return row['revenue']\n",
    "    elif row['currency_code'] == 'kzt':\n",
    "        if pd.isna(row['curs']):\n",
    "            return np.nan\n",
    "        return row['revenue'] / 100 * row['curs']\n",
    "full_df['revenue_rub'] = full_df.apply(convert_to_rub, axis=1)"
   ]
  },
  {
   "cell_type": "code",
   "execution_count": 26,
   "metadata": {},
   "outputs": [],
   "source": [
    "full_df['one_ticket_revenue_rub'] = full_df['revenue_rub'] / full_df['tickets_count']"
   ]
  },
  {
   "cell_type": "code",
   "execution_count": 27,
   "metadata": {
    "scrolled": false
   },
   "outputs": [],
   "source": [
    "full_df['month'] = full_df['order_dt'].dt.month\n",
    "def get_season(month):\n",
    "    if month in [12, 1, 2]:\n",
    "        return 'зима'\n",
    "    elif month in [3, 4, 5]:\n",
    "        return 'весна'\n",
    "    elif month in [6, 7, 8]:\n",
    "        return 'лето'\n",
    "    elif month in [9, 10, 11]:\n",
    "        return 'осень'\n",
    "    else:\n",
    "        return np.nan\n",
    "full_df['season'] = full_df['month'].apply(get_season)"
   ]
  },
  {
   "cell_type": "markdown",
   "metadata": {},
   "source": [
    "<div class=\"alert alert-block alert-success\">✔️\n",
    "    \n",
    "\n",
    "__Комментарий от ревьюера №1__\n",
    "\n",
    "Новые признаки добавлены в выборку."
   ]
  },
  {
   "cell_type": "code",
   "execution_count": 28,
   "metadata": {
    "scrolled": false
   },
   "outputs": [
    {
     "name": "stdout",
     "output_type": "stream",
     "text": [
      "<class 'pandas.core.frame.DataFrame'>\n",
      "Int64Index: 287371 entries, 0 to 287370\n",
      "Data columns (total 29 columns):\n",
      " #   Column                  Non-Null Count   Dtype         \n",
      "---  ------                  --------------   -----         \n",
      " 0   order_id                287371 non-null  int32         \n",
      " 1   user_id                 287371 non-null  object        \n",
      " 2   order_dt                287371 non-null  datetime64[ns]\n",
      " 3   created_ts_msk          287371 non-null  datetime64[ns]\n",
      " 4   event_id                287371 non-null  int32         \n",
      " 5   cinema_circuit          287371 non-null  object        \n",
      " 6   age_limit               287371 non-null  int8          \n",
      " 7   currency_code           287371 non-null  object        \n",
      " 8   device_type_canonical   287371 non-null  object        \n",
      " 9   revenue                 287371 non-null  float32       \n",
      " 10  service_name            287371 non-null  object        \n",
      " 11  tickets_count           287371 non-null  int8          \n",
      " 12  total                   287371 non-null  float32       \n",
      " 13  days_since_prev         265695 non-null  float32       \n",
      " 14  event_name              287371 non-null  object        \n",
      " 15  event_type_description  287371 non-null  object        \n",
      " 16  event_type_main         287371 non-null  object        \n",
      " 17  organizers              287371 non-null  object        \n",
      " 18  region_name             287371 non-null  object        \n",
      " 19  city_name               287371 non-null  object        \n",
      " 20  city_id                 287371 non-null  float32       \n",
      " 21  venue_id                287371 non-null  int16         \n",
      " 22  venue_name              287371 non-null  object        \n",
      " 23  venue_address           287371 non-null  object        \n",
      " 24  curs                    287371 non-null  float64       \n",
      " 25  revenue_rub             287371 non-null  float64       \n",
      " 26  one_ticket_revenue_rub  287371 non-null  float64       \n",
      " 27  month                   287371 non-null  int64         \n",
      " 28  season                  287371 non-null  object        \n",
      "dtypes: datetime64[ns](2), float32(4), float64(3), int16(1), int32(2), int64(1), int8(2), object(14)\n",
      "memory usage: 53.7+ MB\n"
     ]
    }
   ],
   "source": [
    "full_df.reset_index()\n",
    "full_df.info()"
   ]
  },
  {
   "cell_type": "code",
   "execution_count": 29,
   "metadata": {},
   "outputs": [
    {
     "name": "stdout",
     "output_type": "stream",
     "text": [
      "Доля срезанных данных: 1.2%\n"
     ]
    }
   ],
   "source": [
    "final_len = full_df.shape[0]\n",
    "deleted_share = 1 - (final_len / origin_len)\n",
    "print(f\"Доля срезанных данных: {deleted_share:.1%}\")"
   ]
  },
  {
   "cell_type": "markdown",
   "metadata": {},
   "source": [
    "### Промежуточные выводы"
   ]
  },
  {
   "cell_type": "markdown",
   "metadata": {},
   "source": [
    "В ходе предобработки данные были объединены в единый датафрейм, проверены данные на пропуски, изучены значения в ключевых столбцах, проверены явные и неявные дубликаты, проведены преобразования типов данных, созданы новые столбцы.\n",
    "\n",
    "- Данные из датасетов `orders_df` и `events_df` были объеднены в единый датафрейм `full_df`. После объединения в датасете были найдены и удалены пропуски, так как их доля составляла менее 1%. Пропуски в столбце `days_since_prev` удалены не были, так как их доля составляет более 7%, и удаление может сказаться на данных.\n",
    "\n",
    "- В рамках изучения проверки категориальных значений в столбце `cinema_circuit` были найдены значения, которые могут обозначать пропуски в данных или отсутствие информации. Значение: \"Другое\" заменено на \"нет\", так как информация в данном столбце должна давать чёткое понимание, принадлежит ли сети и если да, то какой или нет.\n",
    "\n",
    "- В рамках изучения проверки количественных значений изучены статистические показатели, построены и изучены диаграммы размаха. Проверка проводилась по двум валютам отдельно: рублях и тенге. Данные распределены нормально, но найдены выбросы, которые были отобраны по 99 процентилю.\n",
    "\n",
    "- В столбце revenue найдены отрицательные значения, скорее всего это возвраты. Эти значения были отфильтрованы, что бы данные были более корректные. До фильтрации в датасете было - 287782 строк, после фильтрации - 287401 строк.\n",
    "\n",
    "- Проверены явные дубликаты - они отсутствуют в датасете. Найдены неявные дубликаты - 58 строк, они были удалены из датасета `full_df`, для чистоты данных. Они составляют менее 1% из всего датасета.\n",
    "\n",
    "- Столбцы `created_ts_msk` и `created_dt_msk` в датасете `full_df`, а также столбец `data` в датасете `tenge_df` преобразованы в тип datetime. Так же осуществлено снижение размерности количественных данных для столбцов: `order_id`, `event_id`, `venue_id`, `tickets_count`, `age_limit`, `revenue`, `total`, `days_since_prev`, `city_id`.\n",
    "\n",
    "- Созданы новые столбцы: `revenue_rub` в котором выручка с заказа к единой валюте — российскому рублю, `one_ticket_revenue_rub` в котором расчитана выручка с продажи одного билета на мероприятие, `month` в котором выделен месяц оформления заказа в отдельный столбец и `season`, который включает в себя информацию о сезонности, включая такие категории, как: `лето`, `осень`, `зима`, `весна`.\n",
    "\n",
    "- До предобработки данных датасет включал в себя 290849 строк и 24 столбца. После предобработки - 287371 строка и 29 столбцов.\n",
    "\n",
    "- Доля срезанных данных составила 1.2%."
   ]
  },
  {
   "cell_type": "markdown",
   "metadata": {},
   "source": [
    "<div class=\"alert alert-block alert-danger\">✍\n",
    "    \n",
    "\n",
    "__Комментарий от ревьюера №1__\n",
    "\n",
    "    \n",
    "Давай дополнительно еще рассчитаем долю срезанных данных"
   ]
  },
  {
   "cell_type": "markdown",
   "metadata": {},
   "source": [
    "<div class=\"alert alert-info\"> <b>Комментарии студента:</b> Доля расчитана)</div>"
   ]
  },
  {
   "cell_type": "markdown",
   "metadata": {},
   "source": [
    "<div class=\"alert alert-block alert-success\">✔️\n",
    "    \n",
    "\n",
    "__Комментарий от ревьюера №2__\n",
    "\n",
    "Отлично, реализован корректный вывод об основных изменениях, а также посчитаны потери данных."
   ]
  },
  {
   "cell_type": "markdown",
   "metadata": {},
   "source": [
    "## Исследовательский анализ данных"
   ]
  },
  {
   "cell_type": "markdown",
   "metadata": {},
   "source": [
    "### Анализ распределения заказов по сегментам и их сезонные изменения"
   ]
  },
  {
   "cell_type": "markdown",
   "metadata": {},
   "source": [
    "#### Для каждого месяца найти количество заказов и визуализировать результаты"
   ]
  },
  {
   "cell_type": "code",
   "execution_count": 30,
   "metadata": {},
   "outputs": [
    {
     "data": {
      "text/html": [
       "<div>\n",
       "<style scoped>\n",
       "    .dataframe tbody tr th:only-of-type {\n",
       "        vertical-align: middle;\n",
       "    }\n",
       "\n",
       "    .dataframe tbody tr th {\n",
       "        vertical-align: top;\n",
       "    }\n",
       "\n",
       "    .dataframe thead th {\n",
       "        text-align: right;\n",
       "    }\n",
       "</style>\n",
       "<table border=\"1\" class=\"dataframe\">\n",
       "  <thead>\n",
       "    <tr style=\"text-align: right;\">\n",
       "      <th></th>\n",
       "      <th>month</th>\n",
       "      <th>order_id</th>\n",
       "    </tr>\n",
       "  </thead>\n",
       "  <tbody>\n",
       "    <tr>\n",
       "      <th>0</th>\n",
       "      <td>6</td>\n",
       "      <td>34056</td>\n",
       "    </tr>\n",
       "    <tr>\n",
       "      <th>1</th>\n",
       "      <td>7</td>\n",
       "      <td>40361</td>\n",
       "    </tr>\n",
       "    <tr>\n",
       "      <th>2</th>\n",
       "      <td>8</td>\n",
       "      <td>44531</td>\n",
       "    </tr>\n",
       "    <tr>\n",
       "      <th>3</th>\n",
       "      <td>9</td>\n",
       "      <td>69264</td>\n",
       "    </tr>\n",
       "    <tr>\n",
       "      <th>4</th>\n",
       "      <td>10</td>\n",
       "      <td>99159</td>\n",
       "    </tr>\n",
       "  </tbody>\n",
       "</table>\n",
       "</div>"
      ],
      "text/plain": [
       "   month  order_id\n",
       "0      6     34056\n",
       "1      7     40361\n",
       "2      8     44531\n",
       "3      9     69264\n",
       "4     10     99159"
      ]
     },
     "execution_count": 30,
     "metadata": {},
     "output_type": "execute_result"
    }
   ],
   "source": [
    "orders_by_month = (full_df.groupby('month')['order_id'].count().reset_index().sort_values('month'))\n",
    "orders_by_month"
   ]
  },
  {
   "cell_type": "code",
   "execution_count": 31,
   "metadata": {},
   "outputs": [
    {
     "data": {
      "image/png": "[encoded data removed]",
      "text/plain": [
       "<Figure size 864x432 with 1 Axes>"
      ]
     },
     "metadata": {
      "needs_background": "light"
     },
     "output_type": "display_data"
    }
   ],
   "source": [
    "plt.figure(figsize=(12,6))\n",
    "plt.plot(orders_by_month['month'], orders_by_month['order_id'], marker='o')\n",
    "plt.title('Динамика количества заказов по месяцам')\n",
    "plt.xlabel('Месяц')\n",
    "plt.ylabel('Количество заказов')\n",
    "plt.grid()\n",
    "plt.show()"
   ]
  },
  {
   "cell_type": "markdown",
   "metadata": {},
   "source": [
    "<div class=\"alert alert-block alert-success\">✔️\n",
    "    \n",
    "\n",
    "__Комментарий от ревьюера №1__\n",
    "\n",
    "Правильно, что не отображаешь месяцы без заказов"
   ]
  },
  {
   "cell_type": "markdown",
   "metadata": {},
   "source": [
    "#### Для осеннего и летнего периодов сравнить распределение заказов билетов по разным категориям"
   ]
  },
  {
   "cell_type": "code",
   "execution_count": 32,
   "metadata": {},
   "outputs": [],
   "source": [
    "summer_df = full_df[full_df['season'] == 'лето']\n",
    "autumn_df = full_df[full_df['season'] == 'осень']"
   ]
  },
  {
   "cell_type": "code",
   "execution_count": 33,
   "metadata": {},
   "outputs": [
    {
     "data": {
      "image/png": "[encoded data removed]",
      "text/plain": [
       "<Figure size 864x432 with 1 Axes>"
      ]
     },
     "metadata": {
      "needs_background": "light"
     },
     "output_type": "display_data"
    }
   ],
   "source": [
    "summer_counts = summer_df['event_type_main'].value_counts(normalize=True).sort_index()\n",
    "autumn_counts = autumn_df['event_type_main'].value_counts(normalize=True).sort_index()\n",
    "dist_df = pd.DataFrame({'Лето': summer_counts, 'Осень': autumn_counts})\n",
    "dist_df.plot(kind='bar', figsize=(12, 6))\n",
    "plt.title('Распределение заказов билетов по типу мероприятия')\n",
    "plt.xlabel('Тип мероприятия')\n",
    "plt.ylabel('Доля заказов')\n",
    "plt.xticks(rotation=0)\n",
    "plt.tight_layout()\n",
    "plt.show()"
   ]
  },
  {
   "cell_type": "code",
   "execution_count": 34,
   "metadata": {},
   "outputs": [
    {
     "data": {
      "image/png": "[encoded data removed]",
      "text/plain": [
       "<Figure size 864x432 with 1 Axes>"
      ]
     },
     "metadata": {
      "needs_background": "light"
     },
     "output_type": "display_data"
    }
   ],
   "source": [
    "summer_counts = summer_df['device_type_canonical'].value_counts(normalize=True).sort_index()\n",
    "autumn_counts = autumn_df['device_type_canonical'].value_counts(normalize=True).sort_index()\n",
    "dist_df = pd.DataFrame({'Лето': summer_counts, 'Осень': autumn_counts})\n",
    "dist_df.plot(kind='bar', figsize=(12, 6))\n",
    "plt.title('Распределение заказов билетов по типу устройства')\n",
    "plt.xlabel('Тип устройства')\n",
    "plt.ylabel('Доля заказов')\n",
    "plt.xticks(rotation=0)\n",
    "plt.tight_layout()\n",
    "plt.show()"
   ]
  },
  {
   "cell_type": "code",
   "execution_count": 35,
   "metadata": {},
   "outputs": [
    {
     "data": {
      "image/png": "[encoded data removed]",
      "text/plain": [
       "<Figure size 864x432 with 1 Axes>"
      ]
     },
     "metadata": {
      "needs_background": "light"
     },
     "output_type": "display_data"
    }
   ],
   "source": [
    "summer_counts = summer_df['age_limit'].value_counts(normalize=True).sort_index()\n",
    "autumn_counts = autumn_df['age_limit'].value_counts(normalize=True).sort_index()\n",
    "dist_df = pd.DataFrame({'Лето': summer_counts, 'Осень': autumn_counts})\n",
    "dist_df.plot(kind='bar', figsize=(12, 6))\n",
    "plt.title('Распределение заказов билетов по возрастному рейтингу')\n",
    "plt.xlabel('Возрастной рейтинг')\n",
    "plt.ylabel('Доля заказов')\n",
    "plt.xticks(rotation=0)\n",
    "plt.tight_layout()\n",
    "plt.show()"
   ]
  },
  {
   "cell_type": "markdown",
   "metadata": {},
   "source": [
    "#### Изучите изменение выручки с продажи одного билета в зависимости от типа мероприятия летом и осенью"
   ]
  },
  {
   "cell_type": "code",
   "execution_count": 36,
   "metadata": {},
   "outputs": [
    {
     "data": {
      "text/plain": [
       "event_type_main\n",
       "выставки     86.744476\n",
       "другое       77.826176\n",
       "концерты    304.790310\n",
       "спорт        50.813367\n",
       "стендап     218.518108\n",
       "театр       214.138855\n",
       "ёлки        271.436177\n",
       "Name: one_ticket_revenue_rub, dtype: float64"
      ]
     },
     "execution_count": 36,
     "metadata": {},
     "output_type": "execute_result"
    }
   ],
   "source": [
    "summer_grouped = summer_df.groupby('event_type_main')['one_ticket_revenue_rub'].mean()\n",
    "summer_grouped"
   ]
  },
  {
   "cell_type": "code",
   "execution_count": 37,
   "metadata": {},
   "outputs": [
    {
     "data": {
      "text/plain": [
       "event_type_main\n",
       "выставки     91.905092\n",
       "другое       76.475589\n",
       "концерты    268.363105\n",
       "спорт        50.021718\n",
       "стендап     231.124973\n",
       "театр       175.969508\n",
       "ёлки        229.585590\n",
       "Name: one_ticket_revenue_rub, dtype: float64"
      ]
     },
     "execution_count": 37,
     "metadata": {},
     "output_type": "execute_result"
    }
   ],
   "source": [
    "autumn_grouped = autumn_df.groupby('event_type_main')['one_ticket_revenue_rub'].mean()\n",
    "autumn_grouped"
   ]
  },
  {
   "cell_type": "code",
   "execution_count": 38,
   "metadata": {},
   "outputs": [
    {
     "data": {
      "image/png": "[encoded data removed]",
      "text/plain": [
       "<Figure size 864x432 with 1 Axes>"
      ]
     },
     "metadata": {
      "needs_background": "light"
     },
     "output_type": "display_data"
    }
   ],
   "source": [
    "comparison = pd.DataFrame({'Лето': summer_grouped, 'Осень': autumn_grouped})\n",
    "comparison[['Лето', 'Осень']].plot(kind='bar', figsize=(12, 6))\n",
    "plt.xlabel('Тип мероприятия')\n",
    "plt.ylabel('Средняя выручка за билет, руб')\n",
    "plt.title('Динамика средней стоимости билета по типу мероприятия')\n",
    "plt.xticks(rotation=0)\n",
    "plt.tight_layout()\n",
    "plt.show()"
   ]
  },
  {
   "cell_type": "code",
   "execution_count": 39,
   "metadata": {},
   "outputs": [
    {
     "data": {
      "text/html": [
       "<div>\n",
       "<style scoped>\n",
       "    .dataframe tbody tr th:only-of-type {\n",
       "        vertical-align: middle;\n",
       "    }\n",
       "\n",
       "    .dataframe tbody tr th {\n",
       "        vertical-align: top;\n",
       "    }\n",
       "\n",
       "    .dataframe thead th {\n",
       "        text-align: right;\n",
       "    }\n",
       "</style>\n",
       "<table border=\"1\" class=\"dataframe\">\n",
       "  <thead>\n",
       "    <tr style=\"text-align: right;\">\n",
       "      <th></th>\n",
       "      <th>Лето</th>\n",
       "      <th>Осень</th>\n",
       "      <th>Относительное_изменение_%</th>\n",
       "    </tr>\n",
       "    <tr>\n",
       "      <th>event_type_main</th>\n",
       "      <th></th>\n",
       "      <th></th>\n",
       "      <th></th>\n",
       "    </tr>\n",
       "  </thead>\n",
       "  <tbody>\n",
       "    <tr>\n",
       "      <th>выставки</th>\n",
       "      <td>86.744476</td>\n",
       "      <td>91.905092</td>\n",
       "      <td>5.949216</td>\n",
       "    </tr>\n",
       "    <tr>\n",
       "      <th>другое</th>\n",
       "      <td>77.826176</td>\n",
       "      <td>76.475589</td>\n",
       "      <td>-1.735389</td>\n",
       "    </tr>\n",
       "    <tr>\n",
       "      <th>концерты</th>\n",
       "      <td>304.790310</td>\n",
       "      <td>268.363105</td>\n",
       "      <td>-11.951563</td>\n",
       "    </tr>\n",
       "    <tr>\n",
       "      <th>спорт</th>\n",
       "      <td>50.813367</td>\n",
       "      <td>50.021718</td>\n",
       "      <td>-1.557955</td>\n",
       "    </tr>\n",
       "    <tr>\n",
       "      <th>стендап</th>\n",
       "      <td>218.518108</td>\n",
       "      <td>231.124973</td>\n",
       "      <td>5.769255</td>\n",
       "    </tr>\n",
       "    <tr>\n",
       "      <th>театр</th>\n",
       "      <td>214.138855</td>\n",
       "      <td>175.969508</td>\n",
       "      <td>-17.824578</td>\n",
       "    </tr>\n",
       "    <tr>\n",
       "      <th>ёлки</th>\n",
       "      <td>271.436177</td>\n",
       "      <td>229.585590</td>\n",
       "      <td>-15.418205</td>\n",
       "    </tr>\n",
       "  </tbody>\n",
       "</table>\n",
       "</div>"
      ],
      "text/plain": [
       "                       Лето       Осень  Относительное_изменение_%\n",
       "event_type_main                                                   \n",
       "выставки          86.744476   91.905092                   5.949216\n",
       "другое            77.826176   76.475589                  -1.735389\n",
       "концерты         304.790310  268.363105                 -11.951563\n",
       "спорт             50.813367   50.021718                  -1.557955\n",
       "стендап          218.518108  231.124973                   5.769255\n",
       "театр            214.138855  175.969508                 -17.824578\n",
       "ёлки             271.436177  229.585590                 -15.418205"
      ]
     },
     "execution_count": 39,
     "metadata": {},
     "output_type": "execute_result"
    }
   ],
   "source": [
    "comparison['Относительное_изменение_%'] = ((comparison['Осень'] - comparison['Лето']) / comparison['Лето']) * 100\n",
    "comparison"
   ]
  },
  {
   "cell_type": "code",
   "execution_count": 40,
   "metadata": {},
   "outputs": [
    {
     "data": {
      "image/png": "[encoded data removed]",
      "text/plain": [
       "<Figure size 720x360 with 1 Axes>"
      ]
     },
     "metadata": {
      "needs_background": "light"
     },
     "output_type": "display_data"
    }
   ],
   "source": [
    "comparison['Относительное_изменение_%'].plot(kind='bar', figsize=(10, 5), title='Относительное изменение осенних значений по сравнению с летними (%)')\n",
    "plt.xlabel('Тип мероприятия')\n",
    "plt.ylabel('Изменение, %')\n",
    "plt.xticks(rotation=0)\n",
    "plt.grid()\n",
    "plt.tight_layout()\n",
    "plt.show()"
   ]
  },
  {
   "cell_type": "markdown",
   "metadata": {},
   "source": [
    "- Динамика роста количества заказов с течением времени положительная. В начале периода количество составляет 34056 заказов, в конце периода анализа 99159 заказов. \n",
    "- Осенью осуществляется рост доли заказов на типы мероприятий: спорт, театр и ёлки, по типу устройств изменения небольшие, но немного вырос показатель доли заказов на тип устройства: desktop, по возрастному рейтингу увеличение доли заказов приходится на типы: 0 и 12. Снижение доли заказов на типы мероприятий: выставки, другое, концерты и стендап, небольшое снижение на тип устройства: mobile, по возрастному рейтингу снижение доли заказов на типы: 6, 16 и 18.\n",
    "- Средняя стоимость билета по категориям выставки и стендап повысилась. Выставки с 86.7 до 91.9 рублей, рост составил 5.98%, стендап с 218.5 до 231.1 рублей, рост составил 5.76%.\n",
    "- Средняя стоимость билета по категориям другое, концерты, театр и ёлки снизилась. Другое с 77.8 до 76.5 рублей, снижение составило 1,73%, концерты с 304.8 до 268.4 рублей, снижение составило 11,95%, спорт с 50.8 до 50 рублей, снижение составило 1,56%, театр с 214.1 до 176 рублей, снижение составило 17.82%, ёлки с 271.4 до 229.6 рублей, снижение составило 15.41%."
   ]
  },
  {
   "cell_type": "markdown",
   "metadata": {},
   "source": [
    "<div class=\"alert alert-block alert-success\">✔️\n",
    "    \n",
    "\n",
    "__Комментарий от ревьюера №1__\n",
    "\n",
    "Да, можно также заметить, что с июня по октябрь отмечается устойчивый рост количества заказов по различным сегментам. "
   ]
  },
  {
   "cell_type": "markdown",
   "metadata": {},
   "source": [
    "### Осенняя активность пользователей"
   ]
  },
  {
   "cell_type": "markdown",
   "metadata": {},
   "source": [
    "#### Анализ динамики изменений по дням"
   ]
  },
  {
   "cell_type": "code",
   "execution_count": 41,
   "metadata": {},
   "outputs": [
    {
     "data": {
      "text/html": [
       "<div>\n",
       "<style scoped>\n",
       "    .dataframe tbody tr th:only-of-type {\n",
       "        vertical-align: middle;\n",
       "    }\n",
       "\n",
       "    .dataframe tbody tr th {\n",
       "        vertical-align: top;\n",
       "    }\n",
       "\n",
       "    .dataframe thead th {\n",
       "        text-align: right;\n",
       "    }\n",
       "</style>\n",
       "<table border=\"1\" class=\"dataframe\">\n",
       "  <thead>\n",
       "    <tr style=\"text-align: right;\">\n",
       "      <th></th>\n",
       "      <th>order_dt</th>\n",
       "      <th>order_count</th>\n",
       "      <th>dau</th>\n",
       "      <th>avg_one_ticket</th>\n",
       "      <th>orders_per_user</th>\n",
       "    </tr>\n",
       "  </thead>\n",
       "  <tbody>\n",
       "    <tr>\n",
       "      <th>0</th>\n",
       "      <td>2024-09-01</td>\n",
       "      <td>1327</td>\n",
       "      <td>564</td>\n",
       "      <td>200.168708</td>\n",
       "      <td>2.352837</td>\n",
       "    </tr>\n",
       "    <tr>\n",
       "      <th>1</th>\n",
       "      <td>2024-09-02</td>\n",
       "      <td>1376</td>\n",
       "      <td>573</td>\n",
       "      <td>190.015637</td>\n",
       "      <td>2.401396</td>\n",
       "    </tr>\n",
       "    <tr>\n",
       "      <th>2</th>\n",
       "      <td>2024-09-03</td>\n",
       "      <td>5094</td>\n",
       "      <td>777</td>\n",
       "      <td>80.650134</td>\n",
       "      <td>6.555985</td>\n",
       "    </tr>\n",
       "    <tr>\n",
       "      <th>3</th>\n",
       "      <td>2024-09-04</td>\n",
       "      <td>1760</td>\n",
       "      <td>684</td>\n",
       "      <td>179.363761</td>\n",
       "      <td>2.573099</td>\n",
       "    </tr>\n",
       "    <tr>\n",
       "      <th>4</th>\n",
       "      <td>2024-09-05</td>\n",
       "      <td>1941</td>\n",
       "      <td>738</td>\n",
       "      <td>189.804479</td>\n",
       "      <td>2.630081</td>\n",
       "    </tr>\n",
       "    <tr>\n",
       "      <th>...</th>\n",
       "      <td>...</td>\n",
       "      <td>...</td>\n",
       "      <td>...</td>\n",
       "      <td>...</td>\n",
       "      <td>...</td>\n",
       "    </tr>\n",
       "    <tr>\n",
       "      <th>56</th>\n",
       "      <td>2024-10-27</td>\n",
       "      <td>2844</td>\n",
       "      <td>1032</td>\n",
       "      <td>187.300193</td>\n",
       "      <td>2.755814</td>\n",
       "    </tr>\n",
       "    <tr>\n",
       "      <th>57</th>\n",
       "      <td>2024-10-28</td>\n",
       "      <td>2837</td>\n",
       "      <td>985</td>\n",
       "      <td>170.715845</td>\n",
       "      <td>2.880203</td>\n",
       "    </tr>\n",
       "    <tr>\n",
       "      <th>58</th>\n",
       "      <td>2024-10-29</td>\n",
       "      <td>2832</td>\n",
       "      <td>998</td>\n",
       "      <td>177.667920</td>\n",
       "      <td>2.837675</td>\n",
       "    </tr>\n",
       "    <tr>\n",
       "      <th>59</th>\n",
       "      <td>2024-10-30</td>\n",
       "      <td>2925</td>\n",
       "      <td>1039</td>\n",
       "      <td>182.916837</td>\n",
       "      <td>2.815207</td>\n",
       "    </tr>\n",
       "    <tr>\n",
       "      <th>60</th>\n",
       "      <td>2024-10-31</td>\n",
       "      <td>5957</td>\n",
       "      <td>1270</td>\n",
       "      <td>150.631872</td>\n",
       "      <td>4.690551</td>\n",
       "    </tr>\n",
       "  </tbody>\n",
       "</table>\n",
       "<p>61 rows × 5 columns</p>\n",
       "</div>"
      ],
      "text/plain": [
       "     order_dt  order_count   dau  avg_one_ticket  orders_per_user\n",
       "0  2024-09-01         1327   564      200.168708         2.352837\n",
       "1  2024-09-02         1376   573      190.015637         2.401396\n",
       "2  2024-09-03         5094   777       80.650134         6.555985\n",
       "3  2024-09-04         1760   684      179.363761         2.573099\n",
       "4  2024-09-05         1941   738      189.804479         2.630081\n",
       "..        ...          ...   ...             ...              ...\n",
       "56 2024-10-27         2844  1032      187.300193         2.755814\n",
       "57 2024-10-28         2837   985      170.715845         2.880203\n",
       "58 2024-10-29         2832   998      177.667920         2.837675\n",
       "59 2024-10-30         2925  1039      182.916837         2.815207\n",
       "60 2024-10-31         5957  1270      150.631872         4.690551\n",
       "\n",
       "[61 rows x 5 columns]"
      ]
     },
     "execution_count": 41,
     "metadata": {},
     "output_type": "execute_result"
    }
   ],
   "source": [
    "df_autumn = full_df[full_df['season'] == 'осень'].copy()\n",
    "daily_stats = (df_autumn.groupby('order_dt').agg(order_count=('order_id', 'count'), dau=('user_id', 'nunique'), avg_one_ticket=('one_ticket_revenue_rub', 'mean')))\n",
    "daily_stats['orders_per_user'] = daily_stats['order_count'] / daily_stats['dau']\n",
    "daily_stats = daily_stats.reset_index()\n",
    "daily_stats"
   ]
  },
  {
   "cell_type": "code",
   "execution_count": 42,
   "metadata": {},
   "outputs": [
    {
     "data": {
      "image/png": "[encoded data removed]",
      "text/plain": [
       "<Figure size 864x432 with 1 Axes>"
      ]
     },
     "metadata": {
      "needs_background": "light"
     },
     "output_type": "display_data"
    }
   ],
   "source": [
    "plt.figure(figsize=(12, 6))\n",
    "daily_stats.set_index('order_dt')['order_count'].plot()\n",
    "plt.title('Общее число заказов по дням')\n",
    "plt.xlabel('Дата')\n",
    "plt.ylabel('Число заказов')\n",
    "plt.tight_layout()\n",
    "plt.show()"
   ]
  },
  {
   "cell_type": "code",
   "execution_count": 43,
   "metadata": {},
   "outputs": [
    {
     "data": {
      "image/png": "[encoded data removed]",
      "text/plain": [
       "<Figure size 864x432 with 1 Axes>"
      ]
     },
     "metadata": {
      "needs_background": "light"
     },
     "output_type": "display_data"
    }
   ],
   "source": [
    "plt.figure(figsize=(12, 6))\n",
    "daily_stats.set_index('order_dt')['dau'].plot()\n",
    "plt.title('Количество уникальных пользователей по дням')\n",
    "plt.xlabel('Дата')\n",
    "plt.ylabel('Число пользователей')\n",
    "plt.tight_layout()\n",
    "plt.show()"
   ]
  },
  {
   "cell_type": "code",
   "execution_count": 44,
   "metadata": {},
   "outputs": [
    {
     "data": {
      "image/png": "[encoded data removed]",
      "text/plain": [
       "<Figure size 864x432 with 1 Axes>"
      ]
     },
     "metadata": {
      "needs_background": "light"
     },
     "output_type": "display_data"
    }
   ],
   "source": [
    "plt.figure(figsize=(12, 6))\n",
    "daily_stats.set_index('order_dt')['orders_per_user'].plot()\n",
    "plt.title('Среднее число заказов на пользователя по дням')\n",
    "plt.xlabel('Дата')\n",
    "plt.ylabel('Заказов на пользователя')\n",
    "plt.tight_layout()\n",
    "plt.show()"
   ]
  },
  {
   "cell_type": "code",
   "execution_count": 45,
   "metadata": {},
   "outputs": [
    {
     "data": {
      "image/png": "[encoded data removed]",
      "text/plain": [
       "<Figure size 864x432 with 1 Axes>"
      ]
     },
     "metadata": {
      "needs_background": "light"
     },
     "output_type": "display_data"
    }
   ],
   "source": [
    "plt.figure(figsize=(12, 6))\n",
    "daily_stats.set_index('order_dt')['avg_one_ticket'].plot()\n",
    "plt.title('Средняя стоимость билета по дням')\n",
    "plt.xlabel('Дата')\n",
    "plt.ylabel('Средняя стоимость билета')\n",
    "plt.tight_layout()\n",
    "plt.show()"
   ]
  },
  {
   "cell_type": "markdown",
   "metadata": {},
   "source": [
    "#### Изучение недельной цикличности"
   ]
  },
  {
   "cell_type": "code",
   "execution_count": 46,
   "metadata": {},
   "outputs": [],
   "source": [
    "df_autumn['weekday'] = pd.to_datetime(df_autumn['order_dt']).dt.weekday\n",
    "grouped_df = (df_autumn.groupby('weekday').agg(order_count=('order_id', 'count'), dau=('user_id', 'nunique'), tickets_sum=('tickets_count', 'sum'), revenue_sum=('revenue_rub', 'sum')))\n",
    "grouped_df['orders_per_user'] = grouped_df['order_count'] / grouped_df['dau']\n",
    "grouped_df['avg_ticket'] = grouped_df['revenue_sum'] / grouped_df['tickets_sum']\n",
    "grouped_df['type'] = grouped_df.index.map(lambda x: 'будни' if x < 5 else 'выходные')\n",
    "by_type = grouped_df.groupby('type').mean()"
   ]
  },
  {
   "cell_type": "code",
   "execution_count": 47,
   "metadata": {},
   "outputs": [
    {
     "data": {
      "image/png": "[encoded data removed]",
      "text/plain": [
       "<Figure size 864x432 with 1 Axes>"
      ]
     },
     "metadata": {
      "needs_background": "light"
     },
     "output_type": "display_data"
    }
   ],
   "source": [
    "plt.figure(figsize=(12, 6))\n",
    "grouped_df['order_count'].plot()\n",
    "plt.title('Общее число заказов по дням недели')\n",
    "plt.xlabel('День недели')\n",
    "plt.ylabel('Число заказов')\n",
    "plt.tight_layout()\n",
    "plt.show()"
   ]
  },
  {
   "cell_type": "code",
   "execution_count": 48,
   "metadata": {
    "scrolled": false
   },
   "outputs": [
    {
     "data": {
      "image/png": "[encoded data removed]",
      "text/plain": [
       "<Figure size 864x432 with 1 Axes>"
      ]
     },
     "metadata": {
      "needs_background": "light"
     },
     "output_type": "display_data"
    }
   ],
   "source": [
    "plt.figure(figsize=(12, 6))\n",
    "grouped_df['dau'].plot()\n",
    "plt.title('Уникальные пользователи по дням недели')\n",
    "plt.xlabel('День недели')\n",
    "plt.ylabel('Число пользователей')\n",
    "plt.tight_layout()\n",
    "plt.show()"
   ]
  },
  {
   "cell_type": "code",
   "execution_count": 49,
   "metadata": {},
   "outputs": [
    {
     "data": {
      "image/png": "[encoded data removed]",
      "text/plain": [
       "<Figure size 864x432 with 1 Axes>"
      ]
     },
     "metadata": {
      "needs_background": "light"
     },
     "output_type": "display_data"
    }
   ],
   "source": [
    "plt.figure(figsize=(12, 6))\n",
    "grouped_df['orders_per_user'].plot()\n",
    "plt.title('Среднее число заказов на пользователя по дням недели')\n",
    "plt.xlabel('День недели')\n",
    "plt.ylabel('Заказов на пользователя')\n",
    "plt.tight_layout()\n",
    "plt.show()"
   ]
  },
  {
   "cell_type": "code",
   "execution_count": 50,
   "metadata": {},
   "outputs": [
    {
     "data": {
      "image/png": "[encoded data removed]",
      "text/plain": [
       "<Figure size 864x432 with 1 Axes>"
      ]
     },
     "metadata": {
      "needs_background": "light"
     },
     "output_type": "display_data"
    }
   ],
   "source": [
    "plt.figure(figsize=(12, 6))\n",
    "grouped_df['avg_ticket'].plot()\n",
    "plt.title('Средняя стоимость билета по дням недели')\n",
    "plt.xlabel('День недели')\n",
    "plt.ylabel('Средняя стоимость билета')\n",
    "plt.tight_layout()\n",
    "plt.show()"
   ]
  },
  {
   "cell_type": "markdown",
   "metadata": {},
   "source": [
    "- Показатели: общее число заказов по дням, количество уникальных пользователей (DAU) по дням, среднее число заказов на пользователя по дням и средняя стоимость билета по дням показывают колебания на графиках. Самое высокое значение по общему числу заказов по дням и среднему числу заказов на пользователя по дням приходится на 3 сентября и 1 октября, это связано с тем, что в эти дни зафиксированы самые низкие показатели средней стоимости билета по дням, 3 сентября обычно ученики и студенты выходят на учёбу и компании проводят акции, 1 октября возможно проводилось промо.\n",
    "- Самый высокий показатель общего числа заказов по дням недели и среднему числу заказов на пользователя по дням недели приходится на 1 день недели, это связано с самой низкой стоимостью билета по дням недели и пользователи заранее осуществляют покупку билетов по низкой цене. К выходным показатели общего числа заказов по дням недели, количества уникальных пользователей (DAU) по дням недели и среднего числа заказов на пользователя по дням недели снижается, так как наступают выходные и средняя стоимость билета по дням недели растёт."
   ]
  },
  {
   "cell_type": "markdown",
   "metadata": {},
   "source": [
    "<div class=\"alert alert-block alert-success\">✔️\n",
    "    \n",
    "\n",
    "__Комментарий от ревьюера №1__\n",
    "\n",
    "Осенью 2024 года наблюдается положительная динамика: общее число заказов и количество активных пользователей постепенно увеличиваются. Среднее число заказов на одного пользователя остаётся стабильным, с пиками в отдельные дни. Средняя стоимость билета колеблется, но не демонстрирует чёткой тенденции."
   ]
  },
  {
   "cell_type": "markdown",
   "metadata": {},
   "source": [
    "### Популярные события и партнёры"
   ]
  },
  {
   "cell_type": "code",
   "execution_count": 51,
   "metadata": {},
   "outputs": [
    {
     "data": {
      "text/html": [
       "<div>\n",
       "<style scoped>\n",
       "    .dataframe tbody tr th:only-of-type {\n",
       "        vertical-align: middle;\n",
       "    }\n",
       "\n",
       "    .dataframe tbody tr th {\n",
       "        vertical-align: top;\n",
       "    }\n",
       "\n",
       "    .dataframe thead th {\n",
       "        text-align: right;\n",
       "    }\n",
       "</style>\n",
       "<table border=\"1\" class=\"dataframe\">\n",
       "  <thead>\n",
       "    <tr style=\"text-align: right;\">\n",
       "      <th></th>\n",
       "      <th>region_name</th>\n",
       "      <th>unique_events</th>\n",
       "      <th>orders_count</th>\n",
       "      <th>share_events</th>\n",
       "      <th>share_orders</th>\n",
       "    </tr>\n",
       "  </thead>\n",
       "  <tbody>\n",
       "    <tr>\n",
       "      <th>23</th>\n",
       "      <td>Каменевский регион</td>\n",
       "      <td>3910</td>\n",
       "      <td>46684</td>\n",
       "      <td>0.246843</td>\n",
       "      <td>0.277183</td>\n",
       "    </tr>\n",
       "    <tr>\n",
       "      <th>59</th>\n",
       "      <td>Североярская область</td>\n",
       "      <td>2611</td>\n",
       "      <td>20704</td>\n",
       "      <td>0.164836</td>\n",
       "      <td>0.122929</td>\n",
       "    </tr>\n",
       "    <tr>\n",
       "      <th>75</th>\n",
       "      <td>Широковская область</td>\n",
       "      <td>796</td>\n",
       "      <td>8648</td>\n",
       "      <td>0.050253</td>\n",
       "      <td>0.051347</td>\n",
       "    </tr>\n",
       "    <tr>\n",
       "      <th>56</th>\n",
       "      <td>Светополянский округ</td>\n",
       "      <td>762</td>\n",
       "      <td>4771</td>\n",
       "      <td>0.048106</td>\n",
       "      <td>0.028327</td>\n",
       "    </tr>\n",
       "    <tr>\n",
       "      <th>51</th>\n",
       "      <td>Речиновская область</td>\n",
       "      <td>529</td>\n",
       "      <td>3565</td>\n",
       "      <td>0.033396</td>\n",
       "      <td>0.021167</td>\n",
       "    </tr>\n",
       "    <tr>\n",
       "      <th>60</th>\n",
       "      <td>Серебринская область</td>\n",
       "      <td>456</td>\n",
       "      <td>4467</td>\n",
       "      <td>0.028788</td>\n",
       "      <td>0.026523</td>\n",
       "    </tr>\n",
       "    <tr>\n",
       "      <th>76</th>\n",
       "      <td>Яблоневская область</td>\n",
       "      <td>431</td>\n",
       "      <td>4196</td>\n",
       "      <td>0.027210</td>\n",
       "      <td>0.024913</td>\n",
       "    </tr>\n",
       "    <tr>\n",
       "      <th>67</th>\n",
       "      <td>Тепляковская область</td>\n",
       "      <td>419</td>\n",
       "      <td>2485</td>\n",
       "      <td>0.026452</td>\n",
       "      <td>0.014755</td>\n",
       "    </tr>\n",
       "    <tr>\n",
       "      <th>11</th>\n",
       "      <td>Горицветская область</td>\n",
       "      <td>406</td>\n",
       "      <td>3230</td>\n",
       "      <td>0.025631</td>\n",
       "      <td>0.019178</td>\n",
       "    </tr>\n",
       "    <tr>\n",
       "      <th>63</th>\n",
       "      <td>Солнечноземская область</td>\n",
       "      <td>402</td>\n",
       "      <td>4197</td>\n",
       "      <td>0.025379</td>\n",
       "      <td>0.024919</td>\n",
       "    </tr>\n",
       "  </tbody>\n",
       "</table>\n",
       "</div>"
      ],
      "text/plain": [
       "                region_name  unique_events  orders_count  share_events  \\\n",
       "23       Каменевский регион           3910         46684      0.246843   \n",
       "59     Североярская область           2611         20704      0.164836   \n",
       "75      Широковская область            796          8648      0.050253   \n",
       "56     Светополянский округ            762          4771      0.048106   \n",
       "51      Речиновская область            529          3565      0.033396   \n",
       "60     Серебринская область            456          4467      0.028788   \n",
       "76      Яблоневская область            431          4196      0.027210   \n",
       "67     Тепляковская область            419          2485      0.026452   \n",
       "11     Горицветская область            406          3230      0.025631   \n",
       "63  Солнечноземская область            402          4197      0.025379   \n",
       "\n",
       "    share_orders  \n",
       "23      0.277183  \n",
       "59      0.122929  \n",
       "75      0.051347  \n",
       "56      0.028327  \n",
       "51      0.021167  \n",
       "60      0.026523  \n",
       "76      0.024913  \n",
       "67      0.014755  \n",
       "11      0.019178  \n",
       "63      0.024919  "
      ]
     },
     "execution_count": 51,
     "metadata": {},
     "output_type": "execute_result"
    }
   ],
   "source": [
    "region_stats = (df_autumn.groupby('region_name').agg(unique_events=('event_id', 'nunique'), orders_count=('order_id', 'count')).reset_index())\n",
    "total_events = df_autumn['event_id'].nunique()\n",
    "total_orders = df_autumn['order_id'].count()\n",
    "region_stats['share_events'] = region_stats['unique_events'] / total_events\n",
    "region_stats['share_orders'] = region_stats['orders_count'] / total_orders\n",
    "region_stats = region_stats.sort_values('unique_events', ascending=False)\n",
    "region_stats.head(10)"
   ]
  },
  {
   "cell_type": "markdown",
   "metadata": {},
   "source": [
    "<div class=\"alert alert-block alert-warning\">📝\n",
    "    \n",
    "\n",
    "__Комментарий от ревьюера №1__\n",
    "\n",
    "Для признаков с большим количеством уникальных значений стоит визуализировать топ-n значений по частот"
   ]
  },
  {
   "cell_type": "code",
   "execution_count": 52,
   "metadata": {},
   "outputs": [
    {
     "data": {
      "text/html": [
       "<div>\n",
       "<style scoped>\n",
       "    .dataframe tbody tr th:only-of-type {\n",
       "        vertical-align: middle;\n",
       "    }\n",
       "\n",
       "    .dataframe tbody tr th {\n",
       "        vertical-align: top;\n",
       "    }\n",
       "\n",
       "    .dataframe thead th {\n",
       "        text-align: right;\n",
       "    }\n",
       "</style>\n",
       "<table border=\"1\" class=\"dataframe\">\n",
       "  <thead>\n",
       "    <tr style=\"text-align: right;\">\n",
       "      <th></th>\n",
       "      <th>service_name</th>\n",
       "      <th>unique_events</th>\n",
       "      <th>orders_count</th>\n",
       "      <th>revenue_rub_sum</th>\n",
       "      <th>share_events</th>\n",
       "      <th>share_orders</th>\n",
       "      <th>share_revenue</th>\n",
       "    </tr>\n",
       "  </thead>\n",
       "  <tbody>\n",
       "    <tr>\n",
       "      <th>3</th>\n",
       "      <td>Билеты без проблем</td>\n",
       "      <td>2836</td>\n",
       "      <td>32328</td>\n",
       "      <td>1.217264e+07</td>\n",
       "      <td>0.179040</td>\n",
       "      <td>0.191945</td>\n",
       "      <td>0.148642</td>\n",
       "    </tr>\n",
       "    <tr>\n",
       "      <th>21</th>\n",
       "      <td>Лови билет!</td>\n",
       "      <td>3611</td>\n",
       "      <td>25772</td>\n",
       "      <td>1.038196e+07</td>\n",
       "      <td>0.227967</td>\n",
       "      <td>0.153019</td>\n",
       "      <td>0.126776</td>\n",
       "    </tr>\n",
       "    <tr>\n",
       "      <th>5</th>\n",
       "      <td>Билеты в руки</td>\n",
       "      <td>2457</td>\n",
       "      <td>25646</td>\n",
       "      <td>7.613840e+06</td>\n",
       "      <td>0.155114</td>\n",
       "      <td>0.152271</td>\n",
       "      <td>0.092974</td>\n",
       "    </tr>\n",
       "    <tr>\n",
       "      <th>24</th>\n",
       "      <td>Мой билет</td>\n",
       "      <td>1005</td>\n",
       "      <td>19416</td>\n",
       "      <td>1.085068e+07</td>\n",
       "      <td>0.063447</td>\n",
       "      <td>0.115281</td>\n",
       "      <td>0.132500</td>\n",
       "    </tr>\n",
       "    <tr>\n",
       "      <th>25</th>\n",
       "      <td>Облачко</td>\n",
       "      <td>1409</td>\n",
       "      <td>15478</td>\n",
       "      <td>1.061105e+07</td>\n",
       "      <td>0.088952</td>\n",
       "      <td>0.091900</td>\n",
       "      <td>0.129574</td>\n",
       "    </tr>\n",
       "    <tr>\n",
       "      <th>22</th>\n",
       "      <td>Лучшие билеты</td>\n",
       "      <td>1389</td>\n",
       "      <td>12406</td>\n",
       "      <td>1.676034e+06</td>\n",
       "      <td>0.087689</td>\n",
       "      <td>0.073660</td>\n",
       "      <td>0.020466</td>\n",
       "    </tr>\n",
       "    <tr>\n",
       "      <th>8</th>\n",
       "      <td>Весь в билетах</td>\n",
       "      <td>599</td>\n",
       "      <td>9416</td>\n",
       "      <td>9.351279e+06</td>\n",
       "      <td>0.037816</td>\n",
       "      <td>0.055907</td>\n",
       "      <td>0.114190</td>\n",
       "    </tr>\n",
       "    <tr>\n",
       "      <th>26</th>\n",
       "      <td>Прачечная</td>\n",
       "      <td>728</td>\n",
       "      <td>5798</td>\n",
       "      <td>2.548310e+06</td>\n",
       "      <td>0.045960</td>\n",
       "      <td>0.034425</td>\n",
       "      <td>0.031118</td>\n",
       "    </tr>\n",
       "    <tr>\n",
       "      <th>30</th>\n",
       "      <td>Тебе билет!</td>\n",
       "      <td>858</td>\n",
       "      <td>3759</td>\n",
       "      <td>2.166185e+06</td>\n",
       "      <td>0.054167</td>\n",
       "      <td>0.022319</td>\n",
       "      <td>0.026452</td>\n",
       "    </tr>\n",
       "    <tr>\n",
       "      <th>34</th>\n",
       "      <td>Яблоко</td>\n",
       "      <td>537</td>\n",
       "      <td>3473</td>\n",
       "      <td>2.763332e+06</td>\n",
       "      <td>0.033902</td>\n",
       "      <td>0.020621</td>\n",
       "      <td>0.033744</td>\n",
       "    </tr>\n",
       "  </tbody>\n",
       "</table>\n",
       "</div>"
      ],
      "text/plain": [
       "          service_name  unique_events  orders_count  revenue_rub_sum  \\\n",
       "3   Билеты без проблем           2836         32328     1.217264e+07   \n",
       "21         Лови билет!           3611         25772     1.038196e+07   \n",
       "5        Билеты в руки           2457         25646     7.613840e+06   \n",
       "24           Мой билет           1005         19416     1.085068e+07   \n",
       "25             Облачко           1409         15478     1.061105e+07   \n",
       "22       Лучшие билеты           1389         12406     1.676034e+06   \n",
       "8       Весь в билетах            599          9416     9.351279e+06   \n",
       "26           Прачечная            728          5798     2.548310e+06   \n",
       "30         Тебе билет!            858          3759     2.166185e+06   \n",
       "34              Яблоко            537          3473     2.763332e+06   \n",
       "\n",
       "    share_events  share_orders  share_revenue  \n",
       "3       0.179040      0.191945       0.148642  \n",
       "21      0.227967      0.153019       0.126776  \n",
       "5       0.155114      0.152271       0.092974  \n",
       "24      0.063447      0.115281       0.132500  \n",
       "25      0.088952      0.091900       0.129574  \n",
       "22      0.087689      0.073660       0.020466  \n",
       "8       0.037816      0.055907       0.114190  \n",
       "26      0.045960      0.034425       0.031118  \n",
       "30      0.054167      0.022319       0.026452  \n",
       "34      0.033902      0.020621       0.033744  "
      ]
     },
     "execution_count": 52,
     "metadata": {},
     "output_type": "execute_result"
    }
   ],
   "source": [
    "partner_stats = (df_autumn.groupby('service_name').agg(unique_events=('event_id', 'nunique'), orders_count=('order_id', 'count'), revenue_rub_sum=('revenue_rub', 'sum')).reset_index())\n",
    "partner_stats['share_events'] = partner_stats['unique_events'] / total_events\n",
    "partner_stats['share_orders'] = partner_stats['orders_count'] / total_orders\n",
    "partner_stats['share_revenue'] = partner_stats['revenue_rub_sum'] / df_autumn['revenue_rub'].sum()\n",
    "partner_stats = partner_stats.sort_values('orders_count', ascending=False)\n",
    "partner_stats.head(10)"
   ]
  },
  {
   "cell_type": "markdown",
   "metadata": {},
   "source": [
    "- Осенью наибольшее разнообразие мероприятий наблюдается в Каменевском регионе - 3910 уникальных мероприятий, что составляет 25% уникальных событий, Североярской области - 2611 мероприятий, что составляет 16% уникальных событий, Широковской области - 796 мероприятий, что составляет 5% событий. Топ-3 регионов обеспечивают большую часть доли уникальных событий и большую часть долю заказов. Несмотря на то, что в распределении по регионам заметны явные лидеры, остальные регионы обеспечивают, суммарно значимую долю уникальных событий и заказов.\n",
    "- Осенью лидерами по количеству заказов являются билетные операторы — Билеты без проблем - 32328 заказов, что составляет 19% от общего числа заказов, Лови билет! - 25772, что составляет 15% от общего числа заказов, Билеты в руки - 25646 заказов, что составляет 15% от общего числа заказов. Несмотря на то, что данные операторы лидируют по количеству заказов, по выручке лидеры иные - Билеты без проблем у которого процент по выручке от общей выручке - 15%, Мой билет у которого процент по выручке - 13% и Облачко у которого процент по выручке - 13%. Как и в случае с разнообразием мероприятий в регионах, несмотря на то, что в распределении по билетным партнёрам заметны явные лидеры, остальные партнёры обеспечивают, суммарно значимую долю уникальных событий и заказов."
   ]
  },
  {
   "cell_type": "markdown",
   "metadata": {},
   "source": [
    "<div class=\"alert alert-block alert-success\">✔️\n",
    "    \n",
    "\n",
    "__Комментарий от ревьюера №1__\n",
    "\n",
    "    \n",
    "«Билеты без проблем» — лидер по охвату, но проигрывает по доле мероприятий"
   ]
  },
  {
   "cell_type": "markdown",
   "metadata": {},
   "source": [
    "## Статистический анализ данных"
   ]
  },
  {
   "cell_type": "markdown",
   "metadata": {},
   "source": [
    "### Проверка первой гипотезы в Python\n",
    "\n",
    "Гипотеза звучит так: Среднее количество заказов на одного пользователя мобильного приложения выше по сравнению с пользователями стационарных устройств.\n",
    "\n",
    "- Нулевая гипотеза H₀: В осенний период среднее количество заказов на одного пользователя мобильного приложения не выше по сравнению с пользователями стационарных устройств.\n",
    "\n",
    "- Альтернативная гипотеза H₁: В осенний период среднее количество заказов на одного пользователя мобильного приложения выше по сравнению с пользователями стационарных устройств."
   ]
  },
  {
   "cell_type": "markdown",
   "metadata": {},
   "source": [
    "<div class=\"alert alert-block alert-success\">✔️\n",
    "    \n",
    "\n",
    "__Комментарий от ревьюера №1__\n",
    "\n",
    "    \n",
    "Верная интерпретация нулевой и альтернативной гипотезы"
   ]
  },
  {
   "cell_type": "code",
   "execution_count": 53,
   "metadata": {},
   "outputs": [
    {
     "name": "stdout",
     "output_type": "stream",
     "text": [
      "Количество пользователей в обеих группах: 3249\n"
     ]
    }
   ],
   "source": [
    "full_autumn_df = full_df[full_df['season'] == 'осень']\n",
    "grouped_device_user = (full_autumn_df.groupby(['device_type_canonical', 'user_id'], as_index=False).agg({'order_id': 'count'}).rename(columns={'order_id': 'orders_per_user'}))\n",
    "mobile_users = set(grouped_device_user[grouped_device_user['device_type_canonical'] == 'mobile']['user_id'])\n",
    "desktop_users = set(grouped_device_user[grouped_device_user['device_type_canonical'] == 'desktop']['user_id'])\n",
    "intersect_users = mobile_users & desktop_users\n",
    "print(f\"Количество пользователей в обеих группах: {len(intersect_users)}\")"
   ]
  },
  {
   "cell_type": "code",
   "execution_count": 54,
   "metadata": {},
   "outputs": [],
   "source": [
    "filtered_grouped_device_user = grouped_device_user[~grouped_device_user['user_id'].isin(intersect_users)]"
   ]
  },
  {
   "cell_type": "code",
   "execution_count": 55,
   "metadata": {},
   "outputs": [
    {
     "data": {
      "image/png": "[encoded data removed]",
      "text/plain": [
       "<Figure size 864x432 with 1 Axes>"
      ]
     },
     "metadata": {
      "needs_background": "light"
     },
     "output_type": "display_data"
    }
   ],
   "source": [
    "mobile_orders = filtered_grouped_device_user[filtered_grouped_device_user['device_type_canonical'] == 'mobile']['orders_per_user']\n",
    "desktop_orders = filtered_grouped_device_user[filtered_grouped_device_user['device_type_canonical'] == 'desktop']['orders_per_user']\n",
    "plt.figure(figsize=(12,6))\n",
    "sns.histplot(mobile_orders, bins=10, color='cyan', label='Мобильное приложение', stat=\"count\", kde=True)\n",
    "sns.histplot(desktop_orders, bins=10, color='orange', label='Стационарное приложение', stat=\"count\", kde=True)\n",
    "plt.title('Распределение заказов на пользователя')\n",
    "plt.xlabel('Заказы на пользователя')\n",
    "plt.ylabel('Количество пользователей')\n",
    "plt.legend()\n",
    "plt.tight_layout()\n",
    "plt.show()"
   ]
  },
  {
   "cell_type": "markdown",
   "metadata": {},
   "source": [
    "Для проверки гипотезы будет выбран тест Манна-Уитни, так как данные не распределены нормально."
   ]
  },
  {
   "cell_type": "markdown",
   "metadata": {},
   "source": [
    "<div class=\"alert alert-block alert-success\">✔️\n",
    "    \n",
    "\n",
    "__Комментарий от ревьюера №1__\n",
    "\n",
    "    \n",
    "Обосновано"
   ]
  },
  {
   "cell_type": "markdown",
   "metadata": {},
   "source": []
  },
  {
   "cell_type": "markdown",
   "metadata": {},
   "source": [
    "<div class=\"alert alert-block alert-danger\">✍\n",
    "    \n",
    "\n",
    "__Комментарий от ревьюера №1__\n",
    "\n",
    "    \n",
    "Перед проверкой гипотезы важно проверить, имеются ли клиенты, которые находятся в обоих группах одновременно. Если да - то их лучше удалить, чтобы не нарушать гомогенность"
   ]
  },
  {
   "cell_type": "markdown",
   "metadata": {},
   "source": [
    "<div class=\"alert alert-info\"> <b>Комментарии студента:</b> Соглашусь, удалил пользователей, который находились в обеих группах одновременно)</div>"
   ]
  },
  {
   "cell_type": "markdown",
   "metadata": {},
   "source": [
    "<div class=\"alert alert-block alert-success\">✔️\n",
    "    \n",
    "\n",
    "__Комментарий от ревьюера №2__\n",
    "\n",
    "Да, теперь корректно"
   ]
  },
  {
   "cell_type": "code",
   "execution_count": 56,
   "metadata": {},
   "outputs": [
    {
     "name": "stdout",
     "output_type": "stream",
     "text": [
      "pvalue=4.7602249799150366e-39 < 0.05\n",
      "Нулевая гипотеза не находит подтверждения!\n"
     ]
    }
   ],
   "source": [
    "alpha = 0.05\n",
    "stat_mw, p_value_mw = mannwhitneyu(mobile_orders, desktop_orders, alternative='greater')\n",
    "if p_value_mw > alpha:\n",
    "    print(f'pvalue={p_value_mw} > {alpha}')\n",
    "    print('Нулевая гипотеза находит подтверждение!')\n",
    "else:\n",
    "    print(f'pvalue={p_value_mw} < {alpha}')\n",
    "    print('Нулевая гипотеза не находит подтверждения!')"
   ]
  },
  {
   "cell_type": "markdown",
   "metadata": {},
   "source": [
    "- Перед проверкой гипотезы проверено, имеются ли клиенты, которые находятся в обоих группах одновременно. В ходе проверки было выявлено 3249 пользователей, они были удалены из выборки чтобы не нарушать гомогенность.\n",
    "- График распределения показал, что данные не распределены нормально. Распределение заказов ассиметричное, хвост медленно убывающий. Для проверки гипотезы выбран тест Манна-Уитни.\n",
    "- Тест показал значение p-value 4.7602249799150366e-39, следовательно нулевая гипотеза не находит подтверждения.\n",
    "- Отсюда можно сделать вывод, что в осенний период среднее количество заказов на одного пользователя мобильного приложения выше по сравнению с пользователями стационарных устройств."
   ]
  },
  {
   "cell_type": "markdown",
   "metadata": {},
   "source": [
    "### Проверка второй гипотезы в Python\n",
    "\n",
    "Гипотеза звучит так: Среднее время между заказами пользователей мобильных приложений выше по сравнению с пользователями стационарных устройств.\n",
    "\n",
    "- Нулевая гипотеза H₀: В осенний период среднее время между заказами пользователей мобильных приложений не выше по сравнению с пользователями стационарных устройств.\n",
    "\n",
    "- Альтернативная гипотеза H₁: В осенний период среднее время между заказами пользователей мобильных приложений выше по сравнению с пользователями стационарных устройств."
   ]
  },
  {
   "cell_type": "code",
   "execution_count": 57,
   "metadata": {},
   "outputs": [
    {
     "name": "stdout",
     "output_type": "stream",
     "text": [
      "Количество пользователей в обеих группах (пересечения): 3029\n"
     ]
    }
   ],
   "source": [
    "grouped_days = full_autumn_df[full_autumn_df['days_since_prev'].notnull()]\n",
    "mobile_users = set(grouped_days[grouped_days['device_type_canonical'] == 'mobile']['user_id'])\n",
    "desktop_users = set(grouped_days[grouped_days['device_type_canonical'] == 'desktop']['user_id'])\n",
    "intersect_users = mobile_users & desktop_users\n",
    "print(f\"Количество пользователей в обеих группах (пересечения): {len(intersect_users)}\")"
   ]
  },
  {
   "cell_type": "code",
   "execution_count": 58,
   "metadata": {},
   "outputs": [],
   "source": [
    "filtered_grouped_days = grouped_days[~grouped_days['user_id'].isin(intersect_users)]"
   ]
  },
  {
   "cell_type": "code",
   "execution_count": 59,
   "metadata": {},
   "outputs": [
    {
     "data": {
      "image/png": "[encoded data removed]",
      "text/plain": [
       "<Figure size 864x432 with 1 Axes>"
      ]
     },
     "metadata": {
      "needs_background": "light"
     },
     "output_type": "display_data"
    }
   ],
   "source": [
    "mobile_days = filtered_grouped_days[filtered_grouped_days['device_type_canonical'] == 'mobile']['days_since_prev']\n",
    "desktop_days = filtered_grouped_days[filtered_grouped_days['device_type_canonical'] == 'desktop']['days_since_prev']\n",
    "plt.figure(figsize=(12, 6))\n",
    "sns.histplot(mobile_days, bins=10, color='cyan', label='Мобильное приложение', stat=\"density\", kde=True)\n",
    "sns.histplot(desktop_days, bins=10, color='orange', label='Стационарное приложение', stat=\"density\", kde=True)\n",
    "plt.title('Распределение времени между заказами, дни')\n",
    "plt.xlabel('Время между заказами, дни')\n",
    "plt.ylabel('Плотность')\n",
    "plt.legend()\n",
    "plt.tight_layout()\n",
    "plt.show()"
   ]
  },
  {
   "cell_type": "markdown",
   "metadata": {},
   "source": [
    "Для проверки гипотезы будет выбран тест Манна-Уитни, так как данные не распределены нормально."
   ]
  },
  {
   "cell_type": "code",
   "execution_count": 60,
   "metadata": {},
   "outputs": [
    {
     "name": "stdout",
     "output_type": "stream",
     "text": [
      "pvalue=6.090153920533036e-07 < 0.05\n",
      "Нулевая гипотеза не находит подтверждения!\n"
     ]
    }
   ],
   "source": [
    "alpha = 0.05\n",
    "stat_mw, p_value_mw = mannwhitneyu(mobile_days, desktop_days, alternative='greater')\n",
    "if p_value_mw > alpha:\n",
    "    print(f'pvalue={p_value_mw} > {alpha}')\n",
    "    print('Нулевая гипотеза находит подтверждение!')\n",
    "else:\n",
    "    print(f'pvalue={p_value_mw} < {alpha}')\n",
    "    print('Нулевая гипотеза не находит подтверждения!')"
   ]
  },
  {
   "cell_type": "markdown",
   "metadata": {},
   "source": [
    "- - Перед проверкой гипотезы проверено, имеются ли клиенты, которые находятся в обоих группах одновременно. В ходе проверки было выявлено 3029 пользователей, они были удалены из выборки чтобы не нарушать гомогенность.\n",
    "- График распределения показал, что данные не распределены нормально. Распределение времени между заказами ассиметричное, хвост медленно убывающий. Для проверки гипотезы выбран тест Манна-Уитни.\n",
    "- Тест показал значение p-value 6.090153920533036e-07, следовательно нулевая гипотеза не находит подтверждения.\n",
    "- Отсюда можно сделать вывод, что в осенний период среднее время между заказами пользователей мобильных приложений выше по сравнению с пользователями стационарных устройств."
   ]
  },
  {
   "cell_type": "markdown",
   "metadata": {},
   "source": [
    "## Общий вывод и рекомендации"
   ]
  },
  {
   "cell_type": "markdown",
   "metadata": {},
   "source": [
    "В ходе анализа данных были изучены данные о бронировании билетов на сервисе Яндекс Афиша за период с 1 июня по 30 октября 2024 года, отражающие подробную информацию о заказах билетов, характеристиках мероприятий, а также динамике валютного курса за 2024 год. После предобработки, объединения и очищения данных, а также проведения анализа пользовательской активности и сезонной динамики, получены следующие выводы:\n",
    "- Динамика заказов положительная: В течение анализируемого периода количество заказов выросло почти в три раза — с 34 тысяч до 99 тысяч.\n",
    "- Осенью наблюдается рост интереса к типам мероприятий \"спорт\", \"театр\" и \"ёлки\". Так же в этот сезон снизилась популярность типов мероприятий \"выставки\", \"концерты\" и \"стендап\" и \"другое\".\n",
    "- Средняя стоимость билета по типам мероприятий \"выставки\", \"стендап\" увеличилась на 5–6%. По типам мероприятий \"концерты\", \"театр\", \"ёлки\" и \"другое\" средняя стоимость билета снизилась. Процент снижения варьируется в рамках 1-17% в зависимости от типа мероприятия.\n",
    "- Пользователи чаще делают заказы в начале недели, что связано с более низкими ценами на билеты в будни.\n",
    "- Топ-3 по количеству уникальных мероприятий являются Каменевский регион, Североярская и Широковская области. По числу заказов топ-3 составляет следующие билетные операторы \"Билеты без проблем\", \"Лови билет!\" и \"Билеты в руки\". По выручке лидерами являются билетные операторы Билеты без проблем, Мой билет и Облачко. В целом, несмотря на видимое лидерство нескольких регионов и партнёров, остальные партнёры обеспечивают, суммарно значимую долю уникальных событий и заказов.\n",
    "- Статистический тест показал, что среднее количество заказов на одного пользователя мобильного приложения выше по сравнению с пользователями стационарных устройств. Первая гипотеза была подтверждена.\n",
    "- Вторая гипотеза так же была подтверждена. Среднее время между заказами пользователей мобильных приложений действительно выше по сравнению с пользователями стационарных устройств.\n",
    "- По результатам проверок гипотез можно сделать вывод, что в осенний период поведение пользователей мобильного приложения и сайта для стационарных устройств различается по обоим показателям. В мобильном приложении пользователи делают больше заказов, но с большими перерывами между ними."
   ]
  },
  {
   "cell_type": "markdown",
   "metadata": {},
   "source": [
    "Рекомендации:\n",
    "- Продолжать развитие мобильного приложения с помощью уведомлений, подборок, так как пользователи мобильных устройств совершают больше заказов, несмотря на удлинённый промежуток между ними. Так же нужно обратить внимание на стационарную версию, возможно пользователю неудобно пользоваться сайтом и стоит пересмотреть его дизайн. \n",
    "- Проанализировать ценообразование, так как высокие пики активности связаны с низкой стоимостью билета в определённые дни недели.\n",
    "- Уделять внимание не только ключевым регионам и партнёрам, но и остальным, так как концентрация продаж у лидеров высокая, но остальные регионы и партнёры вносят существенный вклад.\n",
    "- Провести анализ возвратов. Выяснить связаны ли они со сбоем при оплате, или проблема в негативном клиентском опыте."
   ]
  },
  {
   "cell_type": "markdown",
   "metadata": {},
   "source": [
    "<div class=\"alert alert-block alert-success\">✔️\n",
    "    \n",
    "\n",
    "__Комментарий от ревьюера №1__\n",
    "\n",
    "В итоговом выводе отражены результаты исследовательской части, есть интерпретация тестов, а также рекомендации по развитию сервиса - отлично!"
   ]
  },
  {
   "cell_type": "markdown",
   "metadata": {},
   "source": []
  },
  {
   "cell_type": "markdown",
   "metadata": {},
   "source": []
  },
  {
   "cell_type": "markdown",
   "metadata": {},
   "source": [
    "<div style=\"border:solid blue 3px; padding: 20px\">\n",
    "<div class=\"alert alert-block alert-success\">✔️\n",
    "    \n",
    "\n",
    "__Коментарий от ревьюера №2__\n",
    "\n",
    "Валерий, все замечания учтены - проект принят!\n",
    "\n",
    "\n",
    "Всё чудно😊. Твой проект так и просится на github =)   \n",
    "    \n",
    "Поздравляю с успешным завершением проекта 😊👍\n",
    "И желаю успехов в новых работах 😊\n",
    "    \n",
    "---\n",
    "    \n",
    "От себя хочу порекомендовать тебе отличный метариал по статистике. \n",
    "    \n",
    "* Курс \"Вероятность и статистика\" | Глеб Михайлов (free): https://www.youtube.com/playlist?list=PLQJ7ptkRY-xbHLLI66KdscKp_FJt0FsIi\n",
    "    \n",
    "* Методы обнаружения выбросов: https://youtu.be/TOK7Kq7x0yc\n",
    "    \n",
    "\n",
    "</div>"
   ]
  }
 ],
 "metadata": {
  "ExecuteTimeLog": [
   {
    "duration": 1283,
    "start_time": "2025-07-23T03:29:51.323Z"
   },
   {
    "duration": 1513,
    "start_time": "2025-07-23T03:29:57.183Z"
   },
   {
    "duration": 98,
    "start_time": "2025-07-23T03:30:04.700Z"
   },
   {
    "duration": 274,
    "start_time": "2025-07-23T03:30:09.604Z"
   },
   {
    "duration": 20,
    "start_time": "2025-07-23T03:30:14.557Z"
   },
   {
    "duration": 92,
    "start_time": "2025-07-23T03:30:19.003Z"
   },
   {
    "duration": 11,
    "start_time": "2025-07-23T03:30:23.690Z"
   },
   {
    "duration": 444,
    "start_time": "2025-07-23T03:30:56.271Z"
   },
   {
    "duration": 183,
    "start_time": "2025-07-23T03:31:23.031Z"
   },
   {
    "duration": 182,
    "start_time": "2025-07-23T03:31:28.916Z"
   },
   {
    "duration": 605,
    "start_time": "2025-07-23T03:31:36.567Z"
   },
   {
    "duration": 291,
    "start_time": "2025-07-23T03:46:29.804Z"
   },
   {
    "duration": 113,
    "start_time": "2025-07-23T03:49:12.032Z"
   },
   {
    "duration": 112,
    "start_time": "2025-07-23T03:50:29.249Z"
   },
   {
    "duration": 114,
    "start_time": "2025-07-23T03:50:46.023Z"
   },
   {
    "duration": 25,
    "start_time": "2025-07-23T03:54:17.462Z"
   },
   {
    "duration": 115,
    "start_time": "2025-07-23T03:54:24.368Z"
   },
   {
    "duration": 118,
    "start_time": "2025-07-23T03:56:49.325Z"
   },
   {
    "duration": 116,
    "start_time": "2025-07-23T03:57:08.134Z"
   },
   {
    "duration": 121,
    "start_time": "2025-07-23T03:57:12.665Z"
   },
   {
    "duration": 1220,
    "start_time": "2025-07-23T03:57:29.376Z"
   },
   {
    "duration": 1474,
    "start_time": "2025-07-23T03:57:30.598Z"
   },
   {
    "duration": 110,
    "start_time": "2025-07-23T03:57:32.073Z"
   },
   {
    "duration": 258,
    "start_time": "2025-07-23T03:57:32.185Z"
   },
   {
    "duration": 27,
    "start_time": "2025-07-23T03:57:32.445Z"
   },
   {
    "duration": 57,
    "start_time": "2025-07-23T03:57:32.474Z"
   },
   {
    "duration": 11,
    "start_time": "2025-07-23T03:57:32.532Z"
   },
   {
    "duration": 479,
    "start_time": "2025-07-23T03:57:32.545Z"
   },
   {
    "duration": 191,
    "start_time": "2025-07-23T03:57:33.025Z"
   },
   {
    "duration": 197,
    "start_time": "2025-07-23T03:57:33.219Z"
   },
   {
    "duration": 618,
    "start_time": "2025-07-23T03:57:33.418Z"
   },
   {
    "duration": 128,
    "start_time": "2025-07-23T03:57:34.038Z"
   },
   {
    "duration": 26,
    "start_time": "2025-07-23T03:57:34.172Z"
   },
   {
    "duration": 46,
    "start_time": "2025-07-23T03:58:48.378Z"
   },
   {
    "duration": 48,
    "start_time": "2025-07-23T03:59:22.526Z"
   },
   {
    "duration": 10,
    "start_time": "2025-07-23T03:59:56.292Z"
   },
   {
    "duration": 122,
    "start_time": "2025-07-23T04:11:22.584Z"
   },
   {
    "duration": 18,
    "start_time": "2025-07-23T04:11:29.695Z"
   },
   {
    "duration": 41,
    "start_time": "2025-07-23T04:11:43.534Z"
   },
   {
    "duration": 3,
    "start_time": "2025-07-23T04:12:20.200Z"
   },
   {
    "duration": 20,
    "start_time": "2025-07-23T04:13:02.587Z"
   },
   {
    "duration": 114,
    "start_time": "2025-07-23T04:14:38.349Z"
   },
   {
    "duration": 120,
    "start_time": "2025-07-23T04:14:50.540Z"
   },
   {
    "duration": 3996,
    "start_time": "2025-07-23T04:14:50.792Z"
   },
   {
    "duration": 16,
    "start_time": "2025-07-23T04:16:46.584Z"
   },
   {
    "duration": 69,
    "start_time": "2025-07-23T04:17:24.945Z"
   },
   {
    "duration": 1202,
    "start_time": "2025-07-23T04:21:22.986Z"
   },
   {
    "duration": 1476,
    "start_time": "2025-07-23T04:21:24.189Z"
   },
   {
    "duration": 106,
    "start_time": "2025-07-23T04:21:25.667Z"
   },
   {
    "duration": 311,
    "start_time": "2025-07-23T04:21:25.774Z"
   },
   {
    "duration": 19,
    "start_time": "2025-07-23T04:21:26.086Z"
   },
   {
    "duration": 107,
    "start_time": "2025-07-23T04:21:26.106Z"
   },
   {
    "duration": 10,
    "start_time": "2025-07-23T04:21:26.215Z"
   },
   {
    "duration": 485,
    "start_time": "2025-07-23T04:21:26.226Z"
   },
   {
    "duration": 186,
    "start_time": "2025-07-23T04:21:26.713Z"
   },
   {
    "duration": 188,
    "start_time": "2025-07-23T04:21:26.900Z"
   },
   {
    "duration": 624,
    "start_time": "2025-07-23T04:21:27.089Z"
   },
   {
    "duration": 125,
    "start_time": "2025-07-23T04:21:27.715Z"
   },
   {
    "duration": 35,
    "start_time": "2025-07-23T04:21:27.841Z"
   },
   {
    "duration": 178,
    "start_time": "2025-07-23T04:21:27.879Z"
   },
   {
    "duration": 0,
    "start_time": "2025-07-23T04:21:28.059Z"
   },
   {
    "duration": 0,
    "start_time": "2025-07-23T04:21:28.060Z"
   },
   {
    "duration": 135,
    "start_time": "2025-07-23T04:21:56.243Z"
   },
   {
    "duration": 125,
    "start_time": "2025-07-23T04:22:41.232Z"
   },
   {
    "duration": 15,
    "start_time": "2025-07-23T04:22:41.992Z"
   },
   {
    "duration": 1775,
    "start_time": "2025-07-23T04:24:37.836Z"
   },
   {
    "duration": 1955,
    "start_time": "2025-07-23T04:25:44.709Z"
   },
   {
    "duration": 538,
    "start_time": "2025-07-23T04:29:10.400Z"
   },
   {
    "duration": 551,
    "start_time": "2025-07-23T04:30:09.776Z"
   },
   {
    "duration": 503,
    "start_time": "2025-07-23T04:30:40.992Z"
   },
   {
    "duration": 325,
    "start_time": "2025-07-23T04:31:04.825Z"
   },
   {
    "duration": 1966,
    "start_time": "2025-07-23T04:31:34.568Z"
   },
   {
    "duration": 1824,
    "start_time": "2025-07-23T04:32:02.174Z"
   },
   {
    "duration": 1220,
    "start_time": "2025-07-23T04:32:12.193Z"
   },
   {
    "duration": 1510,
    "start_time": "2025-07-23T04:32:13.415Z"
   },
   {
    "duration": 110,
    "start_time": "2025-07-23T04:32:14.926Z"
   },
   {
    "duration": 274,
    "start_time": "2025-07-23T04:32:15.038Z"
   },
   {
    "duration": 18,
    "start_time": "2025-07-23T04:32:15.314Z"
   },
   {
    "duration": 159,
    "start_time": "2025-07-23T04:32:15.334Z"
   },
   {
    "duration": 11,
    "start_time": "2025-07-23T04:32:15.494Z"
   },
   {
    "duration": 469,
    "start_time": "2025-07-23T04:32:15.507Z"
   },
   {
    "duration": 200,
    "start_time": "2025-07-23T04:32:15.978Z"
   },
   {
    "duration": 200,
    "start_time": "2025-07-23T04:32:16.181Z"
   },
   {
    "duration": 652,
    "start_time": "2025-07-23T04:32:16.383Z"
   },
   {
    "duration": 130,
    "start_time": "2025-07-23T04:32:17.037Z"
   },
   {
    "duration": 27,
    "start_time": "2025-07-23T04:32:17.171Z"
   },
   {
    "duration": 124,
    "start_time": "2025-07-23T04:32:17.200Z"
   },
   {
    "duration": 16,
    "start_time": "2025-07-23T04:32:17.326Z"
   },
   {
    "duration": 564,
    "start_time": "2025-07-23T04:32:17.343Z"
   },
   {
    "duration": 506,
    "start_time": "2025-07-23T04:32:32.997Z"
   },
   {
    "duration": 512,
    "start_time": "2025-07-23T04:33:17.177Z"
   },
   {
    "duration": 374,
    "start_time": "2025-07-23T04:37:46.804Z"
   },
   {
    "duration": 708,
    "start_time": "2025-07-23T04:52:50.319Z"
   },
   {
    "duration": 1191,
    "start_time": "2025-07-23T04:55:43.426Z"
   },
   {
    "duration": 1762,
    "start_time": "2025-07-23T04:55:44.619Z"
   },
   {
    "duration": 103,
    "start_time": "2025-07-23T04:55:46.384Z"
   },
   {
    "duration": 374,
    "start_time": "2025-07-23T04:55:46.489Z"
   },
   {
    "duration": 28,
    "start_time": "2025-07-23T04:55:46.864Z"
   },
   {
    "duration": 49,
    "start_time": "2025-07-23T04:55:46.894Z"
   },
   {
    "duration": 11,
    "start_time": "2025-07-23T04:55:46.944Z"
   },
   {
    "duration": 471,
    "start_time": "2025-07-23T04:55:46.956Z"
   },
   {
    "duration": 213,
    "start_time": "2025-07-23T04:55:47.428Z"
   },
   {
    "duration": 205,
    "start_time": "2025-07-23T04:55:47.643Z"
   },
   {
    "duration": 654,
    "start_time": "2025-07-23T04:55:47.849Z"
   },
   {
    "duration": 128,
    "start_time": "2025-07-23T04:55:48.505Z"
   },
   {
    "duration": 43,
    "start_time": "2025-07-23T04:55:48.635Z"
   },
   {
    "duration": 120,
    "start_time": "2025-07-23T04:55:48.681Z"
   },
   {
    "duration": 16,
    "start_time": "2025-07-23T04:55:48.802Z"
   },
   {
    "duration": 604,
    "start_time": "2025-07-23T04:55:48.820Z"
   },
   {
    "duration": 419,
    "start_time": "2025-07-23T04:55:49.426Z"
   },
   {
    "duration": 564,
    "start_time": "2025-07-23T04:55:49.847Z"
   },
   {
    "duration": 405,
    "start_time": "2025-07-23T04:56:46.050Z"
   },
   {
    "duration": 249,
    "start_time": "2025-07-23T04:57:51.888Z"
   },
   {
    "duration": 252,
    "start_time": "2025-07-23T05:00:42.100Z"
   },
   {
    "duration": 237,
    "start_time": "2025-07-23T05:00:44.698Z"
   },
   {
    "duration": 235,
    "start_time": "2025-07-23T05:00:58.284Z"
   },
   {
    "duration": 205,
    "start_time": "2025-07-23T05:01:24.360Z"
   },
   {
    "duration": 1257,
    "start_time": "2025-07-23T05:02:14.252Z"
   },
   {
    "duration": 1457,
    "start_time": "2025-07-23T05:02:15.511Z"
   },
   {
    "duration": 124,
    "start_time": "2025-07-23T05:02:16.969Z"
   },
   {
    "duration": 303,
    "start_time": "2025-07-23T05:02:17.095Z"
   },
   {
    "duration": 19,
    "start_time": "2025-07-23T05:02:17.399Z"
   },
   {
    "duration": 68,
    "start_time": "2025-07-23T05:02:17.419Z"
   },
   {
    "duration": 10,
    "start_time": "2025-07-23T05:02:17.489Z"
   },
   {
    "duration": 457,
    "start_time": "2025-07-23T05:02:17.501Z"
   },
   {
    "duration": 224,
    "start_time": "2025-07-23T05:02:17.960Z"
   },
   {
    "duration": 250,
    "start_time": "2025-07-23T05:02:18.187Z"
   },
   {
    "duration": 638,
    "start_time": "2025-07-23T05:02:18.439Z"
   },
   {
    "duration": 133,
    "start_time": "2025-07-23T05:02:19.084Z"
   },
   {
    "duration": 34,
    "start_time": "2025-07-23T05:02:19.218Z"
   },
   {
    "duration": 161,
    "start_time": "2025-07-23T05:02:19.254Z"
   },
   {
    "duration": 15,
    "start_time": "2025-07-23T05:02:19.417Z"
   },
   {
    "duration": 583,
    "start_time": "2025-07-23T05:02:19.434Z"
   },
   {
    "duration": 364,
    "start_time": "2025-07-23T05:02:20.019Z"
   },
   {
    "duration": 581,
    "start_time": "2025-07-23T05:02:20.385Z"
   },
   {
    "duration": 400,
    "start_time": "2025-07-23T05:02:20.971Z"
   },
   {
    "duration": 204,
    "start_time": "2025-07-23T05:02:21.374Z"
   },
   {
    "duration": 1172,
    "start_time": "2025-07-23T05:05:05.513Z"
   },
   {
    "duration": 1685,
    "start_time": "2025-07-23T05:05:06.687Z"
   },
   {
    "duration": 108,
    "start_time": "2025-07-23T05:05:08.374Z"
   },
   {
    "duration": 305,
    "start_time": "2025-07-23T05:05:08.484Z"
   },
   {
    "duration": 17,
    "start_time": "2025-07-23T05:05:08.791Z"
   },
   {
    "duration": 61,
    "start_time": "2025-07-23T05:05:08.810Z"
   },
   {
    "duration": 10,
    "start_time": "2025-07-23T05:05:08.872Z"
   },
   {
    "duration": 447,
    "start_time": "2025-07-23T05:05:08.883Z"
   },
   {
    "duration": 182,
    "start_time": "2025-07-23T05:05:09.332Z"
   },
   {
    "duration": 192,
    "start_time": "2025-07-23T05:05:09.516Z"
   },
   {
    "duration": 602,
    "start_time": "2025-07-23T05:05:09.710Z"
   },
   {
    "duration": 129,
    "start_time": "2025-07-23T05:05:10.314Z"
   },
   {
    "duration": 36,
    "start_time": "2025-07-23T05:05:10.445Z"
   },
   {
    "duration": 120,
    "start_time": "2025-07-23T05:05:10.484Z"
   },
   {
    "duration": 14,
    "start_time": "2025-07-23T05:05:10.606Z"
   },
   {
    "duration": 525,
    "start_time": "2025-07-23T05:05:10.621Z"
   },
   {
    "duration": 354,
    "start_time": "2025-07-23T05:05:11.148Z"
   },
   {
    "duration": 529,
    "start_time": "2025-07-23T05:05:11.504Z"
   },
   {
    "duration": 380,
    "start_time": "2025-07-23T05:05:12.035Z"
   },
   {
    "duration": 344,
    "start_time": "2025-07-23T05:05:12.416Z"
   },
   {
    "duration": 227,
    "start_time": "2025-07-23T05:06:52.117Z"
   },
   {
    "duration": 147,
    "start_time": "2025-07-23T05:07:19.313Z"
   },
   {
    "duration": 1169,
    "start_time": "2025-07-23T05:07:28.129Z"
   },
   {
    "duration": 1509,
    "start_time": "2025-07-23T05:07:29.300Z"
   },
   {
    "duration": 113,
    "start_time": "2025-07-23T05:07:30.810Z"
   },
   {
    "duration": 271,
    "start_time": "2025-07-23T05:07:30.925Z"
   },
   {
    "duration": 19,
    "start_time": "2025-07-23T05:07:31.199Z"
   },
   {
    "duration": 154,
    "start_time": "2025-07-23T05:07:31.220Z"
   },
   {
    "duration": 72,
    "start_time": "2025-07-23T05:07:31.376Z"
   },
   {
    "duration": 492,
    "start_time": "2025-07-23T05:07:31.450Z"
   },
   {
    "duration": 196,
    "start_time": "2025-07-23T05:07:31.944Z"
   },
   {
    "duration": 223,
    "start_time": "2025-07-23T05:07:32.142Z"
   },
   {
    "duration": 640,
    "start_time": "2025-07-23T05:07:32.366Z"
   },
   {
    "duration": 131,
    "start_time": "2025-07-23T05:07:33.007Z"
   },
   {
    "duration": 33,
    "start_time": "2025-07-23T05:07:33.140Z"
   },
   {
    "duration": 113,
    "start_time": "2025-07-23T05:07:33.176Z"
   },
   {
    "duration": 14,
    "start_time": "2025-07-23T05:07:33.291Z"
   },
   {
    "duration": 562,
    "start_time": "2025-07-23T05:07:33.307Z"
   },
   {
    "duration": 376,
    "start_time": "2025-07-23T05:07:33.871Z"
   },
   {
    "duration": 576,
    "start_time": "2025-07-23T05:07:34.248Z"
   },
   {
    "duration": 366,
    "start_time": "2025-07-23T05:07:34.826Z"
   },
   {
    "duration": 454,
    "start_time": "2025-07-23T05:07:35.193Z"
   },
   {
    "duration": 1216,
    "start_time": "2025-07-23T05:19:32.276Z"
   },
   {
    "duration": 1713,
    "start_time": "2025-07-23T05:19:33.494Z"
   },
   {
    "duration": 112,
    "start_time": "2025-07-23T05:19:35.209Z"
   },
   {
    "duration": 338,
    "start_time": "2025-07-23T05:19:35.323Z"
   },
   {
    "duration": 20,
    "start_time": "2025-07-23T05:19:35.670Z"
   },
   {
    "duration": 92,
    "start_time": "2025-07-23T05:19:35.692Z"
   },
   {
    "duration": 11,
    "start_time": "2025-07-23T05:19:35.786Z"
   },
   {
    "duration": 490,
    "start_time": "2025-07-23T05:19:35.799Z"
   },
   {
    "duration": 198,
    "start_time": "2025-07-23T05:19:36.291Z"
   },
   {
    "duration": 199,
    "start_time": "2025-07-23T05:19:36.491Z"
   },
   {
    "duration": 645,
    "start_time": "2025-07-23T05:19:36.692Z"
   },
   {
    "duration": 132,
    "start_time": "2025-07-23T05:19:37.339Z"
   },
   {
    "duration": 26,
    "start_time": "2025-07-23T05:19:37.473Z"
   },
   {
    "duration": 126,
    "start_time": "2025-07-23T05:19:37.502Z"
   },
   {
    "duration": 16,
    "start_time": "2025-07-23T05:19:37.630Z"
   },
   {
    "duration": 553,
    "start_time": "2025-07-23T05:19:37.647Z"
   },
   {
    "duration": 372,
    "start_time": "2025-07-23T05:19:38.202Z"
   },
   {
    "duration": 585,
    "start_time": "2025-07-23T05:19:38.576Z"
   },
   {
    "duration": 416,
    "start_time": "2025-07-23T05:19:39.163Z"
   },
   {
    "duration": 478,
    "start_time": "2025-07-23T05:19:39.581Z"
   },
   {
    "duration": 231,
    "start_time": "2025-07-23T05:25:55.697Z"
   },
   {
    "duration": 1054,
    "start_time": "2025-07-23T05:26:44.492Z"
   },
   {
    "duration": 1204,
    "start_time": "2025-07-23T05:27:04.785Z"
   },
   {
    "duration": 1854,
    "start_time": "2025-07-23T05:27:05.991Z"
   },
   {
    "duration": 108,
    "start_time": "2025-07-23T05:27:07.847Z"
   },
   {
    "duration": 295,
    "start_time": "2025-07-23T05:27:07.957Z"
   },
   {
    "duration": 22,
    "start_time": "2025-07-23T05:27:08.254Z"
   },
   {
    "duration": 52,
    "start_time": "2025-07-23T05:27:08.277Z"
   },
   {
    "duration": 10,
    "start_time": "2025-07-23T05:27:08.330Z"
   },
   {
    "duration": 472,
    "start_time": "2025-07-23T05:27:08.341Z"
   },
   {
    "duration": 201,
    "start_time": "2025-07-23T05:27:08.815Z"
   },
   {
    "duration": 212,
    "start_time": "2025-07-23T05:27:09.017Z"
   },
   {
    "duration": 636,
    "start_time": "2025-07-23T05:27:09.231Z"
   },
   {
    "duration": 136,
    "start_time": "2025-07-23T05:27:09.871Z"
   },
   {
    "duration": 26,
    "start_time": "2025-07-23T05:27:10.009Z"
   },
   {
    "duration": 128,
    "start_time": "2025-07-23T05:27:10.038Z"
   },
   {
    "duration": 15,
    "start_time": "2025-07-23T05:27:10.172Z"
   },
   {
    "duration": 539,
    "start_time": "2025-07-23T05:27:10.189Z"
   },
   {
    "duration": 382,
    "start_time": "2025-07-23T05:27:10.730Z"
   },
   {
    "duration": 546,
    "start_time": "2025-07-23T05:27:11.114Z"
   },
   {
    "duration": 369,
    "start_time": "2025-07-23T05:27:11.662Z"
   },
   {
    "duration": 452,
    "start_time": "2025-07-23T05:27:12.033Z"
   },
   {
    "duration": 242,
    "start_time": "2025-07-23T05:27:12.487Z"
   },
   {
    "duration": 961,
    "start_time": "2025-07-23T05:27:12.731Z"
   },
   {
    "duration": 37,
    "start_time": "2025-07-23T05:28:04.121Z"
   },
   {
    "duration": 182,
    "start_time": "2025-07-23T05:28:15.101Z"
   },
   {
    "duration": 58,
    "start_time": "2025-07-23T05:28:39.777Z"
   },
   {
    "duration": 167,
    "start_time": "2025-07-23T05:28:43.195Z"
   },
   {
    "duration": 23,
    "start_time": "2025-07-23T05:28:43.917Z"
   },
   {
    "duration": 182,
    "start_time": "2025-07-23T05:28:43.942Z"
   },
   {
    "duration": 8,
    "start_time": "2025-07-23T05:29:48.178Z"
   },
   {
    "duration": 11,
    "start_time": "2025-07-23T05:29:53.792Z"
   },
   {
    "duration": 10,
    "start_time": "2025-07-23T05:29:58.034Z"
   },
   {
    "duration": 69,
    "start_time": "2025-07-23T05:30:50.360Z"
   },
   {
    "duration": 21,
    "start_time": "2025-07-23T05:30:51.234Z"
   },
   {
    "duration": 164,
    "start_time": "2025-07-23T05:30:51.700Z"
   },
   {
    "duration": 23,
    "start_time": "2025-07-23T05:31:03.386Z"
   },
   {
    "duration": 27,
    "start_time": "2025-07-23T05:31:24.507Z"
   },
   {
    "duration": 19,
    "start_time": "2025-07-23T05:31:25.039Z"
   },
   {
    "duration": 199,
    "start_time": "2025-07-23T05:31:25.624Z"
   },
   {
    "duration": 28,
    "start_time": "2025-07-23T05:31:31.340Z"
   },
   {
    "duration": 10,
    "start_time": "2025-07-23T05:31:31.739Z"
   },
   {
    "duration": 101,
    "start_time": "2025-07-23T05:31:37.881Z"
   },
   {
    "duration": 19,
    "start_time": "2025-07-23T05:31:38.116Z"
   },
   {
    "duration": 178,
    "start_time": "2025-07-23T05:31:38.412Z"
   },
   {
    "duration": 23,
    "start_time": "2025-07-23T05:31:38.713Z"
   },
   {
    "duration": 11,
    "start_time": "2025-07-23T05:31:38.921Z"
   },
   {
    "duration": 1232,
    "start_time": "2025-07-23T05:32:51.291Z"
   },
   {
    "duration": 1400,
    "start_time": "2025-07-23T05:32:52.525Z"
   },
   {
    "duration": 111,
    "start_time": "2025-07-23T05:32:53.927Z"
   },
   {
    "duration": 317,
    "start_time": "2025-07-23T05:32:54.039Z"
   },
   {
    "duration": 26,
    "start_time": "2025-07-23T05:32:54.358Z"
   },
   {
    "duration": 164,
    "start_time": "2025-07-23T05:32:54.386Z"
   },
   {
    "duration": 11,
    "start_time": "2025-07-23T05:32:54.552Z"
   },
   {
    "duration": 457,
    "start_time": "2025-07-23T05:32:54.565Z"
   },
   {
    "duration": 202,
    "start_time": "2025-07-23T05:32:55.024Z"
   },
   {
    "duration": 202,
    "start_time": "2025-07-23T05:32:55.228Z"
   },
   {
    "duration": 621,
    "start_time": "2025-07-23T05:32:55.432Z"
   },
   {
    "duration": 145,
    "start_time": "2025-07-23T05:32:56.054Z"
   },
   {
    "duration": 29,
    "start_time": "2025-07-23T05:32:56.201Z"
   },
   {
    "duration": 126,
    "start_time": "2025-07-23T05:32:56.233Z"
   },
   {
    "duration": 14,
    "start_time": "2025-07-23T05:32:56.372Z"
   },
   {
    "duration": 503,
    "start_time": "2025-07-23T05:32:56.388Z"
   },
   {
    "duration": 367,
    "start_time": "2025-07-23T05:32:56.893Z"
   },
   {
    "duration": 550,
    "start_time": "2025-07-23T05:32:57.262Z"
   },
   {
    "duration": 369,
    "start_time": "2025-07-23T05:32:57.813Z"
   },
   {
    "duration": 442,
    "start_time": "2025-07-23T05:32:58.184Z"
   },
   {
    "duration": 186,
    "start_time": "2025-07-23T05:32:58.628Z"
   },
   {
    "duration": 39,
    "start_time": "2025-07-23T05:32:58.816Z"
   },
   {
    "duration": 185,
    "start_time": "2025-07-23T05:32:58.856Z"
   },
   {
    "duration": 32,
    "start_time": "2025-07-23T05:32:59.043Z"
   },
   {
    "duration": 10,
    "start_time": "2025-07-23T05:32:59.077Z"
   },
   {
    "duration": 98,
    "start_time": "2025-07-23T05:33:12.954Z"
   },
   {
    "duration": 166,
    "start_time": "2025-07-23T05:33:13.176Z"
   },
   {
    "duration": 21,
    "start_time": "2025-07-23T05:33:23.117Z"
   },
   {
    "duration": 167,
    "start_time": "2025-07-23T05:33:23.519Z"
   },
   {
    "duration": 22,
    "start_time": "2025-07-23T05:33:23.779Z"
   },
   {
    "duration": 10,
    "start_time": "2025-07-23T05:33:24.236Z"
   },
   {
    "duration": 12,
    "start_time": "2025-07-23T05:35:35.959Z"
   },
   {
    "duration": 20,
    "start_time": "2025-07-23T05:35:41.482Z"
   },
   {
    "duration": 166,
    "start_time": "2025-07-23T05:35:41.987Z"
   },
   {
    "duration": 5,
    "start_time": "2025-07-23T05:36:16.397Z"
   },
   {
    "duration": 28,
    "start_time": "2025-07-23T05:36:45.661Z"
   },
   {
    "duration": 21,
    "start_time": "2025-07-23T05:36:45.947Z"
   },
   {
    "duration": 165,
    "start_time": "2025-07-23T05:36:46.368Z"
   },
   {
    "duration": 21,
    "start_time": "2025-07-23T05:41:28.202Z"
   },
   {
    "duration": 165,
    "start_time": "2025-07-23T05:41:29.079Z"
   },
   {
    "duration": 1217,
    "start_time": "2025-07-23T05:41:38.480Z"
   },
   {
    "duration": 1416,
    "start_time": "2025-07-23T05:41:39.699Z"
   },
   {
    "duration": 114,
    "start_time": "2025-07-23T05:41:41.116Z"
   },
   {
    "duration": 325,
    "start_time": "2025-07-23T05:41:41.232Z"
   },
   {
    "duration": 25,
    "start_time": "2025-07-23T05:41:41.560Z"
   },
   {
    "duration": 60,
    "start_time": "2025-07-23T05:41:41.587Z"
   },
   {
    "duration": 11,
    "start_time": "2025-07-23T05:41:41.649Z"
   },
   {
    "duration": 464,
    "start_time": "2025-07-23T05:41:41.662Z"
   },
   {
    "duration": 233,
    "start_time": "2025-07-23T05:41:42.128Z"
   },
   {
    "duration": 197,
    "start_time": "2025-07-23T05:41:42.362Z"
   },
   {
    "duration": 632,
    "start_time": "2025-07-23T05:41:42.560Z"
   },
   {
    "duration": 132,
    "start_time": "2025-07-23T05:41:43.194Z"
   },
   {
    "duration": 43,
    "start_time": "2025-07-23T05:41:43.328Z"
   },
   {
    "duration": 185,
    "start_time": "2025-07-23T05:41:43.374Z"
   },
   {
    "duration": 15,
    "start_time": "2025-07-23T05:41:43.561Z"
   },
   {
    "duration": 513,
    "start_time": "2025-07-23T05:41:43.578Z"
   },
   {
    "duration": 379,
    "start_time": "2025-07-23T05:41:44.093Z"
   },
   {
    "duration": 546,
    "start_time": "2025-07-23T05:41:44.473Z"
   },
   {
    "duration": 380,
    "start_time": "2025-07-23T05:41:45.021Z"
   },
   {
    "duration": 446,
    "start_time": "2025-07-23T05:41:45.403Z"
   },
   {
    "duration": 193,
    "start_time": "2025-07-23T05:41:45.850Z"
   },
   {
    "duration": 55,
    "start_time": "2025-07-23T05:41:46.044Z"
   },
   {
    "duration": 187,
    "start_time": "2025-07-23T05:41:46.101Z"
   },
   {
    "duration": 20,
    "start_time": "2025-07-23T05:41:55.638Z"
   },
   {
    "duration": 164,
    "start_time": "2025-07-23T05:41:55.660Z"
   },
   {
    "duration": 24,
    "start_time": "2025-07-23T05:43:24.337Z"
   },
   {
    "duration": 178,
    "start_time": "2025-07-23T05:43:25.531Z"
   },
   {
    "duration": 53,
    "start_time": "2025-07-23T05:48:06.086Z"
   },
   {
    "duration": 1234,
    "start_time": "2025-07-23T05:48:10.508Z"
   },
   {
    "duration": 1328,
    "start_time": "2025-07-23T05:48:11.744Z"
   },
   {
    "duration": 109,
    "start_time": "2025-07-23T05:48:13.073Z"
   },
   {
    "duration": 333,
    "start_time": "2025-07-23T05:48:13.183Z"
   },
   {
    "duration": 19,
    "start_time": "2025-07-23T05:48:13.518Z"
   },
   {
    "duration": 107,
    "start_time": "2025-07-23T05:48:13.538Z"
   },
   {
    "duration": 11,
    "start_time": "2025-07-23T05:48:13.647Z"
   },
   {
    "duration": 463,
    "start_time": "2025-07-23T05:48:13.659Z"
   },
   {
    "duration": 201,
    "start_time": "2025-07-23T05:48:14.123Z"
   },
   {
    "duration": 197,
    "start_time": "2025-07-23T05:48:14.326Z"
   },
   {
    "duration": 632,
    "start_time": "2025-07-23T05:48:14.524Z"
   },
   {
    "duration": 133,
    "start_time": "2025-07-23T05:48:15.158Z"
   },
   {
    "duration": 28,
    "start_time": "2025-07-23T05:48:15.293Z"
   },
   {
    "duration": 126,
    "start_time": "2025-07-23T05:48:15.324Z"
   },
   {
    "duration": 24,
    "start_time": "2025-07-23T05:48:15.453Z"
   },
   {
    "duration": 595,
    "start_time": "2025-07-23T05:48:15.479Z"
   },
   {
    "duration": 383,
    "start_time": "2025-07-23T05:48:16.076Z"
   },
   {
    "duration": 229,
    "start_time": "2025-07-23T05:48:16.461Z"
   },
   {
    "duration": 531,
    "start_time": "2025-07-23T05:48:16.692Z"
   },
   {
    "duration": 231,
    "start_time": "2025-07-23T05:48:17.224Z"
   },
   {
    "duration": 455,
    "start_time": "2025-07-23T05:48:17.457Z"
   },
   {
    "duration": 185,
    "start_time": "2025-07-23T05:48:17.914Z"
   },
   {
    "duration": 47,
    "start_time": "2025-07-23T05:48:18.101Z"
   },
   {
    "duration": 183,
    "start_time": "2025-07-23T05:48:18.151Z"
   },
   {
    "duration": 1185,
    "start_time": "2025-07-23T05:50:19.514Z"
   },
   {
    "duration": 1175,
    "start_time": "2025-07-23T05:50:20.702Z"
   },
   {
    "duration": 110,
    "start_time": "2025-07-23T05:50:21.878Z"
   },
   {
    "duration": 336,
    "start_time": "2025-07-23T05:50:21.991Z"
   },
   {
    "duration": 18,
    "start_time": "2025-07-23T05:50:22.328Z"
   },
   {
    "duration": 51,
    "start_time": "2025-07-23T05:50:22.347Z"
   },
   {
    "duration": 10,
    "start_time": "2025-07-23T05:50:22.400Z"
   },
   {
    "duration": 455,
    "start_time": "2025-07-23T05:50:22.411Z"
   },
   {
    "duration": 211,
    "start_time": "2025-07-23T05:50:22.870Z"
   },
   {
    "duration": 197,
    "start_time": "2025-07-23T05:50:23.083Z"
   },
   {
    "duration": 626,
    "start_time": "2025-07-23T05:50:23.282Z"
   },
   {
    "duration": 128,
    "start_time": "2025-07-23T05:50:23.910Z"
   },
   {
    "duration": 35,
    "start_time": "2025-07-23T05:50:24.040Z"
   },
   {
    "duration": 123,
    "start_time": "2025-07-23T05:50:24.077Z"
   },
   {
    "duration": 15,
    "start_time": "2025-07-23T05:50:24.202Z"
   },
   {
    "duration": 564,
    "start_time": "2025-07-23T05:50:24.219Z"
   },
   {
    "duration": 373,
    "start_time": "2025-07-23T05:50:24.784Z"
   },
   {
    "duration": 398,
    "start_time": "2025-07-23T05:50:25.159Z"
   },
   {
    "duration": 494,
    "start_time": "2025-07-23T05:50:25.559Z"
   },
   {
    "duration": 223,
    "start_time": "2025-07-23T05:50:26.054Z"
   },
   {
    "duration": 437,
    "start_time": "2025-07-23T05:50:26.279Z"
   },
   {
    "duration": 183,
    "start_time": "2025-07-23T05:50:26.717Z"
   },
   {
    "duration": 42,
    "start_time": "2025-07-23T05:50:26.902Z"
   },
   {
    "duration": 174,
    "start_time": "2025-07-23T05:50:26.946Z"
   },
   {
    "duration": 1258,
    "start_time": "2025-07-23T05:51:10.544Z"
   },
   {
    "duration": 1409,
    "start_time": "2025-07-23T05:51:11.804Z"
   },
   {
    "duration": 110,
    "start_time": "2025-07-23T05:51:13.214Z"
   },
   {
    "duration": 274,
    "start_time": "2025-07-23T05:51:13.326Z"
   },
   {
    "duration": 18,
    "start_time": "2025-07-23T05:51:13.602Z"
   },
   {
    "duration": 55,
    "start_time": "2025-07-23T05:51:13.622Z"
   },
   {
    "duration": 11,
    "start_time": "2025-07-23T05:51:13.678Z"
   },
   {
    "duration": 495,
    "start_time": "2025-07-23T05:51:13.691Z"
   },
   {
    "duration": 196,
    "start_time": "2025-07-23T05:51:14.188Z"
   },
   {
    "duration": 193,
    "start_time": "2025-07-23T05:51:14.385Z"
   },
   {
    "duration": 631,
    "start_time": "2025-07-23T05:51:14.580Z"
   },
   {
    "duration": 133,
    "start_time": "2025-07-23T05:51:15.212Z"
   },
   {
    "duration": 30,
    "start_time": "2025-07-23T05:51:15.346Z"
   },
   {
    "duration": 159,
    "start_time": "2025-07-23T05:51:15.378Z"
   },
   {
    "duration": 15,
    "start_time": "2025-07-23T05:51:15.539Z"
   },
   {
    "duration": 543,
    "start_time": "2025-07-23T05:51:15.556Z"
   },
   {
    "duration": 378,
    "start_time": "2025-07-23T05:51:16.100Z"
   },
   {
    "duration": 218,
    "start_time": "2025-07-23T05:51:16.479Z"
   },
   {
    "duration": 515,
    "start_time": "2025-07-23T05:51:16.699Z"
   },
   {
    "duration": 218,
    "start_time": "2025-07-23T05:51:17.216Z"
   },
   {
    "duration": 457,
    "start_time": "2025-07-23T05:51:17.436Z"
   },
   {
    "duration": 187,
    "start_time": "2025-07-23T05:51:17.895Z"
   },
   {
    "duration": 46,
    "start_time": "2025-07-23T05:51:18.084Z"
   },
   {
    "duration": 178,
    "start_time": "2025-07-23T05:51:18.131Z"
   },
   {
    "duration": 503,
    "start_time": "2025-07-23T05:51:39.110Z"
   },
   {
    "duration": 1272,
    "start_time": "2025-07-23T05:53:01.153Z"
   },
   {
    "duration": 1331,
    "start_time": "2025-07-23T05:53:02.427Z"
   },
   {
    "duration": 111,
    "start_time": "2025-07-23T05:53:03.760Z"
   },
   {
    "duration": 274,
    "start_time": "2025-07-23T05:53:03.873Z"
   },
   {
    "duration": 22,
    "start_time": "2025-07-23T05:53:04.149Z"
   },
   {
    "duration": 51,
    "start_time": "2025-07-23T05:53:04.173Z"
   },
   {
    "duration": 10,
    "start_time": "2025-07-23T05:53:04.225Z"
   },
   {
    "duration": 520,
    "start_time": "2025-07-23T05:53:04.237Z"
   },
   {
    "duration": 197,
    "start_time": "2025-07-23T05:53:04.759Z"
   },
   {
    "duration": 202,
    "start_time": "2025-07-23T05:53:04.958Z"
   },
   {
    "duration": 620,
    "start_time": "2025-07-23T05:53:05.161Z"
   },
   {
    "duration": 129,
    "start_time": "2025-07-23T05:53:05.783Z"
   },
   {
    "duration": 26,
    "start_time": "2025-07-23T05:53:05.913Z"
   },
   {
    "duration": 134,
    "start_time": "2025-07-23T05:53:05.942Z"
   },
   {
    "duration": 15,
    "start_time": "2025-07-23T05:53:06.078Z"
   },
   {
    "duration": 527,
    "start_time": "2025-07-23T05:53:06.094Z"
   },
   {
    "duration": 369,
    "start_time": "2025-07-23T05:53:06.623Z"
   },
   {
    "duration": 222,
    "start_time": "2025-07-23T05:53:06.994Z"
   },
   {
    "duration": 520,
    "start_time": "2025-07-23T05:53:07.218Z"
   },
   {
    "duration": 223,
    "start_time": "2025-07-23T05:53:07.739Z"
   },
   {
    "duration": 446,
    "start_time": "2025-07-23T05:53:07.964Z"
   },
   {
    "duration": 190,
    "start_time": "2025-07-23T05:53:08.412Z"
   },
   {
    "duration": 50,
    "start_time": "2025-07-23T05:53:08.604Z"
   },
   {
    "duration": 210,
    "start_time": "2025-07-23T05:53:08.656Z"
   },
   {
    "duration": 1447,
    "start_time": "2025-07-23T16:15:48.787Z"
   },
   {
    "duration": 1724,
    "start_time": "2025-07-23T16:15:50.237Z"
   },
   {
    "duration": 118,
    "start_time": "2025-07-23T16:15:51.962Z"
   },
   {
    "duration": 351,
    "start_time": "2025-07-23T16:15:52.082Z"
   },
   {
    "duration": 18,
    "start_time": "2025-07-23T16:15:52.436Z"
   },
   {
    "duration": 36,
    "start_time": "2025-07-23T16:15:52.456Z"
   },
   {
    "duration": 18,
    "start_time": "2025-07-23T16:15:52.495Z"
   },
   {
    "duration": 482,
    "start_time": "2025-07-23T16:15:52.515Z"
   },
   {
    "duration": 224,
    "start_time": "2025-07-23T16:15:52.999Z"
   },
   {
    "duration": 231,
    "start_time": "2025-07-23T16:15:53.225Z"
   },
   {
    "duration": 669,
    "start_time": "2025-07-23T16:15:53.458Z"
   },
   {
    "duration": 139,
    "start_time": "2025-07-23T16:15:54.128Z"
   },
   {
    "duration": 40,
    "start_time": "2025-07-23T16:15:54.269Z"
   },
   {
    "duration": 119,
    "start_time": "2025-07-23T16:15:54.312Z"
   },
   {
    "duration": 15,
    "start_time": "2025-07-23T16:15:54.433Z"
   },
   {
    "duration": 621,
    "start_time": "2025-07-23T16:15:54.450Z"
   },
   {
    "duration": 409,
    "start_time": "2025-07-23T16:15:55.073Z"
   },
   {
    "duration": 230,
    "start_time": "2025-07-23T16:15:55.484Z"
   },
   {
    "duration": 536,
    "start_time": "2025-07-23T16:15:55.716Z"
   },
   {
    "duration": 222,
    "start_time": "2025-07-23T16:15:56.253Z"
   },
   {
    "duration": 456,
    "start_time": "2025-07-23T16:15:56.477Z"
   },
   {
    "duration": 200,
    "start_time": "2025-07-23T16:15:56.935Z"
   },
   {
    "duration": 38,
    "start_time": "2025-07-23T16:15:57.137Z"
   },
   {
    "duration": 196,
    "start_time": "2025-07-23T16:15:57.176Z"
   },
   {
    "duration": 5189,
    "start_time": "2025-07-23T16:15:57.374Z"
   },
   {
    "duration": 144,
    "start_time": "2025-07-23T16:17:41.282Z"
   },
   {
    "duration": 43,
    "start_time": "2025-07-23T16:18:05.756Z"
   },
   {
    "duration": 0,
    "start_time": "2025-07-23T16:18:27.028Z"
   },
   {
    "duration": 1184,
    "start_time": "2025-07-23T16:18:46.636Z"
   },
   {
    "duration": 1834,
    "start_time": "2025-07-23T16:18:47.822Z"
   },
   {
    "duration": 122,
    "start_time": "2025-07-23T16:18:49.658Z"
   },
   {
    "duration": 652,
    "start_time": "2025-07-23T16:18:49.782Z"
   },
   {
    "duration": 18,
    "start_time": "2025-07-23T16:18:50.436Z"
   },
   {
    "duration": 44,
    "start_time": "2025-07-23T16:18:50.456Z"
   },
   {
    "duration": 11,
    "start_time": "2025-07-23T16:18:50.502Z"
   },
   {
    "duration": 484,
    "start_time": "2025-07-23T16:18:50.515Z"
   },
   {
    "duration": 219,
    "start_time": "2025-07-23T16:18:51.001Z"
   },
   {
    "duration": 224,
    "start_time": "2025-07-23T16:18:51.222Z"
   },
   {
    "duration": 676,
    "start_time": "2025-07-23T16:18:51.448Z"
   },
   {
    "duration": 140,
    "start_time": "2025-07-23T16:18:52.125Z"
   },
   {
    "duration": 45,
    "start_time": "2025-07-23T16:18:52.268Z"
   },
   {
    "duration": 126,
    "start_time": "2025-07-23T16:18:52.316Z"
   },
   {
    "duration": 15,
    "start_time": "2025-07-23T16:18:52.444Z"
   },
   {
    "duration": 615,
    "start_time": "2025-07-23T16:18:52.461Z"
   },
   {
    "duration": 403,
    "start_time": "2025-07-23T16:18:53.078Z"
   },
   {
    "duration": 230,
    "start_time": "2025-07-23T16:18:53.484Z"
   },
   {
    "duration": 539,
    "start_time": "2025-07-23T16:18:53.716Z"
   },
   {
    "duration": 240,
    "start_time": "2025-07-23T16:18:54.257Z"
   },
   {
    "duration": 540,
    "start_time": "2025-07-23T16:18:54.500Z"
   },
   {
    "duration": 222,
    "start_time": "2025-07-23T16:18:55.041Z"
   },
   {
    "duration": 49,
    "start_time": "2025-07-23T16:18:55.265Z"
   },
   {
    "duration": 200,
    "start_time": "2025-07-23T16:18:55.316Z"
   },
   {
    "duration": 5324,
    "start_time": "2025-07-23T16:18:55.519Z"
   },
   {
    "duration": 1214,
    "start_time": "2025-07-23T16:19:43.132Z"
   },
   {
    "duration": 1452,
    "start_time": "2025-07-23T16:19:44.347Z"
   },
   {
    "duration": 125,
    "start_time": "2025-07-23T16:19:45.802Z"
   },
   {
    "duration": 278,
    "start_time": "2025-07-23T16:19:45.929Z"
   },
   {
    "duration": 18,
    "start_time": "2025-07-23T16:19:46.209Z"
   },
   {
    "duration": 41,
    "start_time": "2025-07-23T16:19:46.229Z"
   },
   {
    "duration": 10,
    "start_time": "2025-07-23T16:19:46.272Z"
   },
   {
    "duration": 496,
    "start_time": "2025-07-23T16:19:46.284Z"
   },
   {
    "duration": 218,
    "start_time": "2025-07-23T16:19:46.782Z"
   },
   {
    "duration": 240,
    "start_time": "2025-07-23T16:19:47.002Z"
   },
   {
    "duration": 706,
    "start_time": "2025-07-23T16:19:47.244Z"
   },
   {
    "duration": 157,
    "start_time": "2025-07-23T16:19:47.952Z"
   },
   {
    "duration": 29,
    "start_time": "2025-07-23T16:19:48.111Z"
   },
   {
    "duration": 182,
    "start_time": "2025-07-23T16:19:48.142Z"
   },
   {
    "duration": 15,
    "start_time": "2025-07-23T16:19:48.325Z"
   },
   {
    "duration": 601,
    "start_time": "2025-07-23T16:19:48.342Z"
   },
   {
    "duration": 402,
    "start_time": "2025-07-23T16:19:48.945Z"
   },
   {
    "duration": 223,
    "start_time": "2025-07-23T16:19:49.349Z"
   },
   {
    "duration": 532,
    "start_time": "2025-07-23T16:19:49.574Z"
   },
   {
    "duration": 224,
    "start_time": "2025-07-23T16:19:50.107Z"
   },
   {
    "duration": 447,
    "start_time": "2025-07-23T16:19:50.333Z"
   },
   {
    "duration": 186,
    "start_time": "2025-07-23T16:19:50.782Z"
   },
   {
    "duration": 48,
    "start_time": "2025-07-23T16:19:50.970Z"
   },
   {
    "duration": 263,
    "start_time": "2025-07-23T16:19:51.019Z"
   },
   {
    "duration": 5384,
    "start_time": "2025-07-23T16:19:51.283Z"
   },
   {
    "duration": 95,
    "start_time": "2025-07-23T16:22:06.934Z"
   },
   {
    "duration": 90,
    "start_time": "2025-07-23T16:22:11.912Z"
   },
   {
    "duration": 6307,
    "start_time": "2025-07-23T16:22:15.888Z"
   },
   {
    "duration": 1210,
    "start_time": "2025-07-23T16:22:31.697Z"
   },
   {
    "duration": 1559,
    "start_time": "2025-07-23T16:22:32.909Z"
   },
   {
    "duration": 112,
    "start_time": "2025-07-23T16:22:34.470Z"
   },
   {
    "duration": 281,
    "start_time": "2025-07-23T16:22:34.589Z"
   },
   {
    "duration": 21,
    "start_time": "2025-07-23T16:22:34.872Z"
   },
   {
    "duration": 210,
    "start_time": "2025-07-23T16:22:34.895Z"
   },
   {
    "duration": 12,
    "start_time": "2025-07-23T16:22:35.107Z"
   },
   {
    "duration": 456,
    "start_time": "2025-07-23T16:22:35.121Z"
   },
   {
    "duration": 202,
    "start_time": "2025-07-23T16:22:35.579Z"
   },
   {
    "duration": 209,
    "start_time": "2025-07-23T16:22:35.782Z"
   },
   {
    "duration": 654,
    "start_time": "2025-07-23T16:22:35.993Z"
   },
   {
    "duration": 131,
    "start_time": "2025-07-23T16:22:36.649Z"
   },
   {
    "duration": 31,
    "start_time": "2025-07-23T16:22:36.782Z"
   },
   {
    "duration": 115,
    "start_time": "2025-07-23T16:22:36.815Z"
   },
   {
    "duration": 131,
    "start_time": "2025-07-23T16:22:36.932Z"
   },
   {
    "duration": 555,
    "start_time": "2025-07-23T16:22:37.065Z"
   },
   {
    "duration": 359,
    "start_time": "2025-07-23T16:22:37.623Z"
   },
   {
    "duration": 218,
    "start_time": "2025-07-23T16:22:37.984Z"
   },
   {
    "duration": 522,
    "start_time": "2025-07-23T16:22:38.204Z"
   },
   {
    "duration": 215,
    "start_time": "2025-07-23T16:22:38.728Z"
   },
   {
    "duration": 426,
    "start_time": "2025-07-23T16:22:38.946Z"
   },
   {
    "duration": 192,
    "start_time": "2025-07-23T16:22:39.374Z"
   },
   {
    "duration": 46,
    "start_time": "2025-07-23T16:22:39.568Z"
   },
   {
    "duration": 177,
    "start_time": "2025-07-23T16:22:39.616Z"
   },
   {
    "duration": 4931,
    "start_time": "2025-07-23T16:22:39.795Z"
   },
   {
    "duration": 1238,
    "start_time": "2025-07-23T16:22:54.100Z"
   },
   {
    "duration": 1238,
    "start_time": "2025-07-23T16:22:55.340Z"
   },
   {
    "duration": 109,
    "start_time": "2025-07-23T16:22:56.580Z"
   },
   {
    "duration": 235,
    "start_time": "2025-07-23T16:22:56.691Z"
   },
   {
    "duration": 19,
    "start_time": "2025-07-23T16:22:56.930Z"
   },
   {
    "duration": 182,
    "start_time": "2025-07-23T16:22:56.951Z"
   },
   {
    "duration": 10,
    "start_time": "2025-07-23T16:22:57.135Z"
   },
   {
    "duration": 458,
    "start_time": "2025-07-23T16:22:57.147Z"
   },
   {
    "duration": 204,
    "start_time": "2025-07-23T16:22:57.607Z"
   },
   {
    "duration": 209,
    "start_time": "2025-07-23T16:22:57.812Z"
   },
   {
    "duration": 646,
    "start_time": "2025-07-23T16:22:58.023Z"
   },
   {
    "duration": 146,
    "start_time": "2025-07-23T16:22:58.671Z"
   },
   {
    "duration": 28,
    "start_time": "2025-07-23T16:22:58.818Z"
   },
   {
    "duration": 323,
    "start_time": "2025-07-23T16:22:58.849Z"
   },
   {
    "duration": 18,
    "start_time": "2025-07-23T16:22:59.174Z"
   },
   {
    "duration": 543,
    "start_time": "2025-07-23T16:22:59.194Z"
   },
   {
    "duration": 378,
    "start_time": "2025-07-23T16:22:59.739Z"
   },
   {
    "duration": 221,
    "start_time": "2025-07-23T16:23:00.118Z"
   },
   {
    "duration": 508,
    "start_time": "2025-07-23T16:23:00.341Z"
   },
   {
    "duration": 212,
    "start_time": "2025-07-23T16:23:00.851Z"
   },
   {
    "duration": 456,
    "start_time": "2025-07-23T16:23:01.065Z"
   },
   {
    "duration": 187,
    "start_time": "2025-07-23T16:23:01.522Z"
   },
   {
    "duration": 45,
    "start_time": "2025-07-23T16:23:01.711Z"
   },
   {
    "duration": 203,
    "start_time": "2025-07-23T16:23:01.757Z"
   },
   {
    "duration": 85,
    "start_time": "2025-07-23T16:23:01.962Z"
   },
   {
    "duration": 1211,
    "start_time": "2025-07-23T16:23:27.386Z"
   },
   {
    "duration": 1217,
    "start_time": "2025-07-23T16:23:28.599Z"
   },
   {
    "duration": 112,
    "start_time": "2025-07-23T16:23:29.817Z"
   },
   {
    "duration": 265,
    "start_time": "2025-07-23T16:23:29.930Z"
   },
   {
    "duration": 18,
    "start_time": "2025-07-23T16:23:30.198Z"
   },
   {
    "duration": 119,
    "start_time": "2025-07-23T16:23:30.218Z"
   },
   {
    "duration": 37,
    "start_time": "2025-07-23T16:23:30.338Z"
   },
   {
    "duration": 479,
    "start_time": "2025-07-23T16:23:30.377Z"
   },
   {
    "duration": 198,
    "start_time": "2025-07-23T16:23:30.858Z"
   },
   {
    "duration": 223,
    "start_time": "2025-07-23T16:23:31.057Z"
   },
   {
    "duration": 646,
    "start_time": "2025-07-23T16:23:31.281Z"
   },
   {
    "duration": 130,
    "start_time": "2025-07-23T16:23:31.929Z"
   },
   {
    "duration": 34,
    "start_time": "2025-07-23T16:23:32.061Z"
   },
   {
    "duration": 116,
    "start_time": "2025-07-23T16:23:32.097Z"
   },
   {
    "duration": 61,
    "start_time": "2025-07-23T16:23:32.215Z"
   },
   {
    "duration": 526,
    "start_time": "2025-07-23T16:23:32.278Z"
   },
   {
    "duration": 368,
    "start_time": "2025-07-23T16:23:32.806Z"
   },
   {
    "duration": 217,
    "start_time": "2025-07-23T16:23:33.176Z"
   },
   {
    "duration": 509,
    "start_time": "2025-07-23T16:23:33.395Z"
   },
   {
    "duration": 209,
    "start_time": "2025-07-23T16:23:33.906Z"
   },
   {
    "duration": 434,
    "start_time": "2025-07-23T16:23:34.117Z"
   },
   {
    "duration": 210,
    "start_time": "2025-07-23T16:23:34.553Z"
   },
   {
    "duration": 44,
    "start_time": "2025-07-23T16:23:34.765Z"
   },
   {
    "duration": 179,
    "start_time": "2025-07-23T16:23:34.811Z"
   },
   {
    "duration": 4964,
    "start_time": "2025-07-23T16:23:34.991Z"
   },
   {
    "duration": 1240,
    "start_time": "2025-07-23T16:24:50.165Z"
   },
   {
    "duration": 1625,
    "start_time": "2025-07-23T16:24:51.408Z"
   },
   {
    "duration": 110,
    "start_time": "2025-07-23T16:24:53.035Z"
   },
   {
    "duration": 218,
    "start_time": "2025-07-23T16:24:53.147Z"
   },
   {
    "duration": 22,
    "start_time": "2025-07-23T16:24:53.368Z"
   },
   {
    "duration": 35,
    "start_time": "2025-07-23T16:24:53.391Z"
   },
   {
    "duration": 32,
    "start_time": "2025-07-23T16:24:53.427Z"
   },
   {
    "duration": 465,
    "start_time": "2025-07-23T16:24:53.461Z"
   },
   {
    "duration": 194,
    "start_time": "2025-07-23T16:24:53.928Z"
   },
   {
    "duration": 203,
    "start_time": "2025-07-23T16:24:54.124Z"
   },
   {
    "duration": 641,
    "start_time": "2025-07-23T16:24:54.329Z"
   },
   {
    "duration": 158,
    "start_time": "2025-07-23T16:24:54.971Z"
   },
   {
    "duration": 30,
    "start_time": "2025-07-23T16:24:55.131Z"
   },
   {
    "duration": 126,
    "start_time": "2025-07-23T16:24:55.164Z"
   },
   {
    "duration": 14,
    "start_time": "2025-07-23T16:24:55.292Z"
   },
   {
    "duration": 511,
    "start_time": "2025-07-23T16:24:55.308Z"
   },
   {
    "duration": 386,
    "start_time": "2025-07-23T16:24:55.821Z"
   },
   {
    "duration": 215,
    "start_time": "2025-07-23T16:24:56.208Z"
   },
   {
    "duration": 509,
    "start_time": "2025-07-23T16:24:56.425Z"
   },
   {
    "duration": 217,
    "start_time": "2025-07-23T16:24:56.936Z"
   },
   {
    "duration": 448,
    "start_time": "2025-07-23T16:24:57.155Z"
   },
   {
    "duration": 192,
    "start_time": "2025-07-23T16:24:57.605Z"
   },
   {
    "duration": 41,
    "start_time": "2025-07-23T16:24:57.799Z"
   },
   {
    "duration": 188,
    "start_time": "2025-07-23T16:24:57.842Z"
   },
   {
    "duration": 5004,
    "start_time": "2025-07-23T16:24:58.031Z"
   },
   {
    "duration": 4,
    "start_time": "2025-07-23T16:25:50.968Z"
   },
   {
    "duration": 184,
    "start_time": "2025-07-23T16:25:59.190Z"
   },
   {
    "duration": 5,
    "start_time": "2025-07-23T16:26:08.897Z"
   },
   {
    "duration": 27,
    "start_time": "2025-07-23T16:26:37.433Z"
   },
   {
    "duration": 199,
    "start_time": "2025-07-23T16:27:13.237Z"
   },
   {
    "duration": 46,
    "start_time": "2025-07-23T16:27:19.738Z"
   },
   {
    "duration": 127,
    "start_time": "2025-07-23T16:28:15.934Z"
   },
   {
    "duration": 1168,
    "start_time": "2025-07-23T16:28:54.944Z"
   },
   {
    "duration": 1262,
    "start_time": "2025-07-23T16:28:56.114Z"
   },
   {
    "duration": 113,
    "start_time": "2025-07-23T16:28:57.378Z"
   },
   {
    "duration": 239,
    "start_time": "2025-07-23T16:28:57.494Z"
   },
   {
    "duration": 19,
    "start_time": "2025-07-23T16:28:57.735Z"
   },
   {
    "duration": 35,
    "start_time": "2025-07-23T16:28:57.755Z"
   },
   {
    "duration": 10,
    "start_time": "2025-07-23T16:28:57.792Z"
   },
   {
    "duration": 493,
    "start_time": "2025-07-23T16:28:57.803Z"
   },
   {
    "duration": 206,
    "start_time": "2025-07-23T16:28:58.298Z"
   },
   {
    "duration": 201,
    "start_time": "2025-07-23T16:28:58.507Z"
   },
   {
    "duration": 668,
    "start_time": "2025-07-23T16:28:58.709Z"
   },
   {
    "duration": 146,
    "start_time": "2025-07-23T16:28:59.379Z"
   },
   {
    "duration": 28,
    "start_time": "2025-07-23T16:28:59.527Z"
   },
   {
    "duration": 168,
    "start_time": "2025-07-23T16:28:59.557Z"
   },
   {
    "duration": 15,
    "start_time": "2025-07-23T16:28:59.726Z"
   },
   {
    "duration": 571,
    "start_time": "2025-07-23T16:28:59.743Z"
   },
   {
    "duration": 386,
    "start_time": "2025-07-23T16:29:00.316Z"
   },
   {
    "duration": 232,
    "start_time": "2025-07-23T16:29:00.704Z"
   },
   {
    "duration": 510,
    "start_time": "2025-07-23T16:29:00.938Z"
   },
   {
    "duration": 234,
    "start_time": "2025-07-23T16:29:01.450Z"
   },
   {
    "duration": 453,
    "start_time": "2025-07-23T16:29:01.690Z"
   },
   {
    "duration": 197,
    "start_time": "2025-07-23T16:29:02.144Z"
   },
   {
    "duration": 53,
    "start_time": "2025-07-23T16:29:02.342Z"
   },
   {
    "duration": 179,
    "start_time": "2025-07-23T16:29:02.397Z"
   },
   {
    "duration": 4893,
    "start_time": "2025-07-23T16:29:02.578Z"
   },
   {
    "duration": 4,
    "start_time": "2025-07-23T16:29:07.473Z"
   },
   {
    "duration": 141,
    "start_time": "2025-07-23T16:29:07.489Z"
   },
   {
    "duration": 3,
    "start_time": "2025-07-23T16:31:01.024Z"
   },
   {
    "duration": 3,
    "start_time": "2025-07-23T16:31:10.360Z"
   },
   {
    "duration": 4,
    "start_time": "2025-07-23T16:31:17.321Z"
   },
   {
    "duration": 292,
    "start_time": "2025-07-23T16:40:17.520Z"
   },
   {
    "duration": 221,
    "start_time": "2025-07-23T16:40:56.407Z"
   },
   {
    "duration": 1240,
    "start_time": "2025-07-23T16:42:02.807Z"
   },
   {
    "duration": 1753,
    "start_time": "2025-07-23T16:42:04.049Z"
   },
   {
    "duration": 114,
    "start_time": "2025-07-23T16:42:05.803Z"
   },
   {
    "duration": 295,
    "start_time": "2025-07-23T16:42:05.919Z"
   },
   {
    "duration": 20,
    "start_time": "2025-07-23T16:42:06.217Z"
   },
   {
    "duration": 132,
    "start_time": "2025-07-23T16:42:06.238Z"
   },
   {
    "duration": 11,
    "start_time": "2025-07-23T16:42:06.372Z"
   },
   {
    "duration": 491,
    "start_time": "2025-07-23T16:42:06.385Z"
   },
   {
    "duration": 201,
    "start_time": "2025-07-23T16:42:06.878Z"
   },
   {
    "duration": 212,
    "start_time": "2025-07-23T16:42:07.080Z"
   },
   {
    "duration": 684,
    "start_time": "2025-07-23T16:42:07.294Z"
   },
   {
    "duration": 148,
    "start_time": "2025-07-23T16:42:07.980Z"
   },
   {
    "duration": 27,
    "start_time": "2025-07-23T16:42:08.129Z"
   },
   {
    "duration": 136,
    "start_time": "2025-07-23T16:42:08.158Z"
   },
   {
    "duration": 26,
    "start_time": "2025-07-23T16:42:08.295Z"
   },
   {
    "duration": 565,
    "start_time": "2025-07-23T16:42:08.323Z"
   },
   {
    "duration": 196,
    "start_time": "2025-07-23T16:42:08.889Z"
   },
   {
    "duration": 240,
    "start_time": "2025-07-23T16:42:09.087Z"
   },
   {
    "duration": 536,
    "start_time": "2025-07-23T16:42:09.329Z"
   },
   {
    "duration": 234,
    "start_time": "2025-07-23T16:42:09.867Z"
   },
   {
    "duration": 202,
    "start_time": "2025-07-23T16:42:10.102Z"
   },
   {
    "duration": 46,
    "start_time": "2025-07-23T16:42:10.306Z"
   },
   {
    "duration": 5015,
    "start_time": "2025-07-23T16:42:10.354Z"
   },
   {
    "duration": 4,
    "start_time": "2025-07-23T16:42:15.372Z"
   },
   {
    "duration": 123,
    "start_time": "2025-07-23T16:42:15.378Z"
   },
   {
    "duration": 223,
    "start_time": "2025-07-23T16:42:15.502Z"
   },
   {
    "duration": 140,
    "start_time": "2025-07-23T17:36:39.611Z"
   },
   {
    "duration": 1166,
    "start_time": "2025-07-23T17:36:45.739Z"
   },
   {
    "duration": 1669,
    "start_time": "2025-07-23T17:36:46.907Z"
   },
   {
    "duration": 112,
    "start_time": "2025-07-23T17:36:48.578Z"
   },
   {
    "duration": 282,
    "start_time": "2025-07-23T17:36:48.692Z"
   },
   {
    "duration": 21,
    "start_time": "2025-07-23T17:36:48.976Z"
   },
   {
    "duration": 64,
    "start_time": "2025-07-23T17:36:48.998Z"
   },
   {
    "duration": 11,
    "start_time": "2025-07-23T17:36:49.064Z"
   },
   {
    "duration": 553,
    "start_time": "2025-07-23T17:36:49.076Z"
   },
   {
    "duration": 208,
    "start_time": "2025-07-23T17:36:49.631Z"
   },
   {
    "duration": 195,
    "start_time": "2025-07-23T17:36:49.841Z"
   },
   {
    "duration": 648,
    "start_time": "2025-07-23T17:36:50.038Z"
   },
   {
    "duration": 130,
    "start_time": "2025-07-23T17:36:50.690Z"
   },
   {
    "duration": 27,
    "start_time": "2025-07-23T17:36:50.822Z"
   },
   {
    "duration": 131,
    "start_time": "2025-07-23T17:36:50.850Z"
   },
   {
    "duration": 20,
    "start_time": "2025-07-23T17:36:50.983Z"
   },
   {
    "duration": 505,
    "start_time": "2025-07-23T17:36:51.005Z"
   },
   {
    "duration": 184,
    "start_time": "2025-07-23T17:36:51.512Z"
   },
   {
    "duration": 218,
    "start_time": "2025-07-23T17:36:51.698Z"
   },
   {
    "duration": 508,
    "start_time": "2025-07-23T17:36:51.917Z"
   },
   {
    "duration": 223,
    "start_time": "2025-07-23T17:36:52.426Z"
   },
   {
    "duration": 186,
    "start_time": "2025-07-23T17:36:52.650Z"
   },
   {
    "duration": 41,
    "start_time": "2025-07-23T17:36:52.838Z"
   },
   {
    "duration": 4718,
    "start_time": "2025-07-23T17:36:52.889Z"
   },
   {
    "duration": 5,
    "start_time": "2025-07-23T17:36:57.609Z"
   },
   {
    "duration": 108,
    "start_time": "2025-07-23T17:36:57.615Z"
   },
   {
    "duration": 213,
    "start_time": "2025-07-23T17:36:57.725Z"
   },
   {
    "duration": 1151,
    "start_time": "2025-07-23T17:37:41.271Z"
   },
   {
    "duration": 1831,
    "start_time": "2025-07-23T17:37:42.424Z"
   },
   {
    "duration": 115,
    "start_time": "2025-07-23T17:37:44.256Z"
   },
   {
    "duration": 468,
    "start_time": "2025-07-23T17:37:44.373Z"
   },
   {
    "duration": 20,
    "start_time": "2025-07-23T17:37:44.843Z"
   },
   {
    "duration": 52,
    "start_time": "2025-07-23T17:37:44.865Z"
   },
   {
    "duration": 10,
    "start_time": "2025-07-23T17:37:44.918Z"
   },
   {
    "duration": 508,
    "start_time": "2025-07-23T17:37:44.930Z"
   },
   {
    "duration": 203,
    "start_time": "2025-07-23T17:37:45.440Z"
   },
   {
    "duration": 199,
    "start_time": "2025-07-23T17:37:45.645Z"
   },
   {
    "duration": 681,
    "start_time": "2025-07-23T17:37:45.846Z"
   },
   {
    "duration": 128,
    "start_time": "2025-07-23T17:37:46.528Z"
   },
   {
    "duration": 39,
    "start_time": "2025-07-23T17:37:46.658Z"
   },
   {
    "duration": 114,
    "start_time": "2025-07-23T17:37:46.699Z"
   },
   {
    "duration": 15,
    "start_time": "2025-07-23T17:37:46.815Z"
   },
   {
    "duration": 574,
    "start_time": "2025-07-23T17:37:46.832Z"
   },
   {
    "duration": 197,
    "start_time": "2025-07-23T17:37:47.407Z"
   },
   {
    "duration": 233,
    "start_time": "2025-07-23T17:37:47.606Z"
   },
   {
    "duration": 500,
    "start_time": "2025-07-23T17:37:47.841Z"
   },
   {
    "duration": 213,
    "start_time": "2025-07-23T17:37:48.342Z"
   },
   {
    "duration": 189,
    "start_time": "2025-07-23T17:37:48.557Z"
   },
   {
    "duration": 48,
    "start_time": "2025-07-23T17:37:48.748Z"
   },
   {
    "duration": 4771,
    "start_time": "2025-07-23T17:37:48.798Z"
   },
   {
    "duration": 5,
    "start_time": "2025-07-23T17:37:53.571Z"
   },
   {
    "duration": 117,
    "start_time": "2025-07-23T17:37:53.577Z"
   },
   {
    "duration": 221,
    "start_time": "2025-07-23T17:37:53.697Z"
   },
   {
    "duration": 1309,
    "start_time": "2025-07-23T18:41:57.766Z"
   },
   {
    "duration": 1083,
    "start_time": "2025-07-23T18:42:09.427Z"
   },
   {
    "duration": 2026,
    "start_time": "2025-07-23T18:42:10.512Z"
   },
   {
    "duration": 114,
    "start_time": "2025-07-23T18:42:12.540Z"
   },
   {
    "duration": 338,
    "start_time": "2025-07-23T18:42:12.656Z"
   },
   {
    "duration": 19,
    "start_time": "2025-07-23T18:42:12.996Z"
   },
   {
    "duration": 71,
    "start_time": "2025-07-23T18:42:13.017Z"
   },
   {
    "duration": 11,
    "start_time": "2025-07-23T18:42:13.089Z"
   },
   {
    "duration": 469,
    "start_time": "2025-07-23T18:42:13.101Z"
   },
   {
    "duration": 201,
    "start_time": "2025-07-23T18:42:13.571Z"
   },
   {
    "duration": 197,
    "start_time": "2025-07-23T18:42:13.775Z"
   },
   {
    "duration": 643,
    "start_time": "2025-07-23T18:42:13.973Z"
   },
   {
    "duration": 156,
    "start_time": "2025-07-23T18:42:14.618Z"
   },
   {
    "duration": 32,
    "start_time": "2025-07-23T18:42:14.775Z"
   },
   {
    "duration": 122,
    "start_time": "2025-07-23T18:42:14.808Z"
   },
   {
    "duration": 15,
    "start_time": "2025-07-23T18:42:14.932Z"
   },
   {
    "duration": 560,
    "start_time": "2025-07-23T18:42:14.948Z"
   },
   {
    "duration": 188,
    "start_time": "2025-07-23T18:42:15.510Z"
   },
   {
    "duration": 231,
    "start_time": "2025-07-23T18:42:15.700Z"
   },
   {
    "duration": 551,
    "start_time": "2025-07-23T18:42:15.932Z"
   },
   {
    "duration": 215,
    "start_time": "2025-07-23T18:42:16.485Z"
   },
   {
    "duration": 216,
    "start_time": "2025-07-23T18:42:16.701Z"
   },
   {
    "duration": 73,
    "start_time": "2025-07-23T18:42:16.919Z"
   },
   {
    "duration": 4690,
    "start_time": "2025-07-23T18:42:16.993Z"
   },
   {
    "duration": 5,
    "start_time": "2025-07-23T18:42:21.684Z"
   },
   {
    "duration": 109,
    "start_time": "2025-07-23T18:42:21.691Z"
   },
   {
    "duration": 219,
    "start_time": "2025-07-23T18:42:21.802Z"
   },
   {
    "duration": 1279,
    "start_time": "2025-07-23T18:42:22.022Z"
   },
   {
    "duration": 1072,
    "start_time": "2025-07-23T18:42:47.735Z"
   },
   {
    "duration": 9,
    "start_time": "2025-07-23T18:43:18.594Z"
   },
   {
    "duration": 87,
    "start_time": "2025-07-23T18:43:27.441Z"
   },
   {
    "duration": 196,
    "start_time": "2025-07-23T18:43:30.576Z"
   },
   {
    "duration": 1049,
    "start_time": "2025-07-23T18:44:54.102Z"
   },
   {
    "duration": 15,
    "start_time": "2025-07-23T18:45:29.772Z"
   },
   {
    "duration": 5177,
    "start_time": "2025-07-23T18:45:53.712Z"
   },
   {
    "duration": 64,
    "start_time": "2025-07-23T18:46:23.901Z"
   },
   {
    "duration": 1152,
    "start_time": "2025-07-23T18:46:36.204Z"
   },
   {
    "duration": 1597,
    "start_time": "2025-07-23T18:46:37.358Z"
   },
   {
    "duration": 116,
    "start_time": "2025-07-23T18:46:38.957Z"
   },
   {
    "duration": 261,
    "start_time": "2025-07-23T18:46:39.075Z"
   },
   {
    "duration": 18,
    "start_time": "2025-07-23T18:46:39.338Z"
   },
   {
    "duration": 140,
    "start_time": "2025-07-23T18:46:39.357Z"
   },
   {
    "duration": 13,
    "start_time": "2025-07-23T18:46:39.500Z"
   },
   {
    "duration": 546,
    "start_time": "2025-07-23T18:46:39.515Z"
   },
   {
    "duration": 217,
    "start_time": "2025-07-23T18:46:40.063Z"
   },
   {
    "duration": 230,
    "start_time": "2025-07-23T18:46:40.289Z"
   },
   {
    "duration": 702,
    "start_time": "2025-07-23T18:46:40.521Z"
   },
   {
    "duration": 134,
    "start_time": "2025-07-23T18:46:41.225Z"
   },
   {
    "duration": 34,
    "start_time": "2025-07-23T18:46:41.360Z"
   },
   {
    "duration": 159,
    "start_time": "2025-07-23T18:46:41.396Z"
   },
   {
    "duration": 14,
    "start_time": "2025-07-23T18:46:41.557Z"
   },
   {
    "duration": 546,
    "start_time": "2025-07-23T18:46:41.573Z"
   },
   {
    "duration": 193,
    "start_time": "2025-07-23T18:46:42.121Z"
   },
   {
    "duration": 229,
    "start_time": "2025-07-23T18:46:42.315Z"
   },
   {
    "duration": 497,
    "start_time": "2025-07-23T18:46:42.546Z"
   },
   {
    "duration": 216,
    "start_time": "2025-07-23T18:46:43.045Z"
   },
   {
    "duration": 180,
    "start_time": "2025-07-23T18:46:43.262Z"
   },
   {
    "duration": 51,
    "start_time": "2025-07-23T18:46:43.443Z"
   },
   {
    "duration": 4838,
    "start_time": "2025-07-23T18:46:43.496Z"
   },
   {
    "duration": 6,
    "start_time": "2025-07-23T18:46:48.336Z"
   },
   {
    "duration": 112,
    "start_time": "2025-07-23T18:46:48.344Z"
   },
   {
    "duration": 227,
    "start_time": "2025-07-23T18:46:48.457Z"
   },
   {
    "duration": 205,
    "start_time": "2025-07-23T18:46:48.689Z"
   },
   {
    "duration": 141,
    "start_time": "2025-07-23T18:46:48.897Z"
   },
   {
    "duration": 77,
    "start_time": "2025-07-23T18:47:08.925Z"
   },
   {
    "duration": 233,
    "start_time": "2025-07-23T18:47:16.944Z"
   },
   {
    "duration": 1237,
    "start_time": "2025-07-23T18:47:24.186Z"
   },
   {
    "duration": 1359,
    "start_time": "2025-07-23T18:47:25.425Z"
   },
   {
    "duration": 105,
    "start_time": "2025-07-23T18:47:26.789Z"
   },
   {
    "duration": 253,
    "start_time": "2025-07-23T18:47:26.896Z"
   },
   {
    "duration": 18,
    "start_time": "2025-07-23T18:47:27.151Z"
   },
   {
    "duration": 53,
    "start_time": "2025-07-23T18:47:27.171Z"
   },
   {
    "duration": 10,
    "start_time": "2025-07-23T18:47:27.225Z"
   },
   {
    "duration": 544,
    "start_time": "2025-07-23T18:47:27.236Z"
   },
   {
    "duration": 200,
    "start_time": "2025-07-23T18:47:27.790Z"
   },
   {
    "duration": 202,
    "start_time": "2025-07-23T18:47:27.993Z"
   },
   {
    "duration": 651,
    "start_time": "2025-07-23T18:47:28.196Z"
   },
   {
    "duration": 123,
    "start_time": "2025-07-23T18:47:28.848Z"
   },
   {
    "duration": 34,
    "start_time": "2025-07-23T18:47:28.973Z"
   },
   {
    "duration": 124,
    "start_time": "2025-07-23T18:47:29.009Z"
   },
   {
    "duration": 14,
    "start_time": "2025-07-23T18:47:29.135Z"
   },
   {
    "duration": 544,
    "start_time": "2025-07-23T18:47:29.150Z"
   },
   {
    "duration": 194,
    "start_time": "2025-07-23T18:47:29.696Z"
   },
   {
    "duration": 235,
    "start_time": "2025-07-23T18:47:29.891Z"
   },
   {
    "duration": 515,
    "start_time": "2025-07-23T18:47:30.128Z"
   },
   {
    "duration": 213,
    "start_time": "2025-07-23T18:47:30.645Z"
   },
   {
    "duration": 192,
    "start_time": "2025-07-23T18:47:30.859Z"
   },
   {
    "duration": 50,
    "start_time": "2025-07-23T18:47:31.053Z"
   },
   {
    "duration": 4746,
    "start_time": "2025-07-23T18:47:31.105Z"
   },
   {
    "duration": 5,
    "start_time": "2025-07-23T18:47:35.852Z"
   },
   {
    "duration": 114,
    "start_time": "2025-07-23T18:47:35.859Z"
   },
   {
    "duration": 231,
    "start_time": "2025-07-23T18:47:35.974Z"
   },
   {
    "duration": 183,
    "start_time": "2025-07-23T18:47:36.206Z"
   },
   {
    "duration": 291,
    "start_time": "2025-07-23T18:47:36.392Z"
   },
   {
    "duration": 5117,
    "start_time": "2025-07-23T18:49:08.936Z"
   },
   {
    "duration": 1181,
    "start_time": "2025-07-23T18:49:21.241Z"
   },
   {
    "duration": 1702,
    "start_time": "2025-07-23T18:49:22.424Z"
   },
   {
    "duration": 107,
    "start_time": "2025-07-23T18:49:24.128Z"
   },
   {
    "duration": 229,
    "start_time": "2025-07-23T18:49:24.237Z"
   },
   {
    "duration": 17,
    "start_time": "2025-07-23T18:49:24.467Z"
   },
   {
    "duration": 30,
    "start_time": "2025-07-23T18:49:24.490Z"
   },
   {
    "duration": 10,
    "start_time": "2025-07-23T18:49:24.522Z"
   },
   {
    "duration": 463,
    "start_time": "2025-07-23T18:49:24.533Z"
   },
   {
    "duration": 230,
    "start_time": "2025-07-23T18:49:24.998Z"
   },
   {
    "duration": 194,
    "start_time": "2025-07-23T18:49:25.231Z"
   },
   {
    "duration": 657,
    "start_time": "2025-07-23T18:49:25.426Z"
   },
   {
    "duration": 144,
    "start_time": "2025-07-23T18:49:26.084Z"
   },
   {
    "duration": 27,
    "start_time": "2025-07-23T18:49:26.230Z"
   },
   {
    "duration": 182,
    "start_time": "2025-07-23T18:49:26.259Z"
   },
   {
    "duration": 16,
    "start_time": "2025-07-23T18:49:26.442Z"
   },
   {
    "duration": 541,
    "start_time": "2025-07-23T18:49:26.459Z"
   },
   {
    "duration": 187,
    "start_time": "2025-07-23T18:49:27.002Z"
   },
   {
    "duration": 236,
    "start_time": "2025-07-23T18:49:27.191Z"
   },
   {
    "duration": 503,
    "start_time": "2025-07-23T18:49:27.429Z"
   },
   {
    "duration": 221,
    "start_time": "2025-07-23T18:49:27.933Z"
   },
   {
    "duration": 190,
    "start_time": "2025-07-23T18:49:28.156Z"
   },
   {
    "duration": 49,
    "start_time": "2025-07-23T18:49:28.348Z"
   },
   {
    "duration": 4692,
    "start_time": "2025-07-23T18:49:28.398Z"
   },
   {
    "duration": 4,
    "start_time": "2025-07-23T18:49:33.093Z"
   },
   {
    "duration": 113,
    "start_time": "2025-07-23T18:49:33.099Z"
   },
   {
    "duration": 220,
    "start_time": "2025-07-23T18:49:33.215Z"
   },
   {
    "duration": 225,
    "start_time": "2025-07-23T18:49:33.437Z"
   },
   {
    "duration": 5246,
    "start_time": "2025-07-23T18:49:33.665Z"
   },
   {
    "duration": 350,
    "start_time": "2025-07-23T18:49:38.913Z"
   },
   {
    "duration": 5177,
    "start_time": "2025-07-23T18:49:47.506Z"
   },
   {
    "duration": 1281,
    "start_time": "2025-07-23T18:50:11.119Z"
   },
   {
    "duration": 4712,
    "start_time": "2025-07-23T18:50:26.009Z"
   },
   {
    "duration": 4794,
    "start_time": "2025-07-23T18:50:44.135Z"
   },
   {
    "duration": 175,
    "start_time": "2025-07-23T18:51:12.993Z"
   },
   {
    "duration": 1211,
    "start_time": "2025-07-23T18:51:19.479Z"
   },
   {
    "duration": 1638,
    "start_time": "2025-07-23T18:51:20.692Z"
   },
   {
    "duration": 113,
    "start_time": "2025-07-23T18:51:22.332Z"
   },
   {
    "duration": 263,
    "start_time": "2025-07-23T18:51:22.447Z"
   },
   {
    "duration": 19,
    "start_time": "2025-07-23T18:51:22.712Z"
   },
   {
    "duration": 63,
    "start_time": "2025-07-23T18:51:22.732Z"
   },
   {
    "duration": 11,
    "start_time": "2025-07-23T18:51:22.796Z"
   },
   {
    "duration": 479,
    "start_time": "2025-07-23T18:51:22.809Z"
   },
   {
    "duration": 202,
    "start_time": "2025-07-23T18:51:23.289Z"
   },
   {
    "duration": 200,
    "start_time": "2025-07-23T18:51:23.494Z"
   },
   {
    "duration": 643,
    "start_time": "2025-07-23T18:51:23.695Z"
   },
   {
    "duration": 127,
    "start_time": "2025-07-23T18:51:24.340Z"
   },
   {
    "duration": 34,
    "start_time": "2025-07-23T18:51:24.469Z"
   },
   {
    "duration": 120,
    "start_time": "2025-07-23T18:51:24.505Z"
   },
   {
    "duration": 13,
    "start_time": "2025-07-23T18:51:24.627Z"
   },
   {
    "duration": 577,
    "start_time": "2025-07-23T18:51:24.642Z"
   },
   {
    "duration": 194,
    "start_time": "2025-07-23T18:51:25.221Z"
   },
   {
    "duration": 241,
    "start_time": "2025-07-23T18:51:25.416Z"
   },
   {
    "duration": 512,
    "start_time": "2025-07-23T18:51:25.659Z"
   },
   {
    "duration": 217,
    "start_time": "2025-07-23T18:51:26.172Z"
   },
   {
    "duration": 192,
    "start_time": "2025-07-23T18:51:26.391Z"
   },
   {
    "duration": 44,
    "start_time": "2025-07-23T18:51:26.585Z"
   },
   {
    "duration": 4672,
    "start_time": "2025-07-23T18:51:26.631Z"
   },
   {
    "duration": 4,
    "start_time": "2025-07-23T18:51:31.305Z"
   },
   {
    "duration": 267,
    "start_time": "2025-07-23T18:51:31.311Z"
   },
   {
    "duration": 221,
    "start_time": "2025-07-23T18:51:31.580Z"
   },
   {
    "duration": 188,
    "start_time": "2025-07-23T18:51:31.802Z"
   },
   {
    "duration": 108,
    "start_time": "2025-07-23T18:51:31.993Z"
   },
   {
    "duration": 0,
    "start_time": "2025-07-23T18:51:32.103Z"
   },
   {
    "duration": 162,
    "start_time": "2025-07-23T18:51:44.450Z"
   },
   {
    "duration": 1243,
    "start_time": "2025-07-23T18:51:48.171Z"
   },
   {
    "duration": 1524,
    "start_time": "2025-07-23T18:51:49.416Z"
   },
   {
    "duration": 117,
    "start_time": "2025-07-23T18:51:50.944Z"
   },
   {
    "duration": 226,
    "start_time": "2025-07-23T18:51:51.063Z"
   },
   {
    "duration": 19,
    "start_time": "2025-07-23T18:51:51.291Z"
   },
   {
    "duration": 29,
    "start_time": "2025-07-23T18:51:51.312Z"
   },
   {
    "duration": 10,
    "start_time": "2025-07-23T18:51:51.343Z"
   },
   {
    "duration": 482,
    "start_time": "2025-07-23T18:51:51.355Z"
   },
   {
    "duration": 208,
    "start_time": "2025-07-23T18:51:51.839Z"
   },
   {
    "duration": 207,
    "start_time": "2025-07-23T18:51:52.049Z"
   },
   {
    "duration": 665,
    "start_time": "2025-07-23T18:51:52.258Z"
   },
   {
    "duration": 131,
    "start_time": "2025-07-23T18:51:52.924Z"
   },
   {
    "duration": 32,
    "start_time": "2025-07-23T18:51:53.057Z"
   },
   {
    "duration": 122,
    "start_time": "2025-07-23T18:51:53.091Z"
   },
   {
    "duration": 15,
    "start_time": "2025-07-23T18:51:53.215Z"
   },
   {
    "duration": 543,
    "start_time": "2025-07-23T18:51:53.232Z"
   },
   {
    "duration": 195,
    "start_time": "2025-07-23T18:51:53.778Z"
   },
   {
    "duration": 237,
    "start_time": "2025-07-23T18:51:53.975Z"
   },
   {
    "duration": 545,
    "start_time": "2025-07-23T18:51:54.214Z"
   },
   {
    "duration": 224,
    "start_time": "2025-07-23T18:51:54.761Z"
   },
   {
    "duration": 218,
    "start_time": "2025-07-23T18:51:54.990Z"
   },
   {
    "duration": 42,
    "start_time": "2025-07-23T18:51:55.210Z"
   },
   {
    "duration": 4763,
    "start_time": "2025-07-23T18:51:55.254Z"
   },
   {
    "duration": 5,
    "start_time": "2025-07-23T18:52:00.019Z"
   },
   {
    "duration": 132,
    "start_time": "2025-07-23T18:52:00.026Z"
   },
   {
    "duration": 229,
    "start_time": "2025-07-23T18:52:00.160Z"
   },
   {
    "duration": 189,
    "start_time": "2025-07-23T18:52:00.392Z"
   },
   {
    "duration": 169,
    "start_time": "2025-07-23T18:52:00.583Z"
   },
   {
    "duration": 296,
    "start_time": "2025-07-23T18:52:00.753Z"
   },
   {
    "duration": 12,
    "start_time": "2025-07-23T18:52:21.597Z"
   },
   {
    "duration": 13,
    "start_time": "2025-07-23T18:52:31.421Z"
   },
   {
    "duration": 157,
    "start_time": "2025-07-23T18:52:31.775Z"
   },
   {
    "duration": 154,
    "start_time": "2025-07-23T18:53:16.006Z"
   },
   {
    "duration": 151,
    "start_time": "2025-07-23T18:53:21.425Z"
   },
   {
    "duration": 225,
    "start_time": "2025-07-23T18:56:38.488Z"
   },
   {
    "duration": 157,
    "start_time": "2025-07-23T18:56:52.934Z"
   },
   {
    "duration": 161,
    "start_time": "2025-07-23T18:57:22.830Z"
   },
   {
    "duration": 962,
    "start_time": "2025-07-23T19:04:21.669Z"
   },
   {
    "duration": 1113,
    "start_time": "2025-07-23T19:04:36.518Z"
   },
   {
    "duration": 997,
    "start_time": "2025-07-23T19:04:50.034Z"
   },
   {
    "duration": 984,
    "start_time": "2025-07-23T19:04:54.957Z"
   },
   {
    "duration": 993,
    "start_time": "2025-07-23T19:05:15.444Z"
   },
   {
    "duration": 1033,
    "start_time": "2025-07-23T19:06:48.400Z"
   },
   {
    "duration": 1008,
    "start_time": "2025-07-23T19:06:52.625Z"
   },
   {
    "duration": 1153,
    "start_time": "2025-07-23T19:07:14.953Z"
   },
   {
    "duration": 1526,
    "start_time": "2025-07-23T19:07:16.108Z"
   },
   {
    "duration": 110,
    "start_time": "2025-07-23T19:07:17.635Z"
   },
   {
    "duration": 273,
    "start_time": "2025-07-23T19:07:17.748Z"
   },
   {
    "duration": 17,
    "start_time": "2025-07-23T19:07:18.022Z"
   },
   {
    "duration": 67,
    "start_time": "2025-07-23T19:07:18.040Z"
   },
   {
    "duration": 10,
    "start_time": "2025-07-23T19:07:18.108Z"
   },
   {
    "duration": 461,
    "start_time": "2025-07-23T19:07:18.120Z"
   },
   {
    "duration": 194,
    "start_time": "2025-07-23T19:07:18.582Z"
   },
   {
    "duration": 203,
    "start_time": "2025-07-23T19:07:18.778Z"
   },
   {
    "duration": 618,
    "start_time": "2025-07-23T19:07:18.983Z"
   },
   {
    "duration": 138,
    "start_time": "2025-07-23T19:07:19.603Z"
   },
   {
    "duration": 28,
    "start_time": "2025-07-23T19:07:19.743Z"
   },
   {
    "duration": 125,
    "start_time": "2025-07-23T19:07:19.772Z"
   },
   {
    "duration": 35,
    "start_time": "2025-07-23T19:07:19.899Z"
   },
   {
    "duration": 511,
    "start_time": "2025-07-23T19:07:19.935Z"
   },
   {
    "duration": 185,
    "start_time": "2025-07-23T19:07:20.448Z"
   },
   {
    "duration": 219,
    "start_time": "2025-07-23T19:07:20.634Z"
   },
   {
    "duration": 519,
    "start_time": "2025-07-23T19:07:20.855Z"
   },
   {
    "duration": 218,
    "start_time": "2025-07-23T19:07:21.376Z"
   },
   {
    "duration": 180,
    "start_time": "2025-07-23T19:07:21.595Z"
   },
   {
    "duration": 46,
    "start_time": "2025-07-23T19:07:21.777Z"
   },
   {
    "duration": 4865,
    "start_time": "2025-07-23T19:07:21.824Z"
   },
   {
    "duration": 4,
    "start_time": "2025-07-23T19:07:26.691Z"
   },
   {
    "duration": 106,
    "start_time": "2025-07-23T19:07:26.697Z"
   },
   {
    "duration": 220,
    "start_time": "2025-07-23T19:07:26.804Z"
   },
   {
    "duration": 198,
    "start_time": "2025-07-23T19:07:27.025Z"
   },
   {
    "duration": 12,
    "start_time": "2025-07-23T19:07:27.226Z"
   },
   {
    "duration": 181,
    "start_time": "2025-07-23T19:07:27.239Z"
   },
   {
    "duration": 1121,
    "start_time": "2025-07-23T19:07:27.422Z"
   },
   {
    "duration": 1014,
    "start_time": "2025-07-23T19:09:09.328Z"
   },
   {
    "duration": 606,
    "start_time": "2025-07-23T19:10:45.530Z"
   },
   {
    "duration": 347,
    "start_time": "2025-07-23T19:14:04.970Z"
   },
   {
    "duration": 254,
    "start_time": "2025-07-23T19:14:07.498Z"
   },
   {
    "duration": 24,
    "start_time": "2025-07-23T19:14:50.442Z"
   },
   {
    "duration": 27,
    "start_time": "2025-07-23T19:15:10.953Z"
   },
   {
    "duration": 27,
    "start_time": "2025-07-23T19:15:41.379Z"
   },
   {
    "duration": 26,
    "start_time": "2025-07-23T19:15:55.718Z"
   },
   {
    "duration": 26,
    "start_time": "2025-07-23T19:16:10.190Z"
   },
   {
    "duration": 12,
    "start_time": "2025-07-23T19:16:22.089Z"
   },
   {
    "duration": 407,
    "start_time": "2025-07-23T19:17:39.158Z"
   },
   {
    "duration": 335,
    "start_time": "2025-07-23T19:18:35.241Z"
   },
   {
    "duration": 356,
    "start_time": "2025-07-23T19:18:41.858Z"
   },
   {
    "duration": 245,
    "start_time": "2025-07-23T19:18:55.902Z"
   },
   {
    "duration": 290,
    "start_time": "2025-07-23T19:19:00.849Z"
   },
   {
    "duration": 267,
    "start_time": "2025-07-23T19:20:25.286Z"
   },
   {
    "duration": 247,
    "start_time": "2025-07-23T19:20:41.505Z"
   },
   {
    "duration": 278,
    "start_time": "2025-07-23T19:20:45.170Z"
   },
   {
    "duration": 7,
    "start_time": "2025-07-23T19:21:28.556Z"
   },
   {
    "duration": 10,
    "start_time": "2025-07-23T19:21:43.666Z"
   },
   {
    "duration": 1144,
    "start_time": "2025-07-23T19:22:06.649Z"
   },
   {
    "duration": 1638,
    "start_time": "2025-07-23T19:22:07.795Z"
   },
   {
    "duration": 112,
    "start_time": "2025-07-23T19:22:09.435Z"
   },
   {
    "duration": 424,
    "start_time": "2025-07-23T19:22:09.549Z"
   },
   {
    "duration": 27,
    "start_time": "2025-07-23T19:22:09.975Z"
   },
   {
    "duration": 62,
    "start_time": "2025-07-23T19:22:10.004Z"
   },
   {
    "duration": 11,
    "start_time": "2025-07-23T19:22:10.068Z"
   },
   {
    "duration": 457,
    "start_time": "2025-07-23T19:22:10.080Z"
   },
   {
    "duration": 196,
    "start_time": "2025-07-23T19:22:10.539Z"
   },
   {
    "duration": 196,
    "start_time": "2025-07-23T19:22:10.738Z"
   },
   {
    "duration": 623,
    "start_time": "2025-07-23T19:22:10.935Z"
   },
   {
    "duration": 130,
    "start_time": "2025-07-23T19:22:11.560Z"
   },
   {
    "duration": 26,
    "start_time": "2025-07-23T19:22:11.691Z"
   },
   {
    "duration": 115,
    "start_time": "2025-07-23T19:22:11.718Z"
   },
   {
    "duration": 16,
    "start_time": "2025-07-23T19:22:11.834Z"
   },
   {
    "duration": 551,
    "start_time": "2025-07-23T19:22:11.851Z"
   },
   {
    "duration": 182,
    "start_time": "2025-07-23T19:22:12.403Z"
   },
   {
    "duration": 215,
    "start_time": "2025-07-23T19:22:12.589Z"
   },
   {
    "duration": 509,
    "start_time": "2025-07-23T19:22:12.806Z"
   },
   {
    "duration": 223,
    "start_time": "2025-07-23T19:22:13.317Z"
   },
   {
    "duration": 178,
    "start_time": "2025-07-23T19:22:13.541Z"
   },
   {
    "duration": 43,
    "start_time": "2025-07-23T19:22:13.721Z"
   },
   {
    "duration": 4950,
    "start_time": "2025-07-23T19:22:13.765Z"
   },
   {
    "duration": 4,
    "start_time": "2025-07-23T19:22:18.717Z"
   },
   {
    "duration": 113,
    "start_time": "2025-07-23T19:22:18.723Z"
   },
   {
    "duration": 219,
    "start_time": "2025-07-23T19:22:18.838Z"
   },
   {
    "duration": 189,
    "start_time": "2025-07-23T19:22:19.059Z"
   },
   {
    "duration": 12,
    "start_time": "2025-07-23T19:22:19.251Z"
   },
   {
    "duration": 175,
    "start_time": "2025-07-23T19:22:19.264Z"
   },
   {
    "duration": 1100,
    "start_time": "2025-07-23T19:22:19.440Z"
   },
   {
    "duration": 14,
    "start_time": "2025-07-23T19:22:20.542Z"
   },
   {
    "duration": 34,
    "start_time": "2025-07-23T19:22:20.558Z"
   },
   {
    "duration": 322,
    "start_time": "2025-07-23T19:22:20.594Z"
   },
   {
    "duration": 10,
    "start_time": "2025-07-23T19:22:20.917Z"
   },
   {
    "duration": 310,
    "start_time": "2025-07-23T19:22:20.928Z"
   },
   {
    "duration": 1046,
    "start_time": "2025-07-23T19:23:47.998Z"
   },
   {
    "duration": 14,
    "start_time": "2025-07-23T19:23:49.046Z"
   },
   {
    "duration": 16,
    "start_time": "2025-07-23T19:23:50.867Z"
   },
   {
    "duration": 328,
    "start_time": "2025-07-23T19:23:51.511Z"
   },
   {
    "duration": 10,
    "start_time": "2025-07-23T19:23:53.686Z"
   },
   {
    "duration": 285,
    "start_time": "2025-07-23T19:23:54.153Z"
   },
   {
    "duration": 12,
    "start_time": "2025-07-23T19:24:14.310Z"
   },
   {
    "duration": 1160,
    "start_time": "2025-07-23T19:24:19.844Z"
   },
   {
    "duration": 1291,
    "start_time": "2025-07-23T19:24:21.006Z"
   },
   {
    "duration": 109,
    "start_time": "2025-07-23T19:24:22.299Z"
   },
   {
    "duration": 239,
    "start_time": "2025-07-23T19:24:22.410Z"
   },
   {
    "duration": 17,
    "start_time": "2025-07-23T19:24:22.651Z"
   },
   {
    "duration": 45,
    "start_time": "2025-07-23T19:24:22.670Z"
   },
   {
    "duration": 11,
    "start_time": "2025-07-23T19:24:22.716Z"
   },
   {
    "duration": 446,
    "start_time": "2025-07-23T19:24:22.728Z"
   },
   {
    "duration": 194,
    "start_time": "2025-07-23T19:24:23.175Z"
   },
   {
    "duration": 195,
    "start_time": "2025-07-23T19:24:23.371Z"
   },
   {
    "duration": 628,
    "start_time": "2025-07-23T19:24:23.568Z"
   },
   {
    "duration": 133,
    "start_time": "2025-07-23T19:24:24.197Z"
   },
   {
    "duration": 27,
    "start_time": "2025-07-23T19:24:24.331Z"
   },
   {
    "duration": 121,
    "start_time": "2025-07-23T19:24:24.360Z"
   },
   {
    "duration": 17,
    "start_time": "2025-07-23T19:24:24.490Z"
   },
   {
    "duration": 533,
    "start_time": "2025-07-23T19:24:24.509Z"
   },
   {
    "duration": 201,
    "start_time": "2025-07-23T19:24:25.044Z"
   },
   {
    "duration": 233,
    "start_time": "2025-07-23T19:24:25.246Z"
   },
   {
    "duration": 483,
    "start_time": "2025-07-23T19:24:25.481Z"
   },
   {
    "duration": 212,
    "start_time": "2025-07-23T19:24:25.965Z"
   },
   {
    "duration": 188,
    "start_time": "2025-07-23T19:24:26.178Z"
   },
   {
    "duration": 49,
    "start_time": "2025-07-23T19:24:26.368Z"
   },
   {
    "duration": 4678,
    "start_time": "2025-07-23T19:24:26.419Z"
   },
   {
    "duration": 5,
    "start_time": "2025-07-23T19:24:31.098Z"
   },
   {
    "duration": 112,
    "start_time": "2025-07-23T19:24:31.104Z"
   },
   {
    "duration": 218,
    "start_time": "2025-07-23T19:24:31.217Z"
   },
   {
    "duration": 11,
    "start_time": "2025-07-23T19:24:31.436Z"
   },
   {
    "duration": 280,
    "start_time": "2025-07-23T19:24:31.449Z"
   },
   {
    "duration": 1113,
    "start_time": "2025-07-23T19:24:31.731Z"
   },
   {
    "duration": 15,
    "start_time": "2025-07-23T19:24:32.845Z"
   },
   {
    "duration": 114,
    "start_time": "2025-07-23T19:24:32.861Z"
   },
   {
    "duration": 327,
    "start_time": "2025-07-23T19:24:32.977Z"
   },
   {
    "duration": 10,
    "start_time": "2025-07-23T19:24:33.305Z"
   },
   {
    "duration": 1603,
    "start_time": "2025-07-23T19:24:33.316Z"
   },
   {
    "duration": 265,
    "start_time": "2025-07-23T19:24:41.889Z"
   },
   {
    "duration": 89,
    "start_time": "2025-07-23T19:52:36.231Z"
   },
   {
    "duration": 93,
    "start_time": "2025-07-23T19:53:02.512Z"
   },
   {
    "duration": 1492,
    "start_time": "2025-07-23T19:53:45.320Z"
   },
   {
    "duration": 84,
    "start_time": "2025-07-23T19:53:58.326Z"
   },
   {
    "duration": 85,
    "start_time": "2025-07-23T19:54:06.410Z"
   },
   {
    "duration": 104,
    "start_time": "2025-07-23T19:54:34.637Z"
   },
   {
    "duration": 1749,
    "start_time": "2025-07-23T19:55:05.274Z"
   },
   {
    "duration": 2734,
    "start_time": "2025-07-23T19:55:17.761Z"
   },
   {
    "duration": 1368,
    "start_time": "2025-07-23T19:55:25.003Z"
   },
   {
    "duration": 1391,
    "start_time": "2025-07-23T19:56:44.655Z"
   },
   {
    "duration": 1451,
    "start_time": "2025-07-23T19:57:59.510Z"
   },
   {
    "duration": 1215,
    "start_time": "2025-07-23T19:58:16.988Z"
   },
   {
    "duration": 1281,
    "start_time": "2025-07-23T19:58:30.297Z"
   },
   {
    "duration": 1301,
    "start_time": "2025-07-23T19:58:36.521Z"
   },
   {
    "duration": 940,
    "start_time": "2025-07-23T19:58:55.436Z"
   },
   {
    "duration": 633,
    "start_time": "2025-07-23T19:59:58.968Z"
   },
   {
    "duration": 536,
    "start_time": "2025-07-23T20:05:34.831Z"
   },
   {
    "duration": 514,
    "start_time": "2025-07-23T20:06:32.266Z"
   },
   {
    "duration": 601,
    "start_time": "2025-07-23T20:06:40.234Z"
   },
   {
    "duration": 525,
    "start_time": "2025-07-23T20:06:48.780Z"
   },
   {
    "duration": 515,
    "start_time": "2025-07-23T20:07:57.808Z"
   },
   {
    "duration": 539,
    "start_time": "2025-07-23T20:08:01.301Z"
   },
   {
    "duration": 654,
    "start_time": "2025-07-23T20:08:05.015Z"
   },
   {
    "duration": 517,
    "start_time": "2025-07-23T20:08:11.198Z"
   },
   {
    "duration": 561,
    "start_time": "2025-07-23T20:08:14.993Z"
   },
   {
    "duration": 520,
    "start_time": "2025-07-23T20:08:34.550Z"
   },
   {
    "duration": 1131,
    "start_time": "2025-07-23T20:08:55.723Z"
   },
   {
    "duration": 1795,
    "start_time": "2025-07-23T20:08:56.856Z"
   },
   {
    "duration": 114,
    "start_time": "2025-07-23T20:08:58.654Z"
   },
   {
    "duration": 300,
    "start_time": "2025-07-23T20:08:58.770Z"
   },
   {
    "duration": 25,
    "start_time": "2025-07-23T20:08:59.071Z"
   },
   {
    "duration": 124,
    "start_time": "2025-07-23T20:08:59.098Z"
   },
   {
    "duration": 10,
    "start_time": "2025-07-23T20:08:59.224Z"
   },
   {
    "duration": 466,
    "start_time": "2025-07-23T20:08:59.236Z"
   },
   {
    "duration": 201,
    "start_time": "2025-07-23T20:08:59.703Z"
   },
   {
    "duration": 200,
    "start_time": "2025-07-23T20:08:59.906Z"
   },
   {
    "duration": 648,
    "start_time": "2025-07-23T20:09:00.108Z"
   },
   {
    "duration": 131,
    "start_time": "2025-07-23T20:09:00.758Z"
   },
   {
    "duration": 27,
    "start_time": "2025-07-23T20:09:00.893Z"
   },
   {
    "duration": 130,
    "start_time": "2025-07-23T20:09:00.922Z"
   },
   {
    "duration": 15,
    "start_time": "2025-07-23T20:09:01.053Z"
   },
   {
    "duration": 662,
    "start_time": "2025-07-23T20:09:01.071Z"
   },
   {
    "duration": 186,
    "start_time": "2025-07-23T20:09:01.734Z"
   },
   {
    "duration": 234,
    "start_time": "2025-07-23T20:09:01.921Z"
   },
   {
    "duration": 504,
    "start_time": "2025-07-23T20:09:02.157Z"
   },
   {
    "duration": 214,
    "start_time": "2025-07-23T20:09:02.662Z"
   },
   {
    "duration": 189,
    "start_time": "2025-07-23T20:09:02.878Z"
   },
   {
    "duration": 51,
    "start_time": "2025-07-23T20:09:03.069Z"
   },
   {
    "duration": 4860,
    "start_time": "2025-07-23T20:09:03.122Z"
   },
   {
    "duration": 6,
    "start_time": "2025-07-23T20:09:07.984Z"
   },
   {
    "duration": 113,
    "start_time": "2025-07-23T20:09:07.992Z"
   },
   {
    "duration": 224,
    "start_time": "2025-07-23T20:09:08.107Z"
   },
   {
    "duration": 13,
    "start_time": "2025-07-23T20:09:08.333Z"
   },
   {
    "duration": 187,
    "start_time": "2025-07-23T20:09:08.348Z"
   },
   {
    "duration": 1103,
    "start_time": "2025-07-23T20:09:08.537Z"
   },
   {
    "duration": 16,
    "start_time": "2025-07-23T20:09:09.642Z"
   },
   {
    "duration": 68,
    "start_time": "2025-07-23T20:09:09.660Z"
   },
   {
    "duration": 342,
    "start_time": "2025-07-23T20:09:09.730Z"
   },
   {
    "duration": 17,
    "start_time": "2025-07-23T20:09:10.073Z"
   },
   {
    "duration": 374,
    "start_time": "2025-07-23T20:09:10.091Z"
   },
   {
    "duration": 104,
    "start_time": "2025-07-23T20:09:10.467Z"
   },
   {
    "duration": 1023,
    "start_time": "2025-07-23T20:09:10.572Z"
   },
   {
    "duration": 537,
    "start_time": "2025-07-23T20:09:11.598Z"
   },
   {
    "duration": 82,
    "start_time": "2025-07-23T20:09:25.549Z"
   },
   {
    "duration": 494,
    "start_time": "2025-07-23T20:09:29.538Z"
   },
   {
    "duration": 136,
    "start_time": "2025-07-23T20:10:20.855Z"
   },
   {
    "duration": 1018,
    "start_time": "2025-07-23T20:10:22.963Z"
   },
   {
    "duration": 515,
    "start_time": "2025-07-23T20:10:23.989Z"
   },
   {
    "duration": 537,
    "start_time": "2025-07-23T20:20:44.428Z"
   },
   {
    "duration": 1242,
    "start_time": "2025-07-23T20:22:52.574Z"
   },
   {
    "duration": 1663,
    "start_time": "2025-07-23T20:22:53.818Z"
   },
   {
    "duration": 115,
    "start_time": "2025-07-23T20:22:55.483Z"
   },
   {
    "duration": 277,
    "start_time": "2025-07-23T20:22:55.600Z"
   },
   {
    "duration": 22,
    "start_time": "2025-07-23T20:22:55.879Z"
   },
   {
    "duration": 31,
    "start_time": "2025-07-23T20:22:55.903Z"
   },
   {
    "duration": 11,
    "start_time": "2025-07-23T20:22:55.936Z"
   },
   {
    "duration": 491,
    "start_time": "2025-07-23T20:22:55.949Z"
   },
   {
    "duration": 205,
    "start_time": "2025-07-23T20:22:56.442Z"
   },
   {
    "duration": 205,
    "start_time": "2025-07-23T20:22:56.650Z"
   },
   {
    "duration": 655,
    "start_time": "2025-07-23T20:22:56.856Z"
   },
   {
    "duration": 136,
    "start_time": "2025-07-23T20:22:57.513Z"
   },
   {
    "duration": 27,
    "start_time": "2025-07-23T20:22:57.651Z"
   },
   {
    "duration": 150,
    "start_time": "2025-07-23T20:22:57.679Z"
   },
   {
    "duration": 15,
    "start_time": "2025-07-23T20:22:57.830Z"
   },
   {
    "duration": 549,
    "start_time": "2025-07-23T20:22:57.847Z"
   },
   {
    "duration": 199,
    "start_time": "2025-07-23T20:22:58.398Z"
   },
   {
    "duration": 239,
    "start_time": "2025-07-23T20:22:58.599Z"
   },
   {
    "duration": 520,
    "start_time": "2025-07-23T20:22:58.841Z"
   },
   {
    "duration": 221,
    "start_time": "2025-07-23T20:22:59.363Z"
   },
   {
    "duration": 197,
    "start_time": "2025-07-23T20:22:59.586Z"
   },
   {
    "duration": 46,
    "start_time": "2025-07-23T20:22:59.784Z"
   },
   {
    "duration": 5063,
    "start_time": "2025-07-23T20:22:59.831Z"
   },
   {
    "duration": 4,
    "start_time": "2025-07-23T20:23:04.896Z"
   },
   {
    "duration": 115,
    "start_time": "2025-07-23T20:23:04.902Z"
   },
   {
    "duration": 260,
    "start_time": "2025-07-23T20:23:05.019Z"
   },
   {
    "duration": 12,
    "start_time": "2025-07-23T20:23:05.280Z"
   },
   {
    "duration": 191,
    "start_time": "2025-07-23T20:23:05.295Z"
   },
   {
    "duration": 1155,
    "start_time": "2025-07-23T20:23:05.490Z"
   },
   {
    "duration": 15,
    "start_time": "2025-07-23T20:23:06.646Z"
   },
   {
    "duration": 35,
    "start_time": "2025-07-23T20:23:06.662Z"
   },
   {
    "duration": 406,
    "start_time": "2025-07-23T20:23:06.699Z"
   },
   {
    "duration": 10,
    "start_time": "2025-07-23T20:23:07.107Z"
   },
   {
    "duration": 373,
    "start_time": "2025-07-23T20:23:07.119Z"
   },
   {
    "duration": 151,
    "start_time": "2025-07-23T20:23:07.493Z"
   },
   {
    "duration": 1049,
    "start_time": "2025-07-23T20:23:07.646Z"
   },
   {
    "duration": 177,
    "start_time": "2025-07-23T20:23:08.696Z"
   },
   {
    "duration": 523,
    "start_time": "2025-07-23T20:23:33.282Z"
   },
   {
    "duration": 571,
    "start_time": "2025-07-23T20:24:04.334Z"
   },
   {
    "duration": 670,
    "start_time": "2025-07-23T20:24:12.418Z"
   },
   {
    "duration": 198,
    "start_time": "2025-07-23T20:25:44.181Z"
   },
   {
    "duration": 79,
    "start_time": "2025-07-23T20:27:10.824Z"
   },
   {
    "duration": 394,
    "start_time": "2025-07-23T20:27:29.317Z"
   },
   {
    "duration": 395,
    "start_time": "2025-07-23T20:27:55.476Z"
   },
   {
    "duration": 11,
    "start_time": "2025-07-23T20:29:40.973Z"
   },
   {
    "duration": 172,
    "start_time": "2025-07-23T20:30:18.192Z"
   },
   {
    "duration": 565,
    "start_time": "2025-07-23T20:30:39.612Z"
   },
   {
    "duration": 100,
    "start_time": "2025-07-23T20:31:41.939Z"
   },
   {
    "duration": 546,
    "start_time": "2025-07-23T20:31:44.522Z"
   },
   {
    "duration": 915,
    "start_time": "2025-07-23T20:32:57.432Z"
   },
   {
    "duration": 1025,
    "start_time": "2025-07-23T20:33:02.168Z"
   },
   {
    "duration": 915,
    "start_time": "2025-07-23T20:33:22.766Z"
   },
   {
    "duration": 1213,
    "start_time": "2025-07-23T20:33:46.003Z"
   },
   {
    "duration": 1642,
    "start_time": "2025-07-23T20:33:47.218Z"
   },
   {
    "duration": 116,
    "start_time": "2025-07-23T20:33:48.862Z"
   },
   {
    "duration": 322,
    "start_time": "2025-07-23T20:33:48.980Z"
   },
   {
    "duration": 18,
    "start_time": "2025-07-23T20:33:49.304Z"
   },
   {
    "duration": 40,
    "start_time": "2025-07-23T20:33:49.323Z"
   },
   {
    "duration": 11,
    "start_time": "2025-07-23T20:33:49.364Z"
   },
   {
    "duration": 469,
    "start_time": "2025-07-23T20:33:49.376Z"
   },
   {
    "duration": 199,
    "start_time": "2025-07-23T20:33:49.846Z"
   },
   {
    "duration": 211,
    "start_time": "2025-07-23T20:33:50.047Z"
   },
   {
    "duration": 645,
    "start_time": "2025-07-23T20:33:50.259Z"
   },
   {
    "duration": 131,
    "start_time": "2025-07-23T20:33:50.906Z"
   },
   {
    "duration": 25,
    "start_time": "2025-07-23T20:33:51.039Z"
   },
   {
    "duration": 127,
    "start_time": "2025-07-23T20:33:51.067Z"
   },
   {
    "duration": 13,
    "start_time": "2025-07-23T20:33:51.195Z"
   },
   {
    "duration": 536,
    "start_time": "2025-07-23T20:33:51.210Z"
   },
   {
    "duration": 190,
    "start_time": "2025-07-23T20:33:51.748Z"
   },
   {
    "duration": 237,
    "start_time": "2025-07-23T20:33:51.940Z"
   },
   {
    "duration": 518,
    "start_time": "2025-07-23T20:33:52.178Z"
   },
   {
    "duration": 221,
    "start_time": "2025-07-23T20:33:52.698Z"
   },
   {
    "duration": 195,
    "start_time": "2025-07-23T20:33:52.921Z"
   },
   {
    "duration": 42,
    "start_time": "2025-07-23T20:33:53.118Z"
   },
   {
    "duration": 4759,
    "start_time": "2025-07-23T20:33:53.162Z"
   },
   {
    "duration": 5,
    "start_time": "2025-07-23T20:33:57.923Z"
   },
   {
    "duration": 113,
    "start_time": "2025-07-23T20:33:57.929Z"
   },
   {
    "duration": 248,
    "start_time": "2025-07-23T20:33:58.043Z"
   },
   {
    "duration": 11,
    "start_time": "2025-07-23T20:33:58.293Z"
   },
   {
    "duration": 189,
    "start_time": "2025-07-23T20:33:58.306Z"
   },
   {
    "duration": 1153,
    "start_time": "2025-07-23T20:33:58.496Z"
   },
   {
    "duration": 14,
    "start_time": "2025-07-23T20:33:59.651Z"
   },
   {
    "duration": 36,
    "start_time": "2025-07-23T20:33:59.667Z"
   },
   {
    "duration": 406,
    "start_time": "2025-07-23T20:33:59.704Z"
   },
   {
    "duration": 11,
    "start_time": "2025-07-23T20:34:00.112Z"
   },
   {
    "duration": 332,
    "start_time": "2025-07-23T20:34:00.124Z"
   },
   {
    "duration": 152,
    "start_time": "2025-07-23T20:34:00.457Z"
   },
   {
    "duration": 1030,
    "start_time": "2025-07-23T20:34:00.610Z"
   },
   {
    "duration": 585,
    "start_time": "2025-07-23T20:34:01.641Z"
   },
   {
    "duration": 1194,
    "start_time": "2025-07-23T20:43:22.110Z"
   },
   {
    "duration": 1420,
    "start_time": "2025-07-23T20:43:23.306Z"
   },
   {
    "duration": 108,
    "start_time": "2025-07-23T20:43:24.728Z"
   },
   {
    "duration": 329,
    "start_time": "2025-07-23T20:43:24.838Z"
   },
   {
    "duration": 26,
    "start_time": "2025-07-23T20:43:25.169Z"
   },
   {
    "duration": 75,
    "start_time": "2025-07-23T20:43:25.196Z"
   },
   {
    "duration": 13,
    "start_time": "2025-07-23T20:43:25.273Z"
   },
   {
    "duration": 480,
    "start_time": "2025-07-23T20:43:25.288Z"
   },
   {
    "duration": 197,
    "start_time": "2025-07-23T20:43:25.770Z"
   },
   {
    "duration": 213,
    "start_time": "2025-07-23T20:43:25.969Z"
   },
   {
    "duration": 651,
    "start_time": "2025-07-23T20:43:26.184Z"
   },
   {
    "duration": 133,
    "start_time": "2025-07-23T20:43:26.836Z"
   },
   {
    "duration": 35,
    "start_time": "2025-07-23T20:43:26.971Z"
   },
   {
    "duration": 121,
    "start_time": "2025-07-23T20:43:27.010Z"
   },
   {
    "duration": 14,
    "start_time": "2025-07-23T20:43:27.133Z"
   },
   {
    "duration": 551,
    "start_time": "2025-07-23T20:43:27.149Z"
   },
   {
    "duration": 185,
    "start_time": "2025-07-23T20:43:27.701Z"
   },
   {
    "duration": 229,
    "start_time": "2025-07-23T20:43:27.890Z"
   },
   {
    "duration": 506,
    "start_time": "2025-07-23T20:43:28.120Z"
   },
   {
    "duration": 210,
    "start_time": "2025-07-23T20:43:28.628Z"
   },
   {
    "duration": 180,
    "start_time": "2025-07-23T20:43:28.840Z"
   },
   {
    "duration": 39,
    "start_time": "2025-07-23T20:43:29.022Z"
   },
   {
    "duration": 4657,
    "start_time": "2025-07-23T20:43:29.063Z"
   },
   {
    "duration": 5,
    "start_time": "2025-07-23T20:43:33.721Z"
   },
   {
    "duration": 112,
    "start_time": "2025-07-23T20:43:33.727Z"
   },
   {
    "duration": 215,
    "start_time": "2025-07-23T20:43:33.840Z"
   },
   {
    "duration": 12,
    "start_time": "2025-07-23T20:43:34.056Z"
   },
   {
    "duration": 176,
    "start_time": "2025-07-23T20:43:34.070Z"
   },
   {
    "duration": 1193,
    "start_time": "2025-07-23T20:43:34.247Z"
   },
   {
    "duration": 14,
    "start_time": "2025-07-23T20:43:35.441Z"
   },
   {
    "duration": 33,
    "start_time": "2025-07-23T20:43:35.457Z"
   },
   {
    "duration": 409,
    "start_time": "2025-07-23T20:43:35.491Z"
   },
   {
    "duration": 10,
    "start_time": "2025-07-23T20:43:35.902Z"
   },
   {
    "duration": 343,
    "start_time": "2025-07-23T20:43:35.913Z"
   },
   {
    "duration": 169,
    "start_time": "2025-07-23T20:43:36.257Z"
   },
   {
    "duration": 995,
    "start_time": "2025-07-23T20:43:36.427Z"
   },
   {
    "duration": 558,
    "start_time": "2025-07-23T20:43:37.423Z"
   },
   {
    "duration": 561,
    "start_time": "2025-07-23T20:43:37.989Z"
   },
   {
    "duration": 142,
    "start_time": "2025-07-23T20:49:05.197Z"
   },
   {
    "duration": 90,
    "start_time": "2025-07-23T20:49:25.937Z"
   },
   {
    "duration": 1235,
    "start_time": "2025-07-23T21:03:21.095Z"
   },
   {
    "duration": 1381,
    "start_time": "2025-07-23T21:03:22.333Z"
   },
   {
    "duration": 111,
    "start_time": "2025-07-23T21:03:23.716Z"
   },
   {
    "duration": 442,
    "start_time": "2025-07-23T21:03:23.829Z"
   },
   {
    "duration": 23,
    "start_time": "2025-07-23T21:03:24.273Z"
   },
   {
    "duration": 45,
    "start_time": "2025-07-23T21:03:24.298Z"
   },
   {
    "duration": 9,
    "start_time": "2025-07-23T21:03:24.345Z"
   },
   {
    "duration": 464,
    "start_time": "2025-07-23T21:03:24.356Z"
   },
   {
    "duration": 192,
    "start_time": "2025-07-23T21:03:24.822Z"
   },
   {
    "duration": 220,
    "start_time": "2025-07-23T21:03:25.017Z"
   },
   {
    "duration": 630,
    "start_time": "2025-07-23T21:03:25.238Z"
   },
   {
    "duration": 128,
    "start_time": "2025-07-23T21:03:25.869Z"
   },
   {
    "duration": 27,
    "start_time": "2025-07-23T21:03:25.998Z"
   },
   {
    "duration": 121,
    "start_time": "2025-07-23T21:03:26.027Z"
   },
   {
    "duration": 15,
    "start_time": "2025-07-23T21:03:26.149Z"
   },
   {
    "duration": 558,
    "start_time": "2025-07-23T21:03:26.166Z"
   },
   {
    "duration": 197,
    "start_time": "2025-07-23T21:03:26.725Z"
   },
   {
    "duration": 234,
    "start_time": "2025-07-23T21:03:26.923Z"
   },
   {
    "duration": 512,
    "start_time": "2025-07-23T21:03:27.159Z"
   },
   {
    "duration": 209,
    "start_time": "2025-07-23T21:03:27.672Z"
   },
   {
    "duration": 185,
    "start_time": "2025-07-23T21:03:27.883Z"
   },
   {
    "duration": 49,
    "start_time": "2025-07-23T21:03:28.070Z"
   },
   {
    "duration": 4734,
    "start_time": "2025-07-23T21:03:28.121Z"
   },
   {
    "duration": 5,
    "start_time": "2025-07-23T21:03:32.857Z"
   },
   {
    "duration": 122,
    "start_time": "2025-07-23T21:03:32.863Z"
   },
   {
    "duration": 217,
    "start_time": "2025-07-23T21:03:32.987Z"
   },
   {
    "duration": 10,
    "start_time": "2025-07-23T21:03:33.206Z"
   },
   {
    "duration": 178,
    "start_time": "2025-07-23T21:03:33.219Z"
   },
   {
    "duration": 1110,
    "start_time": "2025-07-23T21:03:33.398Z"
   },
   {
    "duration": 14,
    "start_time": "2025-07-23T21:03:34.510Z"
   },
   {
    "duration": 45,
    "start_time": "2025-07-23T21:03:34.526Z"
   },
   {
    "duration": 333,
    "start_time": "2025-07-23T21:03:34.572Z"
   },
   {
    "duration": 9,
    "start_time": "2025-07-23T21:03:34.907Z"
   },
   {
    "duration": 329,
    "start_time": "2025-07-23T21:03:34.917Z"
   },
   {
    "duration": 149,
    "start_time": "2025-07-23T21:03:35.248Z"
   },
   {
    "duration": 1009,
    "start_time": "2025-07-23T21:03:35.399Z"
   },
   {
    "duration": 546,
    "start_time": "2025-07-23T21:03:36.409Z"
   },
   {
    "duration": 1333,
    "start_time": "2025-07-24T03:22:30.830Z"
   },
   {
    "duration": 1565,
    "start_time": "2025-07-24T03:22:32.165Z"
   },
   {
    "duration": 106,
    "start_time": "2025-07-24T03:22:33.734Z"
   },
   {
    "duration": 316,
    "start_time": "2025-07-24T03:22:33.843Z"
   },
   {
    "duration": 17,
    "start_time": "2025-07-24T03:22:34.160Z"
   },
   {
    "duration": 188,
    "start_time": "2025-07-24T03:22:34.178Z"
   },
   {
    "duration": 9,
    "start_time": "2025-07-24T03:22:34.368Z"
   },
   {
    "duration": 440,
    "start_time": "2025-07-24T03:22:34.379Z"
   },
   {
    "duration": 190,
    "start_time": "2025-07-24T03:22:34.820Z"
   },
   {
    "duration": 216,
    "start_time": "2025-07-24T03:22:35.014Z"
   },
   {
    "duration": 608,
    "start_time": "2025-07-24T03:22:35.235Z"
   },
   {
    "duration": 129,
    "start_time": "2025-07-24T03:22:35.844Z"
   },
   {
    "duration": 27,
    "start_time": "2025-07-24T03:22:35.975Z"
   },
   {
    "duration": 115,
    "start_time": "2025-07-24T03:22:36.004Z"
   },
   {
    "duration": 32,
    "start_time": "2025-07-24T03:22:36.120Z"
   },
   {
    "duration": 646,
    "start_time": "2025-07-24T03:22:36.154Z"
   },
   {
    "duration": 188,
    "start_time": "2025-07-24T03:22:36.801Z"
   },
   {
    "duration": 224,
    "start_time": "2025-07-24T03:22:36.991Z"
   },
   {
    "duration": 533,
    "start_time": "2025-07-24T03:22:37.216Z"
   },
   {
    "duration": 221,
    "start_time": "2025-07-24T03:22:37.750Z"
   },
   {
    "duration": 185,
    "start_time": "2025-07-24T03:22:37.973Z"
   },
   {
    "duration": 38,
    "start_time": "2025-07-24T03:22:38.160Z"
   },
   {
    "duration": 4760,
    "start_time": "2025-07-24T03:22:38.199Z"
   },
   {
    "duration": 4,
    "start_time": "2025-07-24T03:22:42.961Z"
   },
   {
    "duration": 114,
    "start_time": "2025-07-24T03:22:42.966Z"
   },
   {
    "duration": 238,
    "start_time": "2025-07-24T03:22:43.081Z"
   },
   {
    "duration": 16,
    "start_time": "2025-07-24T03:22:43.321Z"
   },
   {
    "duration": 177,
    "start_time": "2025-07-24T03:22:43.344Z"
   },
   {
    "duration": 1074,
    "start_time": "2025-07-24T03:22:43.523Z"
   },
   {
    "duration": 13,
    "start_time": "2025-07-24T03:22:44.599Z"
   },
   {
    "duration": 70,
    "start_time": "2025-07-24T03:22:44.613Z"
   },
   {
    "duration": 362,
    "start_time": "2025-07-24T03:22:44.685Z"
   },
   {
    "duration": 10,
    "start_time": "2025-07-24T03:22:45.049Z"
   },
   {
    "duration": 346,
    "start_time": "2025-07-24T03:22:45.060Z"
   },
   {
    "duration": 148,
    "start_time": "2025-07-24T03:22:45.408Z"
   },
   {
    "duration": 1037,
    "start_time": "2025-07-24T03:22:45.558Z"
   },
   {
    "duration": 546,
    "start_time": "2025-07-24T03:22:46.597Z"
   },
   {
    "duration": 111,
    "start_time": "2025-07-24T03:22:47.146Z"
   },
   {
    "duration": 61,
    "start_time": "2025-07-24T03:23:26.114Z"
   },
   {
    "duration": 71,
    "start_time": "2025-07-24T03:23:36.823Z"
   },
   {
    "duration": 55,
    "start_time": "2025-07-24T03:31:24.115Z"
   },
   {
    "duration": 1601,
    "start_time": "2025-07-24T03:32:47.494Z"
   },
   {
    "duration": 48,
    "start_time": "2025-07-24T03:33:26.487Z"
   },
   {
    "duration": 70,
    "start_time": "2025-07-24T03:33:32.380Z"
   },
   {
    "duration": 62,
    "start_time": "2025-07-24T03:34:29.553Z"
   },
   {
    "duration": 53,
    "start_time": "2025-07-24T03:34:43.044Z"
   },
   {
    "duration": 56,
    "start_time": "2025-07-24T03:34:49.827Z"
   },
   {
    "duration": 137,
    "start_time": "2025-07-24T04:18:31.513Z"
   },
   {
    "duration": 12,
    "start_time": "2025-07-24T04:19:03.350Z"
   },
   {
    "duration": 39,
    "start_time": "2025-07-24T04:22:48.171Z"
   },
   {
    "duration": 898,
    "start_time": "2025-07-24T04:23:00.836Z"
   },
   {
    "duration": 664,
    "start_time": "2025-07-24T04:23:20.594Z"
   },
   {
    "duration": 702,
    "start_time": "2025-07-24T04:24:57.752Z"
   },
   {
    "duration": 619,
    "start_time": "2025-07-24T04:28:09.553Z"
   },
   {
    "duration": 636,
    "start_time": "2025-07-24T04:30:55.228Z"
   },
   {
    "duration": 682,
    "start_time": "2025-07-24T04:31:01.994Z"
   },
   {
    "duration": 382,
    "start_time": "2025-07-24T04:31:18.744Z"
   },
   {
    "duration": 558,
    "start_time": "2025-07-24T04:31:23.681Z"
   },
   {
    "duration": 492,
    "start_time": "2025-07-24T04:31:28.816Z"
   },
   {
    "duration": 639,
    "start_time": "2025-07-24T04:34:13.410Z"
   },
   {
    "duration": 391,
    "start_time": "2025-07-24T04:36:42.894Z"
   },
   {
    "duration": 382,
    "start_time": "2025-07-24T04:38:17.706Z"
   },
   {
    "duration": 662,
    "start_time": "2025-07-24T04:39:05.112Z"
   },
   {
    "duration": 15,
    "start_time": "2025-07-24T04:49:25.407Z"
   },
   {
    "duration": 15,
    "start_time": "2025-07-24T04:51:40.294Z"
   },
   {
    "duration": 722,
    "start_time": "2025-07-24T04:53:31.853Z"
   },
   {
    "duration": 1139,
    "start_time": "2025-07-24T04:53:38.100Z"
   },
   {
    "duration": 2960,
    "start_time": "2025-07-24T04:53:39.241Z"
   },
   {
    "duration": 109,
    "start_time": "2025-07-24T04:53:42.205Z"
   },
   {
    "duration": 405,
    "start_time": "2025-07-24T04:53:42.316Z"
   },
   {
    "duration": 18,
    "start_time": "2025-07-24T04:53:42.723Z"
   },
   {
    "duration": 88,
    "start_time": "2025-07-24T04:53:42.743Z"
   },
   {
    "duration": 11,
    "start_time": "2025-07-24T04:53:42.833Z"
   },
   {
    "duration": 513,
    "start_time": "2025-07-24T04:53:42.845Z"
   },
   {
    "duration": 191,
    "start_time": "2025-07-24T04:53:43.361Z"
   },
   {
    "duration": 191,
    "start_time": "2025-07-24T04:53:43.553Z"
   },
   {
    "duration": 590,
    "start_time": "2025-07-24T04:53:43.746Z"
   },
   {
    "duration": 125,
    "start_time": "2025-07-24T04:53:44.337Z"
   },
   {
    "duration": 25,
    "start_time": "2025-07-24T04:53:44.464Z"
   },
   {
    "duration": 149,
    "start_time": "2025-07-24T04:53:44.490Z"
   },
   {
    "duration": 15,
    "start_time": "2025-07-24T04:53:44.640Z"
   },
   {
    "duration": 494,
    "start_time": "2025-07-24T04:53:44.656Z"
   },
   {
    "duration": 194,
    "start_time": "2025-07-24T04:53:45.153Z"
   },
   {
    "duration": 215,
    "start_time": "2025-07-24T04:53:45.348Z"
   },
   {
    "duration": 508,
    "start_time": "2025-07-24T04:53:45.565Z"
   },
   {
    "duration": 215,
    "start_time": "2025-07-24T04:53:46.074Z"
   },
   {
    "duration": 180,
    "start_time": "2025-07-24T04:53:46.291Z"
   },
   {
    "duration": 43,
    "start_time": "2025-07-24T04:53:46.473Z"
   },
   {
    "duration": 4464,
    "start_time": "2025-07-24T04:53:46.518Z"
   },
   {
    "duration": 4,
    "start_time": "2025-07-24T04:53:50.984Z"
   },
   {
    "duration": 104,
    "start_time": "2025-07-24T04:53:50.990Z"
   },
   {
    "duration": 204,
    "start_time": "2025-07-24T04:53:51.096Z"
   },
   {
    "duration": 10,
    "start_time": "2025-07-24T04:53:51.303Z"
   },
   {
    "duration": 170,
    "start_time": "2025-07-24T04:53:51.315Z"
   },
   {
    "duration": 1139,
    "start_time": "2025-07-24T04:53:51.486Z"
   },
   {
    "duration": 18,
    "start_time": "2025-07-24T04:53:52.626Z"
   },
   {
    "duration": 16,
    "start_time": "2025-07-24T04:53:52.646Z"
   },
   {
    "duration": 381,
    "start_time": "2025-07-24T04:53:52.663Z"
   },
   {
    "duration": 10,
    "start_time": "2025-07-24T04:53:53.046Z"
   },
   {
    "duration": 283,
    "start_time": "2025-07-24T04:53:53.057Z"
   },
   {
    "duration": 140,
    "start_time": "2025-07-24T04:53:53.341Z"
   },
   {
    "duration": 952,
    "start_time": "2025-07-24T04:53:53.482Z"
   },
   {
    "duration": 520,
    "start_time": "2025-07-24T04:53:54.436Z"
   },
   {
    "duration": 62,
    "start_time": "2025-07-24T04:53:54.958Z"
   },
   {
    "duration": 57,
    "start_time": "2025-07-24T04:53:55.035Z"
   },
   {
    "duration": 184,
    "start_time": "2025-07-24T04:53:55.093Z"
   },
   {
    "duration": 0,
    "start_time": "2025-07-24T04:53:55.279Z"
   },
   {
    "duration": 761,
    "start_time": "2025-07-24T04:54:06.598Z"
   },
   {
    "duration": 15,
    "start_time": "2025-07-24T04:54:11.881Z"
   },
   {
    "duration": 744,
    "start_time": "2025-07-24T04:57:53.110Z"
   },
   {
    "duration": 664,
    "start_time": "2025-07-24T04:58:20.289Z"
   },
   {
    "duration": 696,
    "start_time": "2025-07-24T04:58:34.064Z"
   },
   {
    "duration": 728,
    "start_time": "2025-07-24T04:58:41.620Z"
   },
   {
    "duration": 832,
    "start_time": "2025-07-24T04:59:11.214Z"
   },
   {
    "duration": 717,
    "start_time": "2025-07-24T04:59:27.336Z"
   },
   {
    "duration": 723,
    "start_time": "2025-07-24T05:00:08.594Z"
   },
   {
    "duration": 753,
    "start_time": "2025-07-24T05:00:22.487Z"
   },
   {
    "duration": 698,
    "start_time": "2025-07-24T05:00:29.646Z"
   },
   {
    "duration": 660,
    "start_time": "2025-07-24T05:01:12.867Z"
   },
   {
    "duration": 90,
    "start_time": "2025-07-24T05:02:18.533Z"
   },
   {
    "duration": 96,
    "start_time": "2025-07-24T05:02:27.428Z"
   },
   {
    "duration": 126,
    "start_time": "2025-07-24T05:03:53.356Z"
   },
   {
    "duration": 104,
    "start_time": "2025-07-24T05:04:09.003Z"
   },
   {
    "duration": 850,
    "start_time": "2025-07-24T05:04:09.685Z"
   },
   {
    "duration": 1163,
    "start_time": "2025-07-24T05:04:19.175Z"
   },
   {
    "duration": 2915,
    "start_time": "2025-07-24T05:04:20.340Z"
   },
   {
    "duration": 101,
    "start_time": "2025-07-24T05:04:23.257Z"
   },
   {
    "duration": 298,
    "start_time": "2025-07-24T05:04:23.360Z"
   },
   {
    "duration": 17,
    "start_time": "2025-07-24T05:04:23.660Z"
   },
   {
    "duration": 43,
    "start_time": "2025-07-24T05:04:23.679Z"
   },
   {
    "duration": 10,
    "start_time": "2025-07-24T05:04:23.723Z"
   },
   {
    "duration": 440,
    "start_time": "2025-07-24T05:04:23.735Z"
   },
   {
    "duration": 188,
    "start_time": "2025-07-24T05:04:24.176Z"
   },
   {
    "duration": 191,
    "start_time": "2025-07-24T05:04:24.366Z"
   },
   {
    "duration": 605,
    "start_time": "2025-07-24T05:04:24.558Z"
   },
   {
    "duration": 147,
    "start_time": "2025-07-24T05:04:25.165Z"
   },
   {
    "duration": 34,
    "start_time": "2025-07-24T05:04:25.314Z"
   },
   {
    "duration": 112,
    "start_time": "2025-07-24T05:04:25.350Z"
   },
   {
    "duration": 14,
    "start_time": "2025-07-24T05:04:25.464Z"
   },
   {
    "duration": 544,
    "start_time": "2025-07-24T05:04:25.479Z"
   },
   {
    "duration": 182,
    "start_time": "2025-07-24T05:04:26.025Z"
   },
   {
    "duration": 207,
    "start_time": "2025-07-24T05:04:26.210Z"
   },
   {
    "duration": 486,
    "start_time": "2025-07-24T05:04:26.419Z"
   },
   {
    "duration": 211,
    "start_time": "2025-07-24T05:04:26.907Z"
   },
   {
    "duration": 174,
    "start_time": "2025-07-24T05:04:27.120Z"
   },
   {
    "duration": 49,
    "start_time": "2025-07-24T05:04:27.295Z"
   },
   {
    "duration": 4426,
    "start_time": "2025-07-24T05:04:27.346Z"
   },
   {
    "duration": 5,
    "start_time": "2025-07-24T05:04:31.773Z"
   },
   {
    "duration": 103,
    "start_time": "2025-07-24T05:04:31.779Z"
   },
   {
    "duration": 209,
    "start_time": "2025-07-24T05:04:31.884Z"
   },
   {
    "duration": 12,
    "start_time": "2025-07-24T05:04:32.095Z"
   },
   {
    "duration": 219,
    "start_time": "2025-07-24T05:04:32.111Z"
   },
   {
    "duration": 1051,
    "start_time": "2025-07-24T05:04:32.331Z"
   },
   {
    "duration": 14,
    "start_time": "2025-07-24T05:04:33.384Z"
   },
   {
    "duration": 38,
    "start_time": "2025-07-24T05:04:33.399Z"
   },
   {
    "duration": 341,
    "start_time": "2025-07-24T05:04:33.439Z"
   },
   {
    "duration": 9,
    "start_time": "2025-07-24T05:04:33.782Z"
   },
   {
    "duration": 292,
    "start_time": "2025-07-24T05:04:33.793Z"
   },
   {
    "duration": 149,
    "start_time": "2025-07-24T05:04:34.087Z"
   },
   {
    "duration": 998,
    "start_time": "2025-07-24T05:04:34.237Z"
   },
   {
    "duration": 531,
    "start_time": "2025-07-24T05:04:35.237Z"
   },
   {
    "duration": 72,
    "start_time": "2025-07-24T05:04:35.770Z"
   },
   {
    "duration": 85,
    "start_time": "2025-07-24T05:04:35.844Z"
   },
   {
    "duration": 928,
    "start_time": "2025-07-24T05:04:35.930Z"
   },
   {
    "duration": 14,
    "start_time": "2025-07-24T05:04:36.860Z"
   },
   {
    "duration": 133,
    "start_time": "2025-07-24T05:05:17.985Z"
   },
   {
    "duration": 144,
    "start_time": "2025-07-24T05:06:02.785Z"
   },
   {
    "duration": 1183,
    "start_time": "2025-07-24T05:06:20.567Z"
   },
   {
    "duration": 1252,
    "start_time": "2025-07-24T05:06:21.751Z"
   },
   {
    "duration": 105,
    "start_time": "2025-07-24T05:06:23.006Z"
   },
   {
    "duration": 213,
    "start_time": "2025-07-24T05:06:23.113Z"
   },
   {
    "duration": 18,
    "start_time": "2025-07-24T05:06:23.328Z"
   },
   {
    "duration": 32,
    "start_time": "2025-07-24T05:06:23.348Z"
   },
   {
    "duration": 10,
    "start_time": "2025-07-24T05:06:23.382Z"
   },
   {
    "duration": 446,
    "start_time": "2025-07-24T05:06:23.394Z"
   },
   {
    "duration": 193,
    "start_time": "2025-07-24T05:06:23.842Z"
   },
   {
    "duration": 195,
    "start_time": "2025-07-24T05:06:24.037Z"
   },
   {
    "duration": 601,
    "start_time": "2025-07-24T05:06:24.234Z"
   },
   {
    "duration": 127,
    "start_time": "2025-07-24T05:06:24.837Z"
   },
   {
    "duration": 26,
    "start_time": "2025-07-24T05:06:24.966Z"
   },
   {
    "duration": 117,
    "start_time": "2025-07-24T05:06:24.995Z"
   },
   {
    "duration": 22,
    "start_time": "2025-07-24T05:06:25.113Z"
   },
   {
    "duration": 530,
    "start_time": "2025-07-24T05:06:25.137Z"
   },
   {
    "duration": 172,
    "start_time": "2025-07-24T05:06:25.668Z"
   },
   {
    "duration": 211,
    "start_time": "2025-07-24T05:06:25.841Z"
   },
   {
    "duration": 499,
    "start_time": "2025-07-24T05:06:26.054Z"
   },
   {
    "duration": 212,
    "start_time": "2025-07-24T05:06:26.554Z"
   },
   {
    "duration": 176,
    "start_time": "2025-07-24T05:06:26.767Z"
   },
   {
    "duration": 48,
    "start_time": "2025-07-24T05:06:26.944Z"
   },
   {
    "duration": 4446,
    "start_time": "2025-07-24T05:06:26.993Z"
   },
   {
    "duration": 5,
    "start_time": "2025-07-24T05:06:31.441Z"
   },
   {
    "duration": 192,
    "start_time": "2025-07-24T05:06:31.449Z"
   },
   {
    "duration": 204,
    "start_time": "2025-07-24T05:06:31.642Z"
   },
   {
    "duration": 12,
    "start_time": "2025-07-24T05:06:31.847Z"
   },
   {
    "duration": 175,
    "start_time": "2025-07-24T05:06:31.861Z"
   },
   {
    "duration": 1060,
    "start_time": "2025-07-24T05:06:32.038Z"
   },
   {
    "duration": 14,
    "start_time": "2025-07-24T05:06:33.100Z"
   },
   {
    "duration": 49,
    "start_time": "2025-07-24T05:06:33.115Z"
   },
   {
    "duration": 375,
    "start_time": "2025-07-24T05:06:33.166Z"
   },
   {
    "duration": 11,
    "start_time": "2025-07-24T05:06:33.543Z"
   },
   {
    "duration": 354,
    "start_time": "2025-07-24T05:06:33.555Z"
   },
   {
    "duration": 155,
    "start_time": "2025-07-24T05:06:33.910Z"
   },
   {
    "duration": 993,
    "start_time": "2025-07-24T05:06:34.067Z"
   },
   {
    "duration": 557,
    "start_time": "2025-07-24T05:06:35.062Z"
   },
   {
    "duration": 65,
    "start_time": "2025-07-24T05:06:35.620Z"
   },
   {
    "duration": 70,
    "start_time": "2025-07-24T05:06:35.687Z"
   },
   {
    "duration": 788,
    "start_time": "2025-07-24T05:06:35.758Z"
   },
   {
    "duration": 15,
    "start_time": "2025-07-24T05:06:36.551Z"
   },
   {
    "duration": 15,
    "start_time": "2025-07-24T05:15:01.061Z"
   },
   {
    "duration": 709,
    "start_time": "2025-07-24T05:21:06.830Z"
   },
   {
    "duration": 15,
    "start_time": "2025-07-24T05:21:07.659Z"
   },
   {
    "duration": 10779,
    "start_time": "2025-07-24T06:02:42.517Z"
   },
   {
    "duration": 318,
    "start_time": "2025-07-24T06:03:48.993Z"
   },
   {
    "duration": 11392,
    "start_time": "2025-07-24T06:03:52.847Z"
   },
   {
    "duration": 1225,
    "start_time": "2025-07-24T06:05:03.574Z"
   },
   {
    "duration": 1219,
    "start_time": "2025-07-24T06:05:31.596Z"
   },
   {
    "duration": 1317,
    "start_time": "2025-07-24T06:05:51.772Z"
   },
   {
    "duration": 1191,
    "start_time": "2025-07-24T06:07:26.106Z"
   },
   {
    "duration": 1154,
    "start_time": "2025-07-24T06:07:41.648Z"
   },
   {
    "duration": 1120,
    "start_time": "2025-07-24T06:07:54.499Z"
   },
   {
    "duration": 2984,
    "start_time": "2025-07-24T06:07:55.621Z"
   },
   {
    "duration": 111,
    "start_time": "2025-07-24T06:07:58.607Z"
   },
   {
    "duration": 327,
    "start_time": "2025-07-24T06:07:58.721Z"
   },
   {
    "duration": 20,
    "start_time": "2025-07-24T06:07:59.050Z"
   },
   {
    "duration": 161,
    "start_time": "2025-07-24T06:07:59.072Z"
   },
   {
    "duration": 11,
    "start_time": "2025-07-24T06:07:59.235Z"
   },
   {
    "duration": 465,
    "start_time": "2025-07-24T06:07:59.248Z"
   },
   {
    "duration": 202,
    "start_time": "2025-07-24T06:07:59.715Z"
   },
   {
    "duration": 193,
    "start_time": "2025-07-24T06:07:59.920Z"
   },
   {
    "duration": 628,
    "start_time": "2025-07-24T06:08:00.115Z"
   },
   {
    "duration": 129,
    "start_time": "2025-07-24T06:08:00.745Z"
   },
   {
    "duration": 26,
    "start_time": "2025-07-24T06:08:00.876Z"
   },
   {
    "duration": 117,
    "start_time": "2025-07-24T06:08:00.904Z"
   },
   {
    "duration": 14,
    "start_time": "2025-07-24T06:08:01.035Z"
   },
   {
    "duration": 526,
    "start_time": "2025-07-24T06:08:01.051Z"
   },
   {
    "duration": 185,
    "start_time": "2025-07-24T06:08:01.579Z"
   },
   {
    "duration": 219,
    "start_time": "2025-07-24T06:08:01.765Z"
   },
   {
    "duration": 519,
    "start_time": "2025-07-24T06:08:01.986Z"
   },
   {
    "duration": 231,
    "start_time": "2025-07-24T06:08:02.507Z"
   },
   {
    "duration": 181,
    "start_time": "2025-07-24T06:08:02.739Z"
   },
   {
    "duration": 48,
    "start_time": "2025-07-24T06:08:02.922Z"
   },
   {
    "duration": 4573,
    "start_time": "2025-07-24T06:08:02.971Z"
   },
   {
    "duration": 5,
    "start_time": "2025-07-24T06:08:07.545Z"
   },
   {
    "duration": 109,
    "start_time": "2025-07-24T06:08:07.552Z"
   },
   {
    "duration": 211,
    "start_time": "2025-07-24T06:08:07.662Z"
   },
   {
    "duration": 11,
    "start_time": "2025-07-24T06:08:07.875Z"
   },
   {
    "duration": 175,
    "start_time": "2025-07-24T06:08:07.889Z"
   },
   {
    "duration": 1109,
    "start_time": "2025-07-24T06:08:08.066Z"
   },
   {
    "duration": 14,
    "start_time": "2025-07-24T06:08:09.177Z"
   },
   {
    "duration": 128,
    "start_time": "2025-07-24T06:08:09.192Z"
   },
   {
    "duration": 320,
    "start_time": "2025-07-24T06:08:09.322Z"
   },
   {
    "duration": 11,
    "start_time": "2025-07-24T06:08:09.644Z"
   },
   {
    "duration": 315,
    "start_time": "2025-07-24T06:08:09.657Z"
   },
   {
    "duration": 152,
    "start_time": "2025-07-24T06:08:09.974Z"
   },
   {
    "duration": 958,
    "start_time": "2025-07-24T06:08:10.128Z"
   },
   {
    "duration": 527,
    "start_time": "2025-07-24T06:08:11.088Z"
   },
   {
    "duration": 64,
    "start_time": "2025-07-24T06:08:11.617Z"
   },
   {
    "duration": 69,
    "start_time": "2025-07-24T06:08:11.683Z"
   },
   {
    "duration": 699,
    "start_time": "2025-07-24T06:08:11.754Z"
   },
   {
    "duration": 15,
    "start_time": "2025-07-24T06:08:12.454Z"
   },
   {
    "duration": 1209,
    "start_time": "2025-07-24T06:08:12.470Z"
   },
   {
    "duration": 1210,
    "start_time": "2025-07-24T06:08:57.872Z"
   },
   {
    "duration": 1201,
    "start_time": "2025-07-24T06:09:02.878Z"
   },
   {
    "duration": 721,
    "start_time": "2025-07-24T06:09:21.520Z"
   },
   {
    "duration": 16,
    "start_time": "2025-07-24T06:09:25.921Z"
   },
   {
    "duration": 704,
    "start_time": "2025-07-24T06:10:25.530Z"
   },
   {
    "duration": 14,
    "start_time": "2025-07-24T06:10:28.048Z"
   },
   {
    "duration": 1420,
    "start_time": "2025-07-24T06:10:31.495Z"
   },
   {
    "duration": 96,
    "start_time": "2025-07-24T06:12:14.069Z"
   },
   {
    "duration": 1147,
    "start_time": "2025-07-24T06:16:07.046Z"
   },
   {
    "duration": 1318,
    "start_time": "2025-07-24T06:16:18.078Z"
   },
   {
    "duration": 1401,
    "start_time": "2025-07-24T06:17:38.272Z"
   },
   {
    "duration": 801,
    "start_time": "2025-07-24T06:17:46.772Z"
   },
   {
    "duration": 1236,
    "start_time": "2025-07-24T06:17:54.639Z"
   },
   {
    "duration": 2688,
    "start_time": "2025-07-24T06:17:55.877Z"
   },
   {
    "duration": 130,
    "start_time": "2025-07-24T06:17:58.567Z"
   },
   {
    "duration": 618,
    "start_time": "2025-07-24T06:17:58.699Z"
   },
   {
    "duration": 35,
    "start_time": "2025-07-24T06:17:59.319Z"
   },
   {
    "duration": 36,
    "start_time": "2025-07-24T06:17:59.356Z"
   },
   {
    "duration": 10,
    "start_time": "2025-07-24T06:17:59.394Z"
   },
   {
    "duration": 494,
    "start_time": "2025-07-24T06:17:59.406Z"
   },
   {
    "duration": 259,
    "start_time": "2025-07-24T06:17:59.901Z"
   },
   {
    "duration": 215,
    "start_time": "2025-07-24T06:18:00.162Z"
   },
   {
    "duration": 672,
    "start_time": "2025-07-24T06:18:00.379Z"
   },
   {
    "duration": 140,
    "start_time": "2025-07-24T06:18:01.053Z"
   },
   {
    "duration": 25,
    "start_time": "2025-07-24T06:18:01.195Z"
   },
   {
    "duration": 230,
    "start_time": "2025-07-24T06:18:01.223Z"
   },
   {
    "duration": 19,
    "start_time": "2025-07-24T06:18:01.455Z"
   },
   {
    "duration": 619,
    "start_time": "2025-07-24T06:18:01.475Z"
   },
   {
    "duration": 206,
    "start_time": "2025-07-24T06:18:02.096Z"
   },
   {
    "duration": 237,
    "start_time": "2025-07-24T06:18:02.304Z"
   },
   {
    "duration": 581,
    "start_time": "2025-07-24T06:18:02.548Z"
   },
   {
    "duration": 249,
    "start_time": "2025-07-24T06:18:03.136Z"
   },
   {
    "duration": 188,
    "start_time": "2025-07-24T06:18:03.386Z"
   },
   {
    "duration": 41,
    "start_time": "2025-07-24T06:18:03.576Z"
   },
   {
    "duration": 5069,
    "start_time": "2025-07-24T06:18:03.619Z"
   },
   {
    "duration": 5,
    "start_time": "2025-07-24T06:18:08.689Z"
   },
   {
    "duration": 209,
    "start_time": "2025-07-24T06:18:08.696Z"
   },
   {
    "duration": 239,
    "start_time": "2025-07-24T06:18:08.907Z"
   },
   {
    "duration": 14,
    "start_time": "2025-07-24T06:18:09.155Z"
   },
   {
    "duration": 237,
    "start_time": "2025-07-24T06:18:09.170Z"
   },
   {
    "duration": 1114,
    "start_time": "2025-07-24T06:18:09.409Z"
   },
   {
    "duration": 36,
    "start_time": "2025-07-24T06:18:10.524Z"
   },
   {
    "duration": 34,
    "start_time": "2025-07-24T06:18:10.562Z"
   },
   {
    "duration": 371,
    "start_time": "2025-07-24T06:18:10.598Z"
   },
   {
    "duration": 10,
    "start_time": "2025-07-24T06:18:10.971Z"
   },
   {
    "duration": 313,
    "start_time": "2025-07-24T06:18:10.982Z"
   },
   {
    "duration": 171,
    "start_time": "2025-07-24T06:18:11.296Z"
   },
   {
    "duration": 1154,
    "start_time": "2025-07-24T06:18:11.468Z"
   },
   {
    "duration": 630,
    "start_time": "2025-07-24T06:18:12.624Z"
   },
   {
    "duration": 66,
    "start_time": "2025-07-24T06:18:13.256Z"
   },
   {
    "duration": 92,
    "start_time": "2025-07-24T06:18:13.323Z"
   },
   {
    "duration": 869,
    "start_time": "2025-07-24T06:18:13.416Z"
   },
   {
    "duration": 15,
    "start_time": "2025-07-24T06:18:14.288Z"
   },
   {
    "duration": 1576,
    "start_time": "2025-07-24T06:18:14.305Z"
   },
   {
    "duration": 79,
    "start_time": "2025-07-24T06:18:15.883Z"
   },
   {
    "duration": 0,
    "start_time": "2025-07-24T06:18:15.963Z"
   },
   {
    "duration": 111,
    "start_time": "2025-07-24T06:18:22.166Z"
   },
   {
    "duration": 782,
    "start_time": "2025-07-24T06:19:18.891Z"
   },
   {
    "duration": 36,
    "start_time": "2025-07-24T06:19:22.447Z"
   },
   {
    "duration": 1536,
    "start_time": "2025-07-24T06:19:32.154Z"
   },
   {
    "duration": 118,
    "start_time": "2025-07-24T06:19:33.692Z"
   },
   {
    "duration": 1519,
    "start_time": "2025-07-24T06:22:17.561Z"
   },
   {
    "duration": 105,
    "start_time": "2025-07-24T06:22:19.082Z"
   },
   {
    "duration": 1215,
    "start_time": "2025-07-24T06:36:20.347Z"
   },
   {
    "duration": 2859,
    "start_time": "2025-07-24T06:36:21.564Z"
   },
   {
    "duration": 121,
    "start_time": "2025-07-24T06:36:24.425Z"
   },
   {
    "duration": 352,
    "start_time": "2025-07-24T06:36:24.548Z"
   },
   {
    "duration": 18,
    "start_time": "2025-07-24T06:36:24.902Z"
   },
   {
    "duration": 38,
    "start_time": "2025-07-24T06:36:24.934Z"
   },
   {
    "duration": 9,
    "start_time": "2025-07-24T06:36:24.974Z"
   },
   {
    "duration": 483,
    "start_time": "2025-07-24T06:36:24.985Z"
   },
   {
    "duration": 207,
    "start_time": "2025-07-24T06:36:25.470Z"
   },
   {
    "duration": 207,
    "start_time": "2025-07-24T06:36:25.678Z"
   },
   {
    "duration": 655,
    "start_time": "2025-07-24T06:36:25.886Z"
   },
   {
    "duration": 126,
    "start_time": "2025-07-24T06:36:26.547Z"
   },
   {
    "duration": 27,
    "start_time": "2025-07-24T06:36:26.675Z"
   },
   {
    "duration": 120,
    "start_time": "2025-07-24T06:36:26.706Z"
   },
   {
    "duration": 43,
    "start_time": "2025-07-24T06:36:26.828Z"
   },
   {
    "duration": 537,
    "start_time": "2025-07-24T06:36:26.872Z"
   },
   {
    "duration": 187,
    "start_time": "2025-07-24T06:36:27.411Z"
   },
   {
    "duration": 220,
    "start_time": "2025-07-24T06:36:27.600Z"
   },
   {
    "duration": 521,
    "start_time": "2025-07-24T06:36:27.822Z"
   },
   {
    "duration": 224,
    "start_time": "2025-07-24T06:36:28.345Z"
   },
   {
    "duration": 186,
    "start_time": "2025-07-24T06:36:28.570Z"
   },
   {
    "duration": 41,
    "start_time": "2025-07-24T06:36:28.757Z"
   },
   {
    "duration": 5006,
    "start_time": "2025-07-24T06:36:28.800Z"
   },
   {
    "duration": 4,
    "start_time": "2025-07-24T06:36:33.808Z"
   },
   {
    "duration": 134,
    "start_time": "2025-07-24T06:36:33.814Z"
   },
   {
    "duration": 224,
    "start_time": "2025-07-24T06:36:33.950Z"
   },
   {
    "duration": 10,
    "start_time": "2025-07-24T06:36:34.176Z"
   },
   {
    "duration": 203,
    "start_time": "2025-07-24T06:36:34.188Z"
   },
   {
    "duration": 1172,
    "start_time": "2025-07-24T06:36:34.393Z"
   },
   {
    "duration": 13,
    "start_time": "2025-07-24T06:36:35.567Z"
   },
   {
    "duration": 20,
    "start_time": "2025-07-24T06:36:35.582Z"
   },
   {
    "duration": 354,
    "start_time": "2025-07-24T06:36:35.603Z"
   },
   {
    "duration": 10,
    "start_time": "2025-07-24T06:36:35.959Z"
   },
   {
    "duration": 341,
    "start_time": "2025-07-24T06:36:35.971Z"
   },
   {
    "duration": 173,
    "start_time": "2025-07-24T06:36:36.314Z"
   },
   {
    "duration": 1033,
    "start_time": "2025-07-24T06:36:36.489Z"
   },
   {
    "duration": 578,
    "start_time": "2025-07-24T06:36:37.524Z"
   },
   {
    "duration": 70,
    "start_time": "2025-07-24T06:36:38.103Z"
   },
   {
    "duration": 76,
    "start_time": "2025-07-24T06:36:38.175Z"
   },
   {
    "duration": 706,
    "start_time": "2025-07-24T06:36:38.253Z"
   },
   {
    "duration": 14,
    "start_time": "2025-07-24T06:36:38.963Z"
   },
   {
    "duration": 1390,
    "start_time": "2025-07-24T06:36:38.979Z"
   },
   {
    "duration": 109,
    "start_time": "2025-07-24T06:36:40.371Z"
   },
   {
    "duration": 99,
    "start_time": "2025-07-24T06:36:47.128Z"
   },
   {
    "duration": 14,
    "start_time": "2025-07-24T06:37:12.015Z"
   },
   {
    "duration": 1450,
    "start_time": "2025-07-24T06:39:11.521Z"
   },
   {
    "duration": 98,
    "start_time": "2025-07-24T06:39:24.061Z"
   },
   {
    "duration": 2048,
    "start_time": "2025-07-24T06:39:48.772Z"
   },
   {
    "duration": 775,
    "start_time": "2025-07-24T06:40:22.483Z"
   },
   {
    "duration": 13,
    "start_time": "2025-07-24T06:40:27.704Z"
   },
   {
    "duration": 686,
    "start_time": "2025-07-24T06:40:46.834Z"
   },
   {
    "duration": 12,
    "start_time": "2025-07-24T06:40:47.987Z"
   },
   {
    "duration": 1352,
    "start_time": "2025-07-24T06:41:59.818Z"
   },
   {
    "duration": 97,
    "start_time": "2025-07-24T06:42:05.332Z"
   },
   {
    "duration": 1198,
    "start_time": "2025-07-24T06:43:03.624Z"
   },
   {
    "duration": 3280,
    "start_time": "2025-07-24T06:43:04.825Z"
   },
   {
    "duration": 111,
    "start_time": "2025-07-24T06:43:08.107Z"
   },
   {
    "duration": 243,
    "start_time": "2025-07-24T06:43:08.219Z"
   },
   {
    "duration": 18,
    "start_time": "2025-07-24T06:43:08.464Z"
   },
   {
    "duration": 95,
    "start_time": "2025-07-24T06:43:08.483Z"
   },
   {
    "duration": 10,
    "start_time": "2025-07-24T06:43:08.580Z"
   },
   {
    "duration": 473,
    "start_time": "2025-07-24T06:43:08.591Z"
   },
   {
    "duration": 209,
    "start_time": "2025-07-24T06:43:09.066Z"
   },
   {
    "duration": 206,
    "start_time": "2025-07-24T06:43:09.277Z"
   },
   {
    "duration": 641,
    "start_time": "2025-07-24T06:43:09.485Z"
   },
   {
    "duration": 136,
    "start_time": "2025-07-24T06:43:10.128Z"
   },
   {
    "duration": 24,
    "start_time": "2025-07-24T06:43:10.266Z"
   },
   {
    "duration": 126,
    "start_time": "2025-07-24T06:43:10.292Z"
   },
   {
    "duration": 32,
    "start_time": "2025-07-24T06:43:10.419Z"
   },
   {
    "duration": 515,
    "start_time": "2025-07-24T06:43:10.453Z"
   },
   {
    "duration": 188,
    "start_time": "2025-07-24T06:43:10.969Z"
   },
   {
    "duration": 217,
    "start_time": "2025-07-24T06:43:11.159Z"
   },
   {
    "duration": 528,
    "start_time": "2025-07-24T06:43:11.378Z"
   },
   {
    "duration": 240,
    "start_time": "2025-07-24T06:43:11.908Z"
   },
   {
    "duration": 200,
    "start_time": "2025-07-24T06:43:12.154Z"
   },
   {
    "duration": 39,
    "start_time": "2025-07-24T06:43:12.356Z"
   },
   {
    "duration": 4827,
    "start_time": "2025-07-24T06:43:12.396Z"
   },
   {
    "duration": 13,
    "start_time": "2025-07-24T06:43:17.225Z"
   },
   {
    "duration": 165,
    "start_time": "2025-07-24T06:43:17.243Z"
   },
   {
    "duration": 214,
    "start_time": "2025-07-24T06:43:17.410Z"
   },
   {
    "duration": 23,
    "start_time": "2025-07-24T06:43:17.626Z"
   },
   {
    "duration": 161,
    "start_time": "2025-07-24T06:43:17.651Z"
   },
   {
    "duration": 1086,
    "start_time": "2025-07-24T06:43:17.814Z"
   },
   {
    "duration": 13,
    "start_time": "2025-07-24T06:43:18.901Z"
   },
   {
    "duration": 41,
    "start_time": "2025-07-24T06:43:18.915Z"
   },
   {
    "duration": 343,
    "start_time": "2025-07-24T06:43:18.957Z"
   },
   {
    "duration": 8,
    "start_time": "2025-07-24T06:43:19.302Z"
   },
   {
    "duration": 287,
    "start_time": "2025-07-24T06:43:19.312Z"
   },
   {
    "duration": 163,
    "start_time": "2025-07-24T06:43:19.600Z"
   },
   {
    "duration": 1020,
    "start_time": "2025-07-24T06:43:19.765Z"
   },
   {
    "duration": 556,
    "start_time": "2025-07-24T06:43:20.786Z"
   },
   {
    "duration": 57,
    "start_time": "2025-07-24T06:43:21.344Z"
   },
   {
    "duration": 70,
    "start_time": "2025-07-24T06:43:21.403Z"
   },
   {
    "duration": 785,
    "start_time": "2025-07-24T06:43:21.475Z"
   },
   {
    "duration": 17,
    "start_time": "2025-07-24T06:43:22.263Z"
   },
   {
    "duration": 1486,
    "start_time": "2025-07-24T06:43:22.282Z"
   },
   {
    "duration": 106,
    "start_time": "2025-07-24T06:43:23.770Z"
   },
   {
    "duration": 1427,
    "start_time": "2025-07-24T16:15:37.153Z"
   },
   {
    "duration": 1662,
    "start_time": "2025-07-24T16:15:38.582Z"
   },
   {
    "duration": 123,
    "start_time": "2025-07-24T16:15:40.246Z"
   },
   {
    "duration": 334,
    "start_time": "2025-07-24T16:15:40.371Z"
   },
   {
    "duration": 26,
    "start_time": "2025-07-24T16:15:40.714Z"
   },
   {
    "duration": 138,
    "start_time": "2025-07-24T16:15:40.742Z"
   },
   {
    "duration": 22,
    "start_time": "2025-07-24T16:15:40.881Z"
   },
   {
    "duration": 545,
    "start_time": "2025-07-24T16:15:40.912Z"
   },
   {
    "duration": 246,
    "start_time": "2025-07-24T16:15:41.459Z"
   },
   {
    "duration": 240,
    "start_time": "2025-07-24T16:15:41.716Z"
   },
   {
    "duration": 755,
    "start_time": "2025-07-24T16:15:41.958Z"
   },
   {
    "duration": 142,
    "start_time": "2025-07-24T16:15:42.716Z"
   },
   {
    "duration": 33,
    "start_time": "2025-07-24T16:15:42.860Z"
   },
   {
    "duration": 127,
    "start_time": "2025-07-24T16:15:42.906Z"
   },
   {
    "duration": 15,
    "start_time": "2025-07-24T16:15:43.035Z"
   },
   {
    "duration": 633,
    "start_time": "2025-07-24T16:15:43.051Z"
   },
   {
    "duration": 222,
    "start_time": "2025-07-24T16:15:43.686Z"
   },
   {
    "duration": 223,
    "start_time": "2025-07-24T16:15:43.917Z"
   },
   {
    "duration": 578,
    "start_time": "2025-07-24T16:15:44.142Z"
   },
   {
    "duration": 289,
    "start_time": "2025-07-24T16:15:44.724Z"
   },
   {
    "duration": 232,
    "start_time": "2025-07-24T16:15:45.017Z"
   },
   {
    "duration": 57,
    "start_time": "2025-07-24T16:15:45.251Z"
   },
   {
    "duration": 5393,
    "start_time": "2025-07-24T16:15:45.310Z"
   },
   {
    "duration": 11,
    "start_time": "2025-07-24T16:15:50.706Z"
   },
   {
    "duration": 123,
    "start_time": "2025-07-24T16:15:50.719Z"
   },
   {
    "duration": 239,
    "start_time": "2025-07-24T16:15:50.844Z"
   },
   {
    "duration": 20,
    "start_time": "2025-07-24T16:15:51.095Z"
   },
   {
    "duration": 216,
    "start_time": "2025-07-24T16:15:51.119Z"
   },
   {
    "duration": 1230,
    "start_time": "2025-07-24T16:15:51.337Z"
   },
   {
    "duration": 48,
    "start_time": "2025-07-24T16:15:52.569Z"
   },
   {
    "duration": 18,
    "start_time": "2025-07-24T16:15:52.619Z"
   },
   {
    "duration": 402,
    "start_time": "2025-07-24T16:15:52.638Z"
   },
   {
    "duration": 10,
    "start_time": "2025-07-24T16:15:53.042Z"
   },
   {
    "duration": 329,
    "start_time": "2025-07-24T16:15:53.054Z"
   },
   {
    "duration": 180,
    "start_time": "2025-07-24T16:15:53.384Z"
   },
   {
    "duration": 1240,
    "start_time": "2025-07-24T16:15:53.565Z"
   },
   {
    "duration": 674,
    "start_time": "2025-07-24T16:15:54.807Z"
   },
   {
    "duration": 80,
    "start_time": "2025-07-24T16:15:55.483Z"
   },
   {
    "duration": 95,
    "start_time": "2025-07-24T16:15:55.564Z"
   },
   {
    "duration": 786,
    "start_time": "2025-07-24T16:15:55.661Z"
   },
   {
    "duration": 19,
    "start_time": "2025-07-24T16:15:56.449Z"
   },
   {
    "duration": 1579,
    "start_time": "2025-07-24T16:15:56.470Z"
   },
   {
    "duration": 120,
    "start_time": "2025-07-24T16:15:58.051Z"
   },
   {
    "duration": 7,
    "start_time": "2025-07-24T16:18:14.175Z"
   },
   {
    "duration": 132,
    "start_time": "2025-07-24T16:23:40.193Z"
   },
   {
    "duration": 12,
    "start_time": "2025-07-24T16:23:43.356Z"
   },
   {
    "duration": 114,
    "start_time": "2025-07-24T16:23:47.817Z"
   },
   {
    "duration": 550,
    "start_time": "2025-07-24T16:46:49.655Z"
   },
   {
    "duration": 1180,
    "start_time": "2025-07-24T16:47:00.132Z"
   },
   {
    "duration": 513,
    "start_time": "2025-07-24T16:47:36.728Z"
   },
   {
    "duration": 434,
    "start_time": "2025-07-24T16:48:05.389Z"
   },
   {
    "duration": 418,
    "start_time": "2025-07-24T16:48:31.927Z"
   },
   {
    "duration": 447,
    "start_time": "2025-07-24T16:49:13.578Z"
   },
   {
    "duration": 446,
    "start_time": "2025-07-24T16:53:04.819Z"
   },
   {
    "duration": 411,
    "start_time": "2025-07-24T16:53:21.527Z"
   },
   {
    "duration": 402,
    "start_time": "2025-07-24T16:53:34.969Z"
   },
   {
    "duration": 420,
    "start_time": "2025-07-24T16:54:09.117Z"
   },
   {
    "duration": 171,
    "start_time": "2025-07-24T16:54:22.495Z"
   },
   {
    "duration": 549,
    "start_time": "2025-07-24T16:54:23.174Z"
   },
   {
    "duration": 402,
    "start_time": "2025-07-24T16:54:23.758Z"
   },
   {
    "duration": 407,
    "start_time": "2025-07-24T16:54:24.254Z"
   },
   {
    "duration": 643,
    "start_time": "2025-07-24T17:02:34.568Z"
   },
   {
    "duration": 529,
    "start_time": "2025-07-24T17:02:50.142Z"
   },
   {
    "duration": 528,
    "start_time": "2025-07-24T17:03:09.884Z"
   },
   {
    "duration": 532,
    "start_time": "2025-07-24T17:03:34.947Z"
   },
   {
    "duration": 612,
    "start_time": "2025-07-24T17:03:54.272Z"
   },
   {
    "duration": 174,
    "start_time": "2025-07-24T17:05:57.555Z"
   },
   {
    "duration": 304,
    "start_time": "2025-07-24T17:06:02.144Z"
   },
   {
    "duration": 349,
    "start_time": "2025-07-24T17:06:16.462Z"
   },
   {
    "duration": 315,
    "start_time": "2025-07-24T17:07:24.625Z"
   },
   {
    "duration": 256,
    "start_time": "2025-07-24T17:07:46.219Z"
   },
   {
    "duration": 324,
    "start_time": "2025-07-24T17:07:51.719Z"
   },
   {
    "duration": 302,
    "start_time": "2025-07-24T17:08:10.399Z"
   },
   {
    "duration": 1209,
    "start_time": "2025-07-24T18:05:58.319Z"
   },
   {
    "duration": 1568,
    "start_time": "2025-07-24T18:05:59.530Z"
   },
   {
    "duration": 142,
    "start_time": "2025-07-24T18:06:01.100Z"
   },
   {
    "duration": 526,
    "start_time": "2025-07-24T18:06:01.246Z"
   },
   {
    "duration": 28,
    "start_time": "2025-07-24T18:06:01.773Z"
   },
   {
    "duration": 107,
    "start_time": "2025-07-24T18:06:01.808Z"
   },
   {
    "duration": 183,
    "start_time": "2025-07-24T18:06:01.919Z"
   },
   {
    "duration": 533,
    "start_time": "2025-07-24T18:06:02.104Z"
   },
   {
    "duration": 259,
    "start_time": "2025-07-24T18:06:02.640Z"
   },
   {
    "duration": 247,
    "start_time": "2025-07-24T18:06:02.907Z"
   },
   {
    "duration": 746,
    "start_time": "2025-07-24T18:06:03.156Z"
   },
   {
    "duration": 148,
    "start_time": "2025-07-24T18:06:03.910Z"
   },
   {
    "duration": 44,
    "start_time": "2025-07-24T18:06:04.060Z"
   },
   {
    "duration": 155,
    "start_time": "2025-07-24T18:06:04.112Z"
   },
   {
    "duration": 32,
    "start_time": "2025-07-24T18:06:04.269Z"
   },
   {
    "duration": 595,
    "start_time": "2025-07-24T18:06:04.308Z"
   },
   {
    "duration": 213,
    "start_time": "2025-07-24T18:06:04.914Z"
   },
   {
    "duration": 232,
    "start_time": "2025-07-24T18:06:05.129Z"
   },
   {
    "duration": 592,
    "start_time": "2025-07-24T18:06:05.363Z"
   },
   {
    "duration": 276,
    "start_time": "2025-07-24T18:06:05.956Z"
   },
   {
    "duration": 194,
    "start_time": "2025-07-24T18:06:06.233Z"
   },
   {
    "duration": 41,
    "start_time": "2025-07-24T18:06:06.429Z"
   },
   {
    "duration": 5476,
    "start_time": "2025-07-24T18:06:06.472Z"
   },
   {
    "duration": 5,
    "start_time": "2025-07-24T18:06:11.950Z"
   },
   {
    "duration": 130,
    "start_time": "2025-07-24T18:06:11.956Z"
   },
   {
    "duration": 260,
    "start_time": "2025-07-24T18:06:12.088Z"
   },
   {
    "duration": 12,
    "start_time": "2025-07-24T18:06:12.349Z"
   },
   {
    "duration": 187,
    "start_time": "2025-07-24T18:06:12.364Z"
   },
   {
    "duration": 194,
    "start_time": "2025-07-24T18:06:12.552Z"
   },
   {
    "duration": 407,
    "start_time": "2025-07-24T18:06:12.748Z"
   },
   {
    "duration": 384,
    "start_time": "2025-07-24T18:06:13.157Z"
   },
   {
    "duration": 356,
    "start_time": "2025-07-24T18:06:13.543Z"
   },
   {
    "duration": 25,
    "start_time": "2025-07-24T18:06:13.901Z"
   },
   {
    "duration": 202,
    "start_time": "2025-07-24T18:06:13.927Z"
   },
   {
    "duration": 381,
    "start_time": "2025-07-24T18:06:14.130Z"
   },
   {
    "duration": 16,
    "start_time": "2025-07-24T18:06:14.514Z"
   },
   {
    "duration": 329,
    "start_time": "2025-07-24T18:06:14.531Z"
   },
   {
    "duration": 178,
    "start_time": "2025-07-24T18:06:14.861Z"
   },
   {
    "duration": 527,
    "start_time": "2025-07-24T18:06:15.041Z"
   },
   {
    "duration": 509,
    "start_time": "2025-07-24T18:06:15.570Z"
   },
   {
    "duration": 478,
    "start_time": "2025-07-24T18:06:16.081Z"
   },
   {
    "duration": 661,
    "start_time": "2025-07-24T18:06:16.561Z"
   },
   {
    "duration": 83,
    "start_time": "2025-07-24T18:06:17.224Z"
   },
   {
    "duration": 259,
    "start_time": "2025-07-24T18:06:17.308Z"
   },
   {
    "duration": 301,
    "start_time": "2025-07-24T18:06:17.569Z"
   },
   {
    "duration": 315,
    "start_time": "2025-07-24T18:06:17.872Z"
   },
   {
    "duration": 339,
    "start_time": "2025-07-24T18:06:18.189Z"
   },
   {
    "duration": 83,
    "start_time": "2025-07-24T18:06:18.530Z"
   },
   {
    "duration": 63,
    "start_time": "2025-07-24T18:06:18.615Z"
   },
   {
    "duration": 758,
    "start_time": "2025-07-24T18:06:18.680Z"
   },
   {
    "duration": 16,
    "start_time": "2025-07-24T18:06:19.439Z"
   },
   {
    "duration": 1590,
    "start_time": "2025-07-24T18:06:19.456Z"
   },
   {
    "duration": 130,
    "start_time": "2025-07-24T18:06:21.048Z"
   },
   {
    "duration": 292,
    "start_time": "2025-07-24T18:07:30.417Z"
   },
   {
    "duration": 1335,
    "start_time": "2025-07-25T10:17:00.574Z"
   },
   {
    "duration": 1538,
    "start_time": "2025-07-25T10:17:01.911Z"
   },
   {
    "duration": 107,
    "start_time": "2025-07-25T10:17:03.451Z"
   },
   {
    "duration": 313,
    "start_time": "2025-07-25T10:17:03.560Z"
   },
   {
    "duration": 23,
    "start_time": "2025-07-25T10:17:03.875Z"
   },
   {
    "duration": 40,
    "start_time": "2025-07-25T10:17:03.900Z"
   },
   {
    "duration": 9,
    "start_time": "2025-07-25T10:17:03.941Z"
   },
   {
    "duration": 422,
    "start_time": "2025-07-25T10:17:03.952Z"
   },
   {
    "duration": 213,
    "start_time": "2025-07-25T10:17:04.375Z"
   },
   {
    "duration": 212,
    "start_time": "2025-07-25T10:17:04.590Z"
   },
   {
    "duration": 581,
    "start_time": "2025-07-25T10:17:04.803Z"
   },
   {
    "duration": 125,
    "start_time": "2025-07-25T10:17:05.386Z"
   },
   {
    "duration": 25,
    "start_time": "2025-07-25T10:17:05.512Z"
   },
   {
    "duration": 113,
    "start_time": "2025-07-25T10:17:05.540Z"
   },
   {
    "duration": 14,
    "start_time": "2025-07-25T10:17:05.655Z"
   },
   {
    "duration": 524,
    "start_time": "2025-07-25T10:17:05.671Z"
   },
   {
    "duration": 166,
    "start_time": "2025-07-25T10:17:06.197Z"
   },
   {
    "duration": 199,
    "start_time": "2025-07-25T10:17:06.365Z"
   },
   {
    "duration": 468,
    "start_time": "2025-07-25T10:17:06.565Z"
   },
   {
    "duration": 202,
    "start_time": "2025-07-25T10:17:07.034Z"
   },
   {
    "duration": 168,
    "start_time": "2025-07-25T10:17:07.237Z"
   },
   {
    "duration": 38,
    "start_time": "2025-07-25T10:17:07.406Z"
   },
   {
    "duration": 4354,
    "start_time": "2025-07-25T10:17:07.445Z"
   },
   {
    "duration": 5,
    "start_time": "2025-07-25T10:17:11.801Z"
   },
   {
    "duration": 108,
    "start_time": "2025-07-25T10:17:11.807Z"
   },
   {
    "duration": 198,
    "start_time": "2025-07-25T10:17:11.917Z"
   },
   {
    "duration": 11,
    "start_time": "2025-07-25T10:17:12.117Z"
   },
   {
    "duration": 166,
    "start_time": "2025-07-25T10:17:12.129Z"
   },
   {
    "duration": 158,
    "start_time": "2025-07-25T10:17:12.299Z"
   },
   {
    "duration": 360,
    "start_time": "2025-07-25T10:17:12.458Z"
   },
   {
    "duration": 336,
    "start_time": "2025-07-25T10:17:12.819Z"
   },
   {
    "duration": 310,
    "start_time": "2025-07-25T10:17:13.157Z"
   },
   {
    "duration": 13,
    "start_time": "2025-07-25T10:17:13.468Z"
   },
   {
    "duration": 30,
    "start_time": "2025-07-25T10:17:13.483Z"
   },
   {
    "duration": 322,
    "start_time": "2025-07-25T10:17:13.515Z"
   },
   {
    "duration": 10,
    "start_time": "2025-07-25T10:17:13.839Z"
   },
   {
    "duration": 302,
    "start_time": "2025-07-25T10:17:13.850Z"
   },
   {
    "duration": 148,
    "start_time": "2025-07-25T10:17:14.154Z"
   },
   {
    "duration": 464,
    "start_time": "2025-07-25T10:17:14.303Z"
   },
   {
    "duration": 464,
    "start_time": "2025-07-25T10:17:14.769Z"
   },
   {
    "duration": 404,
    "start_time": "2025-07-25T10:17:15.238Z"
   },
   {
    "duration": 530,
    "start_time": "2025-07-25T10:17:15.644Z"
   },
   {
    "duration": 73,
    "start_time": "2025-07-25T10:17:16.175Z"
   },
   {
    "duration": 303,
    "start_time": "2025-07-25T10:17:16.250Z"
   },
   {
    "duration": 296,
    "start_time": "2025-07-25T10:17:16.554Z"
   },
   {
    "duration": 297,
    "start_time": "2025-07-25T10:17:16.852Z"
   },
   {
    "duration": 306,
    "start_time": "2025-07-25T10:17:17.151Z"
   },
   {
    "duration": 67,
    "start_time": "2025-07-25T10:17:17.459Z"
   },
   {
    "duration": 56,
    "start_time": "2025-07-25T10:17:17.527Z"
   },
   {
    "duration": 713,
    "start_time": "2025-07-25T10:17:17.585Z"
   },
   {
    "duration": 15,
    "start_time": "2025-07-25T10:17:18.300Z"
   },
   {
    "duration": 1416,
    "start_time": "2025-07-25T10:17:18.316Z"
   },
   {
    "duration": 102,
    "start_time": "2025-07-25T10:17:19.734Z"
   },
   {
    "duration": 1255,
    "start_time": "2025-07-25T16:16:59.056Z"
   },
   {
    "duration": 1610,
    "start_time": "2025-07-25T16:17:00.313Z"
   },
   {
    "duration": 105,
    "start_time": "2025-07-25T16:17:01.925Z"
   },
   {
    "duration": 358,
    "start_time": "2025-07-25T16:17:02.031Z"
   },
   {
    "duration": 18,
    "start_time": "2025-07-25T16:17:02.398Z"
   },
   {
    "duration": 591,
    "start_time": "2025-07-25T16:17:02.418Z"
   },
   {
    "duration": 9,
    "start_time": "2025-07-25T16:17:03.011Z"
   },
   {
    "duration": 524,
    "start_time": "2025-07-25T16:17:03.022Z"
   },
   {
    "duration": 189,
    "start_time": "2025-07-25T16:17:03.548Z"
   },
   {
    "duration": 184,
    "start_time": "2025-07-25T16:17:03.738Z"
   },
   {
    "duration": 602,
    "start_time": "2025-07-25T16:17:03.923Z"
   },
   {
    "duration": 124,
    "start_time": "2025-07-25T16:17:04.526Z"
   },
   {
    "duration": 26,
    "start_time": "2025-07-25T16:17:04.652Z"
   },
   {
    "duration": 210,
    "start_time": "2025-07-25T16:17:04.681Z"
   },
   {
    "duration": 20,
    "start_time": "2025-07-25T16:17:04.894Z"
   },
   {
    "duration": 551,
    "start_time": "2025-07-25T16:17:04.916Z"
   },
   {
    "duration": 173,
    "start_time": "2025-07-25T16:17:05.469Z"
   },
   {
    "duration": 217,
    "start_time": "2025-07-25T16:17:05.644Z"
   },
   {
    "duration": 518,
    "start_time": "2025-07-25T16:17:05.863Z"
   },
   {
    "duration": 207,
    "start_time": "2025-07-25T16:17:06.383Z"
   },
   {
    "duration": 175,
    "start_time": "2025-07-25T16:17:06.592Z"
   },
   {
    "duration": 49,
    "start_time": "2025-07-25T16:17:06.769Z"
   },
   {
    "duration": 4424,
    "start_time": "2025-07-25T16:17:06.820Z"
   },
   {
    "duration": 4,
    "start_time": "2025-07-25T16:17:11.246Z"
   },
   {
    "duration": 110,
    "start_time": "2025-07-25T16:17:11.251Z"
   },
   {
    "duration": 211,
    "start_time": "2025-07-25T16:17:11.362Z"
   },
   {
    "duration": 9,
    "start_time": "2025-07-25T16:17:11.575Z"
   },
   {
    "duration": 154,
    "start_time": "2025-07-25T16:17:11.597Z"
   },
   {
    "duration": 167,
    "start_time": "2025-07-25T16:17:11.753Z"
   },
   {
    "duration": 390,
    "start_time": "2025-07-25T16:17:11.921Z"
   },
   {
    "duration": 337,
    "start_time": "2025-07-25T16:17:12.313Z"
   },
   {
    "duration": 314,
    "start_time": "2025-07-25T16:17:12.651Z"
   },
   {
    "duration": 13,
    "start_time": "2025-07-25T16:17:12.966Z"
   },
   {
    "duration": 120,
    "start_time": "2025-07-25T16:17:12.980Z"
   },
   {
    "duration": 318,
    "start_time": "2025-07-25T16:17:13.101Z"
   },
   {
    "duration": 9,
    "start_time": "2025-07-25T16:17:13.420Z"
   },
   {
    "duration": 313,
    "start_time": "2025-07-25T16:17:13.430Z"
   },
   {
    "duration": 147,
    "start_time": "2025-07-25T16:17:13.745Z"
   },
   {
    "duration": 420,
    "start_time": "2025-07-25T16:17:13.893Z"
   },
   {
    "duration": 463,
    "start_time": "2025-07-25T16:17:14.315Z"
   },
   {
    "duration": 456,
    "start_time": "2025-07-25T16:17:14.782Z"
   },
   {
    "duration": 536,
    "start_time": "2025-07-25T16:17:15.240Z"
   },
   {
    "duration": 70,
    "start_time": "2025-07-25T16:17:15.778Z"
   },
   {
    "duration": 302,
    "start_time": "2025-07-25T16:17:15.850Z"
   },
   {
    "duration": 291,
    "start_time": "2025-07-25T16:17:16.153Z"
   },
   {
    "duration": 315,
    "start_time": "2025-07-25T16:17:16.445Z"
   },
   {
    "duration": 305,
    "start_time": "2025-07-25T16:17:16.762Z"
   },
   {
    "duration": 74,
    "start_time": "2025-07-25T16:17:17.069Z"
   },
   {
    "duration": 75,
    "start_time": "2025-07-25T16:17:17.144Z"
   },
   {
    "duration": 795,
    "start_time": "2025-07-25T16:17:17.221Z"
   },
   {
    "duration": 15,
    "start_time": "2025-07-25T16:17:18.017Z"
   },
   {
    "duration": 1570,
    "start_time": "2025-07-25T16:17:18.034Z"
   },
   {
    "duration": 103,
    "start_time": "2025-07-25T16:17:19.606Z"
   },
   {
    "duration": 75,
    "start_time": "2025-07-25T16:17:41.851Z"
   },
   {
    "duration": 89,
    "start_time": "2025-07-25T16:18:10.316Z"
   },
   {
    "duration": 1126,
    "start_time": "2025-07-25T16:18:43.350Z"
   },
   {
    "duration": 1517,
    "start_time": "2025-07-25T16:18:44.478Z"
   },
   {
    "duration": 99,
    "start_time": "2025-07-25T16:18:45.999Z"
   },
   {
    "duration": 229,
    "start_time": "2025-07-25T16:18:46.100Z"
   },
   {
    "duration": 17,
    "start_time": "2025-07-25T16:18:46.330Z"
   },
   {
    "duration": 95,
    "start_time": "2025-07-25T16:18:46.348Z"
   },
   {
    "duration": 9,
    "start_time": "2025-07-25T16:18:46.444Z"
   },
   {
    "duration": 434,
    "start_time": "2025-07-25T16:18:46.454Z"
   },
   {
    "duration": 183,
    "start_time": "2025-07-25T16:18:46.898Z"
   },
   {
    "duration": 190,
    "start_time": "2025-07-25T16:18:47.083Z"
   },
   {
    "duration": 610,
    "start_time": "2025-07-25T16:18:47.275Z"
   },
   {
    "duration": 123,
    "start_time": "2025-07-25T16:18:47.886Z"
   },
   {
    "duration": 119,
    "start_time": "2025-07-25T16:18:48.011Z"
   },
   {
    "duration": 0,
    "start_time": "2025-07-25T16:18:48.133Z"
   },
   {
    "duration": 0,
    "start_time": "2025-07-25T16:18:48.135Z"
   },
   {
    "duration": 0,
    "start_time": "2025-07-25T16:18:48.136Z"
   },
   {
    "duration": 0,
    "start_time": "2025-07-25T16:18:48.137Z"
   },
   {
    "duration": 0,
    "start_time": "2025-07-25T16:18:48.139Z"
   },
   {
    "duration": 0,
    "start_time": "2025-07-25T16:18:48.140Z"
   },
   {
    "duration": 0,
    "start_time": "2025-07-25T16:18:48.142Z"
   },
   {
    "duration": 0,
    "start_time": "2025-07-25T16:18:48.143Z"
   },
   {
    "duration": 0,
    "start_time": "2025-07-25T16:18:48.145Z"
   },
   {
    "duration": 0,
    "start_time": "2025-07-25T16:18:48.147Z"
   },
   {
    "duration": 0,
    "start_time": "2025-07-25T16:18:48.148Z"
   },
   {
    "duration": 0,
    "start_time": "2025-07-25T16:18:48.149Z"
   },
   {
    "duration": 0,
    "start_time": "2025-07-25T16:18:48.150Z"
   },
   {
    "duration": 0,
    "start_time": "2025-07-25T16:18:48.151Z"
   },
   {
    "duration": 0,
    "start_time": "2025-07-25T16:18:48.152Z"
   },
   {
    "duration": 0,
    "start_time": "2025-07-25T16:18:48.154Z"
   },
   {
    "duration": 0,
    "start_time": "2025-07-25T16:18:48.155Z"
   },
   {
    "duration": 0,
    "start_time": "2025-07-25T16:18:48.156Z"
   },
   {
    "duration": 0,
    "start_time": "2025-07-25T16:18:48.157Z"
   },
   {
    "duration": 0,
    "start_time": "2025-07-25T16:18:48.158Z"
   },
   {
    "duration": 0,
    "start_time": "2025-07-25T16:18:48.159Z"
   },
   {
    "duration": 0,
    "start_time": "2025-07-25T16:18:48.159Z"
   },
   {
    "duration": 0,
    "start_time": "2025-07-25T16:18:48.160Z"
   },
   {
    "duration": 0,
    "start_time": "2025-07-25T16:18:48.161Z"
   },
   {
    "duration": 0,
    "start_time": "2025-07-25T16:18:48.162Z"
   },
   {
    "duration": 0,
    "start_time": "2025-07-25T16:18:48.163Z"
   },
   {
    "duration": 0,
    "start_time": "2025-07-25T16:18:48.164Z"
   },
   {
    "duration": 0,
    "start_time": "2025-07-25T16:18:48.165Z"
   },
   {
    "duration": 0,
    "start_time": "2025-07-25T16:18:48.166Z"
   },
   {
    "duration": 0,
    "start_time": "2025-07-25T16:18:48.167Z"
   },
   {
    "duration": 0,
    "start_time": "2025-07-25T16:18:48.168Z"
   },
   {
    "duration": 0,
    "start_time": "2025-07-25T16:18:48.169Z"
   },
   {
    "duration": 0,
    "start_time": "2025-07-25T16:18:48.199Z"
   },
   {
    "duration": 0,
    "start_time": "2025-07-25T16:18:48.199Z"
   },
   {
    "duration": 0,
    "start_time": "2025-07-25T16:18:48.201Z"
   },
   {
    "duration": 0,
    "start_time": "2025-07-25T16:18:48.202Z"
   },
   {
    "duration": 0,
    "start_time": "2025-07-25T16:18:48.203Z"
   },
   {
    "duration": 0,
    "start_time": "2025-07-25T16:18:48.204Z"
   },
   {
    "duration": 0,
    "start_time": "2025-07-25T16:18:48.205Z"
   },
   {
    "duration": 0,
    "start_time": "2025-07-25T16:18:48.206Z"
   },
   {
    "duration": 0,
    "start_time": "2025-07-25T16:18:48.207Z"
   },
   {
    "duration": 27,
    "start_time": "2025-07-25T16:19:01.786Z"
   },
   {
    "duration": 112,
    "start_time": "2025-07-25T16:19:02.158Z"
   },
   {
    "duration": 152,
    "start_time": "2025-07-25T16:19:24.666Z"
   },
   {
    "duration": 193,
    "start_time": "2025-07-25T16:19:47.262Z"
   },
   {
    "duration": 13,
    "start_time": "2025-07-25T16:20:36.467Z"
   },
   {
    "duration": 478,
    "start_time": "2025-07-25T16:20:38.532Z"
   },
   {
    "duration": 190,
    "start_time": "2025-07-25T16:20:40.581Z"
   },
   {
    "duration": 219,
    "start_time": "2025-07-25T16:20:45.148Z"
   },
   {
    "duration": 531,
    "start_time": "2025-07-25T16:20:49.054Z"
   },
   {
    "duration": 201,
    "start_time": "2025-07-25T16:20:50.078Z"
   },
   {
    "duration": 182,
    "start_time": "2025-07-25T16:21:30.739Z"
   },
   {
    "duration": 472,
    "start_time": "2025-07-25T16:24:13.851Z"
   },
   {
    "duration": 201,
    "start_time": "2025-07-25T16:25:35.680Z"
   },
   {
    "duration": 37,
    "start_time": "2025-07-25T16:25:38.360Z"
   },
   {
    "duration": 5030,
    "start_time": "2025-07-25T16:25:41.751Z"
   },
   {
    "duration": 4,
    "start_time": "2025-07-25T16:25:46.783Z"
   },
   {
    "duration": 166,
    "start_time": "2025-07-25T16:25:46.788Z"
   },
   {
    "duration": 239,
    "start_time": "2025-07-25T16:25:48.863Z"
   },
   {
    "duration": 1145,
    "start_time": "2025-07-25T16:26:25.974Z"
   },
   {
    "duration": 1477,
    "start_time": "2025-07-25T16:26:27.121Z"
   },
   {
    "duration": 112,
    "start_time": "2025-07-25T16:26:28.600Z"
   },
   {
    "duration": 404,
    "start_time": "2025-07-25T16:26:28.713Z"
   },
   {
    "duration": 19,
    "start_time": "2025-07-25T16:26:29.120Z"
   },
   {
    "duration": 69,
    "start_time": "2025-07-25T16:26:29.141Z"
   },
   {
    "duration": 12,
    "start_time": "2025-07-25T16:26:29.211Z"
   },
   {
    "duration": 486,
    "start_time": "2025-07-25T16:26:29.224Z"
   },
   {
    "duration": 232,
    "start_time": "2025-07-25T16:26:29.711Z"
   },
   {
    "duration": 213,
    "start_time": "2025-07-25T16:26:29.944Z"
   },
   {
    "duration": 622,
    "start_time": "2025-07-25T16:26:30.159Z"
   },
   {
    "duration": 126,
    "start_time": "2025-07-25T16:26:30.782Z"
   },
   {
    "duration": 25,
    "start_time": "2025-07-25T16:26:30.910Z"
   },
   {
    "duration": 196,
    "start_time": "2025-07-25T16:26:30.938Z"
   },
   {
    "duration": 14,
    "start_time": "2025-07-25T16:26:31.135Z"
   },
   {
    "duration": 558,
    "start_time": "2025-07-25T16:26:31.151Z"
   },
   {
    "duration": 193,
    "start_time": "2025-07-25T16:26:31.711Z"
   },
   {
    "duration": 218,
    "start_time": "2025-07-25T16:26:31.905Z"
   },
   {
    "duration": 506,
    "start_time": "2025-07-25T16:26:32.125Z"
   },
   {
    "duration": 188,
    "start_time": "2025-07-25T16:26:32.633Z"
   },
   {
    "duration": 497,
    "start_time": "2025-07-25T16:26:32.823Z"
   },
   {
    "duration": 173,
    "start_time": "2025-07-25T16:26:33.322Z"
   },
   {
    "duration": 38,
    "start_time": "2025-07-25T16:26:33.499Z"
   },
   {
    "duration": 4573,
    "start_time": "2025-07-25T16:26:33.539Z"
   },
   {
    "duration": 4,
    "start_time": "2025-07-25T16:26:38.114Z"
   },
   {
    "duration": 101,
    "start_time": "2025-07-25T16:26:38.119Z"
   },
   {
    "duration": 207,
    "start_time": "2025-07-25T16:26:38.221Z"
   },
   {
    "duration": 11,
    "start_time": "2025-07-25T16:26:38.429Z"
   },
   {
    "duration": 179,
    "start_time": "2025-07-25T16:26:38.442Z"
   },
   {
    "duration": 137,
    "start_time": "2025-07-25T16:26:38.622Z"
   },
   {
    "duration": 344,
    "start_time": "2025-07-25T16:26:38.760Z"
   },
   {
    "duration": 303,
    "start_time": "2025-07-25T16:26:39.106Z"
   },
   {
    "duration": 307,
    "start_time": "2025-07-25T16:26:39.410Z"
   },
   {
    "duration": 13,
    "start_time": "2025-07-25T16:26:39.719Z"
   },
   {
    "duration": 17,
    "start_time": "2025-07-25T16:26:39.733Z"
   },
   {
    "duration": 331,
    "start_time": "2025-07-25T16:26:39.751Z"
   },
   {
    "duration": 15,
    "start_time": "2025-07-25T16:26:40.084Z"
   },
   {
    "duration": 275,
    "start_time": "2025-07-25T16:26:40.100Z"
   },
   {
    "duration": 194,
    "start_time": "2025-07-25T16:26:40.377Z"
   },
   {
    "duration": 428,
    "start_time": "2025-07-25T16:26:40.573Z"
   },
   {
    "duration": 411,
    "start_time": "2025-07-25T16:26:41.005Z"
   },
   {
    "duration": 397,
    "start_time": "2025-07-25T16:26:41.418Z"
   },
   {
    "duration": 523,
    "start_time": "2025-07-25T16:26:41.817Z"
   },
   {
    "duration": 69,
    "start_time": "2025-07-25T16:26:42.341Z"
   },
   {
    "duration": 320,
    "start_time": "2025-07-25T16:26:42.412Z"
   },
   {
    "duration": 226,
    "start_time": "2025-07-25T16:26:42.733Z"
   },
   {
    "duration": 294,
    "start_time": "2025-07-25T16:26:42.961Z"
   },
   {
    "duration": 288,
    "start_time": "2025-07-25T16:26:43.256Z"
   },
   {
    "duration": 67,
    "start_time": "2025-07-25T16:26:43.546Z"
   },
   {
    "duration": 57,
    "start_time": "2025-07-25T16:26:43.617Z"
   },
   {
    "duration": 704,
    "start_time": "2025-07-25T16:26:43.675Z"
   },
   {
    "duration": 26,
    "start_time": "2025-07-25T16:26:44.381Z"
   },
   {
    "duration": 1402,
    "start_time": "2025-07-25T16:26:44.408Z"
   },
   {
    "duration": 104,
    "start_time": "2025-07-25T16:26:45.811Z"
   },
   {
    "duration": 100,
    "start_time": "2025-07-25T16:33:26.751Z"
   },
   {
    "duration": 11,
    "start_time": "2025-07-25T16:33:34.278Z"
   },
   {
    "duration": 567,
    "start_time": "2025-07-25T16:33:42.049Z"
   },
   {
    "duration": 16,
    "start_time": "2025-07-25T16:33:43.103Z"
   },
   {
    "duration": 47,
    "start_time": "2025-07-25T16:33:46.813Z"
   },
   {
    "duration": 525,
    "start_time": "2025-07-25T16:33:47.741Z"
   },
   {
    "duration": 1355,
    "start_time": "2025-07-25T16:34:02.165Z"
   },
   {
    "duration": 1714,
    "start_time": "2025-07-25T16:34:03.522Z"
   },
   {
    "duration": 104,
    "start_time": "2025-07-25T16:34:05.237Z"
   },
   {
    "duration": 228,
    "start_time": "2025-07-25T16:34:05.343Z"
   },
   {
    "duration": 18,
    "start_time": "2025-07-25T16:34:05.572Z"
   },
   {
    "duration": 43,
    "start_time": "2025-07-25T16:34:05.598Z"
   },
   {
    "duration": 18,
    "start_time": "2025-07-25T16:34:05.643Z"
   },
   {
    "duration": 478,
    "start_time": "2025-07-25T16:34:05.663Z"
   },
   {
    "duration": 189,
    "start_time": "2025-07-25T16:34:06.143Z"
   },
   {
    "duration": 208,
    "start_time": "2025-07-25T16:34:06.335Z"
   },
   {
    "duration": 614,
    "start_time": "2025-07-25T16:34:06.545Z"
   },
   {
    "duration": 126,
    "start_time": "2025-07-25T16:34:07.161Z"
   },
   {
    "duration": 31,
    "start_time": "2025-07-25T16:34:07.288Z"
   },
   {
    "duration": 191,
    "start_time": "2025-07-25T16:34:07.320Z"
   },
   {
    "duration": 14,
    "start_time": "2025-07-25T16:34:07.513Z"
   },
   {
    "duration": 505,
    "start_time": "2025-07-25T16:34:07.529Z"
   },
   {
    "duration": 176,
    "start_time": "2025-07-25T16:34:08.036Z"
   },
   {
    "duration": 193,
    "start_time": "2025-07-25T16:34:08.214Z"
   },
   {
    "duration": 511,
    "start_time": "2025-07-25T16:34:08.409Z"
   },
   {
    "duration": 489,
    "start_time": "2025-07-25T16:34:08.922Z"
   },
   {
    "duration": 616,
    "start_time": "2025-07-25T16:34:09.413Z"
   },
   {
    "duration": 152,
    "start_time": "2025-07-25T16:34:10.031Z"
   },
   {
    "duration": 46,
    "start_time": "2025-07-25T16:34:10.185Z"
   },
   {
    "duration": 4561,
    "start_time": "2025-07-25T16:34:10.233Z"
   },
   {
    "duration": 5,
    "start_time": "2025-07-25T16:34:14.798Z"
   },
   {
    "duration": 161,
    "start_time": "2025-07-25T16:34:14.804Z"
   },
   {
    "duration": 224,
    "start_time": "2025-07-25T16:34:14.967Z"
   },
   {
    "duration": 15,
    "start_time": "2025-07-25T16:34:15.199Z"
   },
   {
    "duration": 198,
    "start_time": "2025-07-25T16:34:15.215Z"
   },
   {
    "duration": 146,
    "start_time": "2025-07-25T16:34:15.415Z"
   },
   {
    "duration": 354,
    "start_time": "2025-07-25T16:34:15.563Z"
   },
   {
    "duration": 344,
    "start_time": "2025-07-25T16:34:15.919Z"
   },
   {
    "duration": 306,
    "start_time": "2025-07-25T16:34:16.265Z"
   },
   {
    "duration": 30,
    "start_time": "2025-07-25T16:34:16.573Z"
   },
   {
    "duration": 17,
    "start_time": "2025-07-25T16:34:16.605Z"
   },
   {
    "duration": 390,
    "start_time": "2025-07-25T16:34:16.624Z"
   },
   {
    "duration": 9,
    "start_time": "2025-07-25T16:34:17.016Z"
   },
   {
    "duration": 272,
    "start_time": "2025-07-25T16:34:17.027Z"
   },
   {
    "duration": 147,
    "start_time": "2025-07-25T16:34:17.300Z"
   },
   {
    "duration": 425,
    "start_time": "2025-07-25T16:34:17.448Z"
   },
   {
    "duration": 426,
    "start_time": "2025-07-25T16:34:17.874Z"
   },
   {
    "duration": 417,
    "start_time": "2025-07-25T16:34:18.302Z"
   },
   {
    "duration": 545,
    "start_time": "2025-07-25T16:34:18.720Z"
   },
   {
    "duration": 64,
    "start_time": "2025-07-25T16:34:19.266Z"
   },
   {
    "duration": 286,
    "start_time": "2025-07-25T16:34:19.332Z"
   },
   {
    "duration": 247,
    "start_time": "2025-07-25T16:34:19.620Z"
   },
   {
    "duration": 304,
    "start_time": "2025-07-25T16:34:19.869Z"
   },
   {
    "duration": 287,
    "start_time": "2025-07-25T16:34:20.175Z"
   },
   {
    "duration": 69,
    "start_time": "2025-07-25T16:34:20.463Z"
   },
   {
    "duration": 66,
    "start_time": "2025-07-25T16:34:20.533Z"
   },
   {
    "duration": 706,
    "start_time": "2025-07-25T16:34:20.601Z"
   },
   {
    "duration": 16,
    "start_time": "2025-07-25T16:34:21.309Z"
   },
   {
    "duration": 1401,
    "start_time": "2025-07-25T16:34:21.326Z"
   },
   {
    "duration": 110,
    "start_time": "2025-07-25T16:34:22.729Z"
   },
   {
    "duration": 5,
    "start_time": "2025-07-25T16:48:05.165Z"
   },
   {
    "duration": 1102,
    "start_time": "2025-07-25T16:48:40.509Z"
   },
   {
    "duration": 1527,
    "start_time": "2025-07-25T16:48:41.613Z"
   },
   {
    "duration": 103,
    "start_time": "2025-07-25T16:48:43.141Z"
   },
   {
    "duration": 329,
    "start_time": "2025-07-25T16:48:43.246Z"
   },
   {
    "duration": 21,
    "start_time": "2025-07-25T16:48:43.577Z"
   },
   {
    "duration": 29,
    "start_time": "2025-07-25T16:48:43.600Z"
   },
   {
    "duration": 9,
    "start_time": "2025-07-25T16:48:43.631Z"
   },
   {
    "duration": 431,
    "start_time": "2025-07-25T16:48:43.642Z"
   },
   {
    "duration": 2,
    "start_time": "2025-07-25T16:48:44.075Z"
   },
   {
    "duration": 192,
    "start_time": "2025-07-25T16:48:44.081Z"
   },
   {
    "duration": 184,
    "start_time": "2025-07-25T16:48:44.275Z"
   },
   {
    "duration": 647,
    "start_time": "2025-07-25T16:48:44.461Z"
   },
   {
    "duration": 123,
    "start_time": "2025-07-25T16:48:45.109Z"
   },
   {
    "duration": 25,
    "start_time": "2025-07-25T16:48:45.234Z"
   },
   {
    "duration": 203,
    "start_time": "2025-07-25T16:48:45.261Z"
   },
   {
    "duration": 15,
    "start_time": "2025-07-25T16:48:45.466Z"
   },
   {
    "duration": 522,
    "start_time": "2025-07-25T16:48:45.483Z"
   },
   {
    "duration": 186,
    "start_time": "2025-07-25T16:48:46.007Z"
   },
   {
    "duration": 212,
    "start_time": "2025-07-25T16:48:46.197Z"
   },
   {
    "duration": 493,
    "start_time": "2025-07-25T16:48:46.411Z"
   },
   {
    "duration": 508,
    "start_time": "2025-07-25T16:48:46.905Z"
   },
   {
    "duration": 605,
    "start_time": "2025-07-25T16:48:47.414Z"
   },
   {
    "duration": 140,
    "start_time": "2025-07-25T16:48:48.021Z"
   },
   {
    "duration": 52,
    "start_time": "2025-07-25T16:48:48.162Z"
   },
   {
    "duration": 4659,
    "start_time": "2025-07-25T16:48:48.215Z"
   },
   {
    "duration": 6,
    "start_time": "2025-07-25T16:48:52.875Z"
   },
   {
    "duration": 171,
    "start_time": "2025-07-25T16:48:52.882Z"
   },
   {
    "duration": 203,
    "start_time": "2025-07-25T16:48:53.057Z"
   },
   {
    "duration": 3,
    "start_time": "2025-07-25T16:48:53.263Z"
   },
   {
    "duration": 27,
    "start_time": "2025-07-25T16:48:53.268Z"
   },
   {
    "duration": 157,
    "start_time": "2025-07-25T16:48:53.299Z"
   },
   {
    "duration": 152,
    "start_time": "2025-07-25T16:48:53.458Z"
   },
   {
    "duration": 369,
    "start_time": "2025-07-25T16:48:53.611Z"
   },
   {
    "duration": 287,
    "start_time": "2025-07-25T16:48:53.982Z"
   },
   {
    "duration": 327,
    "start_time": "2025-07-25T16:48:54.271Z"
   },
   {
    "duration": 14,
    "start_time": "2025-07-25T16:48:54.600Z"
   },
   {
    "duration": 26,
    "start_time": "2025-07-25T16:48:54.616Z"
   },
   {
    "duration": 356,
    "start_time": "2025-07-25T16:48:54.644Z"
   },
   {
    "duration": 10,
    "start_time": "2025-07-25T16:48:55.002Z"
   },
   {
    "duration": 249,
    "start_time": "2025-07-25T16:48:55.013Z"
   },
   {
    "duration": 154,
    "start_time": "2025-07-25T16:48:55.263Z"
   },
   {
    "duration": 430,
    "start_time": "2025-07-25T16:48:55.419Z"
   },
   {
    "duration": 462,
    "start_time": "2025-07-25T16:48:55.851Z"
   },
   {
    "duration": 414,
    "start_time": "2025-07-25T16:48:56.315Z"
   },
   {
    "duration": 529,
    "start_time": "2025-07-25T16:48:56.730Z"
   },
   {
    "duration": 67,
    "start_time": "2025-07-25T16:48:57.260Z"
   },
   {
    "duration": 246,
    "start_time": "2025-07-25T16:48:57.328Z"
   },
   {
    "duration": 291,
    "start_time": "2025-07-25T16:48:57.575Z"
   },
   {
    "duration": 280,
    "start_time": "2025-07-25T16:48:57.867Z"
   },
   {
    "duration": 302,
    "start_time": "2025-07-25T16:48:58.148Z"
   },
   {
    "duration": 69,
    "start_time": "2025-07-25T16:48:58.452Z"
   },
   {
    "duration": 71,
    "start_time": "2025-07-25T16:48:58.523Z"
   },
   {
    "duration": 703,
    "start_time": "2025-07-25T16:48:58.595Z"
   },
   {
    "duration": 14,
    "start_time": "2025-07-25T16:48:59.299Z"
   },
   {
    "duration": 1392,
    "start_time": "2025-07-25T16:48:59.314Z"
   },
   {
    "duration": 90,
    "start_time": "2025-07-25T16:49:00.708Z"
   },
   {
    "duration": 94,
    "start_time": "2025-07-25T16:49:33.674Z"
   },
   {
    "duration": 4,
    "start_time": "2025-07-25T16:49:35.721Z"
   },
   {
    "duration": 83,
    "start_time": "2025-07-25T16:59:38.128Z"
   },
   {
    "duration": 9,
    "start_time": "2025-07-25T17:02:24.687Z"
   },
   {
    "duration": 8,
    "start_time": "2025-07-25T17:02:47.442Z"
   },
   {
    "duration": 10,
    "start_time": "2025-07-25T17:02:49.484Z"
   },
   {
    "duration": 4,
    "start_time": "2025-07-25T17:02:49.832Z"
   },
   {
    "duration": 6,
    "start_time": "2025-07-25T17:03:30.002Z"
   },
   {
    "duration": 10,
    "start_time": "2025-07-25T17:05:31.807Z"
   },
   {
    "duration": 115,
    "start_time": "2025-07-25T17:08:09.539Z"
   },
   {
    "duration": 6,
    "start_time": "2025-07-25T17:08:12.485Z"
   },
   {
    "duration": 571,
    "start_time": "2025-07-25T17:08:13.182Z"
   },
   {
    "duration": 11,
    "start_time": "2025-07-25T17:08:29.408Z"
   },
   {
    "duration": 809,
    "start_time": "2025-07-25T17:10:15.739Z"
   },
   {
    "duration": 92,
    "start_time": "2025-07-25T17:10:47.960Z"
   },
   {
    "duration": 18,
    "start_time": "2025-07-25T17:11:12.975Z"
   },
   {
    "duration": 736,
    "start_time": "2025-07-25T17:11:13.374Z"
   },
   {
    "duration": 18,
    "start_time": "2025-07-25T17:11:14.354Z"
   },
   {
    "duration": 1150,
    "start_time": "2025-07-25T17:12:04.888Z"
   },
   {
    "duration": 1340,
    "start_time": "2025-07-25T17:12:06.040Z"
   },
   {
    "duration": 102,
    "start_time": "2025-07-25T17:12:07.383Z"
   },
   {
    "duration": 253,
    "start_time": "2025-07-25T17:12:07.487Z"
   },
   {
    "duration": 17,
    "start_time": "2025-07-25T17:12:07.741Z"
   },
   {
    "duration": 30,
    "start_time": "2025-07-25T17:12:07.759Z"
   },
   {
    "duration": 15,
    "start_time": "2025-07-25T17:12:07.790Z"
   },
   {
    "duration": 432,
    "start_time": "2025-07-25T17:12:07.807Z"
   },
   {
    "duration": 3,
    "start_time": "2025-07-25T17:12:08.241Z"
   },
   {
    "duration": 187,
    "start_time": "2025-07-25T17:12:08.245Z"
   },
   {
    "duration": 182,
    "start_time": "2025-07-25T17:12:08.434Z"
   },
   {
    "duration": 638,
    "start_time": "2025-07-25T17:12:08.617Z"
   },
   {
    "duration": 123,
    "start_time": "2025-07-25T17:12:09.256Z"
   },
   {
    "duration": 33,
    "start_time": "2025-07-25T17:12:09.381Z"
   },
   {
    "duration": 189,
    "start_time": "2025-07-25T17:12:09.416Z"
   },
   {
    "duration": 14,
    "start_time": "2025-07-25T17:12:09.606Z"
   },
   {
    "duration": 476,
    "start_time": "2025-07-25T17:12:09.622Z"
   },
   {
    "duration": 178,
    "start_time": "2025-07-25T17:12:10.100Z"
   },
   {
    "duration": 209,
    "start_time": "2025-07-25T17:12:10.279Z"
   },
   {
    "duration": 510,
    "start_time": "2025-07-25T17:12:10.489Z"
   },
   {
    "duration": 506,
    "start_time": "2025-07-25T17:12:11.000Z"
   },
   {
    "duration": 598,
    "start_time": "2025-07-25T17:12:11.508Z"
   },
   {
    "duration": 148,
    "start_time": "2025-07-25T17:12:12.108Z"
   },
   {
    "duration": 49,
    "start_time": "2025-07-25T17:12:12.258Z"
   },
   {
    "duration": 4572,
    "start_time": "2025-07-25T17:12:12.308Z"
   },
   {
    "duration": 5,
    "start_time": "2025-07-25T17:12:16.882Z"
   },
   {
    "duration": 102,
    "start_time": "2025-07-25T17:12:16.900Z"
   },
   {
    "duration": 211,
    "start_time": "2025-07-25T17:12:17.004Z"
   },
   {
    "duration": 4,
    "start_time": "2025-07-25T17:12:17.217Z"
   },
   {
    "duration": 20,
    "start_time": "2025-07-25T17:12:17.223Z"
   },
   {
    "duration": 172,
    "start_time": "2025-07-25T17:12:17.245Z"
   },
   {
    "duration": 153,
    "start_time": "2025-07-25T17:12:17.419Z"
   },
   {
    "duration": 369,
    "start_time": "2025-07-25T17:12:17.574Z"
   },
   {
    "duration": 309,
    "start_time": "2025-07-25T17:12:17.945Z"
   },
   {
    "duration": 309,
    "start_time": "2025-07-25T17:12:18.256Z"
   },
   {
    "duration": 14,
    "start_time": "2025-07-25T17:12:18.567Z"
   },
   {
    "duration": 82,
    "start_time": "2025-07-25T17:12:18.598Z"
   },
   {
    "duration": 318,
    "start_time": "2025-07-25T17:12:18.682Z"
   },
   {
    "duration": 10,
    "start_time": "2025-07-25T17:12:19.002Z"
   },
   {
    "duration": 337,
    "start_time": "2025-07-25T17:12:19.014Z"
   },
   {
    "duration": 156,
    "start_time": "2025-07-25T17:12:19.353Z"
   },
   {
    "duration": 418,
    "start_time": "2025-07-25T17:12:19.511Z"
   },
   {
    "duration": 394,
    "start_time": "2025-07-25T17:12:19.930Z"
   },
   {
    "duration": 392,
    "start_time": "2025-07-25T17:12:20.326Z"
   },
   {
    "duration": 529,
    "start_time": "2025-07-25T17:12:20.720Z"
   },
   {
    "duration": 70,
    "start_time": "2025-07-25T17:12:21.250Z"
   },
   {
    "duration": 244,
    "start_time": "2025-07-25T17:12:21.322Z"
   },
   {
    "duration": 285,
    "start_time": "2025-07-25T17:12:21.568Z"
   },
   {
    "duration": 290,
    "start_time": "2025-07-25T17:12:21.855Z"
   },
   {
    "duration": 299,
    "start_time": "2025-07-25T17:12:22.147Z"
   },
   {
    "duration": 68,
    "start_time": "2025-07-25T17:12:22.447Z"
   },
   {
    "duration": 56,
    "start_time": "2025-07-25T17:12:22.517Z"
   },
   {
    "duration": 189,
    "start_time": "2025-07-25T17:12:22.575Z"
   },
   {
    "duration": 5,
    "start_time": "2025-07-25T17:12:22.766Z"
   },
   {
    "duration": 574,
    "start_time": "2025-07-25T17:12:22.773Z"
   },
   {
    "duration": 10,
    "start_time": "2025-07-25T17:12:23.349Z"
   },
   {
    "duration": 167,
    "start_time": "2025-07-25T17:12:23.361Z"
   },
   {
    "duration": 17,
    "start_time": "2025-07-25T17:12:23.529Z"
   },
   {
    "duration": 671,
    "start_time": "2025-07-25T17:12:23.547Z"
   },
   {
    "duration": 17,
    "start_time": "2025-07-25T17:12:24.220Z"
   },
   {
    "duration": 1136,
    "start_time": "2025-07-25T17:29:20.663Z"
   },
   {
    "duration": 1417,
    "start_time": "2025-07-25T17:29:21.800Z"
   },
   {
    "duration": 102,
    "start_time": "2025-07-25T17:29:23.219Z"
   },
   {
    "duration": 347,
    "start_time": "2025-07-25T17:29:23.323Z"
   },
   {
    "duration": 17,
    "start_time": "2025-07-25T17:29:23.671Z"
   },
   {
    "duration": 92,
    "start_time": "2025-07-25T17:29:23.689Z"
   },
   {
    "duration": 9,
    "start_time": "2025-07-25T17:29:23.782Z"
   },
   {
    "duration": 431,
    "start_time": "2025-07-25T17:29:23.793Z"
   },
   {
    "duration": 2,
    "start_time": "2025-07-25T17:29:24.225Z"
   },
   {
    "duration": 276,
    "start_time": "2025-07-25T17:29:24.229Z"
   },
   {
    "duration": 400,
    "start_time": "2025-07-25T17:29:24.507Z"
   },
   {
    "duration": 996,
    "start_time": "2025-07-25T17:29:24.908Z"
   },
   {
    "duration": 140,
    "start_time": "2025-07-25T17:29:25.907Z"
   },
   {
    "duration": 26,
    "start_time": "2025-07-25T17:29:26.049Z"
   },
   {
    "duration": 193,
    "start_time": "2025-07-25T17:29:26.076Z"
   },
   {
    "duration": 15,
    "start_time": "2025-07-25T17:29:26.271Z"
   },
   {
    "duration": 497,
    "start_time": "2025-07-25T17:29:26.298Z"
   },
   {
    "duration": 183,
    "start_time": "2025-07-25T17:29:26.796Z"
   },
   {
    "duration": 210,
    "start_time": "2025-07-25T17:29:26.981Z"
   },
   {
    "duration": 512,
    "start_time": "2025-07-25T17:29:27.193Z"
   },
   {
    "duration": 498,
    "start_time": "2025-07-25T17:29:27.706Z"
   },
   {
    "duration": 620,
    "start_time": "2025-07-25T17:29:28.206Z"
   },
   {
    "duration": 140,
    "start_time": "2025-07-25T17:29:28.827Z"
   },
   {
    "duration": 42,
    "start_time": "2025-07-25T17:29:28.969Z"
   },
   {
    "duration": 4438,
    "start_time": "2025-07-25T17:29:29.013Z"
   },
   {
    "duration": 5,
    "start_time": "2025-07-25T17:29:33.452Z"
   },
   {
    "duration": 290,
    "start_time": "2025-07-25T17:29:33.458Z"
   },
   {
    "duration": 196,
    "start_time": "2025-07-25T17:29:33.752Z"
   },
   {
    "duration": 3,
    "start_time": "2025-07-25T17:29:33.950Z"
   },
   {
    "duration": 25,
    "start_time": "2025-07-25T17:29:33.954Z"
   },
   {
    "duration": 149,
    "start_time": "2025-07-25T17:29:33.981Z"
   },
   {
    "duration": 142,
    "start_time": "2025-07-25T17:29:34.131Z"
   },
   {
    "duration": 348,
    "start_time": "2025-07-25T17:29:34.275Z"
   },
   {
    "duration": 345,
    "start_time": "2025-07-25T17:29:34.625Z"
   },
   {
    "duration": 301,
    "start_time": "2025-07-25T17:29:34.972Z"
   },
   {
    "duration": 26,
    "start_time": "2025-07-25T17:29:35.275Z"
   },
   {
    "duration": 17,
    "start_time": "2025-07-25T17:29:35.303Z"
   },
   {
    "duration": 356,
    "start_time": "2025-07-25T17:29:35.322Z"
   },
   {
    "duration": 9,
    "start_time": "2025-07-25T17:29:35.680Z"
   },
   {
    "duration": 331,
    "start_time": "2025-07-25T17:29:35.699Z"
   },
   {
    "duration": 151,
    "start_time": "2025-07-25T17:29:36.031Z"
   },
   {
    "duration": 425,
    "start_time": "2025-07-25T17:29:36.184Z"
   },
   {
    "duration": 425,
    "start_time": "2025-07-25T17:29:36.611Z"
   },
   {
    "duration": 383,
    "start_time": "2025-07-25T17:29:37.038Z"
   },
   {
    "duration": 533,
    "start_time": "2025-07-25T17:29:37.423Z"
   },
   {
    "duration": 69,
    "start_time": "2025-07-25T17:29:37.957Z"
   },
   {
    "duration": 231,
    "start_time": "2025-07-25T17:29:38.028Z"
   },
   {
    "duration": 287,
    "start_time": "2025-07-25T17:29:38.261Z"
   },
   {
    "duration": 304,
    "start_time": "2025-07-25T17:29:38.549Z"
   },
   {
    "duration": 294,
    "start_time": "2025-07-25T17:29:38.854Z"
   },
   {
    "duration": 68,
    "start_time": "2025-07-25T17:29:39.149Z"
   },
   {
    "duration": 58,
    "start_time": "2025-07-25T17:29:39.219Z"
   },
   {
    "duration": 112,
    "start_time": "2025-07-25T17:29:39.279Z"
   },
   {
    "duration": 6,
    "start_time": "2025-07-25T17:29:39.399Z"
   },
   {
    "duration": 592,
    "start_time": "2025-07-25T17:29:39.406Z"
   },
   {
    "duration": 12,
    "start_time": "2025-07-25T17:29:40.000Z"
   },
   {
    "duration": 119,
    "start_time": "2025-07-25T17:29:40.014Z"
   },
   {
    "duration": 17,
    "start_time": "2025-07-25T17:29:40.135Z"
   },
   {
    "duration": 671,
    "start_time": "2025-07-25T17:29:40.153Z"
   },
   {
    "duration": 19,
    "start_time": "2025-07-25T17:29:40.826Z"
   },
   {
    "duration": 1137,
    "start_time": "2025-07-25T17:32:18.984Z"
   },
   {
    "duration": 1688,
    "start_time": "2025-07-25T17:32:20.123Z"
   },
   {
    "duration": 196,
    "start_time": "2025-07-25T17:32:21.813Z"
   },
   {
    "duration": 282,
    "start_time": "2025-07-25T17:32:22.011Z"
   },
   {
    "duration": 19,
    "start_time": "2025-07-25T17:32:22.294Z"
   },
   {
    "duration": 55,
    "start_time": "2025-07-25T17:32:22.314Z"
   },
   {
    "duration": 12,
    "start_time": "2025-07-25T17:32:22.371Z"
   },
   {
    "duration": 475,
    "start_time": "2025-07-25T17:32:22.384Z"
   },
   {
    "duration": 3,
    "start_time": "2025-07-25T17:32:22.860Z"
   },
   {
    "duration": 189,
    "start_time": "2025-07-25T17:32:22.865Z"
   },
   {
    "duration": 185,
    "start_time": "2025-07-25T17:32:23.056Z"
   },
   {
    "duration": 625,
    "start_time": "2025-07-25T17:32:23.242Z"
   },
   {
    "duration": 123,
    "start_time": "2025-07-25T17:32:23.868Z"
   },
   {
    "duration": 23,
    "start_time": "2025-07-25T17:32:23.998Z"
   },
   {
    "duration": 203,
    "start_time": "2025-07-25T17:32:24.022Z"
   },
   {
    "duration": 13,
    "start_time": "2025-07-25T17:32:24.226Z"
   },
   {
    "duration": 513,
    "start_time": "2025-07-25T17:32:24.240Z"
   },
   {
    "duration": 198,
    "start_time": "2025-07-25T17:32:24.755Z"
   },
   {
    "duration": 213,
    "start_time": "2025-07-25T17:32:24.954Z"
   },
   {
    "duration": 511,
    "start_time": "2025-07-25T17:32:25.169Z"
   },
   {
    "duration": 534,
    "start_time": "2025-07-25T17:32:25.681Z"
   },
   {
    "duration": 626,
    "start_time": "2025-07-25T17:32:26.217Z"
   },
   {
    "duration": 141,
    "start_time": "2025-07-25T17:32:26.845Z"
   },
   {
    "duration": 52,
    "start_time": "2025-07-25T17:32:26.988Z"
   },
   {
    "duration": 4528,
    "start_time": "2025-07-25T17:32:27.042Z"
   },
   {
    "duration": 4,
    "start_time": "2025-07-25T17:32:31.572Z"
   },
   {
    "duration": 116,
    "start_time": "2025-07-25T17:32:31.578Z"
   },
   {
    "duration": 211,
    "start_time": "2025-07-25T17:32:31.700Z"
   },
   {
    "duration": 3,
    "start_time": "2025-07-25T17:32:31.912Z"
   },
   {
    "duration": 39,
    "start_time": "2025-07-25T17:32:31.917Z"
   },
   {
    "duration": 176,
    "start_time": "2025-07-25T17:32:31.958Z"
   },
   {
    "duration": 148,
    "start_time": "2025-07-25T17:32:32.135Z"
   },
   {
    "duration": 344,
    "start_time": "2025-07-25T17:32:32.285Z"
   },
   {
    "duration": 333,
    "start_time": "2025-07-25T17:32:32.631Z"
   },
   {
    "duration": 304,
    "start_time": "2025-07-25T17:32:32.966Z"
   },
   {
    "duration": 14,
    "start_time": "2025-07-25T17:32:33.271Z"
   },
   {
    "duration": 44,
    "start_time": "2025-07-25T17:32:33.286Z"
   },
   {
    "duration": 353,
    "start_time": "2025-07-25T17:32:33.332Z"
   },
   {
    "duration": 9,
    "start_time": "2025-07-25T17:32:33.698Z"
   },
   {
    "duration": 312,
    "start_time": "2025-07-25T17:32:33.709Z"
   },
   {
    "duration": 152,
    "start_time": "2025-07-25T17:32:34.023Z"
   },
   {
    "duration": 440,
    "start_time": "2025-07-25T17:32:34.177Z"
   },
   {
    "duration": 446,
    "start_time": "2025-07-25T17:32:34.618Z"
   },
   {
    "duration": 410,
    "start_time": "2025-07-25T17:32:35.066Z"
   },
   {
    "duration": 597,
    "start_time": "2025-07-25T17:32:35.478Z"
   },
   {
    "duration": 70,
    "start_time": "2025-07-25T17:32:36.077Z"
   },
   {
    "duration": 314,
    "start_time": "2025-07-25T17:32:36.149Z"
   },
   {
    "duration": 297,
    "start_time": "2025-07-25T17:32:36.465Z"
   },
   {
    "duration": 309,
    "start_time": "2025-07-25T17:32:36.763Z"
   },
   {
    "duration": 314,
    "start_time": "2025-07-25T17:32:37.074Z"
   },
   {
    "duration": 56,
    "start_time": "2025-07-25T17:32:37.398Z"
   },
   {
    "duration": 102,
    "start_time": "2025-07-25T17:32:37.456Z"
   },
   {
    "duration": 112,
    "start_time": "2025-07-25T17:32:37.560Z"
   },
   {
    "duration": 5,
    "start_time": "2025-07-25T17:32:37.673Z"
   },
   {
    "duration": 714,
    "start_time": "2025-07-25T17:32:37.679Z"
   },
   {
    "duration": 10,
    "start_time": "2025-07-25T17:32:38.398Z"
   },
   {
    "duration": 119,
    "start_time": "2025-07-25T17:32:38.409Z"
   },
   {
    "duration": 17,
    "start_time": "2025-07-25T17:32:38.530Z"
   },
   {
    "duration": 682,
    "start_time": "2025-07-25T17:32:38.548Z"
   },
   {
    "duration": 19,
    "start_time": "2025-07-25T17:32:39.232Z"
   }
  ],
  "colab": {
   "provenance": []
  },
  "kernelspec": {
   "display_name": "Python 3 (ipykernel)",
   "language": "python",
   "name": "python3"
  },
  "language_info": {
   "codemirror_mode": {
    "name": "ipython",
    "version": 3
   },
   "file_extension": ".py",
   "mimetype": "text/x-python",
   "name": "python",
   "nbconvert_exporter": "python",
   "pygments_lexer": "ipython3",
   "version": "3.9.5"
  },
  "toc": {
   "base_numbering": 1,
   "nav_menu": {},
   "number_sections": true,
   "sideBar": true,
   "skip_h1_title": true,
   "title_cell": "Table of Contents",
   "title_sidebar": "Contents",
   "toc_cell": false,
   "toc_position": {
    "height": "calc(100% - 180px)",
    "left": "10px",
    "top": "150px",
    "width": "371.188px"
   },
   "toc_section_display": true,
   "toc_window_display": true
  }
 },
 "nbformat": 4,
 "nbformat_minor": 1
}
