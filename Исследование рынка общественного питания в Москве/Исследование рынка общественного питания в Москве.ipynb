{
 "cells": [
  {
   "cell_type": "markdown",
   "id": "e06910dd",
   "metadata": {
    "id": "e06910dd"
   },
   "source": [
    "# Исследование рынка общественного питания в Москве"
   ]
  },
  {
   "cell_type": "markdown",
   "id": "4149134c",
   "metadata": {
    "id": "4149134c"
   },
   "source": [
    "### Цели и задачи проекта\n",
    "\n",
    "#### Цель проекта заключается в проведении исследовательского анализа рынка общественного питания Москвы. Для этого нужно провести предобработку данных и провести исследовательский анализ данных.\n",
    "#### Задачи:\n",
    "- 1. Познакомиться с данными, проверить их корректность и провести предобработку.\n",
    "- 2. Провести исследовательский анализ данных и ответить на вопросы:\n",
    "- Какие категории заведений представлены в данных? Исследовать количество объектов общественного питания по каждой категории\n",
    "- Какие административные районы Москвы присутствуют в данных? Исследовать распределение количества заведений по административным районам Москвы, а также отдельно распределение заведений каждой категории в Центральном административном округе Москвы\n",
    "- Изучить соотношение сетевых и несетевых заведений в целом по всем данным и в разрезе категорий заведения. Выяснить каких заведений больше — сетевых или несетевых?\n",
    "- Исследовать количество посадочных мест в заведениях. Выяснить встречаются ли в данных аномальные значения или выбросы?\n",
    "- Исследовать рейтинг заведений\n",
    "- Изучить, с какими данными показывают самую сильную корреляцию рейтинги заведений?\n",
    "- Сгруппировать данные по названиям заведений и найти топ-15 популярных сетей в Москве. Выяснить к какой категории заведений они относятся?\n",
    "- Изучить вариацию среднего чека заведения (столбец middle_avg_bill) в зависимости от района Москвы. Выяснить как удалённость от центра влияет на цены в заведениях?\n",
    "- 3. Сформулировать выводы по проведённому анализу."
   ]
  },
  {
   "cell_type": "markdown",
   "id": "728986ea",
   "metadata": {
    "id": "728986ea"
   },
   "source": [
    "### Описание данных\n",
    "\n",
    "\n",
    "Данные `/datasets/rest_info.csv` содержат информацию о заведениях общественного питания:\n",
    "\n",
    "- `name` — название заведения;\n",
    "- `address` — адрес заведения;\n",
    "- `district` — административный район, в котором находится заведение, например Центральный административный округ;\n",
    "- `category` — категория заведения, например «кафе», «пиццерия» или «кофейня»;\n",
    "- `hours` — информация о днях и часах работы;\n",
    "- `rating` — рейтинг заведения по оценкам пользователей в Яндекс Картах (высшая оценка — 5.0);\n",
    "- `chain` — число, выраженное 0 или 1, которое показывает, является ли заведение сетевым (для маленьких сетей могут встречаться ошибки):\n",
    "- 0 — заведение не является сетевым;\n",
    "- 1 — заведение является сетевым.\n",
    "`seats` — количество посадочных мест.\n",
    "\n",
    "Данные `/datasets/rest_price.csv` содержат информацию о среднем чеке в заведениях общественного питания:\n",
    "\n",
    "- `price` — категория цен в заведении, например «средние», «ниже среднего», «выше среднего» и так далее;\n",
    "- `avg_bill` — строка, которая хранит среднюю стоимость заказа в виде диапазона, например:\n",
    "- «Средний счёт: 1000–1500 ₽»;\n",
    "- «Цена чашки капучино: 130–220 ₽»;\n",
    "- «Цена бокала пива: 400–600 ₽». и так далее;\n",
    "- `middle_avg_bill` — число с оценкой среднего чека, которое указано только для значений из столбца avg_bill, начинающихся с подстроки «Средний счёт»:\n",
    "- Если в строке указан ценовой диапазон из двух значений, в столбец войдёт медиана этих двух значений.\n",
    "- Если в строке указано одно число — цена без диапазона, то в столбец войдёт это число.\n",
    "- Если значения нет или оно не начинается с подстроки «Средний счёт», то в столбец ничего не войдёт.\n",
    "- `middle_coffee_cup` — число с оценкой одной чашки капучино, которое указано только для значений из столбца avg_bill, начинающихся с подстроки «Цена одной чашки капучино»:\n",
    "- Если в строке указан ценовой диапазон из двух значений, в столбец войдёт медиана этих двух значений.\n",
    "- Если в строке указано одно число — цена без диапазона, то в столбец войдёт это число.\n",
    "- Если значения нет или оно не начинается с подстроки «Цена одной чашки капучино», то в столбец ничего не войдёт.price — категория цен в заведении, например «средние», «ниже среднего», «выше среднего» и так далее;"
   ]
  },
  {
   "cell_type": "markdown",
   "id": "4fecaf95",
   "metadata": {
    "id": "4fecaf95"
   },
   "source": [
    "### Содержимое проекта\n",
    "\n",
    "\n",
    "---\n",
    "\n",
    "- Загрузка данных из датасетов `/datasets/rest_info.csv` и `/datasets/rest_price.csv` и знакомство с ними.\n",
    "- Предобработка данных.\n",
    "- Исследовательский анализ данных.\n",
    "- Итоговые выводы"
   ]
  },
  {
   "cell_type": "markdown",
   "id": "6f7d21d6",
   "metadata": {
    "id": "6f7d21d6"
   },
   "source": [
    "## 1. Загрузка данных и знакомство с ними"
   ]
  },
  {
   "cell_type": "code",
   "execution_count": 1,
   "id": "f68a7419",
   "metadata": {
    "id": "f68a7419"
   },
   "outputs": [
    {
     "name": "stdout",
     "output_type": "stream",
     "text": [
      "Collecting phik\n",
      "  Downloading phik-0.12.4-cp39-cp39-manylinux_2_17_x86_64.manylinux2014_x86_64.whl (686 kB)\n",
      "\u001b[K     |████████████████████████████████| 686 kB 1.3 MB/s eta 0:00:01\n",
      "\u001b[?25hRequirement already satisfied: matplotlib>=2.2.3 in /opt/conda/lib/python3.9/site-packages (from phik) (3.3.4)\n",
      "Requirement already satisfied: pandas>=0.25.1 in /opt/conda/lib/python3.9/site-packages (from phik) (1.2.4)\n",
      "Requirement already satisfied: joblib>=0.14.1 in /opt/conda/lib/python3.9/site-packages (from phik) (1.1.0)\n",
      "Requirement already satisfied: scipy>=1.5.2 in /opt/conda/lib/python3.9/site-packages (from phik) (1.9.1)\n",
      "Requirement already satisfied: numpy>=1.18.0 in /opt/conda/lib/python3.9/site-packages (from phik) (1.21.1)\n",
      "Requirement already satisfied: kiwisolver>=1.0.1 in /opt/conda/lib/python3.9/site-packages (from matplotlib>=2.2.3->phik) (1.4.4)\n",
      "Requirement already satisfied: python-dateutil>=2.1 in /opt/conda/lib/python3.9/site-packages (from matplotlib>=2.2.3->phik) (2.8.1)\n",
      "Requirement already satisfied: pillow>=6.2.0 in /opt/conda/lib/python3.9/site-packages (from matplotlib>=2.2.3->phik) (8.4.0)\n",
      "Requirement already satisfied: cycler>=0.10 in /opt/conda/lib/python3.9/site-packages (from matplotlib>=2.2.3->phik) (0.11.0)\n",
      "Requirement already satisfied: pyparsing!=2.0.4,!=2.1.2,!=2.1.6,>=2.0.3 in /opt/conda/lib/python3.9/site-packages (from matplotlib>=2.2.3->phik) (2.4.7)\n",
      "Requirement already satisfied: pytz>=2017.3 in /opt/conda/lib/python3.9/site-packages (from pandas>=0.25.1->phik) (2021.1)\n",
      "Requirement already satisfied: six>=1.5 in /opt/conda/lib/python3.9/site-packages (from python-dateutil>=2.1->matplotlib>=2.2.3->phik) (1.16.0)\n",
      "Installing collected packages: phik\n",
      "Successfully installed phik-0.12.4\n"
     ]
    }
   ],
   "source": [
    "import pandas as pd\n",
    "import matplotlib.pyplot as plt\n",
    "import seaborn as sns\n",
    "!pip install phik\n",
    "from phik import phik_matrix"
   ]
  },
  {
   "cell_type": "code",
   "execution_count": 2,
   "id": "dd415c80",
   "metadata": {
    "id": "dd415c80"
   },
   "outputs": [],
   "source": [
    "rest_info_df = pd.read_csv('datasets/rest_info.csv')\n",
    "rest_price_df = pd.read_csv('datasets/rest_price.csv')"
   ]
  },
  {
   "cell_type": "code",
   "execution_count": 3,
   "id": "3158ad37",
   "metadata": {
    "id": "3158ad37",
    "scrolled": true
   },
   "outputs": [
    {
     "data": {
      "text/html": [
       "<div>\n",
       "<style scoped>\n",
       "    .dataframe tbody tr th:only-of-type {\n",
       "        vertical-align: middle;\n",
       "    }\n",
       "\n",
       "    .dataframe tbody tr th {\n",
       "        vertical-align: top;\n",
       "    }\n",
       "\n",
       "    .dataframe thead th {\n",
       "        text-align: right;\n",
       "    }\n",
       "</style>\n",
       "<table border=\"1\" class=\"dataframe\">\n",
       "  <thead>\n",
       "    <tr style=\"text-align: right;\">\n",
       "      <th></th>\n",
       "      <th>id</th>\n",
       "      <th>name</th>\n",
       "      <th>category</th>\n",
       "      <th>address</th>\n",
       "      <th>district</th>\n",
       "      <th>hours</th>\n",
       "      <th>rating</th>\n",
       "      <th>chain</th>\n",
       "      <th>seats</th>\n",
       "    </tr>\n",
       "  </thead>\n",
       "  <tbody>\n",
       "    <tr>\n",
       "      <th>0</th>\n",
       "      <td>0c3e3439a8c64ea5bf6ecd6ca6ae19f0</td>\n",
       "      <td>WoWфли</td>\n",
       "      <td>кафе</td>\n",
       "      <td>Москва, улица Дыбенко, 7/1</td>\n",
       "      <td>Северный административный округ</td>\n",
       "      <td>ежедневно, 10:00–22:00</td>\n",
       "      <td>5.0</td>\n",
       "      <td>0</td>\n",
       "      <td>NaN</td>\n",
       "    </tr>\n",
       "    <tr>\n",
       "      <th>1</th>\n",
       "      <td>045780ada3474c57a2112e505d74b633</td>\n",
       "      <td>Четыре комнаты</td>\n",
       "      <td>ресторан</td>\n",
       "      <td>Москва, улица Дыбенко, 36, корп. 1</td>\n",
       "      <td>Северный административный округ</td>\n",
       "      <td>ежедневно, 10:00–22:00</td>\n",
       "      <td>4.5</td>\n",
       "      <td>0</td>\n",
       "      <td>4.0</td>\n",
       "    </tr>\n",
       "    <tr>\n",
       "      <th>2</th>\n",
       "      <td>1070b6b59144425896c65889347fcff6</td>\n",
       "      <td>Хазри</td>\n",
       "      <td>кафе</td>\n",
       "      <td>Москва, Клязьминская улица, 15</td>\n",
       "      <td>Северный административный округ</td>\n",
       "      <td>пн-чт 11:00–02:00; пт,сб 11:00–05:00; вс 11:00...</td>\n",
       "      <td>4.6</td>\n",
       "      <td>0</td>\n",
       "      <td>45.0</td>\n",
       "    </tr>\n",
       "    <tr>\n",
       "      <th>3</th>\n",
       "      <td>03ac7cd772104f65b58b349dc59f03ee</td>\n",
       "      <td>Dormouse Coffee Shop</td>\n",
       "      <td>кофейня</td>\n",
       "      <td>Москва, улица Маршала Федоренко, 12</td>\n",
       "      <td>Северный административный округ</td>\n",
       "      <td>ежедневно, 09:00–22:00</td>\n",
       "      <td>5.0</td>\n",
       "      <td>0</td>\n",
       "      <td>NaN</td>\n",
       "    </tr>\n",
       "    <tr>\n",
       "      <th>4</th>\n",
       "      <td>a163aada139c4c7f87b0b1c0b466a50f</td>\n",
       "      <td>Иль Марко</td>\n",
       "      <td>пиццерия</td>\n",
       "      <td>Москва, Правобережная улица, 1Б</td>\n",
       "      <td>Северный административный округ</td>\n",
       "      <td>ежедневно, 10:00–22:00</td>\n",
       "      <td>5.0</td>\n",
       "      <td>1</td>\n",
       "      <td>148.0</td>\n",
       "    </tr>\n",
       "  </tbody>\n",
       "</table>\n",
       "</div>"
      ],
      "text/plain": [
       "                                 id                  name  category  \\\n",
       "0  0c3e3439a8c64ea5bf6ecd6ca6ae19f0                WoWфли      кафе   \n",
       "1  045780ada3474c57a2112e505d74b633        Четыре комнаты  ресторан   \n",
       "2  1070b6b59144425896c65889347fcff6                 Хазри      кафе   \n",
       "3  03ac7cd772104f65b58b349dc59f03ee  Dormouse Coffee Shop   кофейня   \n",
       "4  a163aada139c4c7f87b0b1c0b466a50f             Иль Марко  пиццерия   \n",
       "\n",
       "                               address                         district  \\\n",
       "0           Москва, улица Дыбенко, 7/1  Северный административный округ   \n",
       "1   Москва, улица Дыбенко, 36, корп. 1  Северный административный округ   \n",
       "2       Москва, Клязьминская улица, 15  Северный административный округ   \n",
       "3  Москва, улица Маршала Федоренко, 12  Северный административный округ   \n",
       "4      Москва, Правобережная улица, 1Б  Северный административный округ   \n",
       "\n",
       "                                               hours  rating  chain  seats  \n",
       "0                             ежедневно, 10:00–22:00     5.0      0    NaN  \n",
       "1                             ежедневно, 10:00–22:00     4.5      0    4.0  \n",
       "2  пн-чт 11:00–02:00; пт,сб 11:00–05:00; вс 11:00...     4.6      0   45.0  \n",
       "3                             ежедневно, 09:00–22:00     5.0      0    NaN  \n",
       "4                             ежедневно, 10:00–22:00     5.0      1  148.0  "
      ]
     },
     "execution_count": 3,
     "metadata": {},
     "output_type": "execute_result"
    }
   ],
   "source": [
    "rest_info_df.head()"
   ]
  },
  {
   "cell_type": "code",
   "execution_count": 4,
   "id": "930389f3",
   "metadata": {},
   "outputs": [
    {
     "name": "stdout",
     "output_type": "stream",
     "text": [
      "<class 'pandas.core.frame.DataFrame'>\n",
      "RangeIndex: 8406 entries, 0 to 8405\n",
      "Data columns (total 9 columns):\n",
      " #   Column    Non-Null Count  Dtype  \n",
      "---  ------    --------------  -----  \n",
      " 0   id        8406 non-null   object \n",
      " 1   name      8406 non-null   object \n",
      " 2   category  8406 non-null   object \n",
      " 3   address   8406 non-null   object \n",
      " 4   district  8406 non-null   object \n",
      " 5   hours     7870 non-null   object \n",
      " 6   rating    8406 non-null   float64\n",
      " 7   chain     8406 non-null   int64  \n",
      " 8   seats     4795 non-null   float64\n",
      "dtypes: float64(2), int64(1), object(6)\n",
      "memory usage: 591.2+ KB\n"
     ]
    }
   ],
   "source": [
    "rest_info_df.info()"
   ]
  },
  {
   "cell_type": "code",
   "execution_count": 5,
   "id": "e9fba0b3",
   "metadata": {
    "scrolled": true
   },
   "outputs": [
    {
     "data": {
      "text/html": [
       "<div>\n",
       "<style scoped>\n",
       "    .dataframe tbody tr th:only-of-type {\n",
       "        vertical-align: middle;\n",
       "    }\n",
       "\n",
       "    .dataframe tbody tr th {\n",
       "        vertical-align: top;\n",
       "    }\n",
       "\n",
       "    .dataframe thead th {\n",
       "        text-align: right;\n",
       "    }\n",
       "</style>\n",
       "<table border=\"1\" class=\"dataframe\">\n",
       "  <thead>\n",
       "    <tr style=\"text-align: right;\">\n",
       "      <th></th>\n",
       "      <th>id</th>\n",
       "      <th>price</th>\n",
       "      <th>avg_bill</th>\n",
       "      <th>middle_avg_bill</th>\n",
       "      <th>middle_coffee_cup</th>\n",
       "    </tr>\n",
       "  </thead>\n",
       "  <tbody>\n",
       "    <tr>\n",
       "      <th>0</th>\n",
       "      <td>045780ada3474c57a2112e505d74b633</td>\n",
       "      <td>выше среднего</td>\n",
       "      <td>Средний счёт:1500–1600 ₽</td>\n",
       "      <td>1550.0</td>\n",
       "      <td>NaN</td>\n",
       "    </tr>\n",
       "    <tr>\n",
       "      <th>1</th>\n",
       "      <td>1070b6b59144425896c65889347fcff6</td>\n",
       "      <td>средние</td>\n",
       "      <td>Средний счёт:от 1000 ₽</td>\n",
       "      <td>1000.0</td>\n",
       "      <td>NaN</td>\n",
       "    </tr>\n",
       "    <tr>\n",
       "      <th>2</th>\n",
       "      <td>03ac7cd772104f65b58b349dc59f03ee</td>\n",
       "      <td>NaN</td>\n",
       "      <td>Цена чашки капучино:155–185 ₽</td>\n",
       "      <td>NaN</td>\n",
       "      <td>170.0</td>\n",
       "    </tr>\n",
       "    <tr>\n",
       "      <th>3</th>\n",
       "      <td>a163aada139c4c7f87b0b1c0b466a50f</td>\n",
       "      <td>средние</td>\n",
       "      <td>Средний счёт:400–600 ₽</td>\n",
       "      <td>500.0</td>\n",
       "      <td>NaN</td>\n",
       "    </tr>\n",
       "    <tr>\n",
       "      <th>4</th>\n",
       "      <td>8a343546b24e4a499ad96eb7d0797a8a</td>\n",
       "      <td>средние</td>\n",
       "      <td>NaN</td>\n",
       "      <td>NaN</td>\n",
       "      <td>NaN</td>\n",
       "    </tr>\n",
       "  </tbody>\n",
       "</table>\n",
       "</div>"
      ],
      "text/plain": [
       "                                 id          price  \\\n",
       "0  045780ada3474c57a2112e505d74b633  выше среднего   \n",
       "1  1070b6b59144425896c65889347fcff6        средние   \n",
       "2  03ac7cd772104f65b58b349dc59f03ee            NaN   \n",
       "3  a163aada139c4c7f87b0b1c0b466a50f        средние   \n",
       "4  8a343546b24e4a499ad96eb7d0797a8a        средние   \n",
       "\n",
       "                        avg_bill  middle_avg_bill  middle_coffee_cup  \n",
       "0       Средний счёт:1500–1600 ₽           1550.0                NaN  \n",
       "1         Средний счёт:от 1000 ₽           1000.0                NaN  \n",
       "2  Цена чашки капучино:155–185 ₽              NaN              170.0  \n",
       "3         Средний счёт:400–600 ₽            500.0                NaN  \n",
       "4                            NaN              NaN                NaN  "
      ]
     },
     "execution_count": 5,
     "metadata": {},
     "output_type": "execute_result"
    }
   ],
   "source": [
    "rest_price_df.head()"
   ]
  },
  {
   "cell_type": "code",
   "execution_count": 6,
   "id": "c9456886",
   "metadata": {},
   "outputs": [
    {
     "name": "stdout",
     "output_type": "stream",
     "text": [
      "<class 'pandas.core.frame.DataFrame'>\n",
      "RangeIndex: 4058 entries, 0 to 4057\n",
      "Data columns (total 5 columns):\n",
      " #   Column             Non-Null Count  Dtype  \n",
      "---  ------             --------------  -----  \n",
      " 0   id                 4058 non-null   object \n",
      " 1   price              3315 non-null   object \n",
      " 2   avg_bill           3816 non-null   object \n",
      " 3   middle_avg_bill    3149 non-null   float64\n",
      " 4   middle_coffee_cup  535 non-null    float64\n",
      "dtypes: float64(2), object(3)\n",
      "memory usage: 158.6+ KB\n"
     ]
    }
   ],
   "source": [
    "rest_price_df.info()"
   ]
  },
  {
   "cell_type": "markdown",
   "id": "2c614a62",
   "metadata": {
    "id": "2c614a62"
   },
   "source": [
    "---\n",
    "\n",
    "### Промежуточный вывод"
   ]
  },
  {
   "cell_type": "markdown",
   "id": "4e5dc2c6",
   "metadata": {
    "id": "3593b7d5"
   },
   "source": [
    "Датасет `/datasets/rest_info.csv` содержит 9 столбцов и 8406 строк, в которых представлена информация о заведениях общественного питания.\n",
    "После первичного анализа можно сделать следующие выводы:\n",
    "- Значения в столбцах `name`, `category`, `address`, `district` и `hours` хранятся в типе данных `object` и представляют из себя текстовые данные или текстовые данные с числами — поле `hours`. Значения в столбцах `rating`, `chain` и `seats`, хранятся в типах данных `int64` и `float64` и представляют из себя целые числа или числа с плавающей точкой. Поле `chain` показывает является ли заведение сетевым и содержит значения 1 и 0 — размерность этих данных можно оптимизировать.\n",
    "- Пропуски содержатся в столбцах `hours` и `seats`.\n",
    "- Судя по первому знакомству с данными, значения в столбцах соответствуют своему описанию."
   ]
  },
  {
   "cell_type": "markdown",
   "id": "ac3f7875",
   "metadata": {
    "id": "c2cc7f38"
   },
   "source": [
    "Датасет `/datasets/rest_price.csv` содержит 5 столбцов и 4058 строк, в которых представлена информация о среднем чеке в заведениях общественного питания.\n",
    "После первичного анализа можно сделать следующие выводы:\n",
    "- Значения в столбцах `price`, `avg_bill` хранятся в типе данных `object` и представляют из себя текстовые данные или текстовые данные с числами — поле `avg_bill`. Значения в столбцах `middle_avg_bill`, `middle_coffee_cup`, хранятся в типе данных `float64` и представляют из себя числа с плавающей точкой.\n",
    "- Пропуски содержатся в столбцах `price` и `avg_bill`, `middle_avg_bill` и `middle_coffee_cup`.\n",
    "- Значения в столбцах соответствуют своему описанию."
   ]
  },
  {
   "cell_type": "markdown",
   "id": "9ed24b1d",
   "metadata": {
    "id": "84e2bdab"
   },
   "source": [
    "Первичное знакомство показывает, что данные соответствуют описанию, используют верные типы данных и выглядят корректными."
   ]
  },
  {
   "cell_type": "markdown",
   "id": "8a8d1491",
   "metadata": {
    "id": "8a8d1491"
   },
   "source": [
    "### Подготовка единого датафрейма"
   ]
  },
  {
   "cell_type": "code",
   "execution_count": 7,
   "id": "3408e303",
   "metadata": {
    "id": "3408e303"
   },
   "outputs": [],
   "source": [
    "rest_df = rest_info_df.merge(rest_price_df, how='left', on='id')"
   ]
  },
  {
   "cell_type": "code",
   "execution_count": 8,
   "id": "5695950b",
   "metadata": {
    "id": "5695950b"
   },
   "outputs": [
    {
     "name": "stdout",
     "output_type": "stream",
     "text": [
      "<class 'pandas.core.frame.DataFrame'>\n",
      "Int64Index: 8406 entries, 0 to 8405\n",
      "Data columns (total 13 columns):\n",
      " #   Column             Non-Null Count  Dtype  \n",
      "---  ------             --------------  -----  \n",
      " 0   id                 8406 non-null   object \n",
      " 1   name               8406 non-null   object \n",
      " 2   category           8406 non-null   object \n",
      " 3   address            8406 non-null   object \n",
      " 4   district           8406 non-null   object \n",
      " 5   hours              7870 non-null   object \n",
      " 6   rating             8406 non-null   float64\n",
      " 7   chain              8406 non-null   int64  \n",
      " 8   seats              4795 non-null   float64\n",
      " 9   price              3315 non-null   object \n",
      " 10  avg_bill           3816 non-null   object \n",
      " 11  middle_avg_bill    3149 non-null   float64\n",
      " 12  middle_coffee_cup  535 non-null    float64\n",
      "dtypes: float64(4), int64(1), object(8)\n",
      "memory usage: 919.4+ KB\n"
     ]
    }
   ],
   "source": [
    "rest_df.info()"
   ]
  },
  {
   "cell_type": "markdown",
   "id": "956e82e2",
   "metadata": {
    "id": "956e82e2"
   },
   "source": [
    "## 2. Предобработка данных"
   ]
  },
  {
   "cell_type": "code",
   "execution_count": 9,
   "id": "67956690",
   "metadata": {
    "id": "67956690"
   },
   "outputs": [],
   "source": [
    "rest_df['chain'] = pd.to_numeric(rest_df['chain'], downcast='integer')"
   ]
  },
  {
   "cell_type": "code",
   "execution_count": 10,
   "id": "b5f2a94d",
   "metadata": {
    "id": "b5f2a94d"
   },
   "outputs": [
    {
     "data": {
      "text/plain": [
       "id                    object\n",
       "name                  object\n",
       "category              object\n",
       "address               object\n",
       "district              object\n",
       "hours                 object\n",
       "rating               float64\n",
       "chain                   int8\n",
       "seats                float64\n",
       "price                 object\n",
       "avg_bill              object\n",
       "middle_avg_bill      float64\n",
       "middle_coffee_cup    float64\n",
       "dtype: object"
      ]
     },
     "execution_count": 10,
     "metadata": {},
     "output_type": "execute_result"
    }
   ],
   "source": [
    "rest_df.dtypes"
   ]
  },
  {
   "cell_type": "code",
   "execution_count": 11,
   "id": "3d8840ca",
   "metadata": {
    "id": "3d8840ca"
   },
   "outputs": [
    {
     "data": {
      "text/plain": [
       "id                      0\n",
       "name                    0\n",
       "category                0\n",
       "address                 0\n",
       "district                0\n",
       "hours                 536\n",
       "rating                  0\n",
       "chain                   0\n",
       "seats                3611\n",
       "price                5091\n",
       "avg_bill             4590\n",
       "middle_avg_bill      5257\n",
       "middle_coffee_cup    7871\n",
       "dtype: int64"
      ]
     },
     "execution_count": 11,
     "metadata": {},
     "output_type": "execute_result"
    }
   ],
   "source": [
    "rest_df.isna().sum()"
   ]
  },
  {
   "cell_type": "code",
   "execution_count": 12,
   "id": "2ea145ca",
   "metadata": {
    "id": "2ea145ca"
   },
   "outputs": [
    {
     "data": {
      "text/plain": [
       "id                   0.000000\n",
       "name                 0.000000\n",
       "category             0.000000\n",
       "address              0.000000\n",
       "district             0.000000\n",
       "hours                0.063764\n",
       "rating               0.000000\n",
       "chain                0.000000\n",
       "seats                0.429574\n",
       "price                0.605639\n",
       "avg_bill             0.546039\n",
       "middle_avg_bill      0.625387\n",
       "middle_coffee_cup    0.936355\n",
       "dtype: float64"
      ]
     },
     "execution_count": 12,
     "metadata": {},
     "output_type": "execute_result"
    }
   ],
   "source": [
    "rest_df.isna().mean()"
   ]
  },
  {
   "cell_type": "markdown",
   "id": "87826d2d",
   "metadata": {
    "id": "d9e7c358"
   },
   "source": [
    "В датафрейме `rest_df` обнаружено следующее количество пропусков:\n",
    "- В столбце `hours` - 536 пропусков — это 6% данных\n",
    "- В столбце `seats` - 3611 пропусков — это 43% данных\n",
    "- В столбце `price` - 5091 пропусков — это 61% данных\n",
    "- В столбце `avg_bill` - 4590 пропусков — это 55% данных\n",
    "- В столбце `middle_avg_bill` - 5257 пропусков — это 63% данных\n",
    "- В столбце `middle_coffee_cup` - 5257 пропусков — это 94% данных\n",
    "Количество пропусков достаточно большое, что бы их удалить.\n",
    "\n",
    "Пропуски в этих столбцах могут быть вызваны:\n",
    "- Отсутствием информации ввиду того, что заведение могло открыться недавно, и информации недостаточно что бы внести точную информацию в базу данных.\n",
    "- Заведение работает только на вынос и нет посадочных мест внутри помещения.\n",
    "- При обработке данных произошёл технический сбой.\n",
    "\n",
    "В данном исследовании лучше оставить пропуски как есть, удалить их нельзя из-за высокого процента пропусков. Замена значений тоже некорректна, так как это не поможет в исследовании и может негативно повлиять на результаты."
   ]
  },
  {
   "cell_type": "code",
   "execution_count": 13,
   "id": "0769b681",
   "metadata": {
    "id": "0769b681"
   },
   "outputs": [
    {
     "data": {
      "text/plain": [
       "0"
      ]
     },
     "execution_count": 13,
     "metadata": {},
     "output_type": "execute_result"
    }
   ],
   "source": [
    "rest_df.duplicated().sum()"
   ]
  },
  {
   "cell_type": "code",
   "execution_count": 14,
   "id": "f245945e",
   "metadata": {},
   "outputs": [
    {
     "data": {
      "text/plain": [
       "0                     wowфли\n",
       "1             четыре комнаты\n",
       "2                      хазри\n",
       "3       dormouse coffee shop\n",
       "4                  иль марко\n",
       "                ...         \n",
       "8401              суши мания\n",
       "8402               миславнес\n",
       "8403                 самовар\n",
       "8404            чайхана sabr\n",
       "8405              kebab time\n",
       "Name: name, Length: 8406, dtype: object"
      ]
     },
     "execution_count": 14,
     "metadata": {},
     "output_type": "execute_result"
    }
   ],
   "source": [
    "rest_df['name'].str.lower()"
   ]
  },
  {
   "cell_type": "code",
   "execution_count": 15,
   "id": "26f0921f",
   "metadata": {},
   "outputs": [
    {
     "data": {
      "text/plain": [
       "0"
      ]
     },
     "execution_count": 15,
     "metadata": {},
     "output_type": "execute_result"
    }
   ],
   "source": [
    "rest_df.duplicated(subset=['name', 'address']).sum()"
   ]
  },
  {
   "cell_type": "code",
   "execution_count": 16,
   "id": "42d1e685",
   "metadata": {
    "id": "42d1e685"
   },
   "outputs": [],
   "source": [
    "def create_is_na(x):\n",
    "    if x == 'ежедневно, круглосуточно':\n",
    "        return True\n",
    "    return False\n",
    "rest_df['is_24_7'] = rest_df['hours'].apply(create_is_na)"
   ]
  },
  {
   "cell_type": "markdown",
   "id": "562f30ab",
   "metadata": {
    "id": "562f30ab"
   },
   "source": [
    "---\n",
    "\n",
    "### Промежуточный вывод"
   ]
  },
  {
   "cell_type": "markdown",
   "id": "40f08837",
   "metadata": {
    "id": "4e587ce1"
   },
   "source": [
    "В результате предобработки данных были выполнены следующие действия:\n",
    "- Проведена оптимизация столбца `chain` с понижением размерности\n",
    "- Изучены пропуски в данных. Пропуски обнаружились в столбцах: `hours`, `seats`, `price`, `avg_bill`, `middle_avg_bill` и `middle_coffee_cup`. Процент пропусков в данных столбцах варьируется от 6% до 94%. Учитывая это количество, пропуски могли появится от нескольких факторов, например недавним открытием ресторанов и данных слишком мало, что бы они могли попасть в базу данных. Удалить или заменить их нельзя, так как это может негативно сказаться на результатах исследования, поэтому оставил их как есть.\n",
    "- Данные были проверены на явные дубликаты и неявные дубликаты, они отсутсвуют в данных."
   ]
  },
  {
   "cell_type": "markdown",
   "id": "6953e84c",
   "metadata": {
    "id": "6953e84c"
   },
   "source": [
    "## 3. Исследовательский анализ данных"
   ]
  },
  {
   "cell_type": "markdown",
   "id": "8555d840",
   "metadata": {
    "id": "8555d840"
   },
   "source": [
    "---\n",
    "\n",
    "### Задача 1\n",
    "\n",
    "Какие категории заведений представлены в данных? Исследовать количество объектов общественного питания по каждой категории."
   ]
  },
  {
   "cell_type": "code",
   "execution_count": 17,
   "id": "ef2bffe9",
   "metadata": {
    "id": "ef2bffe9"
   },
   "outputs": [
    {
     "data": {
      "text/plain": [
       "кафе               2378\n",
       "ресторан           2043\n",
       "кофейня            1413\n",
       "бар,паб             765\n",
       "пиццерия            633\n",
       "быстрое питание     603\n",
       "столовая            315\n",
       "булочная            256\n",
       "Name: category, dtype: int64"
      ]
     },
     "execution_count": 17,
     "metadata": {},
     "output_type": "execute_result"
    }
   ],
   "source": [
    "rest_df['category'].value_counts()"
   ]
  },
  {
   "cell_type": "code",
   "execution_count": 18,
   "id": "71ab5e91",
   "metadata": {
    "id": "71ab5e91"
   },
   "outputs": [
    {
     "data": {
      "image/png": "[encoded data removed]",
      "text/plain": [
       "<Figure size 720x432 with 1 Axes>"
      ]
     },
     "metadata": {
      "needs_background": "light"
     },
     "output_type": "display_data"
    }
   ],
   "source": [
    "rest_df['category'].sort_values(ascending=False).value_counts().plot(kind='bar',\n",
    "                         title='Количество заведений по категориям',\n",
    "                         legend=False,\n",
    "                         xlabel='Категория заведения',\n",
    "                         ylabel='Количество заведений',\n",
    "                         rot=45,\n",
    "                         figsize=(10, 6))\n",
    "plt.show()"
   ]
  },
  {
   "cell_type": "markdown",
   "id": "12c1c59d",
   "metadata": {
    "id": "63360b97"
   },
   "source": [
    "Всего представлено 8 категорий заведений. Самое большое количество заведений соответстуют категориям: кафе - 2378 заведений, рестораны - 2043 заведений и кофейни - 1413 заведений. Скорее всего данный тип заведений пользуется большим спросом среди клиентов. Самое малое количество заведений соответстуют категориям: быстрое питание - 603 заведений, столовые - 315 заведений и булочные - 256 заведений. "
   ]
  },
  {
   "cell_type": "markdown",
   "id": "6821e1d0",
   "metadata": {
    "id": "6821e1d0"
   },
   "source": [
    "---\n",
    "\n",
    "### Задача 2\n",
    "\n",
    "Какие административные районы Москвы присутствуют в данных? Исследовать распределение количества заведений по административным районам Москвы, а также отдельно распределение заведений каждой категории в Центральном административном округе Москвы."
   ]
  },
  {
   "cell_type": "code",
   "execution_count": 19,
   "id": "e62f31be",
   "metadata": {
    "id": "e62f31be"
   },
   "outputs": [
    {
     "data": {
      "text/plain": [
       "Центральный административный округ         2242\n",
       "Северный административный округ             900\n",
       "Южный административный округ                892\n",
       "Северо-Восточный административный округ     891\n",
       "Западный административный округ             851\n",
       "Восточный административный округ            798\n",
       "Юго-Восточный административный округ        714\n",
       "Юго-Западный административный округ         709\n",
       "Северо-Западный административный округ      409\n",
       "Name: district, dtype: int64"
      ]
     },
     "execution_count": 19,
     "metadata": {},
     "output_type": "execute_result"
    }
   ],
   "source": [
    "rest_df['district'].value_counts()"
   ]
  },
  {
   "cell_type": "code",
   "execution_count": 20,
   "id": "0a290cd1",
   "metadata": {
    "id": "0a290cd1"
   },
   "outputs": [
    {
     "data": {
      "image/png": "[encoded data removed]",
      "text/plain": [
       "<Figure size 720x432 with 1 Axes>"
      ]
     },
     "metadata": {
      "needs_background": "light"
     },
     "output_type": "display_data"
    }
   ],
   "source": [
    "plt.figure(figsize=(10, 6))\n",
    "rest_df['district'].sort_values(ascending=False).value_counts().plot(kind='barh')\n",
    "plt.xlabel('Количество заведений')\n",
    "plt.ylabel('Административный район')\n",
    "plt.title('Количество заведений по административным районам Москвы')\n",
    "plt.show()"
   ]
  },
  {
   "cell_type": "code",
   "execution_count": 21,
   "id": "41f1654a",
   "metadata": {
    "id": "41f1654a"
   },
   "outputs": [
    {
     "data": {
      "image/png": "[encoded data removed]",
      "text/plain": [
       "<Figure size 720x432 with 1 Axes>"
      ]
     },
     "metadata": {
      "needs_background": "light"
     },
     "output_type": "display_data"
    }
   ],
   "source": [
    "cao_df = rest_df[rest_df['district'] == 'Центральный административный округ']\n",
    "category_counts_cao = cao_df['category'].sort_values(ascending=False).value_counts()\n",
    "category_counts_cao.plot(kind='bar',\n",
    "                    title='Количество заведений по категориям в Центральном административном округе',\n",
    "                         legend=False,\n",
    "                         xlabel='Категория заведения',\n",
    "                         ylabel='Количество заведений',\n",
    "                         rot=45,\n",
    "                         figsize=(10, 6))\n",
    "plt.show()"
   ]
  },
  {
   "cell_type": "markdown",
   "id": "c06563e3",
   "metadata": {},
   "source": [
    "Самое большое количество заведений находится в Центральном административном округе - больше 2000, самое маленькое в Северо-Западном административном округе. В этом есть логика, так как Центральный Административный Округ находится в центре Москвы, где большая проходимость. Преобладающим типом в ЦАО составляют рестораны, кафе и кофейни, меньше всего сетей быстрого питания, столовых и булочных."
   ]
  },
  {
   "cell_type": "markdown",
   "id": "7c824f58",
   "metadata": {
    "id": "7c824f58"
   },
   "source": [
    "---\n",
    "\n",
    "### Задача 3\n",
    "\n",
    "Изучить соотношение сетевых и несетевых заведений в целом по всем данным и в разрезе категорий заведения. Выяснить каких заведений больше — сетевых или несетевых?"
   ]
  },
  {
   "cell_type": "code",
   "execution_count": 22,
   "id": "ef442d1a",
   "metadata": {
    "id": "ef442d1a"
   },
   "outputs": [
    {
     "data": {
      "text/plain": [
       "0    5201\n",
       "1    3205\n",
       "Name: chain, dtype: int64"
      ]
     },
     "execution_count": 22,
     "metadata": {},
     "output_type": "execute_result"
    }
   ],
   "source": [
    "rest_df['chain'].value_counts()"
   ]
  },
  {
   "cell_type": "code",
   "execution_count": 23,
   "id": "0de29fa2",
   "metadata": {
    "id": "0de29fa2"
   },
   "outputs": [
    {
     "data": {
      "image/png": "[encoded data removed]",
      "text/plain": [
       "<Figure size 576x576 with 1 Axes>"
      ]
     },
     "metadata": {},
     "output_type": "display_data"
    }
   ],
   "source": [
    "plt.figure(figsize=(8, 8))\n",
    "plt.pie(rest_df['chain'].value_counts(), labels=['Несетевые', 'Сетевые'], autopct='%1.1f%%', startangle=90)\n",
    "plt.title('Распределение сетевых и несетевых заведений')\n",
    "plt.show()"
   ]
  },
  {
   "cell_type": "code",
   "execution_count": 24,
   "id": "a139bd72",
   "metadata": {
    "id": "a139bd72",
    "scrolled": true
   },
   "outputs": [
    {
     "data": {
      "text/html": [
       "<div>\n",
       "<style scoped>\n",
       "    .dataframe tbody tr th:only-of-type {\n",
       "        vertical-align: middle;\n",
       "    }\n",
       "\n",
       "    .dataframe tbody tr th {\n",
       "        vertical-align: top;\n",
       "    }\n",
       "\n",
       "    .dataframe thead th {\n",
       "        text-align: right;\n",
       "    }\n",
       "</style>\n",
       "<table border=\"1\" class=\"dataframe\">\n",
       "  <thead>\n",
       "    <tr style=\"text-align: right;\">\n",
       "      <th>chain</th>\n",
       "      <th>0</th>\n",
       "      <th>1</th>\n",
       "    </tr>\n",
       "    <tr>\n",
       "      <th>category</th>\n",
       "      <th></th>\n",
       "      <th></th>\n",
       "    </tr>\n",
       "  </thead>\n",
       "  <tbody>\n",
       "    <tr>\n",
       "      <th>бар,паб</th>\n",
       "      <td>596</td>\n",
       "      <td>169</td>\n",
       "    </tr>\n",
       "    <tr>\n",
       "      <th>булочная</th>\n",
       "      <td>99</td>\n",
       "      <td>157</td>\n",
       "    </tr>\n",
       "    <tr>\n",
       "      <th>быстрое питание</th>\n",
       "      <td>371</td>\n",
       "      <td>232</td>\n",
       "    </tr>\n",
       "    <tr>\n",
       "      <th>кафе</th>\n",
       "      <td>1599</td>\n",
       "      <td>779</td>\n",
       "    </tr>\n",
       "    <tr>\n",
       "      <th>кофейня</th>\n",
       "      <td>693</td>\n",
       "      <td>720</td>\n",
       "    </tr>\n",
       "    <tr>\n",
       "      <th>пиццерия</th>\n",
       "      <td>303</td>\n",
       "      <td>330</td>\n",
       "    </tr>\n",
       "    <tr>\n",
       "      <th>ресторан</th>\n",
       "      <td>1313</td>\n",
       "      <td>730</td>\n",
       "    </tr>\n",
       "    <tr>\n",
       "      <th>столовая</th>\n",
       "      <td>227</td>\n",
       "      <td>88</td>\n",
       "    </tr>\n",
       "  </tbody>\n",
       "</table>\n",
       "</div>"
      ],
      "text/plain": [
       "chain               0    1\n",
       "category                  \n",
       "бар,паб           596  169\n",
       "булочная           99  157\n",
       "быстрое питание   371  232\n",
       "кафе             1599  779\n",
       "кофейня           693  720\n",
       "пиццерия          303  330\n",
       "ресторан         1313  730\n",
       "столовая          227   88"
      ]
     },
     "execution_count": 24,
     "metadata": {},
     "output_type": "execute_result"
    }
   ],
   "source": [
    "rest_df.groupby('category')['chain'].value_counts().unstack(fill_value=0)"
   ]
  },
  {
   "cell_type": "code",
   "execution_count": 25,
   "id": "780391e8",
   "metadata": {},
   "outputs": [
    {
     "data": {
      "text/plain": [
       "category\n",
       "бар,паб            0.22\n",
       "булочная           0.61\n",
       "быстрое питание    0.38\n",
       "кафе               0.33\n",
       "кофейня            0.51\n",
       "пиццерия           0.52\n",
       "ресторан           0.36\n",
       "столовая           0.28\n",
       "dtype: float64"
      ]
     },
     "execution_count": 25,
     "metadata": {},
     "output_type": "execute_result"
    }
   ],
   "source": [
    "df_unstack_rest = rest_df[rest_df['chain'] == 1].groupby('category').size() / rest_df.groupby('category').size()\n",
    "df_unstack_rest.round(2)"
   ]
  },
  {
   "cell_type": "code",
   "execution_count": 26,
   "id": "f03a73ba",
   "metadata": {},
   "outputs": [
    {
     "data": {
      "image/png": "[encoded data removed]",
      "text/plain": [
       "<Figure size 864x432 with 1 Axes>"
      ]
     },
     "metadata": {
      "needs_background": "light"
     },
     "output_type": "display_data"
    }
   ],
   "source": [
    "df_unstack_rest.sort_values(ascending=False).plot(kind='bar',\n",
    "                legend = True,\n",
    "                title = 'Соотношение сетевых и несетевых заведений по категориям',\n",
    "                xlabel = 'Категория заведения',\n",
    "                ylabel = 'Количество заведений',\n",
    "                rot=0,\n",
    "                figsize=(12, 6))\n",
    "plt.show()"
   ]
  },
  {
   "cell_type": "markdown",
   "id": "f0c36e39",
   "metadata": {},
   "source": [
    "- Больше несетевых заведений - 5201, что составляет 61,9% от общего количества, а сетевых заведений меньше - 3205, что составляет 38,1% от общего количества.\n",
    "- Чаще всего сетевыми являются: булочные - доля сетевых заведений внутри этой категории составляет 61%, пиццерии - доля сетевых заведений внутри этой категории составляет 52% и кофейни - доля сетевых заведений внутри этой категории составляет 51%. Реже: столовые - доля сетевых заведений внутри этой категории составляет 28% и бары,пабы - доля сетевых заведений внутри этой категории составляет 22%."
   ]
  },
  {
   "cell_type": "markdown",
   "id": "5913c3e3",
   "metadata": {
    "id": "5913c3e3"
   },
   "source": [
    "---\n",
    "\n",
    "### Задача 4\n",
    "\n",
    "Исследовать количество посадочных мест в заведениях. Выяснить встречаются ли в данных аномальные значения или выбросы?\n"
   ]
  },
  {
   "cell_type": "code",
   "execution_count": 27,
   "id": "ceadf25b",
   "metadata": {
    "id": "ceadf25b",
    "scrolled": false
   },
   "outputs": [
    {
     "data": {
      "image/png": "[encoded data removed]",
      "text/plain": [
       "<Figure size 864x720 with 1 Axes>"
      ]
     },
     "metadata": {
      "needs_background": "light"
     },
     "output_type": "display_data"
    }
   ],
   "source": [
    "plt.figure(figsize=(12, 10))\n",
    "rest_df.boxplot(column='seats',\n",
    "                vert=False)\n",
    "plt.title('Количество посадочных мест в заведениях')\n",
    "plt.show()"
   ]
  },
  {
   "cell_type": "markdown",
   "id": "ff1bce5d",
   "metadata": {},
   "source": [
    "Распределение данных выглядит нормальным, однако характеризуется широким разбросом и хвостом в правой части гистограммы. Такие высокие значения можно отнести к аномальным значениям. Близкие значения к основному распределению нормальны, так как помещения для посадки гостей могут быть большие и принимать более 300 гостей. Значения, которые которые начинаются от 500 могут быть связаны с ошибкой в данных (например ошиблись и поставили лишний 0), их небольшое количество."
   ]
  },
  {
   "cell_type": "code",
   "execution_count": 28,
   "id": "5371bb2f",
   "metadata": {},
   "outputs": [
    {
     "data": {
      "image/png": "[encoded data removed]",
      "text/plain": [
       "<Figure size 720x432 with 1 Axes>"
      ]
     },
     "metadata": {
      "needs_background": "light"
     },
     "output_type": "display_data"
    }
   ],
   "source": [
    "rest_df.groupby('category')['seats'].median().sort_values(ascending=False).plot(kind='bar',\n",
    "                         title='Типичное количество мест по категориям',\n",
    "                         legend=False,\n",
    "                         xlabel='Категория заведения',\n",
    "                         ylabel='Количество посадочных мест',\n",
    "                         rot=45,\n",
    "                         figsize=(10, 6))\n",
    "plt.show()"
   ]
  },
  {
   "cell_type": "markdown",
   "id": "369fbb3b",
   "metadata": {},
   "source": [
    "Среднее количество посадочных мест у разных категорий заведений начинается варьируется от 50 до 85 посадочных мест. Самое большое типичное количество мест у заведений из категорий рестораны, бары,пабы и кофейни."
   ]
  },
  {
   "cell_type": "markdown",
   "id": "8ed065ea",
   "metadata": {
    "id": "8ed065ea"
   },
   "source": [
    "---\n",
    "\n",
    "### Задача 5\n",
    "\n",
    "Исследовать рейтинг заведений."
   ]
  },
  {
   "cell_type": "code",
   "execution_count": 29,
   "id": "cc5206f8",
   "metadata": {
    "id": "cc5206f8"
   },
   "outputs": [
    {
     "data": {
      "image/png": "[encoded data removed]",
      "text/plain": [
       "<Figure size 720x432 with 1 Axes>"
      ]
     },
     "metadata": {
      "needs_background": "light"
     },
     "output_type": "display_data"
    }
   ],
   "source": [
    "rest_df.groupby('category')['rating'].mean().sort_values(ascending=False).plot(kind='bar',\n",
    "                                                  title='Средние рейтинги по категориям заведений',\n",
    "                                                  legend=False,\n",
    "                                                  xlabel='Категория заведения',\n",
    "                                                  ylabel='Средний рейтинг',\n",
    "                                                  rot=45,\n",
    "                                                  figsize=(10, 6))\n",
    "plt.show()\n",
    "                                                  "
   ]
  },
  {
   "cell_type": "markdown",
   "id": "f1f5b5f9",
   "metadata": {
    "id": "766c86cb"
   },
   "source": [
    "Усреднённый рейтинг для разных типов заведений особо не отличается и колеблется в районе 4."
   ]
  },
  {
   "cell_type": "markdown",
   "id": "dd9702d9",
   "metadata": {
    "id": "dd9702d9"
   },
   "source": [
    "---\n",
    "\n",
    "### Задача 6\n",
    "\n",
    "Изучить, с какими данными показывают самую сильную корреляцию рейтинги заведений?"
   ]
  },
  {
   "cell_type": "code",
   "execution_count": 30,
   "id": "8f0379af",
   "metadata": {
    "id": "8f0379af"
   },
   "outputs": [
    {
     "name": "stdout",
     "output_type": "stream",
     "text": [
      "interval columns not set, guessing: ['chain', 'seats', 'rating', 'middle_avg_bill']\n"
     ]
    },
    {
     "data": {
      "text/html": [
       "<div>\n",
       "<style scoped>\n",
       "    .dataframe tbody tr th:only-of-type {\n",
       "        vertical-align: middle;\n",
       "    }\n",
       "\n",
       "    .dataframe tbody tr th {\n",
       "        vertical-align: top;\n",
       "    }\n",
       "\n",
       "    .dataframe thead th {\n",
       "        text-align: right;\n",
       "    }\n",
       "</style>\n",
       "<table border=\"1\" class=\"dataframe\">\n",
       "  <thead>\n",
       "    <tr style=\"text-align: right;\">\n",
       "      <th></th>\n",
       "      <th>rating</th>\n",
       "    </tr>\n",
       "  </thead>\n",
       "  <tbody>\n",
       "    <tr>\n",
       "      <th>price</th>\n",
       "      <td>0.220295</td>\n",
       "    </tr>\n",
       "    <tr>\n",
       "      <th>middle_avg_bill</th>\n",
       "      <td>0.211868</td>\n",
       "    </tr>\n",
       "    <tr>\n",
       "      <th>district</th>\n",
       "      <td>0.200691</td>\n",
       "    </tr>\n",
       "    <tr>\n",
       "      <th>category</th>\n",
       "      <td>0.190003</td>\n",
       "    </tr>\n",
       "    <tr>\n",
       "      <th>is_24_7</th>\n",
       "      <td>0.150173</td>\n",
       "    </tr>\n",
       "    <tr>\n",
       "      <th>chain</th>\n",
       "      <td>0.108092</td>\n",
       "    </tr>\n",
       "    <tr>\n",
       "      <th>seats</th>\n",
       "      <td>0.000000</td>\n",
       "    </tr>\n",
       "  </tbody>\n",
       "</table>\n",
       "</div>"
      ],
      "text/plain": [
       "                   rating\n",
       "price            0.220295\n",
       "middle_avg_bill  0.211868\n",
       "district         0.200691\n",
       "category         0.190003\n",
       "is_24_7          0.150173\n",
       "chain            0.108092\n",
       "seats            0.000000"
      ]
     },
     "execution_count": 30,
     "metadata": {},
     "output_type": "execute_result"
    }
   ],
   "source": [
    "correlation_matrix = phik_matrix(rest_df[['category', 'district', 'chain', 'seats', 'price', 'is_24_7', 'rating', 'middle_avg_bill']])\n",
    "data_heatmap_rest = correlation_matrix.loc[correlation_matrix.index != 'rating'][['rating']].sort_values(by='rating', ascending=False)\n",
    "##Убрана строка с индексом 'rating', которая хранит коррелляцию rating с самим собой, что бы дале выбрать самую сильную связь\n",
    "data_heatmap_rest"
   ]
  },
  {
   "cell_type": "code",
   "execution_count": 31,
   "id": "1a65a84d",
   "metadata": {
    "id": "1a65a84d"
   },
   "outputs": [
    {
     "data": {
      "image/png": "[encoded data removed]",
      "text/plain": [
       "<Figure size 216x288 with 1 Axes>"
      ]
     },
     "metadata": {
      "needs_background": "light"
     },
     "output_type": "display_data"
    }
   ],
   "source": [
    "plt.figure(figsize=(3, 4))\n",
    "sns.heatmap(data_heatmap_rest,\n",
    "            annot=True,\n",
    "            fmt='.2f',\n",
    "            cmap='coolwarm',\n",
    "            linewidths=0.5,\n",
    "            cbar=False)\n",
    "plt.title('Корреляция рейтинга с другими переменнами')\n",
    "plt.show()"
   ]
  },
  {
   "cell_type": "code",
   "execution_count": 32,
   "id": "d823a06b",
   "metadata": {
    "scrolled": true
   },
   "outputs": [
    {
     "data": {
      "text/plain": [
       "rating    0.220295\n",
       "dtype: float64"
      ]
     },
     "execution_count": 32,
     "metadata": {},
     "output_type": "execute_result"
    }
   ],
   "source": [
    "data_heatmap_rest.max()"
   ]
  },
  {
   "cell_type": "markdown",
   "id": "d3ac422c",
   "metadata": {},
   "source": [
    "Наибольшая корреляция рейтинга наблюдается с категорией цен в заведении - 0.22, c числом с оценкой среднего чека - 0.21, административном районе, в котором находится заведение - 0.20. Для остальных признаков коэффициент коррекляциии снижается с 0.15 до 0."
   ]
  },
  {
   "cell_type": "markdown",
   "id": "370de703",
   "metadata": {
    "id": "370de703"
   },
   "source": [
    "---\n",
    "\n",
    "### Задача 7\n",
    "\n",
    "Сгруппировать данные по названиям заведений и найти топ-15 популярных сетей в Москве. Выяснить к какой категории заведений они относятся?"
   ]
  },
  {
   "cell_type": "code",
   "execution_count": 33,
   "id": "5d828a9a",
   "metadata": {
    "id": "5d828a9a",
    "scrolled": false
   },
   "outputs": [
    {
     "data": {
      "text/html": [
       "<div>\n",
       "<style scoped>\n",
       "    .dataframe tbody tr th:only-of-type {\n",
       "        vertical-align: middle;\n",
       "    }\n",
       "\n",
       "    .dataframe tbody tr th {\n",
       "        vertical-align: top;\n",
       "    }\n",
       "\n",
       "    .dataframe thead th {\n",
       "        text-align: right;\n",
       "    }\n",
       "</style>\n",
       "<table border=\"1\" class=\"dataframe\">\n",
       "  <thead>\n",
       "    <tr style=\"text-align: right;\">\n",
       "      <th></th>\n",
       "      <th>name</th>\n",
       "      <th>category</th>\n",
       "      <th>count</th>\n",
       "    </tr>\n",
       "  </thead>\n",
       "  <tbody>\n",
       "    <tr>\n",
       "      <th>1142</th>\n",
       "      <td>Шоколадница</td>\n",
       "      <td>кофейня</td>\n",
       "      <td>119</td>\n",
       "    </tr>\n",
       "    <tr>\n",
       "      <th>504</th>\n",
       "      <td>Домино'с Пицца</td>\n",
       "      <td>пиццерия</td>\n",
       "      <td>76</td>\n",
       "    </tr>\n",
       "    <tr>\n",
       "      <th>497</th>\n",
       "      <td>Додо Пицца</td>\n",
       "      <td>пиццерия</td>\n",
       "      <td>74</td>\n",
       "    </tr>\n",
       "    <tr>\n",
       "      <th>206</th>\n",
       "      <td>One Price Coffee</td>\n",
       "      <td>кофейня</td>\n",
       "      <td>71</td>\n",
       "    </tr>\n",
       "    <tr>\n",
       "      <th>1158</th>\n",
       "      <td>Яндекс Лавка</td>\n",
       "      <td>ресторан</td>\n",
       "      <td>69</td>\n",
       "    </tr>\n",
       "    <tr>\n",
       "      <th>73</th>\n",
       "      <td>Cofix</td>\n",
       "      <td>кофейня</td>\n",
       "      <td>65</td>\n",
       "    </tr>\n",
       "    <tr>\n",
       "      <th>242</th>\n",
       "      <td>Prime</td>\n",
       "      <td>ресторан</td>\n",
       "      <td>49</td>\n",
       "    </tr>\n",
       "    <tr>\n",
       "      <th>558</th>\n",
       "      <td>КОФЕПОРТ</td>\n",
       "      <td>кофейня</td>\n",
       "      <td>42</td>\n",
       "    </tr>\n",
       "    <tr>\n",
       "      <th>644</th>\n",
       "      <td>Кулинарная лавка братьев Караваевых</td>\n",
       "      <td>кафе</td>\n",
       "      <td>39</td>\n",
       "    </tr>\n",
       "    <tr>\n",
       "      <th>978</th>\n",
       "      <td>Теремок</td>\n",
       "      <td>ресторан</td>\n",
       "      <td>36</td>\n",
       "    </tr>\n",
       "    <tr>\n",
       "      <th>51</th>\n",
       "      <td>CofeFest</td>\n",
       "      <td>кофейня</td>\n",
       "      <td>31</td>\n",
       "    </tr>\n",
       "    <tr>\n",
       "      <th>1065</th>\n",
       "      <td>Чайхана</td>\n",
       "      <td>кафе</td>\n",
       "      <td>26</td>\n",
       "    </tr>\n",
       "    <tr>\n",
       "      <th>389</th>\n",
       "      <td>Буханка</td>\n",
       "      <td>булочная</td>\n",
       "      <td>25</td>\n",
       "    </tr>\n",
       "    <tr>\n",
       "      <th>90</th>\n",
       "      <td>Drive Café</td>\n",
       "      <td>кафе</td>\n",
       "      <td>24</td>\n",
       "    </tr>\n",
       "    <tr>\n",
       "      <th>629</th>\n",
       "      <td>Кофемания</td>\n",
       "      <td>кофейня</td>\n",
       "      <td>22</td>\n",
       "    </tr>\n",
       "  </tbody>\n",
       "</table>\n",
       "</div>"
      ],
      "text/plain": [
       "                                     name  category  count\n",
       "1142                          Шоколадница   кофейня    119\n",
       "504                        Домино'с Пицца  пиццерия     76\n",
       "497                            Додо Пицца  пиццерия     74\n",
       "206                      One Price Coffee   кофейня     71\n",
       "1158                         Яндекс Лавка  ресторан     69\n",
       "73                                  Cofix   кофейня     65\n",
       "242                                 Prime  ресторан     49\n",
       "558                              КОФЕПОРТ   кофейня     42\n",
       "644   Кулинарная лавка братьев Караваевых      кафе     39\n",
       "978                               Теремок  ресторан     36\n",
       "51                               CofeFest   кофейня     31\n",
       "1065                              Чайхана      кафе     26\n",
       "389                               Буханка  булочная     25\n",
       "90                             Drive Café      кафе     24\n",
       "629                             Кофемания   кофейня     22"
      ]
     },
     "execution_count": 33,
     "metadata": {},
     "output_type": "execute_result"
    }
   ],
   "source": [
    "chain_counts_rest = rest_df[rest_df['chain'] == 1].groupby(['name', 'category']).size().reset_index(name='count')\n",
    "top_15_chains_rest = chain_counts_rest.sort_values(by='count', ascending=False).head(15)\n",
    "top_15_chains_rest"
   ]
  },
  {
   "cell_type": "code",
   "execution_count": 34,
   "id": "3ca49107",
   "metadata": {},
   "outputs": [
    {
     "data": {
      "image/png": "[encoded data removed]",
      "text/plain": [
       "<Figure size 720x432 with 1 Axes>"
      ]
     },
     "metadata": {
      "needs_background": "light"
     },
     "output_type": "display_data"
    }
   ],
   "source": [
    "plt.figure(figsize=(10, 6))\n",
    "plt.barh(top_15_chains_rest['name'], top_15_chains_rest['count'].sort_values(ascending=False))\n",
    "plt.xlabel('Количество заведений')\n",
    "plt.ylabel('Сеть')\n",
    "plt.title('Топ-15 популярных сетей в Москве')\n",
    "plt.show()"
   ]
  },
  {
   "cell_type": "code",
   "execution_count": 35,
   "id": "f13dbc08",
   "metadata": {},
   "outputs": [
    {
     "data": {
      "text/html": [
       "<div>\n",
       "<style scoped>\n",
       "    .dataframe tbody tr th:only-of-type {\n",
       "        vertical-align: middle;\n",
       "    }\n",
       "\n",
       "    .dataframe tbody tr th {\n",
       "        vertical-align: top;\n",
       "    }\n",
       "\n",
       "    .dataframe thead th {\n",
       "        text-align: right;\n",
       "    }\n",
       "</style>\n",
       "<table border=\"1\" class=\"dataframe\">\n",
       "  <thead>\n",
       "    <tr style=\"text-align: right;\">\n",
       "      <th></th>\n",
       "      <th>name</th>\n",
       "      <th>category</th>\n",
       "      <th>count</th>\n",
       "      <th>average_rating</th>\n",
       "    </tr>\n",
       "  </thead>\n",
       "  <tbody>\n",
       "    <tr>\n",
       "      <th>0</th>\n",
       "      <td>Шоколадница</td>\n",
       "      <td>кофейня</td>\n",
       "      <td>119</td>\n",
       "      <td>4.177500</td>\n",
       "    </tr>\n",
       "    <tr>\n",
       "      <th>1</th>\n",
       "      <td>Домино'с Пицца</td>\n",
       "      <td>пиццерия</td>\n",
       "      <td>76</td>\n",
       "      <td>4.169737</td>\n",
       "    </tr>\n",
       "    <tr>\n",
       "      <th>2</th>\n",
       "      <td>Додо Пицца</td>\n",
       "      <td>пиццерия</td>\n",
       "      <td>74</td>\n",
       "      <td>4.286486</td>\n",
       "    </tr>\n",
       "    <tr>\n",
       "      <th>3</th>\n",
       "      <td>One Price Coffee</td>\n",
       "      <td>кофейня</td>\n",
       "      <td>71</td>\n",
       "      <td>4.064789</td>\n",
       "    </tr>\n",
       "    <tr>\n",
       "      <th>4</th>\n",
       "      <td>Яндекс Лавка</td>\n",
       "      <td>ресторан</td>\n",
       "      <td>69</td>\n",
       "      <td>3.872464</td>\n",
       "    </tr>\n",
       "    <tr>\n",
       "      <th>5</th>\n",
       "      <td>Cofix</td>\n",
       "      <td>кофейня</td>\n",
       "      <td>65</td>\n",
       "      <td>4.075385</td>\n",
       "    </tr>\n",
       "    <tr>\n",
       "      <th>6</th>\n",
       "      <td>Prime</td>\n",
       "      <td>ресторан</td>\n",
       "      <td>49</td>\n",
       "      <td>4.116000</td>\n",
       "    </tr>\n",
       "    <tr>\n",
       "      <th>7</th>\n",
       "      <td>КОФЕПОРТ</td>\n",
       "      <td>кофейня</td>\n",
       "      <td>42</td>\n",
       "      <td>4.147619</td>\n",
       "    </tr>\n",
       "    <tr>\n",
       "      <th>8</th>\n",
       "      <td>Кулинарная лавка братьев Караваевых</td>\n",
       "      <td>кафе</td>\n",
       "      <td>39</td>\n",
       "      <td>4.394872</td>\n",
       "    </tr>\n",
       "    <tr>\n",
       "      <th>9</th>\n",
       "      <td>Теремок</td>\n",
       "      <td>ресторан</td>\n",
       "      <td>36</td>\n",
       "      <td>4.123684</td>\n",
       "    </tr>\n",
       "    <tr>\n",
       "      <th>10</th>\n",
       "      <td>CofeFest</td>\n",
       "      <td>кофейня</td>\n",
       "      <td>31</td>\n",
       "      <td>3.984375</td>\n",
       "    </tr>\n",
       "    <tr>\n",
       "      <th>11</th>\n",
       "      <td>Чайхана</td>\n",
       "      <td>кафе</td>\n",
       "      <td>26</td>\n",
       "      <td>3.924324</td>\n",
       "    </tr>\n",
       "    <tr>\n",
       "      <th>12</th>\n",
       "      <td>Буханка</td>\n",
       "      <td>булочная</td>\n",
       "      <td>25</td>\n",
       "      <td>4.396875</td>\n",
       "    </tr>\n",
       "    <tr>\n",
       "      <th>13</th>\n",
       "      <td>Drive Café</td>\n",
       "      <td>кафе</td>\n",
       "      <td>24</td>\n",
       "      <td>4.025000</td>\n",
       "    </tr>\n",
       "    <tr>\n",
       "      <th>14</th>\n",
       "      <td>Кофемания</td>\n",
       "      <td>кофейня</td>\n",
       "      <td>22</td>\n",
       "      <td>4.460870</td>\n",
       "    </tr>\n",
       "  </tbody>\n",
       "</table>\n",
       "</div>"
      ],
      "text/plain": [
       "                                   name  category  count  average_rating\n",
       "0                           Шоколадница   кофейня    119        4.177500\n",
       "1                        Домино'с Пицца  пиццерия     76        4.169737\n",
       "2                            Додо Пицца  пиццерия     74        4.286486\n",
       "3                      One Price Coffee   кофейня     71        4.064789\n",
       "4                          Яндекс Лавка  ресторан     69        3.872464\n",
       "5                                 Cofix   кофейня     65        4.075385\n",
       "6                                 Prime  ресторан     49        4.116000\n",
       "7                              КОФЕПОРТ   кофейня     42        4.147619\n",
       "8   Кулинарная лавка братьев Караваевых      кафе     39        4.394872\n",
       "9                               Теремок  ресторан     36        4.123684\n",
       "10                             CofeFest   кофейня     31        3.984375\n",
       "11                              Чайхана      кафе     26        3.924324\n",
       "12                              Буханка  булочная     25        4.396875\n",
       "13                           Drive Café      кафе     24        4.025000\n",
       "14                            Кофемания   кофейня     22        4.460870"
      ]
     },
     "execution_count": 35,
     "metadata": {},
     "output_type": "execute_result"
    }
   ],
   "source": [
    "average_ratings = rest_df[rest_df['name'].isin(top_15_chains_rest['name'])].groupby('name')['rating'].mean().reset_index(name='average_rating')\n",
    "average_ratings_rest = pd.merge(top_15_chains_rest, average_ratings, on='name')\n",
    "average_ratings_rest"
   ]
  },
  {
   "cell_type": "code",
   "execution_count": 36,
   "id": "774348d5",
   "metadata": {
    "id": "774348d5"
   },
   "outputs": [
    {
     "data": {
      "image/png": "[encoded data removed]",
      "text/plain": [
       "<Figure size 720x432 with 1 Axes>"
      ]
     },
     "metadata": {
      "needs_background": "light"
     },
     "output_type": "display_data"
    }
   ],
   "source": [
    "plt.figure(figsize=(10, 6))\n",
    "plt.barh(average_ratings_rest['name'], average_ratings_rest['average_rating'].sort_values(ascending=False))\n",
    "plt.xlabel('Средний рейтинг')\n",
    "plt.ylabel('Сеть')\n",
    "plt.title('Средний рейтинг топ-15 популярных сетей в Москве')\n",
    "plt.show()"
   ]
  },
  {
   "cell_type": "markdown",
   "id": "923621ef",
   "metadata": {},
   "source": [
    "Самое большое количество заведений имеют следующие сети: Шоколадница - 119 заведений, Домино'с Пицца - 76 заведений и Додо Пицца - 74 заведений. Средний рейтинг у заведений из Топ-15 варьируется от 3.87 до 4.46. В топ попали следующие категории заведений: кофейня, пиццерия, ресторан, кафе, булочная.  Стоит обратить внимание, что в топ попал сервис Яндекс.Лавка, который занимается доставкой готовых блюд и продуктов. Категория у данного сервиса стоит ресторан, возможно стоит добавить в столбец ещё одно значение, куда будут входить дарк китчены, сервисы доставки и т.д., что бы в базе данных был более корректный список категорий."
   ]
  },
  {
   "cell_type": "markdown",
   "id": "85a90a94",
   "metadata": {
    "id": "85a90a94"
   },
   "source": [
    "---\n",
    "\n",
    "### Задача 8\n",
    "\n",
    "Изучить вариацию среднего чека заведения (столбец `middle_avg_bill`) в зависимости от района Москвы. Выяснить как удалённость от центра влияет на цены в заведениях?\n"
   ]
  },
  {
   "cell_type": "code",
   "execution_count": 37,
   "id": "5fb4ffc6",
   "metadata": {
    "id": "5fb4ffc6"
   },
   "outputs": [
    {
     "data": {
      "text/plain": [
       "district\n",
       "Западный административный округ            1000.0\n",
       "Центральный административный округ         1000.0\n",
       "Северо-Западный административный округ      700.0\n",
       "Северный административный округ             650.0\n",
       "Юго-Западный административный округ         600.0\n",
       "Восточный административный округ            575.0\n",
       "Северо-Восточный административный округ     500.0\n",
       "Южный административный округ                500.0\n",
       "Юго-Восточный административный округ        450.0\n",
       "Name: middle_avg_bill, dtype: float64"
      ]
     },
     "execution_count": 37,
     "metadata": {},
     "output_type": "execute_result"
    }
   ],
   "source": [
    "rest_avg_bill = rest_df.groupby('district')['middle_avg_bill'].median().sort_values(ascending=False)\n",
    "rest_avg_bill"
   ]
  },
  {
   "cell_type": "code",
   "execution_count": 38,
   "id": "b0b0527d",
   "metadata": {},
   "outputs": [
    {
     "data": {
      "image/png": "[encoded data removed]",
      "text/plain": [
       "<Figure size 720x432 with 1 Axes>"
      ]
     },
     "metadata": {
      "needs_background": "light"
     },
     "output_type": "display_data"
    }
   ],
   "source": [
    "plt.figure(figsize=(10, 6))\n",
    "rest_avg_bill.plot(kind='barh')\n",
    "plt.xlabel('Средний чек')\n",
    "plt.ylabel('Административный район')\n",
    "plt.title('Вариация среднего чека заведения')\n",
    "plt.show()"
   ]
  },
  {
   "cell_type": "markdown",
   "id": "542d15a7",
   "metadata": {
    "id": "b98066c1"
   },
   "source": [
    "Центральный и Западный округи имеют наибольший средний чек - около 1000 рублей. Юго-Восточный округ, имеет наименьший средний чек - 450 рублей. Округи, которые находятся дальше от центра имеют в среднем средний чек на 1,5-2 раза ниже, чем округи, которые находятся ближе к центру"
   ]
  },
  {
   "cell_type": "code",
   "execution_count": 40,
   "id": "82160d72",
   "metadata": {},
   "outputs": [
    {
     "data": {
      "image/png": "[encoded data removed]",
      "text/plain": [
       "<Figure size 432x288 with 1 Axes>"
      ]
     },
     "metadata": {
      "needs_background": "light"
     },
     "output_type": "display_data"
    },
    {
     "data": {
      "text/plain": [
       "<Figure size 864x864 with 0 Axes>"
      ]
     },
     "metadata": {},
     "output_type": "display_data"
    }
   ],
   "source": [
    "# Создаем сгруппированный df по округам, считаем средний и медианный чек\n",
    "grouped_df = rest_df.groupby('district')['middle_avg_bill'].agg(['mean', 'median']).sort_values('mean')\n",
    "\n",
    "# Строим столбчатую диаграмму с группировкой\n",
    "grouped_df.plot(kind='barh',\n",
    "               rot=0,\n",
    "               title='Сравнение среднего и медианного чека по округам',\n",
    "               width=0.8,\n",
    "               color=['#1f77b4', '#ff7f0e'])\n",
    "\n",
    "# Настраиваем оформление графика\n",
    "plt.xlabel('Сумма чека (руб)')\n",
    "plt.ylabel('Округ')\n",
    "plt.legend(['Средний чек', 'Медианный чек'], frameon=True)\n",
    "plt.grid(axis='x', linestyle='--', alpha=0.7)\n",
    "\n",
    "plt.figure(figsize=(12, 12))\n",
    "plt.tight_layout()\n",
    "plt.show()"
   ]
  },
  {
   "cell_type": "markdown",
   "id": "f2c54e9a",
   "metadata": {
    "id": "f2c54e9a"
   },
   "source": [
    "---\n",
    "\n",
    "### Промежуточный вывод"
   ]
  },
  {
   "cell_type": "markdown",
   "id": "5ec35413",
   "metadata": {
    "id": "c8869609"
   },
   "source": [
    "Исследовательский анализ показал что:"
   ]
  },
  {
   "cell_type": "markdown",
   "id": "89e0221e",
   "metadata": {
    "id": "3313cfd6"
   },
   "source": [
    "- Всего представлено 8 категорий заведений. Самое большое количество заведений соответстуют категориям: кафе, рестораны и кофейни. Скорее всего данный тип заведений пользуется большим спросом среди клиентов. Самое малое количество заведений соответстуют категориям: быстрое питание, столовые и булочные.\n",
    "- Самое большое количество заведений находится в Центральном административном округе - больше 2000, самое маленькое в Северо-Западном административном округе. В этом есть логика, так как Центральный Административный Округ находится в центре Москвы, где большая проходимость. Преобладающим типом в ЦАО составляют рестораны, кафе и кофейни, меньше всего сетей быстрого питания, столовых и булочных.\n",
    "- Больше несетевых заведений - 5201, что составляет 61,9% от общего количества, а сетевых заведений меньше - 3205, что составляет 38,1% от общего количества. Чаще всего сетевыми являются: булочные - доля сетевых заведений внутри этой категории составляет 61%, пиццерии - доля сетевых заведений внутри этой категории составляет 52% и кофейни - доля сетевых заведений внутри этой категории составляет 51%. Реже: столовые - доля сетевых заведений внутри этой категории составляет 28% и бары,пабы - доля сетевых заведений внутри этой категории составляет 22%.\n",
    "- Среднее количество посадочных мест у разных категорий заведений начинается варьируется от 50 до 85 посадочных мест. Самое большое типичное количество мест у заведений из категорий рестораны, бары,пабы и кофейни.\n",
    "- Усреднённый рейтинг для разных типов заведений особо не отличается и колеблется в районе 4.\n",
    "- Наибольшая корреляция рейтинга наблюдается с категорией цен в заведении - 0.22, c числом с оценкой среднего чека - 0.21, административном районе, в котором находится заведение - 0.20. Для остальных признаков коэффициент коррекляциии снижается с 0.15 до 0.\n",
    "- Самое большое количество заведений имеют следующие сети: Шоколадница, Домино'с Пицца и Додо Пицца. Средний рейтинг у заведений из Топ-15 варьируется от 3.87 до 4.46. В топ попали следующие категории заведений: кофейня, пиццерия, ресторан, кафе, булочная. Стоит обратить внимание, что в топ попал сервис Яндекс.Лавка, который занимается доставкой готовых блюд и продуктов. Категория у данного сервиса стоит ресторан, возможно стоит добавить в столбец ещё одно значение, куда будут входить дарк китчены, сервисы доставки и т.д., что бы в базе данных был более корректный список категорий.\n",
    "- Центральный и Западный округи имеют наибольший средний чек - около 1000 рублей. Юго-Восточный округ, имеет наименьший средний чек - 450 рублей. Округи, которые находятся дальше от центра имеют в среднем средний чек на 1,5-2 раза ниже, чем округи, которые находятся ближе к центру"
   ]
  },
  {
   "cell_type": "markdown",
   "id": "480f3422",
   "metadata": {
    "id": "480f3422"
   },
   "source": [
    "## 4. Итоговый вывод и рекомендации"
   ]
  },
  {
   "cell_type": "markdown",
   "id": "ebcbf91f",
   "metadata": {},
   "source": [
    "Цель данного проекта заключалась в проведении исследовательского анализа рынка общественного питания Москвы. Для этого нужно было провести предобработку данных и провести исследовательский анализ данных."
   ]
  },
  {
   "cell_type": "markdown",
   "id": "329b66f6",
   "metadata": {},
   "source": [
    "В ходе предобработки была проведена оптимизация столбца `chain` с понижением размерности. Изучены пропуски в данных, процент пропусков которых варьируется от 6% до 94%. Они были оставлены как есть так как это может негативно сказаться на результатах исследования. Данные были проверены на явные дубликаты и неявные дубликаты. Явные и неявные дубликаты в данных отсуствуют. Проверка неявных дубликатов была осуществлена в столбцах `name` и `address`."
   ]
  },
  {
   "cell_type": "markdown",
   "id": "068e68e5",
   "metadata": {},
   "source": [
    "В ходе исследования проанализированы данные 8406 заведений в городе Москва. Данные включали в себя основную информацию о заведениях: название заведения, адрес, рейтинг, средний чек и т.д. Акцент исследований был на том, что бы с помощью визуализаций ответить на вопросы.\n",
    "\n",
    "- Всего в данных представлено 8 категорий заведений. Самое большое количество заведений соответстуют категориям: кафе, рестораны и кофейни. Скорее всего данный тип заведений пользуется большим спросом среди клиентов. Самое малое количество заведений соответстуют категориям: быстрое питание, столовые и булочные.\n",
    "- Самое большое количество заведений находится в Центральном административном округе - больше 2000, самое маленькое в Северо-Западном административном округе. Это связано с тем, что Центральный Административный Округ находится в центре Москвы, где большая проходимость. Преобладающим типом в ЦАО составляют рестораны, кафе и кофейни, меньше всего сетей быстрого питания, столовых и булочных.\n",
    "- Больше несетевых заведений - 5201, что составляет 61,9% от общего количества, а сетевых заведений меньше - 3205, что составляет 38,1% от общего количества. Чаще всего сетевыми являются булочные, пиццерии и кофейни. Реже столовые и бары,пабы.\n",
    "- Среднее количество посадочных мест у разных категорий заведений начинается варьируется от 50 до 85 посадочных мест. Самое большое типичное количество мест у заведений из категорий рестораны, бары,пабы и кофейни. Распределение данных выглядит нормальным, однако характеризуется широким разбросом. Аномальные значения в данных встречаются. Значения посадочных мест, которые которые начинаются от 500 могут быть связаны с ошибкой в данных (например ошиблись и поставили лишний 0), их небольшое количество.\n",
    "- Усреднённый рейтинг для разных типов заведений особо не отличается и колеблется в районе 4.\n",
    "- Наибольшая корреляция рейтинга наблюдается с категорией цен в заведении - 0.22, c числом с оценкой среднего чека - 0.21, административном районе, в котором находится заведение - 0.20. Для остальных признаков коэффициент коррекляциии снижается с 0.15 до 0.\n",
    "- Самое большое количество заведений имеют следующие сети: Шоколадница, Домино'с Пицца и Додо Пицца. Средний рейтинг у заведений из Топ-15 варьируется от 3.87 до 4.46. В топ попали следующие категории заведений: кофейня, пиццерия, ресторан, кафе, булочная. В топ попал сервис Яндекс.Лавка, который занимается доставкой готовых блюд и продуктов. Категория у данного сервиса стоит ресторан, возможно стоит добавить в столбец ещё одно значение, куда будут входить дарк китчены, сервисы доставки и т.д., что бы в базе данных был более корректный список категорий.\n",
    "- Центральный и Западный округи имеют наибольший средний чек - около 1000 рублей. Юго-Восточный округ, имеет наименьший средний чек - 450 рублей. Округи, которые находятся дальше от центра имеют в среднем средний чек на 1,5-2 раза ниже, чем округи, которые находятся ближе к центру"
   ]
  },
  {
   "cell_type": "markdown",
   "id": "527140b3",
   "metadata": {},
   "source": [
    "В качестве рекомендаций стоит обратить внимание не только на заведения с категорией кафе, рестораны и кофейни, но и на заведения с категорией например булочные, так как их меньше, следовательно конкуренция меньше. Рейтинги у разных категорий судя по результатам особо не отличаются. Можно разработать меню, которое будет соответствовать ожиданиям и желанием клиентов, провести акции, например купи кофе, булочка бесплатно. Что бы выяснить это нужно провести опросы. В последнее время клиенты хотят больше простоты чем изысков, и может выясниться, что их устроит меню с маленьким количеством позиций, но при этом блюда в меню будут высокого качества. Булочная это не обязательно про булочки, но и про пирожки, мягкие вафли и т.д. В позитивные моменты можно отнести маленькие заведения требуют меньшее количество вложенных средств. Следовательно если всё сделать граммотно, то можно будет открыть ещё несколько точек и располагаться не только в одном районе, но и сосредоточится по большему количеству районов Москвы."
   ]
  }
 ],
 "metadata": {
  "ExecuteTimeLog": [
   {
    "duration": 1405,
    "start_time": "2025-04-16T17:04:09.074Z"
   },
   {
    "duration": 3380,
    "start_time": "2025-04-16T17:04:20.261Z"
   },
   {
    "duration": 556,
    "start_time": "2025-04-16T17:06:33.680Z"
   },
   {
    "duration": 14,
    "start_time": "2025-04-16T17:06:56.346Z"
   },
   {
    "duration": 10,
    "start_time": "2025-04-16T17:07:00.419Z"
   },
   {
    "duration": 12,
    "start_time": "2025-04-16T17:07:07.557Z"
   },
   {
    "duration": 9,
    "start_time": "2025-04-16T17:07:07.971Z"
   },
   {
    "duration": 15,
    "start_time": "2025-04-16T17:07:43.879Z"
   },
   {
    "duration": 418,
    "start_time": "2025-04-16T17:08:35.949Z"
   },
   {
    "duration": 11,
    "start_time": "2025-04-16T17:08:36.384Z"
   },
   {
    "duration": 13,
    "start_time": "2025-04-16T17:08:37.235Z"
   },
   {
    "duration": 9,
    "start_time": "2025-04-16T17:08:37.894Z"
   },
   {
    "duration": 12,
    "start_time": "2025-04-16T17:08:38.498Z"
   },
   {
    "duration": 3522,
    "start_time": "2025-04-16T17:11:26.438Z"
   },
   {
    "duration": 238,
    "start_time": "2025-04-16T17:11:29.963Z"
   },
   {
    "duration": 16,
    "start_time": "2025-04-16T17:11:30.203Z"
   },
   {
    "duration": 41,
    "start_time": "2025-04-16T17:11:30.221Z"
   },
   {
    "duration": 79,
    "start_time": "2025-04-16T17:11:30.263Z"
   },
   {
    "duration": 50,
    "start_time": "2025-04-16T17:11:30.344Z"
   },
   {
    "duration": 13,
    "start_time": "2025-04-16T17:24:17.523Z"
   },
   {
    "duration": 13,
    "start_time": "2025-04-16T17:24:24.038Z"
   },
   {
    "duration": 10,
    "start_time": "2025-04-16T17:38:51.040Z"
   },
   {
    "duration": 10,
    "start_time": "2025-04-16T17:38:54.556Z"
   },
   {
    "duration": 12,
    "start_time": "2025-04-16T17:38:58.593Z"
   },
   {
    "duration": 10,
    "start_time": "2025-04-16T17:39:01.320Z"
   },
   {
    "duration": 10,
    "start_time": "2025-04-16T17:48:37.886Z"
   },
   {
    "duration": 14,
    "start_time": "2025-04-16T17:48:43.399Z"
   },
   {
    "duration": 10,
    "start_time": "2025-04-16T17:50:26.600Z"
   },
   {
    "duration": 13,
    "start_time": "2025-04-16T17:50:26.949Z"
   },
   {
    "duration": 10,
    "start_time": "2025-04-16T17:50:31.512Z"
   },
   {
    "duration": 14,
    "start_time": "2025-04-16T17:50:31.778Z"
   },
   {
    "duration": 4,
    "start_time": "2025-04-16T18:09:23.426Z"
   },
   {
    "duration": 6,
    "start_time": "2025-04-16T18:09:23.812Z"
   },
   {
    "duration": 10,
    "start_time": "2025-04-16T18:10:28.617Z"
   },
   {
    "duration": 111,
    "start_time": "2025-04-16T18:11:04.155Z"
   },
   {
    "duration": 11,
    "start_time": "2025-04-16T18:11:15.219Z"
   },
   {
    "duration": 10,
    "start_time": "2025-04-16T18:12:36.379Z"
   },
   {
    "duration": 15,
    "start_time": "2025-04-16T18:12:36.899Z"
   },
   {
    "duration": 6,
    "start_time": "2025-04-16T18:12:38.039Z"
   },
   {
    "duration": 5,
    "start_time": "2025-04-16T18:12:38.511Z"
   },
   {
    "duration": 9,
    "start_time": "2025-04-16T18:12:39.513Z"
   },
   {
    "duration": 14,
    "start_time": "2025-04-16T18:12:40.022Z"
   },
   {
    "duration": 17,
    "start_time": "2025-04-16T18:32:21.879Z"
   },
   {
    "duration": 6,
    "start_time": "2025-04-16T18:33:07.774Z"
   },
   {
    "duration": 13,
    "start_time": "2025-04-16T18:33:29.896Z"
   },
   {
    "duration": 6,
    "start_time": "2025-04-16T18:33:36.775Z"
   },
   {
    "duration": 15,
    "start_time": "2025-04-16T18:36:24.816Z"
   },
   {
    "duration": 12,
    "start_time": "2025-04-16T18:36:36.684Z"
   },
   {
    "duration": 72,
    "start_time": "2025-04-16T18:36:56.549Z"
   },
   {
    "duration": 8,
    "start_time": "2025-04-16T18:37:08.546Z"
   },
   {
    "duration": 10,
    "start_time": "2025-04-16T18:37:22.986Z"
   },
   {
    "duration": 77,
    "start_time": "2025-04-16T18:37:23.781Z"
   },
   {
    "duration": 73,
    "start_time": "2025-04-16T18:37:47.648Z"
   },
   {
    "duration": 72,
    "start_time": "2025-04-16T18:38:39.543Z"
   },
   {
    "duration": 8,
    "start_time": "2025-04-16T18:42:53.222Z"
   },
   {
    "duration": 16,
    "start_time": "2025-04-16T18:43:38.185Z"
   },
   {
    "duration": 7,
    "start_time": "2025-04-16T18:43:57.951Z"
   },
   {
    "duration": 15,
    "start_time": "2025-04-16T18:43:58.535Z"
   },
   {
    "duration": 22,
    "start_time": "2025-04-16T18:44:08.737Z"
   },
   {
    "duration": 6,
    "start_time": "2025-04-16T18:44:46.082Z"
   },
   {
    "duration": 22,
    "start_time": "2025-04-16T18:44:46.089Z"
   },
   {
    "duration": 6,
    "start_time": "2025-04-16T18:44:46.796Z"
   },
   {
    "duration": 22,
    "start_time": "2025-04-16T18:44:47.479Z"
   },
   {
    "duration": 5,
    "start_time": "2025-04-16T18:45:13.323Z"
   },
   {
    "duration": 20,
    "start_time": "2025-04-16T18:45:13.886Z"
   },
   {
    "duration": 6,
    "start_time": "2025-04-16T18:45:49.999Z"
   },
   {
    "duration": 16,
    "start_time": "2025-04-16T18:45:56.843Z"
   },
   {
    "duration": 7,
    "start_time": "2025-04-16T18:45:57.171Z"
   },
   {
    "duration": 7,
    "start_time": "2025-04-16T18:45:57.471Z"
   },
   {
    "duration": 5,
    "start_time": "2025-04-16T18:45:58.635Z"
   },
   {
    "duration": 141,
    "start_time": "2025-04-16T19:20:22.126Z"
   },
   {
    "duration": 145,
    "start_time": "2025-04-16T19:20:28.076Z"
   },
   {
    "duration": 161,
    "start_time": "2025-04-16T19:20:55.276Z"
   },
   {
    "duration": 152,
    "start_time": "2025-04-16T19:20:59.658Z"
   },
   {
    "duration": 142,
    "start_time": "2025-04-16T19:22:03.211Z"
   },
   {
    "duration": 143,
    "start_time": "2025-04-16T19:22:06.819Z"
   },
   {
    "duration": 16,
    "start_time": "2025-04-16T19:22:46.999Z"
   },
   {
    "duration": 16,
    "start_time": "2025-04-16T19:23:12.923Z"
   },
   {
    "duration": 5,
    "start_time": "2025-04-16T19:23:19.241Z"
   },
   {
    "duration": 15,
    "start_time": "2025-04-16T19:23:21.917Z"
   },
   {
    "duration": 6,
    "start_time": "2025-04-16T19:24:35.067Z"
   },
   {
    "duration": 141,
    "start_time": "2025-04-16T19:25:07.385Z"
   },
   {
    "duration": 235,
    "start_time": "2025-04-16T19:29:24.656Z"
   },
   {
    "duration": 7,
    "start_time": "2025-04-16T19:43:42.041Z"
   },
   {
    "duration": 4,
    "start_time": "2025-04-16T19:46:17.969Z"
   },
   {
    "duration": 6,
    "start_time": "2025-04-16T19:46:28.977Z"
   },
   {
    "duration": 195,
    "start_time": "2025-04-16T19:47:05.410Z"
   },
   {
    "duration": 209,
    "start_time": "2025-04-16T19:47:40.167Z"
   },
   {
    "duration": 201,
    "start_time": "2025-04-16T19:47:50.382Z"
   },
   {
    "duration": 207,
    "start_time": "2025-04-16T19:48:06.205Z"
   },
   {
    "duration": 208,
    "start_time": "2025-04-16T19:48:14.064Z"
   },
   {
    "duration": 195,
    "start_time": "2025-04-16T19:48:19.432Z"
   },
   {
    "duration": 196,
    "start_time": "2025-04-16T19:48:25.118Z"
   },
   {
    "duration": 208,
    "start_time": "2025-04-16T19:48:29.004Z"
   },
   {
    "duration": 199,
    "start_time": "2025-04-16T19:48:32.365Z"
   },
   {
    "duration": 238,
    "start_time": "2025-04-16T19:48:37.778Z"
   },
   {
    "duration": 283,
    "start_time": "2025-04-16T19:48:50.944Z"
   },
   {
    "duration": 202,
    "start_time": "2025-04-16T19:48:54.401Z"
   },
   {
    "duration": 216,
    "start_time": "2025-04-16T19:48:58.025Z"
   },
   {
    "duration": 198,
    "start_time": "2025-04-16T19:49:29.475Z"
   },
   {
    "duration": 191,
    "start_time": "2025-04-16T19:49:44.344Z"
   },
   {
    "duration": 189,
    "start_time": "2025-04-16T19:49:50.146Z"
   },
   {
    "duration": 297,
    "start_time": "2025-04-16T19:49:57.941Z"
   },
   {
    "duration": 275,
    "start_time": "2025-04-16T19:50:03.566Z"
   },
   {
    "duration": 241,
    "start_time": "2025-04-16T19:50:10.281Z"
   },
   {
    "duration": 241,
    "start_time": "2025-04-16T19:50:19.113Z"
   },
   {
    "duration": 229,
    "start_time": "2025-04-16T19:50:24.303Z"
   },
   {
    "duration": 305,
    "start_time": "2025-04-16T19:50:31.815Z"
   },
   {
    "duration": 212,
    "start_time": "2025-04-16T19:50:40.506Z"
   },
   {
    "duration": 215,
    "start_time": "2025-04-16T19:50:46.906Z"
   },
   {
    "duration": 234,
    "start_time": "2025-04-16T19:53:59.890Z"
   },
   {
    "duration": 17,
    "start_time": "2025-04-16T19:55:14.356Z"
   },
   {
    "duration": 17,
    "start_time": "2025-04-16T19:55:24.311Z"
   },
   {
    "duration": 13,
    "start_time": "2025-04-16T19:55:38.701Z"
   },
   {
    "duration": 1064,
    "start_time": "2025-04-16T19:55:42.075Z"
   },
   {
    "duration": 27,
    "start_time": "2025-04-16T19:56:10.477Z"
   },
   {
    "duration": 230,
    "start_time": "2025-04-16T19:56:22.472Z"
   },
   {
    "duration": 236,
    "start_time": "2025-04-16T19:56:40.950Z"
   },
   {
    "duration": 17,
    "start_time": "2025-04-16T19:57:10.066Z"
   },
   {
    "duration": 15,
    "start_time": "2025-04-16T19:57:14.489Z"
   },
   {
    "duration": 107,
    "start_time": "2025-04-16T19:59:07.356Z"
   },
   {
    "duration": 77,
    "start_time": "2025-04-16T19:59:16.436Z"
   },
   {
    "duration": 13,
    "start_time": "2025-04-16T19:59:25.947Z"
   },
   {
    "duration": 77,
    "start_time": "2025-04-16T19:59:32.117Z"
   },
   {
    "duration": 14,
    "start_time": "2025-04-16T19:59:34.480Z"
   },
   {
    "duration": 120,
    "start_time": "2025-04-16T20:00:31.137Z"
   },
   {
    "duration": 153,
    "start_time": "2025-04-16T20:00:41.993Z"
   },
   {
    "duration": 150,
    "start_time": "2025-04-16T20:01:30.349Z"
   },
   {
    "duration": 172,
    "start_time": "2025-04-16T20:02:33.568Z"
   },
   {
    "duration": 181,
    "start_time": "2025-04-16T20:03:20.476Z"
   },
   {
    "duration": 4,
    "start_time": "2025-04-16T20:15:48.407Z"
   },
   {
    "duration": 6,
    "start_time": "2025-04-16T20:15:54.370Z"
   },
   {
    "duration": 9,
    "start_time": "2025-04-16T20:16:05.178Z"
   },
   {
    "duration": 161,
    "start_time": "2025-04-16T20:16:15.509Z"
   },
   {
    "duration": 145,
    "start_time": "2025-04-16T20:17:21.094Z"
   },
   {
    "duration": 8,
    "start_time": "2025-04-16T20:17:33.219Z"
   },
   {
    "duration": 146,
    "start_time": "2025-04-16T20:17:33.574Z"
   },
   {
    "duration": 74,
    "start_time": "2025-04-16T20:18:09.685Z"
   },
   {
    "duration": 121,
    "start_time": "2025-04-16T20:18:18.452Z"
   },
   {
    "duration": 112,
    "start_time": "2025-04-16T20:18:24.917Z"
   },
   {
    "duration": 179,
    "start_time": "2025-04-16T20:19:16.119Z"
   },
   {
    "duration": 178,
    "start_time": "2025-04-16T20:19:42.269Z"
   },
   {
    "duration": 190,
    "start_time": "2025-04-16T20:20:08.519Z"
   },
   {
    "duration": 11,
    "start_time": "2025-04-16T20:20:10.495Z"
   },
   {
    "duration": 9,
    "start_time": "2025-04-16T20:20:21.637Z"
   },
   {
    "duration": 10,
    "start_time": "2025-04-16T20:21:03.651Z"
   },
   {
    "duration": 178,
    "start_time": "2025-04-16T20:22:51.630Z"
   },
   {
    "duration": 12,
    "start_time": "2025-04-16T20:23:57.093Z"
   },
   {
    "duration": 14,
    "start_time": "2025-04-16T20:24:03.473Z"
   },
   {
    "duration": 172,
    "start_time": "2025-04-16T20:24:22.873Z"
   },
   {
    "duration": 185,
    "start_time": "2025-04-16T20:24:44.537Z"
   },
   {
    "duration": 297,
    "start_time": "2025-04-16T20:25:07.813Z"
   },
   {
    "duration": 83,
    "start_time": "2025-04-16T20:27:23.252Z"
   },
   {
    "duration": 192,
    "start_time": "2025-04-16T20:27:27.753Z"
   },
   {
    "duration": 196,
    "start_time": "2025-04-16T20:29:18.533Z"
   },
   {
    "duration": 188,
    "start_time": "2025-04-16T20:29:26.852Z"
   },
   {
    "duration": 143,
    "start_time": "2025-04-16T20:36:14.315Z"
   },
   {
    "duration": 208,
    "start_time": "2025-04-16T20:36:19.088Z"
   },
   {
    "duration": 153,
    "start_time": "2025-04-16T20:36:23.402Z"
   },
   {
    "duration": 111,
    "start_time": "2025-04-16T20:36:36.779Z"
   },
   {
    "duration": 184,
    "start_time": "2025-04-16T20:36:55.772Z"
   },
   {
    "duration": 4438,
    "start_time": "2025-04-17T04:03:19.893Z"
   },
   {
    "duration": 237,
    "start_time": "2025-04-17T04:03:24.333Z"
   },
   {
    "duration": 18,
    "start_time": "2025-04-17T04:03:24.572Z"
   },
   {
    "duration": 15,
    "start_time": "2025-04-17T04:03:24.592Z"
   },
   {
    "duration": 11,
    "start_time": "2025-04-17T04:03:24.608Z"
   },
   {
    "duration": 15,
    "start_time": "2025-04-17T04:03:24.621Z"
   },
   {
    "duration": 11,
    "start_time": "2025-04-17T04:03:24.638Z"
   },
   {
    "duration": 13,
    "start_time": "2025-04-17T04:03:24.650Z"
   },
   {
    "duration": 4,
    "start_time": "2025-04-17T04:03:24.665Z"
   },
   {
    "duration": 16,
    "start_time": "2025-04-17T04:03:24.672Z"
   },
   {
    "duration": 13,
    "start_time": "2025-04-17T04:03:24.689Z"
   },
   {
    "duration": 37,
    "start_time": "2025-04-17T04:03:24.703Z"
   },
   {
    "duration": 18,
    "start_time": "2025-04-17T04:03:24.742Z"
   },
   {
    "duration": 7,
    "start_time": "2025-04-17T04:03:24.762Z"
   },
   {
    "duration": 8,
    "start_time": "2025-04-17T04:03:24.770Z"
   },
   {
    "duration": 6,
    "start_time": "2025-04-17T04:03:24.780Z"
   },
   {
    "duration": 8,
    "start_time": "2025-04-17T04:03:24.788Z"
   },
   {
    "duration": 205,
    "start_time": "2025-04-17T04:03:24.797Z"
   },
   {
    "duration": 7,
    "start_time": "2025-04-17T04:03:25.004Z"
   },
   {
    "duration": 243,
    "start_time": "2025-04-17T04:03:25.013Z"
   },
   {
    "duration": 179,
    "start_time": "2025-04-17T04:03:25.259Z"
   },
   {
    "duration": 6,
    "start_time": "2025-04-17T04:03:25.441Z"
   },
   {
    "duration": 132,
    "start_time": "2025-04-17T04:03:25.448Z"
   },
   {
    "duration": 12,
    "start_time": "2025-04-17T04:03:25.582Z"
   },
   {
    "duration": 303,
    "start_time": "2025-04-17T04:03:25.596Z"
   },
   {
    "duration": 108,
    "start_time": "2025-04-17T04:06:53.554Z"
   },
   {
    "duration": 106,
    "start_time": "2025-04-17T04:09:23.446Z"
   },
   {
    "duration": 11,
    "start_time": "2025-04-17T04:09:47.382Z"
   },
   {
    "duration": 12,
    "start_time": "2025-04-17T04:09:57.819Z"
   },
   {
    "duration": 11,
    "start_time": "2025-04-17T04:11:38.615Z"
   },
   {
    "duration": 206,
    "start_time": "2025-04-17T04:11:50.059Z"
   },
   {
    "duration": 128,
    "start_time": "2025-04-17T04:12:34.474Z"
   },
   {
    "duration": 14,
    "start_time": "2025-04-17T04:13:14.260Z"
   },
   {
    "duration": 133,
    "start_time": "2025-04-17T04:13:30.786Z"
   },
   {
    "duration": 201,
    "start_time": "2025-04-17T04:13:36.081Z"
   },
   {
    "duration": 125,
    "start_time": "2025-04-17T04:13:37.466Z"
   },
   {
    "duration": 109,
    "start_time": "2025-04-17T04:14:06.472Z"
   },
   {
    "duration": 73,
    "start_time": "2025-04-17T04:14:15.672Z"
   },
   {
    "duration": 134,
    "start_time": "2025-04-17T04:14:21.383Z"
   },
   {
    "duration": 11,
    "start_time": "2025-04-17T04:20:46.151Z"
   },
   {
    "duration": 9,
    "start_time": "2025-04-17T04:21:47.318Z"
   },
   {
    "duration": 8,
    "start_time": "2025-04-17T04:22:50.886Z"
   },
   {
    "duration": 199,
    "start_time": "2025-04-17T04:24:35.266Z"
   },
   {
    "duration": 194,
    "start_time": "2025-04-17T04:25:00.326Z"
   },
   {
    "duration": 170,
    "start_time": "2025-04-17T04:26:00.774Z"
   },
   {
    "duration": 177,
    "start_time": "2025-04-17T04:26:25.426Z"
   },
   {
    "duration": 178,
    "start_time": "2025-04-17T04:27:15.130Z"
   },
   {
    "duration": 265,
    "start_time": "2025-04-17T04:43:28.510Z"
   },
   {
    "duration": 164,
    "start_time": "2025-04-17T04:44:50.476Z"
   },
   {
    "duration": 162,
    "start_time": "2025-04-17T04:45:27.464Z"
   },
   {
    "duration": 150,
    "start_time": "2025-04-17T04:45:32.465Z"
   },
   {
    "duration": 78,
    "start_time": "2025-04-17T04:45:58.289Z"
   },
   {
    "duration": 149,
    "start_time": "2025-04-17T04:46:02.585Z"
   },
   {
    "duration": 205,
    "start_time": "2025-04-17T04:46:57.574Z"
   },
   {
    "duration": 4,
    "start_time": "2025-04-17T04:52:43.761Z"
   },
   {
    "duration": 12,
    "start_time": "2025-04-17T04:52:48.874Z"
   },
   {
    "duration": 105,
    "start_time": "2025-04-17T04:53:00.667Z"
   },
   {
    "duration": 545,
    "start_time": "2025-04-17T04:53:03.885Z"
   },
   {
    "duration": 485,
    "start_time": "2025-04-17T04:53:52.853Z"
   },
   {
    "duration": 10,
    "start_time": "2025-04-17T04:57:02.042Z"
   },
   {
    "duration": 11,
    "start_time": "2025-04-17T04:57:18.193Z"
   },
   {
    "duration": 9,
    "start_time": "2025-04-17T05:01:32.970Z"
   },
   {
    "duration": 3595,
    "start_time": "2025-04-17T05:02:08.509Z"
   },
   {
    "duration": 223,
    "start_time": "2025-04-17T05:02:12.107Z"
   },
   {
    "duration": 17,
    "start_time": "2025-04-17T05:02:12.332Z"
   },
   {
    "duration": 74,
    "start_time": "2025-04-17T05:02:12.351Z"
   },
   {
    "duration": 13,
    "start_time": "2025-04-17T05:02:12.428Z"
   },
   {
    "duration": 21,
    "start_time": "2025-04-17T05:02:12.443Z"
   },
   {
    "duration": 15,
    "start_time": "2025-04-17T05:02:12.466Z"
   },
   {
    "duration": 21,
    "start_time": "2025-04-17T05:02:12.483Z"
   },
   {
    "duration": 5,
    "start_time": "2025-04-17T05:02:12.508Z"
   },
   {
    "duration": 16,
    "start_time": "2025-04-17T05:02:12.515Z"
   },
   {
    "duration": 15,
    "start_time": "2025-04-17T05:02:12.537Z"
   },
   {
    "duration": 18,
    "start_time": "2025-04-17T05:02:12.554Z"
   },
   {
    "duration": 17,
    "start_time": "2025-04-17T05:02:12.574Z"
   },
   {
    "duration": 5,
    "start_time": "2025-04-17T05:02:12.594Z"
   },
   {
    "duration": 45,
    "start_time": "2025-04-17T05:02:12.601Z"
   },
   {
    "duration": 5,
    "start_time": "2025-04-17T05:02:12.648Z"
   },
   {
    "duration": 12,
    "start_time": "2025-04-17T05:02:12.655Z"
   },
   {
    "duration": 196,
    "start_time": "2025-04-17T05:02:12.669Z"
   },
   {
    "duration": 6,
    "start_time": "2025-04-17T05:02:12.866Z"
   },
   {
    "duration": 278,
    "start_time": "2025-04-17T05:02:12.874Z"
   },
   {
    "duration": 192,
    "start_time": "2025-04-17T05:02:13.153Z"
   },
   {
    "duration": 6,
    "start_time": "2025-04-17T05:02:13.347Z"
   },
   {
    "duration": 149,
    "start_time": "2025-04-17T05:02:13.355Z"
   },
   {
    "duration": 10,
    "start_time": "2025-04-17T05:02:13.506Z"
   },
   {
    "duration": 261,
    "start_time": "2025-04-17T05:02:13.517Z"
   },
   {
    "duration": 157,
    "start_time": "2025-04-17T05:02:13.781Z"
   },
   {
    "duration": 182,
    "start_time": "2025-04-17T05:02:13.939Z"
   },
   {
    "duration": 243,
    "start_time": "2025-04-17T05:02:14.122Z"
   },
   {
    "duration": 3665,
    "start_time": "2025-04-17T05:02:54.500Z"
   },
   {
    "duration": 182,
    "start_time": "2025-04-17T05:02:58.167Z"
   },
   {
    "duration": 16,
    "start_time": "2025-04-17T05:02:58.353Z"
   },
   {
    "duration": 49,
    "start_time": "2025-04-17T05:02:58.372Z"
   },
   {
    "duration": 24,
    "start_time": "2025-04-17T05:02:58.422Z"
   },
   {
    "duration": 43,
    "start_time": "2025-04-17T05:02:58.448Z"
   },
   {
    "duration": 20,
    "start_time": "2025-04-17T05:02:58.492Z"
   },
   {
    "duration": 15,
    "start_time": "2025-04-17T05:02:58.513Z"
   },
   {
    "duration": 7,
    "start_time": "2025-04-17T05:02:58.530Z"
   },
   {
    "duration": 10,
    "start_time": "2025-04-17T05:02:58.538Z"
   },
   {
    "duration": 9,
    "start_time": "2025-04-17T05:02:58.550Z"
   },
   {
    "duration": 17,
    "start_time": "2025-04-17T05:02:58.561Z"
   },
   {
    "duration": 29,
    "start_time": "2025-04-17T05:02:58.581Z"
   },
   {
    "duration": 6,
    "start_time": "2025-04-17T05:02:58.612Z"
   },
   {
    "duration": 21,
    "start_time": "2025-04-17T05:02:58.619Z"
   },
   {
    "duration": 21,
    "start_time": "2025-04-17T05:02:58.641Z"
   },
   {
    "duration": 31,
    "start_time": "2025-04-17T05:02:58.664Z"
   },
   {
    "duration": 191,
    "start_time": "2025-04-17T05:02:58.696Z"
   },
   {
    "duration": 7,
    "start_time": "2025-04-17T05:02:58.888Z"
   },
   {
    "duration": 303,
    "start_time": "2025-04-17T05:02:58.896Z"
   },
   {
    "duration": 186,
    "start_time": "2025-04-17T05:02:59.200Z"
   },
   {
    "duration": 5,
    "start_time": "2025-04-17T05:02:59.388Z"
   },
   {
    "duration": 137,
    "start_time": "2025-04-17T05:02:59.395Z"
   },
   {
    "duration": 10,
    "start_time": "2025-04-17T05:02:59.534Z"
   },
   {
    "duration": 250,
    "start_time": "2025-04-17T05:02:59.546Z"
   },
   {
    "duration": 151,
    "start_time": "2025-04-17T05:02:59.798Z"
   },
   {
    "duration": 171,
    "start_time": "2025-04-17T05:02:59.950Z"
   },
   {
    "duration": 256,
    "start_time": "2025-04-17T05:03:00.123Z"
   },
   {
    "duration": 117,
    "start_time": "2025-04-17T05:03:00.381Z"
   },
   {
    "duration": 5,
    "start_time": "2025-04-17T05:03:23.499Z"
   },
   {
    "duration": 11,
    "start_time": "2025-04-17T05:03:24.145Z"
   },
   {
    "duration": 518,
    "start_time": "2025-04-17T05:03:42.459Z"
   },
   {
    "duration": 6,
    "start_time": "2025-04-17T05:05:02.413Z"
   },
   {
    "duration": 7,
    "start_time": "2025-04-17T05:05:10.690Z"
   },
   {
    "duration": 9,
    "start_time": "2025-04-17T05:11:21.044Z"
   },
   {
    "duration": 8,
    "start_time": "2025-04-17T05:11:22.368Z"
   },
   {
    "duration": 10,
    "start_time": "2025-04-17T05:11:22.716Z"
   },
   {
    "duration": 6,
    "start_time": "2025-04-17T05:11:27.728Z"
   },
   {
    "duration": 273,
    "start_time": "2025-04-17T05:11:28.233Z"
   },
   {
    "duration": 4,
    "start_time": "2025-04-17T05:12:24.198Z"
   },
   {
    "duration": 1184,
    "start_time": "2025-04-17T05:12:50.158Z"
   },
   {
    "duration": 9,
    "start_time": "2025-04-17T05:15:36.917Z"
   },
   {
    "duration": 9,
    "start_time": "2025-04-17T05:16:16.245Z"
   },
   {
    "duration": 10,
    "start_time": "2025-04-17T05:16:55.978Z"
   },
   {
    "duration": 166,
    "start_time": "2025-04-17T05:17:40.521Z"
   },
   {
    "duration": 10,
    "start_time": "2025-04-17T05:17:42.146Z"
   },
   {
    "duration": 3631,
    "start_time": "2025-04-17T05:20:26.447Z"
   },
   {
    "duration": 307,
    "start_time": "2025-04-17T05:20:30.080Z"
   },
   {
    "duration": 17,
    "start_time": "2025-04-17T05:20:30.389Z"
   },
   {
    "duration": 72,
    "start_time": "2025-04-17T05:20:30.408Z"
   },
   {
    "duration": 25,
    "start_time": "2025-04-17T05:20:30.483Z"
   },
   {
    "duration": 37,
    "start_time": "2025-04-17T05:20:30.510Z"
   },
   {
    "duration": 20,
    "start_time": "2025-04-17T05:20:30.549Z"
   },
   {
    "duration": 16,
    "start_time": "2025-04-17T05:20:30.570Z"
   },
   {
    "duration": 24,
    "start_time": "2025-04-17T05:20:30.588Z"
   },
   {
    "duration": 34,
    "start_time": "2025-04-17T05:20:30.613Z"
   },
   {
    "duration": 18,
    "start_time": "2025-04-17T05:20:30.649Z"
   },
   {
    "duration": 33,
    "start_time": "2025-04-17T05:20:30.669Z"
   },
   {
    "duration": 46,
    "start_time": "2025-04-17T05:20:30.704Z"
   },
   {
    "duration": 23,
    "start_time": "2025-04-17T05:20:30.754Z"
   },
   {
    "duration": 24,
    "start_time": "2025-04-17T05:20:30.779Z"
   },
   {
    "duration": 28,
    "start_time": "2025-04-17T05:20:30.805Z"
   },
   {
    "duration": 15,
    "start_time": "2025-04-17T05:20:30.834Z"
   },
   {
    "duration": 195,
    "start_time": "2025-04-17T05:20:30.851Z"
   },
   {
    "duration": 6,
    "start_time": "2025-04-17T05:20:31.048Z"
   },
   {
    "duration": 261,
    "start_time": "2025-04-17T05:20:31.056Z"
   },
   {
    "duration": 185,
    "start_time": "2025-04-17T05:20:31.319Z"
   },
   {
    "duration": 5,
    "start_time": "2025-04-17T05:20:31.506Z"
   },
   {
    "duration": 143,
    "start_time": "2025-04-17T05:20:31.513Z"
   },
   {
    "duration": 11,
    "start_time": "2025-04-17T05:20:31.658Z"
   },
   {
    "duration": 284,
    "start_time": "2025-04-17T05:20:31.670Z"
   },
   {
    "duration": 156,
    "start_time": "2025-04-17T05:20:31.956Z"
   },
   {
    "duration": 173,
    "start_time": "2025-04-17T05:20:32.114Z"
   },
   {
    "duration": 255,
    "start_time": "2025-04-17T05:20:32.289Z"
   },
   {
    "duration": 112,
    "start_time": "2025-04-17T05:20:32.546Z"
   },
   {
    "duration": 0,
    "start_time": "2025-04-17T05:20:32.659Z"
   },
   {
    "duration": 0,
    "start_time": "2025-04-17T05:20:32.661Z"
   },
   {
    "duration": 10,
    "start_time": "2025-04-17T05:26:26.602Z"
   },
   {
    "duration": 10,
    "start_time": "2025-04-17T05:28:04.342Z"
   },
   {
    "duration": 14,
    "start_time": "2025-04-17T05:28:06.222Z"
   },
   {
    "duration": 108,
    "start_time": "2025-04-17T05:28:16.640Z"
   },
   {
    "duration": 370,
    "start_time": "2025-04-17T05:28:17.551Z"
   },
   {
    "duration": 179,
    "start_time": "2025-04-17T05:29:20.912Z"
   },
   {
    "duration": 534,
    "start_time": "2025-04-17T05:29:21.570Z"
   },
   {
    "duration": 182,
    "start_time": "2025-04-17T05:31:34.065Z"
   },
   {
    "duration": 186,
    "start_time": "2025-04-17T05:32:12.875Z"
   },
   {
    "duration": 586,
    "start_time": "2025-04-17T05:32:25.507Z"
   },
   {
    "duration": 186,
    "start_time": "2025-04-17T05:32:36.097Z"
   },
   {
    "duration": 583,
    "start_time": "2025-04-17T05:32:38.765Z"
   },
   {
    "duration": 231,
    "start_time": "2025-04-17T05:34:50.744Z"
   },
   {
    "duration": 16,
    "start_time": "2025-04-17T05:34:54.284Z"
   },
   {
    "duration": 556,
    "start_time": "2025-04-17T05:34:55.451Z"
   },
   {
    "duration": 18,
    "start_time": "2025-04-17T05:34:58.989Z"
   },
   {
    "duration": 3698,
    "start_time": "2025-04-17T05:35:06.170Z"
   },
   {
    "duration": 183,
    "start_time": "2025-04-17T05:35:09.870Z"
   },
   {
    "duration": 18,
    "start_time": "2025-04-17T05:35:10.055Z"
   },
   {
    "duration": 16,
    "start_time": "2025-04-17T05:35:10.075Z"
   },
   {
    "duration": 10,
    "start_time": "2025-04-17T05:35:10.094Z"
   },
   {
    "duration": 39,
    "start_time": "2025-04-17T05:35:10.106Z"
   },
   {
    "duration": 13,
    "start_time": "2025-04-17T05:35:10.147Z"
   },
   {
    "duration": 16,
    "start_time": "2025-04-17T05:35:10.161Z"
   },
   {
    "duration": 4,
    "start_time": "2025-04-17T05:35:10.179Z"
   },
   {
    "duration": 8,
    "start_time": "2025-04-17T05:35:10.185Z"
   },
   {
    "duration": 48,
    "start_time": "2025-04-17T05:35:10.195Z"
   },
   {
    "duration": 22,
    "start_time": "2025-04-17T05:35:10.245Z"
   },
   {
    "duration": 18,
    "start_time": "2025-04-17T05:35:10.269Z"
   },
   {
    "duration": 6,
    "start_time": "2025-04-17T05:35:10.291Z"
   },
   {
    "duration": 26,
    "start_time": "2025-04-17T05:35:10.298Z"
   },
   {
    "duration": 15,
    "start_time": "2025-04-17T05:35:10.325Z"
   },
   {
    "duration": 18,
    "start_time": "2025-04-17T05:35:10.342Z"
   },
   {
    "duration": 245,
    "start_time": "2025-04-17T05:35:10.362Z"
   },
   {
    "duration": 7,
    "start_time": "2025-04-17T05:35:10.609Z"
   },
   {
    "duration": 268,
    "start_time": "2025-04-17T05:35:10.618Z"
   },
   {
    "duration": 181,
    "start_time": "2025-04-17T05:35:10.887Z"
   },
   {
    "duration": 6,
    "start_time": "2025-04-17T05:35:11.070Z"
   },
   {
    "duration": 134,
    "start_time": "2025-04-17T05:35:11.078Z"
   },
   {
    "duration": 10,
    "start_time": "2025-04-17T05:35:11.214Z"
   },
   {
    "duration": 208,
    "start_time": "2025-04-17T05:35:11.237Z"
   },
   {
    "duration": 157,
    "start_time": "2025-04-17T05:35:11.446Z"
   },
   {
    "duration": 175,
    "start_time": "2025-04-17T05:35:11.605Z"
   },
   {
    "duration": 248,
    "start_time": "2025-04-17T05:35:11.782Z"
   },
   {
    "duration": 240,
    "start_time": "2025-04-17T05:35:12.031Z"
   },
   {
    "duration": 649,
    "start_time": "2025-04-17T05:35:12.273Z"
   },
   {
    "duration": 111,
    "start_time": "2025-04-17T05:35:12.923Z"
   },
   {
    "duration": 15,
    "start_time": "2025-04-17T05:35:32.288Z"
   },
   {
    "duration": 3521,
    "start_time": "2025-04-17T05:35:36.768Z"
   },
   {
    "duration": 146,
    "start_time": "2025-04-17T05:35:40.292Z"
   },
   {
    "duration": 17,
    "start_time": "2025-04-17T05:35:40.440Z"
   },
   {
    "duration": 58,
    "start_time": "2025-04-17T05:35:40.458Z"
   },
   {
    "duration": 9,
    "start_time": "2025-04-17T05:35:40.519Z"
   },
   {
    "duration": 22,
    "start_time": "2025-04-17T05:35:40.529Z"
   },
   {
    "duration": 19,
    "start_time": "2025-04-17T05:35:40.553Z"
   },
   {
    "duration": 22,
    "start_time": "2025-04-17T05:35:40.573Z"
   },
   {
    "duration": 10,
    "start_time": "2025-04-17T05:35:40.597Z"
   },
   {
    "duration": 10,
    "start_time": "2025-04-17T05:35:40.609Z"
   },
   {
    "duration": 26,
    "start_time": "2025-04-17T05:35:40.620Z"
   },
   {
    "duration": 11,
    "start_time": "2025-04-17T05:35:40.648Z"
   },
   {
    "duration": 17,
    "start_time": "2025-04-17T05:35:40.660Z"
   },
   {
    "duration": 6,
    "start_time": "2025-04-17T05:35:40.679Z"
   },
   {
    "duration": 17,
    "start_time": "2025-04-17T05:35:40.686Z"
   },
   {
    "duration": 29,
    "start_time": "2025-04-17T05:35:40.705Z"
   },
   {
    "duration": 12,
    "start_time": "2025-04-17T05:35:40.736Z"
   },
   {
    "duration": 183,
    "start_time": "2025-04-17T05:35:40.749Z"
   },
   {
    "duration": 6,
    "start_time": "2025-04-17T05:35:40.933Z"
   },
   {
    "duration": 248,
    "start_time": "2025-04-17T05:35:40.941Z"
   },
   {
    "duration": 186,
    "start_time": "2025-04-17T05:35:41.191Z"
   },
   {
    "duration": 5,
    "start_time": "2025-04-17T05:35:41.379Z"
   },
   {
    "duration": 141,
    "start_time": "2025-04-17T05:35:41.386Z"
   },
   {
    "duration": 14,
    "start_time": "2025-04-17T05:35:41.529Z"
   },
   {
    "duration": 219,
    "start_time": "2025-04-17T05:35:41.545Z"
   },
   {
    "duration": 145,
    "start_time": "2025-04-17T05:35:41.766Z"
   },
   {
    "duration": 187,
    "start_time": "2025-04-17T05:35:41.913Z"
   },
   {
    "duration": 249,
    "start_time": "2025-04-17T05:35:42.102Z"
   },
   {
    "duration": 192,
    "start_time": "2025-04-17T05:35:42.353Z"
   },
   {
    "duration": 0,
    "start_time": "2025-04-17T05:35:42.546Z"
   },
   {
    "duration": 0,
    "start_time": "2025-04-17T05:35:42.548Z"
   },
   {
    "duration": 15,
    "start_time": "2025-04-17T05:35:47.517Z"
   },
   {
    "duration": 3690,
    "start_time": "2025-04-17T05:36:04.024Z"
   },
   {
    "duration": 167,
    "start_time": "2025-04-17T05:36:07.716Z"
   },
   {
    "duration": 17,
    "start_time": "2025-04-17T05:36:07.885Z"
   },
   {
    "duration": 94,
    "start_time": "2025-04-17T05:36:07.903Z"
   },
   {
    "duration": 9,
    "start_time": "2025-04-17T05:36:08.000Z"
   },
   {
    "duration": 12,
    "start_time": "2025-04-17T05:36:08.011Z"
   },
   {
    "duration": 107,
    "start_time": "2025-04-17T05:36:08.024Z"
   },
   {
    "duration": 14,
    "start_time": "2025-04-17T05:36:08.133Z"
   },
   {
    "duration": 5,
    "start_time": "2025-04-17T05:36:08.148Z"
   },
   {
    "duration": 22,
    "start_time": "2025-04-17T05:36:08.154Z"
   },
   {
    "duration": 22,
    "start_time": "2025-04-17T05:36:08.178Z"
   },
   {
    "duration": 11,
    "start_time": "2025-04-17T05:36:08.202Z"
   },
   {
    "duration": 22,
    "start_time": "2025-04-17T05:36:08.215Z"
   },
   {
    "duration": 6,
    "start_time": "2025-04-17T05:36:08.240Z"
   },
   {
    "duration": 19,
    "start_time": "2025-04-17T05:36:08.248Z"
   },
   {
    "duration": 6,
    "start_time": "2025-04-17T05:36:08.269Z"
   },
   {
    "duration": 20,
    "start_time": "2025-04-17T05:36:08.277Z"
   },
   {
    "duration": 177,
    "start_time": "2025-04-17T05:36:08.298Z"
   },
   {
    "duration": 6,
    "start_time": "2025-04-17T05:36:08.477Z"
   },
   {
    "duration": 247,
    "start_time": "2025-04-17T05:36:08.485Z"
   },
   {
    "duration": 187,
    "start_time": "2025-04-17T05:36:08.735Z"
   },
   {
    "duration": 14,
    "start_time": "2025-04-17T05:36:08.923Z"
   },
   {
    "duration": 146,
    "start_time": "2025-04-17T05:36:08.939Z"
   },
   {
    "duration": 10,
    "start_time": "2025-04-17T05:36:09.087Z"
   },
   {
    "duration": 218,
    "start_time": "2025-04-17T05:36:09.099Z"
   },
   {
    "duration": 140,
    "start_time": "2025-04-17T05:36:09.318Z"
   },
   {
    "duration": 170,
    "start_time": "2025-04-17T05:36:09.460Z"
   },
   {
    "duration": 237,
    "start_time": "2025-04-17T05:36:09.636Z"
   },
   {
    "duration": 276,
    "start_time": "2025-04-17T05:36:09.875Z"
   },
   {
    "duration": 587,
    "start_time": "2025-04-17T05:36:10.153Z"
   },
   {
    "duration": 112,
    "start_time": "2025-04-17T05:36:10.741Z"
   },
   {
    "duration": 15,
    "start_time": "2025-04-17T05:36:17.837Z"
   },
   {
    "duration": 269,
    "start_time": "2025-04-17T05:36:31.578Z"
   },
   {
    "duration": 260,
    "start_time": "2025-04-17T05:37:05.442Z"
   },
   {
    "duration": 260,
    "start_time": "2025-04-17T05:37:15.240Z"
   },
   {
    "duration": 570,
    "start_time": "2025-04-17T05:37:16.222Z"
   },
   {
    "duration": 3699,
    "start_time": "2025-04-17T05:37:21.309Z"
   },
   {
    "duration": 152,
    "start_time": "2025-04-17T05:37:25.011Z"
   },
   {
    "duration": 17,
    "start_time": "2025-04-17T05:37:25.165Z"
   },
   {
    "duration": 29,
    "start_time": "2025-04-17T05:37:25.184Z"
   },
   {
    "duration": 9,
    "start_time": "2025-04-17T05:37:25.216Z"
   },
   {
    "duration": 10,
    "start_time": "2025-04-17T05:37:25.226Z"
   },
   {
    "duration": 12,
    "start_time": "2025-04-17T05:37:25.237Z"
   },
   {
    "duration": 14,
    "start_time": "2025-04-17T05:37:25.250Z"
   },
   {
    "duration": 4,
    "start_time": "2025-04-17T05:37:25.265Z"
   },
   {
    "duration": 33,
    "start_time": "2025-04-17T05:37:25.270Z"
   },
   {
    "duration": 20,
    "start_time": "2025-04-17T05:37:25.305Z"
   },
   {
    "duration": 72,
    "start_time": "2025-04-17T05:37:25.327Z"
   },
   {
    "duration": 29,
    "start_time": "2025-04-17T05:37:25.401Z"
   },
   {
    "duration": 6,
    "start_time": "2025-04-17T05:37:25.432Z"
   },
   {
    "duration": 17,
    "start_time": "2025-04-17T05:37:25.440Z"
   },
   {
    "duration": 6,
    "start_time": "2025-04-17T05:37:25.458Z"
   },
   {
    "duration": 15,
    "start_time": "2025-04-17T05:37:25.465Z"
   },
   {
    "duration": 181,
    "start_time": "2025-04-17T05:37:25.481Z"
   },
   {
    "duration": 6,
    "start_time": "2025-04-17T05:37:25.664Z"
   },
   {
    "duration": 298,
    "start_time": "2025-04-17T05:37:25.672Z"
   },
   {
    "duration": 183,
    "start_time": "2025-04-17T05:37:25.972Z"
   },
   {
    "duration": 6,
    "start_time": "2025-04-17T05:37:26.156Z"
   },
   {
    "duration": 134,
    "start_time": "2025-04-17T05:37:26.163Z"
   },
   {
    "duration": 10,
    "start_time": "2025-04-17T05:37:26.299Z"
   },
   {
    "duration": 212,
    "start_time": "2025-04-17T05:37:26.311Z"
   },
   {
    "duration": 147,
    "start_time": "2025-04-17T05:37:26.525Z"
   },
   {
    "duration": 171,
    "start_time": "2025-04-17T05:37:26.674Z"
   },
   {
    "duration": 243,
    "start_time": "2025-04-17T05:37:26.847Z"
   },
   {
    "duration": 191,
    "start_time": "2025-04-17T05:37:27.091Z"
   },
   {
    "duration": 688,
    "start_time": "2025-04-17T05:37:27.283Z"
   },
   {
    "duration": 111,
    "start_time": "2025-04-17T05:37:27.972Z"
   },
   {
    "duration": 225,
    "start_time": "2025-04-17T05:38:06.966Z"
   },
   {
    "duration": 15,
    "start_time": "2025-04-17T05:38:09.900Z"
   },
   {
    "duration": 217,
    "start_time": "2025-04-17T05:38:12.972Z"
   },
   {
    "duration": 564,
    "start_time": "2025-04-17T05:39:28.772Z"
   },
   {
    "duration": 216,
    "start_time": "2025-04-17T05:39:39.968Z"
   },
   {
    "duration": 3560,
    "start_time": "2025-04-17T05:39:44.914Z"
   },
   {
    "duration": 195,
    "start_time": "2025-04-17T05:39:48.477Z"
   },
   {
    "duration": 17,
    "start_time": "2025-04-17T05:39:48.674Z"
   },
   {
    "duration": 14,
    "start_time": "2025-04-17T05:39:48.693Z"
   },
   {
    "duration": 14,
    "start_time": "2025-04-17T05:39:48.710Z"
   },
   {
    "duration": 12,
    "start_time": "2025-04-17T05:39:48.726Z"
   },
   {
    "duration": 11,
    "start_time": "2025-04-17T05:39:48.740Z"
   },
   {
    "duration": 17,
    "start_time": "2025-04-17T05:39:48.753Z"
   },
   {
    "duration": 5,
    "start_time": "2025-04-17T05:39:48.771Z"
   },
   {
    "duration": 6,
    "start_time": "2025-04-17T05:39:48.777Z"
   },
   {
    "duration": 9,
    "start_time": "2025-04-17T05:39:48.784Z"
   },
   {
    "duration": 45,
    "start_time": "2025-04-17T05:39:48.795Z"
   },
   {
    "duration": 17,
    "start_time": "2025-04-17T05:39:48.841Z"
   },
   {
    "duration": 6,
    "start_time": "2025-04-17T05:39:48.860Z"
   },
   {
    "duration": 7,
    "start_time": "2025-04-17T05:39:48.868Z"
   },
   {
    "duration": 6,
    "start_time": "2025-04-17T05:39:48.877Z"
   },
   {
    "duration": 8,
    "start_time": "2025-04-17T05:39:48.884Z"
   },
   {
    "duration": 243,
    "start_time": "2025-04-17T05:39:48.893Z"
   },
   {
    "duration": 5,
    "start_time": "2025-04-17T05:39:49.138Z"
   },
   {
    "duration": 254,
    "start_time": "2025-04-17T05:39:49.145Z"
   },
   {
    "duration": 187,
    "start_time": "2025-04-17T05:39:49.400Z"
   },
   {
    "duration": 6,
    "start_time": "2025-04-17T05:39:49.588Z"
   },
   {
    "duration": 137,
    "start_time": "2025-04-17T05:39:49.595Z"
   },
   {
    "duration": 11,
    "start_time": "2025-04-17T05:39:49.736Z"
   },
   {
    "duration": 232,
    "start_time": "2025-04-17T05:39:49.748Z"
   },
   {
    "duration": 153,
    "start_time": "2025-04-17T05:39:49.983Z"
   },
   {
    "duration": 171,
    "start_time": "2025-04-17T05:39:50.138Z"
   },
   {
    "duration": 249,
    "start_time": "2025-04-17T05:39:50.311Z"
   },
   {
    "duration": 195,
    "start_time": "2025-04-17T05:39:50.562Z"
   },
   {
    "duration": 622,
    "start_time": "2025-04-17T05:39:50.759Z"
   },
   {
    "duration": 106,
    "start_time": "2025-04-17T05:39:51.382Z"
   },
   {
    "duration": 4,
    "start_time": "2025-04-17T05:40:58.894Z"
   },
   {
    "duration": 4,
    "start_time": "2025-04-17T05:41:19.377Z"
   },
   {
    "duration": 235,
    "start_time": "2025-04-17T05:43:26.219Z"
   },
   {
    "duration": 177,
    "start_time": "2025-04-17T05:43:40.503Z"
   },
   {
    "duration": 182,
    "start_time": "2025-04-17T05:43:41.083Z"
   },
   {
    "duration": 393,
    "start_time": "2025-04-17T05:43:49.685Z"
   },
   {
    "duration": 383,
    "start_time": "2025-04-17T05:44:27.598Z"
   },
   {
    "duration": 357,
    "start_time": "2025-04-17T05:44:36.904Z"
   },
   {
    "duration": 187,
    "start_time": "2025-04-17T05:45:56.494Z"
   },
   {
    "duration": 77,
    "start_time": "2025-04-17T05:45:57.656Z"
   },
   {
    "duration": 250,
    "start_time": "2025-04-17T05:46:17.447Z"
   },
   {
    "duration": 181,
    "start_time": "2025-04-17T05:47:15.096Z"
   },
   {
    "duration": 238,
    "start_time": "2025-04-17T05:47:22.544Z"
   },
   {
    "duration": 222,
    "start_time": "2025-04-17T05:49:47.544Z"
   },
   {
    "duration": 3,
    "start_time": "2025-04-17T05:51:28.591Z"
   },
   {
    "duration": 10,
    "start_time": "2025-04-17T05:51:32.136Z"
   },
   {
    "duration": 8,
    "start_time": "2025-04-17T05:54:14.913Z"
   },
   {
    "duration": 8,
    "start_time": "2025-04-17T06:02:44.710Z"
   },
   {
    "duration": 345,
    "start_time": "2025-04-17T06:21:14.059Z"
   },
   {
    "duration": 197,
    "start_time": "2025-04-17T06:21:30.495Z"
   },
   {
    "duration": 242,
    "start_time": "2025-04-17T06:21:31.144Z"
   },
   {
    "duration": 260,
    "start_time": "2025-04-17T06:21:49.526Z"
   },
   {
    "duration": 242,
    "start_time": "2025-04-17T06:21:54.103Z"
   },
   {
    "duration": 211,
    "start_time": "2025-04-17T06:21:57.886Z"
   },
   {
    "duration": 198,
    "start_time": "2025-04-17T06:22:05.272Z"
   },
   {
    "duration": 198,
    "start_time": "2025-04-17T06:22:20.599Z"
   },
   {
    "duration": 199,
    "start_time": "2025-04-17T06:22:50.323Z"
   },
   {
    "duration": 198,
    "start_time": "2025-04-17T06:22:58.407Z"
   },
   {
    "duration": 198,
    "start_time": "2025-04-17T06:23:33.483Z"
   },
   {
    "duration": 236,
    "start_time": "2025-04-17T06:23:43.423Z"
   },
   {
    "duration": 7,
    "start_time": "2025-04-17T06:23:49.060Z"
   },
   {
    "duration": 3785,
    "start_time": "2025-04-17T06:23:53.819Z"
   },
   {
    "duration": 226,
    "start_time": "2025-04-17T06:23:57.606Z"
   },
   {
    "duration": 18,
    "start_time": "2025-04-17T06:23:57.834Z"
   },
   {
    "duration": 14,
    "start_time": "2025-04-17T06:23:57.854Z"
   },
   {
    "duration": 33,
    "start_time": "2025-04-17T06:23:57.870Z"
   },
   {
    "duration": 34,
    "start_time": "2025-04-17T06:23:57.905Z"
   },
   {
    "duration": 11,
    "start_time": "2025-04-17T06:23:57.940Z"
   },
   {
    "duration": 16,
    "start_time": "2025-04-17T06:23:57.953Z"
   },
   {
    "duration": 4,
    "start_time": "2025-04-17T06:23:57.971Z"
   },
   {
    "duration": 6,
    "start_time": "2025-04-17T06:23:57.976Z"
   },
   {
    "duration": 53,
    "start_time": "2025-04-17T06:23:57.984Z"
   },
   {
    "duration": 15,
    "start_time": "2025-04-17T06:23:58.039Z"
   },
   {
    "duration": 19,
    "start_time": "2025-04-17T06:23:58.056Z"
   },
   {
    "duration": 6,
    "start_time": "2025-04-17T06:23:58.078Z"
   },
   {
    "duration": 19,
    "start_time": "2025-04-17T06:23:58.086Z"
   },
   {
    "duration": 31,
    "start_time": "2025-04-17T06:23:58.106Z"
   },
   {
    "duration": 106,
    "start_time": "2025-04-17T06:23:58.138Z"
   },
   {
    "duration": 283,
    "start_time": "2025-04-17T06:23:58.246Z"
   },
   {
    "duration": 11,
    "start_time": "2025-04-17T06:23:58.531Z"
   },
   {
    "duration": 261,
    "start_time": "2025-04-17T06:23:58.544Z"
   },
   {
    "duration": 214,
    "start_time": "2025-04-17T06:23:58.807Z"
   },
   {
    "duration": 20,
    "start_time": "2025-04-17T06:23:59.023Z"
   },
   {
    "duration": 136,
    "start_time": "2025-04-17T06:23:59.045Z"
   },
   {
    "duration": 15,
    "start_time": "2025-04-17T06:23:59.183Z"
   },
   {
    "duration": 233,
    "start_time": "2025-04-17T06:23:59.200Z"
   },
   {
    "duration": 154,
    "start_time": "2025-04-17T06:23:59.437Z"
   },
   {
    "duration": 180,
    "start_time": "2025-04-17T06:23:59.593Z"
   },
   {
    "duration": 251,
    "start_time": "2025-04-17T06:23:59.775Z"
   },
   {
    "duration": 211,
    "start_time": "2025-04-17T06:24:00.028Z"
   },
   {
    "duration": 242,
    "start_time": "2025-04-17T06:24:00.241Z"
   },
   {
    "duration": 7,
    "start_time": "2025-04-17T06:24:00.485Z"
   },
   {
    "duration": 22,
    "start_time": "2025-04-17T06:30:35.549Z"
   },
   {
    "duration": 479,
    "start_time": "2025-04-17T06:30:40.947Z"
   },
   {
    "duration": 202,
    "start_time": "2025-04-17T06:32:06.198Z"
   },
   {
    "duration": 247,
    "start_time": "2025-04-17T06:32:06.813Z"
   },
   {
    "duration": 7,
    "start_time": "2025-04-17T06:32:07.266Z"
   },
   {
    "duration": 293,
    "start_time": "2025-04-17T06:36:34.245Z"
   },
   {
    "duration": 418,
    "start_time": "2025-04-17T06:36:41.215Z"
   },
   {
    "duration": 294,
    "start_time": "2025-04-17T06:36:46.263Z"
   },
   {
    "duration": 278,
    "start_time": "2025-04-17T06:36:51.101Z"
   },
   {
    "duration": 252,
    "start_time": "2025-04-17T06:36:55.714Z"
   },
   {
    "duration": 488,
    "start_time": "2025-04-17T06:37:29.774Z"
   },
   {
    "duration": 427,
    "start_time": "2025-04-17T06:39:35.979Z"
   },
   {
    "duration": 435,
    "start_time": "2025-04-17T06:39:45.322Z"
   },
   {
    "duration": 410,
    "start_time": "2025-04-17T06:39:51.423Z"
   },
   {
    "duration": 414,
    "start_time": "2025-04-17T06:40:00.888Z"
   },
   {
    "duration": 255,
    "start_time": "2025-04-17T06:40:18.266Z"
   },
   {
    "duration": 220,
    "start_time": "2025-04-17T06:40:21.716Z"
   },
   {
    "duration": 290,
    "start_time": "2025-04-17T06:40:26.558Z"
   },
   {
    "duration": 224,
    "start_time": "2025-04-17T06:40:30.069Z"
   },
   {
    "duration": 6,
    "start_time": "2025-04-17T06:44:03.916Z"
   },
   {
    "duration": 199,
    "start_time": "2025-04-17T06:44:06.243Z"
   },
   {
    "duration": 265,
    "start_time": "2025-04-17T06:44:06.745Z"
   },
   {
    "duration": 7,
    "start_time": "2025-04-17T06:44:07.519Z"
   },
   {
    "duration": 14,
    "start_time": "2025-04-17T06:44:47.217Z"
   },
   {
    "duration": 13,
    "start_time": "2025-04-17T06:44:58.409Z"
   },
   {
    "duration": 110,
    "start_time": "2025-04-17T06:46:34.785Z"
   },
   {
    "duration": 13,
    "start_time": "2025-04-17T06:46:36.802Z"
   },
   {
    "duration": 20,
    "start_time": "2025-04-17T06:46:39.852Z"
   },
   {
    "duration": 14,
    "start_time": "2025-04-17T06:46:42.847Z"
   },
   {
    "duration": 15,
    "start_time": "2025-04-17T06:46:51.051Z"
   },
   {
    "duration": 17,
    "start_time": "2025-04-17T06:46:54.173Z"
   },
   {
    "duration": 14,
    "start_time": "2025-04-17T06:47:17.617Z"
   },
   {
    "duration": 15,
    "start_time": "2025-04-17T06:51:19.632Z"
   },
   {
    "duration": 12,
    "start_time": "2025-04-17T06:52:30.926Z"
   },
   {
    "duration": 534,
    "start_time": "2025-04-17T06:52:57.353Z"
   },
   {
    "duration": 75,
    "start_time": "2025-04-17T06:53:00.707Z"
   },
   {
    "duration": 68,
    "start_time": "2025-04-17T06:53:02.642Z"
   },
   {
    "duration": 13,
    "start_time": "2025-04-17T06:53:04.938Z"
   },
   {
    "duration": 13,
    "start_time": "2025-04-17T06:53:41.712Z"
   },
   {
    "duration": 13,
    "start_time": "2025-04-17T06:53:44.337Z"
   },
   {
    "duration": 14,
    "start_time": "2025-04-17T07:04:11.082Z"
   },
   {
    "duration": 3713,
    "start_time": "2025-04-17T07:04:14.780Z"
   },
   {
    "duration": 232,
    "start_time": "2025-04-17T07:04:18.496Z"
   },
   {
    "duration": 20,
    "start_time": "2025-04-17T07:04:18.730Z"
   },
   {
    "duration": 14,
    "start_time": "2025-04-17T07:04:18.752Z"
   },
   {
    "duration": 9,
    "start_time": "2025-04-17T07:04:18.768Z"
   },
   {
    "duration": 44,
    "start_time": "2025-04-17T07:04:18.778Z"
   },
   {
    "duration": 11,
    "start_time": "2025-04-17T07:04:18.824Z"
   },
   {
    "duration": 17,
    "start_time": "2025-04-17T07:04:18.849Z"
   },
   {
    "duration": 4,
    "start_time": "2025-04-17T07:04:18.867Z"
   },
   {
    "duration": 12,
    "start_time": "2025-04-17T07:04:18.874Z"
   },
   {
    "duration": 10,
    "start_time": "2025-04-17T07:04:18.888Z"
   },
   {
    "duration": 12,
    "start_time": "2025-04-17T07:04:18.899Z"
   },
   {
    "duration": 45,
    "start_time": "2025-04-17T07:04:18.912Z"
   },
   {
    "duration": 8,
    "start_time": "2025-04-17T07:04:18.959Z"
   },
   {
    "duration": 82,
    "start_time": "2025-04-17T07:04:18.969Z"
   },
   {
    "duration": 20,
    "start_time": "2025-04-17T07:04:19.053Z"
   },
   {
    "duration": 9,
    "start_time": "2025-04-17T07:04:19.074Z"
   },
   {
    "duration": 194,
    "start_time": "2025-04-17T07:04:19.085Z"
   },
   {
    "duration": 7,
    "start_time": "2025-04-17T07:04:19.280Z"
   },
   {
    "duration": 231,
    "start_time": "2025-04-17T07:04:19.288Z"
   },
   {
    "duration": 189,
    "start_time": "2025-04-17T07:04:19.520Z"
   },
   {
    "duration": 6,
    "start_time": "2025-04-17T07:04:19.710Z"
   },
   {
    "duration": 152,
    "start_time": "2025-04-17T07:04:19.717Z"
   },
   {
    "duration": 11,
    "start_time": "2025-04-17T07:04:19.871Z"
   },
   {
    "duration": 233,
    "start_time": "2025-04-17T07:04:19.883Z"
   },
   {
    "duration": 157,
    "start_time": "2025-04-17T07:04:20.119Z"
   },
   {
    "duration": 185,
    "start_time": "2025-04-17T07:04:20.278Z"
   },
   {
    "duration": 252,
    "start_time": "2025-04-17T07:04:20.467Z"
   },
   {
    "duration": 209,
    "start_time": "2025-04-17T07:04:20.721Z"
   },
   {
    "duration": 275,
    "start_time": "2025-04-17T07:04:20.931Z"
   },
   {
    "duration": 6,
    "start_time": "2025-04-17T07:04:21.208Z"
   },
   {
    "duration": 35,
    "start_time": "2025-04-17T07:04:21.216Z"
   },
   {
    "duration": 51,
    "start_time": "2025-04-17T07:04:21.254Z"
   },
   {
    "duration": 443,
    "start_time": "2025-04-17T07:04:21.307Z"
   },
   {
    "duration": 122,
    "start_time": "2025-04-17T07:04:21.752Z"
   },
   {
    "duration": 31,
    "start_time": "2025-04-17T07:04:55.700Z"
   },
   {
    "duration": 15,
    "start_time": "2025-04-17T07:07:27.498Z"
   },
   {
    "duration": 18,
    "start_time": "2025-04-17T07:07:34.436Z"
   },
   {
    "duration": 411,
    "start_time": "2025-04-17T07:07:35.180Z"
   },
   {
    "duration": 13,
    "start_time": "2025-04-17T07:08:04.120Z"
   },
   {
    "duration": 12,
    "start_time": "2025-04-17T07:08:06.696Z"
   },
   {
    "duration": 437,
    "start_time": "2025-04-17T07:08:07.164Z"
   },
   {
    "duration": 15,
    "start_time": "2025-04-17T07:12:37.951Z"
   },
   {
    "duration": 13,
    "start_time": "2025-04-17T07:12:54.981Z"
   },
   {
    "duration": 1229,
    "start_time": "2025-04-17T07:22:38.318Z"
   },
   {
    "duration": 3754,
    "start_time": "2025-04-17T07:22:43.423Z"
   },
   {
    "duration": 469,
    "start_time": "2025-04-17T07:22:47.179Z"
   },
   {
    "duration": 19,
    "start_time": "2025-04-17T07:22:47.650Z"
   },
   {
    "duration": 16,
    "start_time": "2025-04-17T07:22:47.670Z"
   },
   {
    "duration": 8,
    "start_time": "2025-04-17T07:22:47.688Z"
   },
   {
    "duration": 49,
    "start_time": "2025-04-17T07:22:47.698Z"
   },
   {
    "duration": 12,
    "start_time": "2025-04-17T07:22:47.750Z"
   },
   {
    "duration": 15,
    "start_time": "2025-04-17T07:22:47.763Z"
   },
   {
    "duration": 4,
    "start_time": "2025-04-17T07:22:47.780Z"
   },
   {
    "duration": 16,
    "start_time": "2025-04-17T07:22:47.786Z"
   },
   {
    "duration": 39,
    "start_time": "2025-04-17T07:22:47.804Z"
   },
   {
    "duration": 36,
    "start_time": "2025-04-17T07:22:47.845Z"
   },
   {
    "duration": 17,
    "start_time": "2025-04-17T07:22:47.883Z"
   },
   {
    "duration": 6,
    "start_time": "2025-04-17T07:22:47.901Z"
   },
   {
    "duration": 15,
    "start_time": "2025-04-17T07:22:47.908Z"
   },
   {
    "duration": 22,
    "start_time": "2025-04-17T07:22:47.925Z"
   },
   {
    "duration": 9,
    "start_time": "2025-04-17T07:22:47.950Z"
   },
   {
    "duration": 212,
    "start_time": "2025-04-17T07:22:47.961Z"
   },
   {
    "duration": 5,
    "start_time": "2025-04-17T07:22:48.175Z"
   },
   {
    "duration": 232,
    "start_time": "2025-04-17T07:22:48.182Z"
   },
   {
    "duration": 190,
    "start_time": "2025-04-17T07:22:48.415Z"
   },
   {
    "duration": 6,
    "start_time": "2025-04-17T07:22:48.606Z"
   },
   {
    "duration": 173,
    "start_time": "2025-04-17T07:22:48.614Z"
   },
   {
    "duration": 11,
    "start_time": "2025-04-17T07:22:48.788Z"
   },
   {
    "duration": 250,
    "start_time": "2025-04-17T07:22:48.801Z"
   },
   {
    "duration": 148,
    "start_time": "2025-04-17T07:22:49.055Z"
   },
   {
    "duration": 180,
    "start_time": "2025-04-17T07:22:49.205Z"
   },
   {
    "duration": 269,
    "start_time": "2025-04-17T07:22:49.388Z"
   },
   {
    "duration": 207,
    "start_time": "2025-04-17T07:22:49.659Z"
   },
   {
    "duration": 240,
    "start_time": "2025-04-17T07:22:49.868Z"
   },
   {
    "duration": 6,
    "start_time": "2025-04-17T07:22:50.109Z"
   },
   {
    "duration": 75,
    "start_time": "2025-04-17T07:22:50.116Z"
   },
   {
    "duration": 26,
    "start_time": "2025-04-17T07:22:50.193Z"
   },
   {
    "duration": 425,
    "start_time": "2025-04-17T07:22:50.220Z"
   },
   {
    "duration": 1420,
    "start_time": "2025-04-17T07:22:50.649Z"
   },
   {
    "duration": 14,
    "start_time": "2025-04-17T07:25:25.371Z"
   },
   {
    "duration": 23,
    "start_time": "2025-04-17T07:25:30.231Z"
   },
   {
    "duration": 3759,
    "start_time": "2025-04-17T07:25:38.880Z"
   },
   {
    "duration": 177,
    "start_time": "2025-04-17T07:25:42.650Z"
   },
   {
    "duration": 26,
    "start_time": "2025-04-17T07:25:42.829Z"
   },
   {
    "duration": 135,
    "start_time": "2025-04-17T07:25:42.857Z"
   },
   {
    "duration": 10,
    "start_time": "2025-04-17T07:25:42.994Z"
   },
   {
    "duration": 16,
    "start_time": "2025-04-17T07:25:43.006Z"
   },
   {
    "duration": 11,
    "start_time": "2025-04-17T07:25:43.024Z"
   },
   {
    "duration": 15,
    "start_time": "2025-04-17T07:25:43.048Z"
   },
   {
    "duration": 4,
    "start_time": "2025-04-17T07:25:43.065Z"
   },
   {
    "duration": 59,
    "start_time": "2025-04-17T07:25:43.071Z"
   },
   {
    "duration": 43,
    "start_time": "2025-04-17T07:25:43.131Z"
   },
   {
    "duration": 11,
    "start_time": "2025-04-17T07:25:43.176Z"
   },
   {
    "duration": 24,
    "start_time": "2025-04-17T07:25:43.189Z"
   },
   {
    "duration": 6,
    "start_time": "2025-04-17T07:25:43.216Z"
   },
   {
    "duration": 11,
    "start_time": "2025-04-17T07:25:43.223Z"
   },
   {
    "duration": 20,
    "start_time": "2025-04-17T07:25:43.235Z"
   },
   {
    "duration": 9,
    "start_time": "2025-04-17T07:25:43.257Z"
   },
   {
    "duration": 204,
    "start_time": "2025-04-17T07:25:43.268Z"
   },
   {
    "duration": 7,
    "start_time": "2025-04-17T07:25:43.473Z"
   },
   {
    "duration": 224,
    "start_time": "2025-04-17T07:25:43.481Z"
   },
   {
    "duration": 196,
    "start_time": "2025-04-17T07:25:43.706Z"
   },
   {
    "duration": 6,
    "start_time": "2025-04-17T07:25:43.904Z"
   },
   {
    "duration": 150,
    "start_time": "2025-04-17T07:25:43.911Z"
   },
   {
    "duration": 11,
    "start_time": "2025-04-17T07:25:44.062Z"
   },
   {
    "duration": 226,
    "start_time": "2025-04-17T07:25:44.074Z"
   },
   {
    "duration": 182,
    "start_time": "2025-04-17T07:25:44.302Z"
   },
   {
    "duration": 180,
    "start_time": "2025-04-17T07:25:44.486Z"
   },
   {
    "duration": 251,
    "start_time": "2025-04-17T07:25:44.668Z"
   },
   {
    "duration": 210,
    "start_time": "2025-04-17T07:25:44.921Z"
   },
   {
    "duration": 280,
    "start_time": "2025-04-17T07:25:45.135Z"
   },
   {
    "duration": 5,
    "start_time": "2025-04-17T07:25:45.417Z"
   },
   {
    "duration": 164,
    "start_time": "2025-04-17T07:25:45.424Z"
   },
   {
    "duration": 0,
    "start_time": "2025-04-17T07:25:45.590Z"
   },
   {
    "duration": 0,
    "start_time": "2025-04-17T07:25:45.591Z"
   },
   {
    "duration": 18,
    "start_time": "2025-04-17T07:25:55.767Z"
   },
   {
    "duration": 15,
    "start_time": "2025-04-17T07:25:57.946Z"
   },
   {
    "duration": 458,
    "start_time": "2025-04-17T07:25:58.661Z"
   },
   {
    "duration": 14,
    "start_time": "2025-04-17T07:26:53.851Z"
   },
   {
    "duration": 16,
    "start_time": "2025-04-17T07:26:59.662Z"
   },
   {
    "duration": 12,
    "start_time": "2025-04-17T07:27:00.649Z"
   },
   {
    "duration": 13,
    "start_time": "2025-04-17T07:27:50.300Z"
   },
   {
    "duration": 13,
    "start_time": "2025-04-17T07:27:53.670Z"
   },
   {
    "duration": 435,
    "start_time": "2025-04-17T07:27:54.350Z"
   },
   {
    "duration": 233,
    "start_time": "2025-04-17T07:28:02.693Z"
   },
   {
    "duration": 213,
    "start_time": "2025-04-17T07:28:04.816Z"
   },
   {
    "duration": 16,
    "start_time": "2025-04-17T07:28:37.479Z"
   },
   {
    "duration": 16,
    "start_time": "2025-04-17T07:28:41.495Z"
   },
   {
    "duration": 23,
    "start_time": "2025-04-17T07:28:42.332Z"
   },
   {
    "duration": 216,
    "start_time": "2025-04-17T07:28:44.748Z"
   },
   {
    "duration": 204,
    "start_time": "2025-04-17T07:28:45.450Z"
   },
   {
    "duration": 294,
    "start_time": "2025-04-17T07:29:11.809Z"
   },
   {
    "duration": 203,
    "start_time": "2025-04-17T07:29:30.579Z"
   },
   {
    "duration": 211,
    "start_time": "2025-04-17T07:36:48.420Z"
   },
   {
    "duration": 218,
    "start_time": "2025-04-17T07:36:49.178Z"
   },
   {
    "duration": 55,
    "start_time": "2025-04-17T08:46:50.155Z"
   },
   {
    "duration": 6,
    "start_time": "2025-04-17T08:46:55.051Z"
   },
   {
    "duration": 4873,
    "start_time": "2025-04-17T08:46:58.553Z"
   },
   {
    "duration": 332,
    "start_time": "2025-04-17T08:47:03.428Z"
   },
   {
    "duration": 17,
    "start_time": "2025-04-17T08:47:03.762Z"
   },
   {
    "duration": 37,
    "start_time": "2025-04-17T08:47:03.780Z"
   },
   {
    "duration": 10,
    "start_time": "2025-04-17T08:47:03.819Z"
   },
   {
    "duration": 88,
    "start_time": "2025-04-17T08:47:03.830Z"
   },
   {
    "duration": 24,
    "start_time": "2025-04-17T08:47:03.919Z"
   },
   {
    "duration": 16,
    "start_time": "2025-04-17T08:47:03.945Z"
   },
   {
    "duration": 5,
    "start_time": "2025-04-17T08:47:03.963Z"
   },
   {
    "duration": 37,
    "start_time": "2025-04-17T08:47:03.969Z"
   },
   {
    "duration": 19,
    "start_time": "2025-04-17T08:47:04.007Z"
   },
   {
    "duration": 14,
    "start_time": "2025-04-17T08:47:04.027Z"
   },
   {
    "duration": 21,
    "start_time": "2025-04-17T08:47:04.043Z"
   },
   {
    "duration": 6,
    "start_time": "2025-04-17T08:47:04.067Z"
   },
   {
    "duration": 48,
    "start_time": "2025-04-17T08:47:04.074Z"
   },
   {
    "duration": 15,
    "start_time": "2025-04-17T08:47:04.124Z"
   },
   {
    "duration": 26,
    "start_time": "2025-04-17T08:47:04.140Z"
   },
   {
    "duration": 212,
    "start_time": "2025-04-17T08:47:04.168Z"
   },
   {
    "duration": 6,
    "start_time": "2025-04-17T08:47:04.382Z"
   },
   {
    "duration": 219,
    "start_time": "2025-04-17T08:47:04.389Z"
   },
   {
    "duration": 193,
    "start_time": "2025-04-17T08:47:04.609Z"
   },
   {
    "duration": 6,
    "start_time": "2025-04-17T08:47:04.804Z"
   },
   {
    "duration": 152,
    "start_time": "2025-04-17T08:47:04.812Z"
   },
   {
    "duration": 10,
    "start_time": "2025-04-17T08:47:04.966Z"
   },
   {
    "duration": 223,
    "start_time": "2025-04-17T08:47:04.977Z"
   },
   {
    "duration": 166,
    "start_time": "2025-04-17T08:47:05.202Z"
   },
   {
    "duration": 181,
    "start_time": "2025-04-17T08:47:05.370Z"
   },
   {
    "duration": 257,
    "start_time": "2025-04-17T08:47:05.553Z"
   },
   {
    "duration": 202,
    "start_time": "2025-04-17T08:47:05.812Z"
   },
   {
    "duration": 281,
    "start_time": "2025-04-17T08:47:06.016Z"
   },
   {
    "duration": 5,
    "start_time": "2025-04-17T08:47:06.299Z"
   },
   {
    "duration": 42,
    "start_time": "2025-04-17T08:47:06.306Z"
   },
   {
    "duration": 103,
    "start_time": "2025-04-17T08:47:06.350Z"
   },
   {
    "duration": 0,
    "start_time": "2025-04-17T08:47:06.455Z"
   },
   {
    "duration": 0,
    "start_time": "2025-04-17T08:47:06.462Z"
   },
   {
    "duration": 17,
    "start_time": "2025-04-17T08:47:22.695Z"
   },
   {
    "duration": 204,
    "start_time": "2025-04-17T08:47:23.316Z"
   },
   {
    "duration": 199,
    "start_time": "2025-04-17T08:47:23.938Z"
   },
   {
    "duration": 3592,
    "start_time": "2025-04-17T08:47:27.976Z"
   },
   {
    "duration": 233,
    "start_time": "2025-04-17T08:47:31.570Z"
   },
   {
    "duration": 17,
    "start_time": "2025-04-17T08:47:31.805Z"
   },
   {
    "duration": 42,
    "start_time": "2025-04-17T08:47:31.823Z"
   },
   {
    "duration": 60,
    "start_time": "2025-04-17T08:47:31.868Z"
   },
   {
    "duration": 21,
    "start_time": "2025-04-17T08:47:31.930Z"
   },
   {
    "duration": 12,
    "start_time": "2025-04-17T08:47:31.953Z"
   },
   {
    "duration": 17,
    "start_time": "2025-04-17T08:47:31.967Z"
   },
   {
    "duration": 8,
    "start_time": "2025-04-17T08:47:31.985Z"
   },
   {
    "duration": 29,
    "start_time": "2025-04-17T08:47:31.994Z"
   },
   {
    "duration": 22,
    "start_time": "2025-04-17T08:47:32.025Z"
   },
   {
    "duration": 11,
    "start_time": "2025-04-17T08:47:32.049Z"
   },
   {
    "duration": 18,
    "start_time": "2025-04-17T08:47:32.061Z"
   },
   {
    "duration": 8,
    "start_time": "2025-04-17T08:47:32.082Z"
   },
   {
    "duration": 50,
    "start_time": "2025-04-17T08:47:32.091Z"
   },
   {
    "duration": 21,
    "start_time": "2025-04-17T08:47:32.143Z"
   },
   {
    "duration": 23,
    "start_time": "2025-04-17T08:47:32.166Z"
   },
   {
    "duration": 210,
    "start_time": "2025-04-17T08:47:32.191Z"
   },
   {
    "duration": 6,
    "start_time": "2025-04-17T08:47:32.403Z"
   },
   {
    "duration": 205,
    "start_time": "2025-04-17T08:47:32.411Z"
   },
   {
    "duration": 189,
    "start_time": "2025-04-17T08:47:32.618Z"
   },
   {
    "duration": 6,
    "start_time": "2025-04-17T08:47:32.808Z"
   },
   {
    "duration": 139,
    "start_time": "2025-04-17T08:47:32.815Z"
   },
   {
    "duration": 15,
    "start_time": "2025-04-17T08:47:32.955Z"
   },
   {
    "duration": 221,
    "start_time": "2025-04-17T08:47:32.971Z"
   },
   {
    "duration": 149,
    "start_time": "2025-04-17T08:47:33.194Z"
   },
   {
    "duration": 176,
    "start_time": "2025-04-17T08:47:33.345Z"
   },
   {
    "duration": 242,
    "start_time": "2025-04-17T08:47:33.523Z"
   },
   {
    "duration": 202,
    "start_time": "2025-04-17T08:47:33.767Z"
   },
   {
    "duration": 264,
    "start_time": "2025-04-17T08:47:33.971Z"
   },
   {
    "duration": 5,
    "start_time": "2025-04-17T08:47:34.237Z"
   },
   {
    "duration": 16,
    "start_time": "2025-04-17T08:47:34.263Z"
   },
   {
    "duration": 36,
    "start_time": "2025-04-17T08:47:34.280Z"
   },
   {
    "duration": 215,
    "start_time": "2025-04-17T08:47:34.318Z"
   },
   {
    "duration": 202,
    "start_time": "2025-04-17T08:47:34.535Z"
   },
   {
    "duration": 205,
    "start_time": "2025-04-17T08:47:42.085Z"
   },
   {
    "duration": 201,
    "start_time": "2025-04-17T08:47:48.797Z"
   },
   {
    "duration": 198,
    "start_time": "2025-04-17T08:47:54.530Z"
   },
   {
    "duration": 201,
    "start_time": "2025-04-17T08:48:05.501Z"
   },
   {
    "duration": 207,
    "start_time": "2025-04-17T08:51:33.116Z"
   },
   {
    "duration": 204,
    "start_time": "2025-04-17T08:51:39.087Z"
   },
   {
    "duration": 203,
    "start_time": "2025-04-17T08:52:02.592Z"
   },
   {
    "duration": 24,
    "start_time": "2025-04-17T08:52:27.298Z"
   },
   {
    "duration": 289,
    "start_time": "2025-04-17T08:52:27.742Z"
   },
   {
    "duration": 17,
    "start_time": "2025-04-17T08:52:31.236Z"
   },
   {
    "duration": 197,
    "start_time": "2025-04-17T08:52:31.666Z"
   },
   {
    "duration": 3687,
    "start_time": "2025-04-17T08:53:13.083Z"
   },
   {
    "duration": 630,
    "start_time": "2025-04-17T08:53:16.772Z"
   },
   {
    "duration": 18,
    "start_time": "2025-04-17T08:53:17.404Z"
   },
   {
    "duration": 39,
    "start_time": "2025-04-17T08:53:17.424Z"
   },
   {
    "duration": 25,
    "start_time": "2025-04-17T08:53:17.467Z"
   },
   {
    "duration": 38,
    "start_time": "2025-04-17T08:53:17.494Z"
   },
   {
    "duration": 35,
    "start_time": "2025-04-17T08:53:17.533Z"
   },
   {
    "duration": 20,
    "start_time": "2025-04-17T08:53:17.570Z"
   },
   {
    "duration": 28,
    "start_time": "2025-04-17T08:53:17.592Z"
   },
   {
    "duration": 37,
    "start_time": "2025-04-17T08:53:17.622Z"
   },
   {
    "duration": 35,
    "start_time": "2025-04-17T08:53:17.660Z"
   },
   {
    "duration": 41,
    "start_time": "2025-04-17T08:53:17.697Z"
   },
   {
    "duration": 32,
    "start_time": "2025-04-17T08:53:17.739Z"
   },
   {
    "duration": 19,
    "start_time": "2025-04-17T08:53:17.775Z"
   },
   {
    "duration": 25,
    "start_time": "2025-04-17T08:53:17.796Z"
   },
   {
    "duration": 16,
    "start_time": "2025-04-17T08:53:17.823Z"
   },
   {
    "duration": 43,
    "start_time": "2025-04-17T08:53:17.840Z"
   },
   {
    "duration": 236,
    "start_time": "2025-04-17T08:53:17.885Z"
   },
   {
    "duration": 6,
    "start_time": "2025-04-17T08:53:18.123Z"
   },
   {
    "duration": 224,
    "start_time": "2025-04-17T08:53:18.130Z"
   },
   {
    "duration": 189,
    "start_time": "2025-04-17T08:53:18.356Z"
   },
   {
    "duration": 6,
    "start_time": "2025-04-17T08:53:18.546Z"
   },
   {
    "duration": 134,
    "start_time": "2025-04-17T08:53:18.553Z"
   },
   {
    "duration": 11,
    "start_time": "2025-04-17T08:53:18.688Z"
   },
   {
    "duration": 227,
    "start_time": "2025-04-17T08:53:18.701Z"
   },
   {
    "duration": 152,
    "start_time": "2025-04-17T08:53:18.930Z"
   },
   {
    "duration": 189,
    "start_time": "2025-04-17T08:53:19.084Z"
   },
   {
    "duration": 253,
    "start_time": "2025-04-17T08:53:19.276Z"
   },
   {
    "duration": 202,
    "start_time": "2025-04-17T08:53:19.531Z"
   },
   {
    "duration": 305,
    "start_time": "2025-04-17T08:53:19.735Z"
   },
   {
    "duration": 21,
    "start_time": "2025-04-17T08:53:20.042Z"
   },
   {
    "duration": 28,
    "start_time": "2025-04-17T08:53:20.065Z"
   },
   {
    "duration": 232,
    "start_time": "2025-04-17T08:53:20.094Z"
   },
   {
    "duration": 17,
    "start_time": "2025-04-17T08:53:20.328Z"
   },
   {
    "duration": 212,
    "start_time": "2025-04-17T08:53:20.346Z"
   },
   {
    "duration": 4450,
    "start_time": "2025-04-17T13:01:21.587Z"
   },
   {
    "duration": 194,
    "start_time": "2025-04-17T13:01:26.039Z"
   },
   {
    "duration": 16,
    "start_time": "2025-04-17T13:01:26.234Z"
   },
   {
    "duration": 13,
    "start_time": "2025-04-17T13:01:26.252Z"
   },
   {
    "duration": 9,
    "start_time": "2025-04-17T13:01:26.266Z"
   },
   {
    "duration": 11,
    "start_time": "2025-04-17T13:01:26.276Z"
   },
   {
    "duration": 10,
    "start_time": "2025-04-17T13:01:26.289Z"
   },
   {
    "duration": 39,
    "start_time": "2025-04-17T13:01:26.301Z"
   },
   {
    "duration": 4,
    "start_time": "2025-04-17T13:01:26.341Z"
   },
   {
    "duration": 5,
    "start_time": "2025-04-17T13:01:26.347Z"
   },
   {
    "duration": 9,
    "start_time": "2025-04-17T13:01:26.353Z"
   },
   {
    "duration": 16,
    "start_time": "2025-04-17T13:01:26.364Z"
   },
   {
    "duration": 17,
    "start_time": "2025-04-17T13:01:26.382Z"
   },
   {
    "duration": 38,
    "start_time": "2025-04-17T13:01:26.400Z"
   },
   {
    "duration": 8,
    "start_time": "2025-04-17T13:01:26.440Z"
   },
   {
    "duration": 5,
    "start_time": "2025-04-17T13:01:26.449Z"
   },
   {
    "duration": 6,
    "start_time": "2025-04-17T13:01:26.455Z"
   },
   {
    "duration": 212,
    "start_time": "2025-04-17T13:01:26.462Z"
   },
   {
    "duration": 7,
    "start_time": "2025-04-17T13:01:26.675Z"
   },
   {
    "duration": 204,
    "start_time": "2025-04-17T13:01:26.683Z"
   },
   {
    "duration": 175,
    "start_time": "2025-04-17T13:01:26.889Z"
   },
   {
    "duration": 6,
    "start_time": "2025-04-17T13:01:27.065Z"
   },
   {
    "duration": 171,
    "start_time": "2025-04-17T13:01:27.073Z"
   },
   {
    "duration": 10,
    "start_time": "2025-04-17T13:01:27.246Z"
   },
   {
    "duration": 209,
    "start_time": "2025-04-17T13:01:27.258Z"
   },
   {
    "duration": 150,
    "start_time": "2025-04-17T13:01:27.468Z"
   },
   {
    "duration": 163,
    "start_time": "2025-04-17T13:01:27.619Z"
   },
   {
    "duration": 241,
    "start_time": "2025-04-17T13:01:27.785Z"
   },
   {
    "duration": 179,
    "start_time": "2025-04-17T13:01:28.027Z"
   },
   {
    "duration": 298,
    "start_time": "2025-04-17T13:01:28.207Z"
   },
   {
    "duration": 5,
    "start_time": "2025-04-17T13:01:28.507Z"
   },
   {
    "duration": 33,
    "start_time": "2025-04-17T13:01:28.514Z"
   },
   {
    "duration": 191,
    "start_time": "2025-04-17T13:01:28.548Z"
   },
   {
    "duration": 18,
    "start_time": "2025-04-17T13:01:28.741Z"
   },
   {
    "duration": 211,
    "start_time": "2025-04-17T13:01:28.761Z"
   },
   {
    "duration": 402,
    "start_time": "2025-04-17T13:02:16.150Z"
   },
   {
    "duration": 103,
    "start_time": "2025-04-17T13:02:35.358Z"
   },
   {
    "duration": 25,
    "start_time": "2025-04-17T13:04:30.016Z"
   },
   {
    "duration": 395,
    "start_time": "2025-04-17T13:04:37.240Z"
   },
   {
    "duration": 16,
    "start_time": "2025-04-17T13:04:51.672Z"
   },
   {
    "duration": 14,
    "start_time": "2025-04-17T13:08:18.287Z"
   },
   {
    "duration": 875,
    "start_time": "2025-04-17T13:08:35.049Z"
   },
   {
    "duration": 17,
    "start_time": "2025-04-17T13:09:03.202Z"
   },
   {
    "duration": 386,
    "start_time": "2025-04-17T13:09:33.606Z"
   },
   {
    "duration": 13,
    "start_time": "2025-04-17T13:23:00.535Z"
   },
   {
    "duration": 604,
    "start_time": "2025-04-17T13:23:24.514Z"
   },
   {
    "duration": 13,
    "start_time": "2025-04-17T13:25:21.576Z"
   },
   {
    "duration": 280,
    "start_time": "2025-04-17T13:25:30.362Z"
   },
   {
    "duration": 298,
    "start_time": "2025-04-17T13:25:42.653Z"
   },
   {
    "duration": 384,
    "start_time": "2025-04-17T13:25:46.953Z"
   },
   {
    "duration": 273,
    "start_time": "2025-04-17T13:25:54.303Z"
   },
   {
    "duration": 13,
    "start_time": "2025-04-17T13:32:30.062Z"
   },
   {
    "duration": 18,
    "start_time": "2025-04-17T13:32:39.125Z"
   },
   {
    "duration": 291,
    "start_time": "2025-04-17T13:35:21.377Z"
   },
   {
    "duration": 22,
    "start_time": "2025-04-17T13:35:43.384Z"
   },
   {
    "duration": 10458,
    "start_time": "2025-04-17T13:37:51.620Z"
   },
   {
    "duration": 11667,
    "start_time": "2025-04-17T13:38:42.287Z"
   },
   {
    "duration": 18,
    "start_time": "2025-04-17T13:39:58.796Z"
   },
   {
    "duration": 3587,
    "start_time": "2025-04-17T13:40:56.553Z"
   },
   {
    "duration": 259,
    "start_time": "2025-04-17T13:41:00.142Z"
   },
   {
    "duration": 17,
    "start_time": "2025-04-17T13:41:00.402Z"
   },
   {
    "duration": 28,
    "start_time": "2025-04-17T13:41:00.420Z"
   },
   {
    "duration": 9,
    "start_time": "2025-04-17T13:41:00.450Z"
   },
   {
    "duration": 14,
    "start_time": "2025-04-17T13:41:00.461Z"
   },
   {
    "duration": 16,
    "start_time": "2025-04-17T13:41:00.476Z"
   },
   {
    "duration": 17,
    "start_time": "2025-04-17T13:41:00.494Z"
   },
   {
    "duration": 74,
    "start_time": "2025-04-17T13:41:00.512Z"
   },
   {
    "duration": 5,
    "start_time": "2025-04-17T13:41:00.588Z"
   },
   {
    "duration": 19,
    "start_time": "2025-04-17T13:41:00.595Z"
   },
   {
    "duration": 30,
    "start_time": "2025-04-17T13:41:00.616Z"
   },
   {
    "duration": 16,
    "start_time": "2025-04-17T13:41:00.648Z"
   },
   {
    "duration": 5,
    "start_time": "2025-04-17T13:41:00.667Z"
   },
   {
    "duration": 40,
    "start_time": "2025-04-17T13:41:00.674Z"
   },
   {
    "duration": 22,
    "start_time": "2025-04-17T13:41:00.716Z"
   },
   {
    "duration": 19,
    "start_time": "2025-04-17T13:41:00.740Z"
   },
   {
    "duration": 180,
    "start_time": "2025-04-17T13:41:00.761Z"
   },
   {
    "duration": 7,
    "start_time": "2025-04-17T13:41:00.942Z"
   },
   {
    "duration": 209,
    "start_time": "2025-04-17T13:41:00.951Z"
   },
   {
    "duration": 177,
    "start_time": "2025-04-17T13:41:01.162Z"
   },
   {
    "duration": 5,
    "start_time": "2025-04-17T13:41:01.341Z"
   },
   {
    "duration": 158,
    "start_time": "2025-04-17T13:41:01.348Z"
   },
   {
    "duration": 12,
    "start_time": "2025-04-17T13:41:01.509Z"
   },
   {
    "duration": 282,
    "start_time": "2025-04-17T13:41:01.523Z"
   },
   {
    "duration": 139,
    "start_time": "2025-04-17T13:41:01.807Z"
   },
   {
    "duration": 165,
    "start_time": "2025-04-17T13:41:01.948Z"
   },
   {
    "duration": 238,
    "start_time": "2025-04-17T13:41:02.115Z"
   },
   {
    "duration": 198,
    "start_time": "2025-04-17T13:41:02.354Z"
   },
   {
    "duration": 261,
    "start_time": "2025-04-17T13:41:02.553Z"
   },
   {
    "duration": 6,
    "start_time": "2025-04-17T13:41:02.815Z"
   },
   {
    "duration": 21,
    "start_time": "2025-04-17T13:41:02.835Z"
   },
   {
    "duration": 206,
    "start_time": "2025-04-17T13:41:02.858Z"
   },
   {
    "duration": 18,
    "start_time": "2025-04-17T13:41:03.065Z"
   },
   {
    "duration": 307,
    "start_time": "2025-04-17T13:41:03.084Z"
   },
   {
    "duration": 12,
    "start_time": "2025-04-17T13:54:17.509Z"
   },
   {
    "duration": 10,
    "start_time": "2025-04-17T13:54:32.261Z"
   },
   {
    "duration": 156,
    "start_time": "2025-04-17T13:57:28.282Z"
   },
   {
    "duration": 209,
    "start_time": "2025-04-17T13:58:14.213Z"
   },
   {
    "duration": 216,
    "start_time": "2025-04-17T13:59:06.849Z"
   },
   {
    "duration": 102,
    "start_time": "2025-04-17T13:59:55.786Z"
   },
   {
    "duration": 211,
    "start_time": "2025-04-17T13:59:59.022Z"
   },
   {
    "duration": 204,
    "start_time": "2025-04-17T14:00:02.593Z"
   },
   {
    "duration": 186,
    "start_time": "2025-04-17T14:01:51.795Z"
   },
   {
    "duration": 188,
    "start_time": "2025-04-17T14:02:13.120Z"
   },
   {
    "duration": 7,
    "start_time": "2025-04-17T14:04:04.591Z"
   },
   {
    "duration": 282,
    "start_time": "2025-04-17T14:04:05.142Z"
   },
   {
    "duration": 7,
    "start_time": "2025-04-17T14:04:57.387Z"
   },
   {
    "duration": 8,
    "start_time": "2025-04-17T14:05:00.771Z"
   },
   {
    "duration": 7,
    "start_time": "2025-04-17T14:05:38.639Z"
   },
   {
    "duration": 188,
    "start_time": "2025-04-17T14:05:39.084Z"
   },
   {
    "duration": 7,
    "start_time": "2025-04-17T14:09:14.377Z"
   },
   {
    "duration": 181,
    "start_time": "2025-04-17T14:09:16.338Z"
   },
   {
    "duration": 7,
    "start_time": "2025-04-17T14:11:16.043Z"
   },
   {
    "duration": 8,
    "start_time": "2025-04-17T14:11:19.153Z"
   },
   {
    "duration": 192,
    "start_time": "2025-04-17T14:12:47.136Z"
   },
   {
    "duration": 188,
    "start_time": "2025-04-17T14:12:53.543Z"
   },
   {
    "duration": 3626,
    "start_time": "2025-04-17T14:13:06.387Z"
   },
   {
    "duration": 539,
    "start_time": "2025-04-17T14:13:10.016Z"
   },
   {
    "duration": 24,
    "start_time": "2025-04-17T14:13:10.557Z"
   },
   {
    "duration": 14,
    "start_time": "2025-04-17T14:13:10.583Z"
   },
   {
    "duration": 80,
    "start_time": "2025-04-17T14:13:10.599Z"
   },
   {
    "duration": 18,
    "start_time": "2025-04-17T14:13:10.681Z"
   },
   {
    "duration": 13,
    "start_time": "2025-04-17T14:13:10.700Z"
   },
   {
    "duration": 15,
    "start_time": "2025-04-17T14:13:10.715Z"
   },
   {
    "duration": 9,
    "start_time": "2025-04-17T14:13:10.732Z"
   },
   {
    "duration": 6,
    "start_time": "2025-04-17T14:13:10.745Z"
   },
   {
    "duration": 18,
    "start_time": "2025-04-17T14:13:10.752Z"
   },
   {
    "duration": 11,
    "start_time": "2025-04-17T14:13:10.772Z"
   },
   {
    "duration": 17,
    "start_time": "2025-04-17T14:13:10.784Z"
   },
   {
    "duration": 6,
    "start_time": "2025-04-17T14:13:10.802Z"
   },
   {
    "duration": 27,
    "start_time": "2025-04-17T14:13:10.810Z"
   },
   {
    "duration": 6,
    "start_time": "2025-04-17T14:13:10.838Z"
   },
   {
    "duration": 12,
    "start_time": "2025-04-17T14:13:10.845Z"
   },
   {
    "duration": 195,
    "start_time": "2025-04-17T14:13:10.858Z"
   },
   {
    "duration": 6,
    "start_time": "2025-04-17T14:13:11.055Z"
   },
   {
    "duration": 192,
    "start_time": "2025-04-17T14:13:11.063Z"
   },
   {
    "duration": 178,
    "start_time": "2025-04-17T14:13:11.257Z"
   },
   {
    "duration": 6,
    "start_time": "2025-04-17T14:13:11.437Z"
   },
   {
    "duration": 214,
    "start_time": "2025-04-17T14:13:11.445Z"
   },
   {
    "duration": 10,
    "start_time": "2025-04-17T14:13:11.660Z"
   },
   {
    "duration": 209,
    "start_time": "2025-04-17T14:13:11.671Z"
   },
   {
    "duration": 144,
    "start_time": "2025-04-17T14:13:11.882Z"
   },
   {
    "duration": 173,
    "start_time": "2025-04-17T14:13:12.028Z"
   },
   {
    "duration": 239,
    "start_time": "2025-04-17T14:13:12.204Z"
   },
   {
    "duration": 190,
    "start_time": "2025-04-17T14:13:12.445Z"
   },
   {
    "duration": 264,
    "start_time": "2025-04-17T14:13:12.637Z"
   },
   {
    "duration": 6,
    "start_time": "2025-04-17T14:13:12.903Z"
   },
   {
    "duration": 31,
    "start_time": "2025-04-17T14:13:12.911Z"
   },
   {
    "duration": 200,
    "start_time": "2025-04-17T14:13:12.944Z"
   },
   {
    "duration": 16,
    "start_time": "2025-04-17T14:13:13.145Z"
   },
   {
    "duration": 199,
    "start_time": "2025-04-17T14:13:13.162Z"
   },
   {
    "duration": 8,
    "start_time": "2025-04-17T14:13:13.362Z"
   },
   {
    "duration": 198,
    "start_time": "2025-04-17T14:13:13.371Z"
   },
   {
    "duration": 192,
    "start_time": "2025-04-17T14:13:19.337Z"
   },
   {
    "duration": 220,
    "start_time": "2025-04-17T14:39:33.539Z"
   },
   {
    "duration": 185,
    "start_time": "2025-04-17T14:41:21.534Z"
   },
   {
    "duration": 217,
    "start_time": "2025-04-17T14:41:34.086Z"
   },
   {
    "duration": 3483,
    "start_time": "2025-04-17T16:11:43.076Z"
   },
   {
    "duration": 137,
    "start_time": "2025-04-17T16:11:46.561Z"
   },
   {
    "duration": 16,
    "start_time": "2025-04-17T16:11:46.700Z"
   },
   {
    "duration": 14,
    "start_time": "2025-04-17T16:11:46.718Z"
   },
   {
    "duration": 13,
    "start_time": "2025-04-17T16:11:46.734Z"
   },
   {
    "duration": 65,
    "start_time": "2025-04-17T16:11:46.749Z"
   },
   {
    "duration": 38,
    "start_time": "2025-04-17T16:11:46.816Z"
   },
   {
    "duration": 20,
    "start_time": "2025-04-17T16:11:46.856Z"
   },
   {
    "duration": 4,
    "start_time": "2025-04-17T16:11:46.878Z"
   },
   {
    "duration": 12,
    "start_time": "2025-04-17T16:11:46.883Z"
   },
   {
    "duration": 9,
    "start_time": "2025-04-17T16:11:46.897Z"
   },
   {
    "duration": 11,
    "start_time": "2025-04-17T16:11:46.908Z"
   },
   {
    "duration": 26,
    "start_time": "2025-04-17T16:11:46.921Z"
   },
   {
    "duration": 5,
    "start_time": "2025-04-17T16:11:46.950Z"
   },
   {
    "duration": 65,
    "start_time": "2025-04-17T16:11:46.957Z"
   },
   {
    "duration": 5,
    "start_time": "2025-04-17T16:11:47.024Z"
   },
   {
    "duration": 22,
    "start_time": "2025-04-17T16:11:47.031Z"
   },
   {
    "duration": 171,
    "start_time": "2025-04-17T16:11:47.055Z"
   },
   {
    "duration": 8,
    "start_time": "2025-04-17T16:11:47.228Z"
   },
   {
    "duration": 190,
    "start_time": "2025-04-17T16:11:47.238Z"
   },
   {
    "duration": 177,
    "start_time": "2025-04-17T16:11:47.430Z"
   },
   {
    "duration": 6,
    "start_time": "2025-04-17T16:11:47.609Z"
   },
   {
    "duration": 128,
    "start_time": "2025-04-17T16:11:47.616Z"
   },
   {
    "duration": 10,
    "start_time": "2025-04-17T16:11:47.745Z"
   },
   {
    "duration": 225,
    "start_time": "2025-04-17T16:11:47.757Z"
   },
   {
    "duration": 145,
    "start_time": "2025-04-17T16:11:47.983Z"
   },
   {
    "duration": 163,
    "start_time": "2025-04-17T16:11:48.130Z"
   },
   {
    "duration": 243,
    "start_time": "2025-04-17T16:11:48.295Z"
   },
   {
    "duration": 185,
    "start_time": "2025-04-17T16:11:48.540Z"
   },
   {
    "duration": 275,
    "start_time": "2025-04-17T16:11:48.727Z"
   },
   {
    "duration": 5,
    "start_time": "2025-04-17T16:11:49.004Z"
   },
   {
    "duration": 32,
    "start_time": "2025-04-17T16:11:49.011Z"
   },
   {
    "duration": 204,
    "start_time": "2025-04-17T16:11:49.044Z"
   },
   {
    "duration": 15,
    "start_time": "2025-04-17T16:11:49.250Z"
   },
   {
    "duration": 197,
    "start_time": "2025-04-17T16:11:49.266Z"
   },
   {
    "duration": 7,
    "start_time": "2025-04-17T16:11:49.464Z"
   },
   {
    "duration": 201,
    "start_time": "2025-04-17T16:11:49.472Z"
   },
   {
    "duration": 180,
    "start_time": "2025-04-17T16:32:37.698Z"
   },
   {
    "duration": 204,
    "start_time": "2025-04-17T16:32:47.054Z"
   },
   {
    "duration": 139,
    "start_time": "2025-04-17T16:34:32.798Z"
   },
   {
    "duration": 128,
    "start_time": "2025-04-17T16:34:38.624Z"
   },
   {
    "duration": 138,
    "start_time": "2025-04-17T16:34:49.919Z"
   },
   {
    "duration": 4099,
    "start_time": "2025-04-17T17:33:10.853Z"
   },
   {
    "duration": 427,
    "start_time": "2025-04-17T17:33:14.955Z"
   },
   {
    "duration": 16,
    "start_time": "2025-04-17T17:33:15.384Z"
   },
   {
    "duration": 50,
    "start_time": "2025-04-17T17:33:15.402Z"
   },
   {
    "duration": 13,
    "start_time": "2025-04-17T17:33:15.454Z"
   },
   {
    "duration": 29,
    "start_time": "2025-04-17T17:33:15.469Z"
   },
   {
    "duration": 103,
    "start_time": "2025-04-17T17:33:15.501Z"
   },
   {
    "duration": 38,
    "start_time": "2025-04-17T17:33:15.606Z"
   },
   {
    "duration": 4,
    "start_time": "2025-04-17T17:33:15.646Z"
   },
   {
    "duration": 8,
    "start_time": "2025-04-17T17:33:15.653Z"
   },
   {
    "duration": 20,
    "start_time": "2025-04-17T17:33:15.663Z"
   },
   {
    "duration": 15,
    "start_time": "2025-04-17T17:33:15.685Z"
   },
   {
    "duration": 21,
    "start_time": "2025-04-17T17:33:15.701Z"
   },
   {
    "duration": 10,
    "start_time": "2025-04-17T17:33:15.724Z"
   },
   {
    "duration": 6,
    "start_time": "2025-04-17T17:33:15.736Z"
   },
   {
    "duration": 15,
    "start_time": "2025-04-17T17:33:15.744Z"
   },
   {
    "duration": 24,
    "start_time": "2025-04-17T17:33:15.761Z"
   },
   {
    "duration": 213,
    "start_time": "2025-04-17T17:33:15.787Z"
   },
   {
    "duration": 7,
    "start_time": "2025-04-17T17:33:16.004Z"
   },
   {
    "duration": 229,
    "start_time": "2025-04-17T17:33:16.013Z"
   },
   {
    "duration": 195,
    "start_time": "2025-04-17T17:33:16.244Z"
   },
   {
    "duration": 6,
    "start_time": "2025-04-17T17:33:16.441Z"
   },
   {
    "duration": 155,
    "start_time": "2025-04-17T17:33:16.449Z"
   },
   {
    "duration": 10,
    "start_time": "2025-04-17T17:33:16.606Z"
   },
   {
    "duration": 304,
    "start_time": "2025-04-17T17:33:16.618Z"
   },
   {
    "duration": 160,
    "start_time": "2025-04-17T17:33:16.924Z"
   },
   {
    "duration": 183,
    "start_time": "2025-04-17T17:33:17.086Z"
   },
   {
    "duration": 283,
    "start_time": "2025-04-17T17:33:17.273Z"
   },
   {
    "duration": 228,
    "start_time": "2025-04-17T17:33:17.558Z"
   },
   {
    "duration": 293,
    "start_time": "2025-04-17T17:33:17.788Z"
   },
   {
    "duration": 6,
    "start_time": "2025-04-17T17:33:18.083Z"
   },
   {
    "duration": 30,
    "start_time": "2025-04-17T17:33:18.090Z"
   },
   {
    "duration": 263,
    "start_time": "2025-04-17T17:33:18.121Z"
   },
   {
    "duration": 28,
    "start_time": "2025-04-17T17:33:18.386Z"
   },
   {
    "duration": 227,
    "start_time": "2025-04-17T17:33:18.416Z"
   },
   {
    "duration": 7,
    "start_time": "2025-04-17T17:33:18.645Z"
   },
   {
    "duration": 299,
    "start_time": "2025-04-17T17:33:18.654Z"
   },
   {
    "duration": 6,
    "start_time": "2025-04-17T17:37:44.933Z"
   },
   {
    "duration": 7,
    "start_time": "2025-04-17T17:54:35.715Z"
   },
   {
    "duration": 6,
    "start_time": "2025-04-17T17:54:43.326Z"
   },
   {
    "duration": 114,
    "start_time": "2025-04-17T17:56:35.079Z"
   },
   {
    "duration": 305,
    "start_time": "2025-04-17T17:56:40.499Z"
   },
   {
    "duration": 3637,
    "start_time": "2025-04-17T18:18:23.123Z"
   },
   {
    "duration": 386,
    "start_time": "2025-04-17T18:18:26.762Z"
   },
   {
    "duration": 17,
    "start_time": "2025-04-17T18:18:27.150Z"
   },
   {
    "duration": 15,
    "start_time": "2025-04-17T18:18:27.169Z"
   },
   {
    "duration": 9,
    "start_time": "2025-04-17T18:18:27.186Z"
   },
   {
    "duration": 39,
    "start_time": "2025-04-17T18:18:27.197Z"
   },
   {
    "duration": 31,
    "start_time": "2025-04-17T18:18:27.238Z"
   },
   {
    "duration": 23,
    "start_time": "2025-04-17T18:18:27.271Z"
   },
   {
    "duration": 9,
    "start_time": "2025-04-17T18:18:27.297Z"
   },
   {
    "duration": 5,
    "start_time": "2025-04-17T18:18:27.309Z"
   },
   {
    "duration": 56,
    "start_time": "2025-04-17T18:18:27.315Z"
   },
   {
    "duration": 28,
    "start_time": "2025-04-17T18:18:27.372Z"
   },
   {
    "duration": 16,
    "start_time": "2025-04-17T18:18:27.402Z"
   },
   {
    "duration": 5,
    "start_time": "2025-04-17T18:18:27.420Z"
   },
   {
    "duration": 6,
    "start_time": "2025-04-17T18:18:27.427Z"
   },
   {
    "duration": 5,
    "start_time": "2025-04-17T18:18:27.435Z"
   },
   {
    "duration": 13,
    "start_time": "2025-04-17T18:18:27.441Z"
   },
   {
    "duration": 182,
    "start_time": "2025-04-17T18:18:27.455Z"
   },
   {
    "duration": 7,
    "start_time": "2025-04-17T18:18:27.639Z"
   },
   {
    "duration": 197,
    "start_time": "2025-04-17T18:18:27.647Z"
   },
   {
    "duration": 175,
    "start_time": "2025-04-17T18:18:27.846Z"
   },
   {
    "duration": 14,
    "start_time": "2025-04-17T18:18:28.023Z"
   },
   {
    "duration": 122,
    "start_time": "2025-04-17T18:18:28.038Z"
   },
   {
    "duration": 10,
    "start_time": "2025-04-17T18:18:28.162Z"
   },
   {
    "duration": 208,
    "start_time": "2025-04-17T18:18:28.173Z"
   },
   {
    "duration": 139,
    "start_time": "2025-04-17T18:18:28.383Z"
   },
   {
    "duration": 163,
    "start_time": "2025-04-17T18:18:28.524Z"
   },
   {
    "duration": 231,
    "start_time": "2025-04-17T18:18:28.691Z"
   },
   {
    "duration": 189,
    "start_time": "2025-04-17T18:18:28.925Z"
   },
   {
    "duration": 286,
    "start_time": "2025-04-17T18:18:29.116Z"
   },
   {
    "duration": 6,
    "start_time": "2025-04-17T18:18:29.404Z"
   },
   {
    "duration": 32,
    "start_time": "2025-04-17T18:18:29.412Z"
   },
   {
    "duration": 201,
    "start_time": "2025-04-17T18:18:29.446Z"
   },
   {
    "duration": 18,
    "start_time": "2025-04-17T18:18:29.649Z"
   },
   {
    "duration": 203,
    "start_time": "2025-04-17T18:18:29.669Z"
   },
   {
    "duration": 9,
    "start_time": "2025-04-17T18:18:29.874Z"
   },
   {
    "duration": 202,
    "start_time": "2025-04-17T18:18:29.885Z"
   },
   {
    "duration": 99,
    "start_time": "2025-04-17T18:31:45.352Z"
   },
   {
    "duration": 3481,
    "start_time": "2025-04-17T18:31:49.808Z"
   },
   {
    "duration": 260,
    "start_time": "2025-04-17T18:31:53.291Z"
   },
   {
    "duration": 17,
    "start_time": "2025-04-17T18:31:53.552Z"
   },
   {
    "duration": 15,
    "start_time": "2025-04-17T18:31:53.571Z"
   },
   {
    "duration": 9,
    "start_time": "2025-04-17T18:31:53.589Z"
   },
   {
    "duration": 36,
    "start_time": "2025-04-17T18:31:53.600Z"
   },
   {
    "duration": 12,
    "start_time": "2025-04-17T18:31:53.638Z"
   },
   {
    "duration": 15,
    "start_time": "2025-04-17T18:31:53.651Z"
   },
   {
    "duration": 4,
    "start_time": "2025-04-17T18:31:53.668Z"
   },
   {
    "duration": 7,
    "start_time": "2025-04-17T18:31:53.673Z"
   },
   {
    "duration": 13,
    "start_time": "2025-04-17T18:31:53.681Z"
   },
   {
    "duration": 134,
    "start_time": "2025-04-17T18:31:53.696Z"
   },
   {
    "duration": 0,
    "start_time": "2025-04-17T18:31:53.835Z"
   },
   {
    "duration": 0,
    "start_time": "2025-04-17T18:31:53.837Z"
   },
   {
    "duration": 0,
    "start_time": "2025-04-17T18:31:53.838Z"
   },
   {
    "duration": 0,
    "start_time": "2025-04-17T18:31:53.839Z"
   },
   {
    "duration": 0,
    "start_time": "2025-04-17T18:31:53.840Z"
   },
   {
    "duration": 0,
    "start_time": "2025-04-17T18:31:53.841Z"
   },
   {
    "duration": 0,
    "start_time": "2025-04-17T18:31:53.842Z"
   },
   {
    "duration": 0,
    "start_time": "2025-04-17T18:31:53.843Z"
   },
   {
    "duration": 0,
    "start_time": "2025-04-17T18:31:53.844Z"
   },
   {
    "duration": 0,
    "start_time": "2025-04-17T18:31:53.845Z"
   },
   {
    "duration": 0,
    "start_time": "2025-04-17T18:31:53.846Z"
   },
   {
    "duration": 0,
    "start_time": "2025-04-17T18:31:53.847Z"
   },
   {
    "duration": 0,
    "start_time": "2025-04-17T18:31:53.848Z"
   },
   {
    "duration": 0,
    "start_time": "2025-04-17T18:31:53.849Z"
   },
   {
    "duration": 0,
    "start_time": "2025-04-17T18:31:53.850Z"
   },
   {
    "duration": 0,
    "start_time": "2025-04-17T18:31:53.851Z"
   },
   {
    "duration": 0,
    "start_time": "2025-04-17T18:31:53.852Z"
   },
   {
    "duration": 0,
    "start_time": "2025-04-17T18:31:53.853Z"
   },
   {
    "duration": 0,
    "start_time": "2025-04-17T18:31:53.854Z"
   },
   {
    "duration": 0,
    "start_time": "2025-04-17T18:31:53.855Z"
   },
   {
    "duration": 0,
    "start_time": "2025-04-17T18:31:53.856Z"
   },
   {
    "duration": 0,
    "start_time": "2025-04-17T18:31:53.857Z"
   },
   {
    "duration": 0,
    "start_time": "2025-04-17T18:31:53.858Z"
   },
   {
    "duration": 0,
    "start_time": "2025-04-17T18:31:53.859Z"
   },
   {
    "duration": 0,
    "start_time": "2025-04-17T18:31:53.860Z"
   },
   {
    "duration": 8,
    "start_time": "2025-04-17T18:32:03.295Z"
   },
   {
    "duration": 10,
    "start_time": "2025-04-17T18:32:09.478Z"
   },
   {
    "duration": 68,
    "start_time": "2025-04-17T18:32:54.412Z"
   },
   {
    "duration": 18,
    "start_time": "2025-04-17T18:33:23.246Z"
   },
   {
    "duration": 6,
    "start_time": "2025-04-17T18:33:23.561Z"
   },
   {
    "duration": 6,
    "start_time": "2025-04-17T18:33:23.827Z"
   },
   {
    "duration": 5,
    "start_time": "2025-04-17T18:33:39.660Z"
   },
   {
    "duration": 5,
    "start_time": "2025-04-17T18:33:57.617Z"
   },
   {
    "duration": 12,
    "start_time": "2025-04-17T18:34:44.541Z"
   },
   {
    "duration": 19,
    "start_time": "2025-04-17T18:36:02.398Z"
   },
   {
    "duration": 12,
    "start_time": "2025-04-17T18:38:12.252Z"
   },
   {
    "duration": 9,
    "start_time": "2025-04-17T18:38:18.720Z"
   },
   {
    "duration": 6,
    "start_time": "2025-04-17T18:38:27.959Z"
   },
   {
    "duration": 14,
    "start_time": "2025-04-17T18:39:12.853Z"
   },
   {
    "duration": 9,
    "start_time": "2025-04-17T18:39:13.371Z"
   },
   {
    "duration": 6,
    "start_time": "2025-04-17T18:39:15.003Z"
   },
   {
    "duration": 6,
    "start_time": "2025-04-17T18:39:16.050Z"
   },
   {
    "duration": 6,
    "start_time": "2025-04-17T18:40:24.118Z"
   },
   {
    "duration": 6,
    "start_time": "2025-04-17T18:40:24.517Z"
   },
   {
    "duration": 9,
    "start_time": "2025-04-17T18:40:24.769Z"
   },
   {
    "duration": 9,
    "start_time": "2025-04-17T18:40:29.478Z"
   },
   {
    "duration": 8,
    "start_time": "2025-04-17T18:40:38.523Z"
   },
   {
    "duration": 3684,
    "start_time": "2025-04-17T18:47:32.144Z"
   },
   {
    "duration": 189,
    "start_time": "2025-04-17T18:47:35.830Z"
   },
   {
    "duration": 19,
    "start_time": "2025-04-17T18:47:36.021Z"
   },
   {
    "duration": 14,
    "start_time": "2025-04-17T18:47:36.042Z"
   },
   {
    "duration": 10,
    "start_time": "2025-04-17T18:47:36.059Z"
   },
   {
    "duration": 26,
    "start_time": "2025-04-17T18:47:36.071Z"
   },
   {
    "duration": 14,
    "start_time": "2025-04-17T18:47:36.099Z"
   },
   {
    "duration": 15,
    "start_time": "2025-04-17T18:47:36.137Z"
   },
   {
    "duration": 12,
    "start_time": "2025-04-17T18:47:36.154Z"
   },
   {
    "duration": 11,
    "start_time": "2025-04-17T18:47:36.167Z"
   },
   {
    "duration": 26,
    "start_time": "2025-04-17T18:47:36.180Z"
   },
   {
    "duration": 38,
    "start_time": "2025-04-17T18:47:36.208Z"
   },
   {
    "duration": 19,
    "start_time": "2025-04-17T18:47:36.248Z"
   },
   {
    "duration": 9,
    "start_time": "2025-04-17T18:47:36.271Z"
   },
   {
    "duration": 24,
    "start_time": "2025-04-17T18:47:36.282Z"
   },
   {
    "duration": 11,
    "start_time": "2025-04-17T18:47:36.308Z"
   },
   {
    "duration": 7,
    "start_time": "2025-04-17T18:47:36.321Z"
   },
   {
    "duration": 201,
    "start_time": "2025-04-17T18:47:36.336Z"
   },
   {
    "duration": 8,
    "start_time": "2025-04-17T18:47:36.540Z"
   },
   {
    "duration": 293,
    "start_time": "2025-04-17T18:47:36.549Z"
   },
   {
    "duration": 185,
    "start_time": "2025-04-17T18:47:36.844Z"
   },
   {
    "duration": 5,
    "start_time": "2025-04-17T18:47:37.031Z"
   },
   {
    "duration": 139,
    "start_time": "2025-04-17T18:47:37.038Z"
   },
   {
    "duration": 16,
    "start_time": "2025-04-17T18:47:37.179Z"
   },
   {
    "duration": 241,
    "start_time": "2025-04-17T18:47:37.198Z"
   },
   {
    "duration": 150,
    "start_time": "2025-04-17T18:47:37.441Z"
   },
   {
    "duration": 181,
    "start_time": "2025-04-17T18:47:37.593Z"
   },
   {
    "duration": 247,
    "start_time": "2025-04-17T18:47:37.775Z"
   },
   {
    "duration": 199,
    "start_time": "2025-04-17T18:47:38.024Z"
   },
   {
    "duration": 281,
    "start_time": "2025-04-17T18:47:38.225Z"
   },
   {
    "duration": 6,
    "start_time": "2025-04-17T18:47:38.508Z"
   },
   {
    "duration": 32,
    "start_time": "2025-04-17T18:47:38.515Z"
   },
   {
    "duration": 208,
    "start_time": "2025-04-17T18:47:38.549Z"
   },
   {
    "duration": 17,
    "start_time": "2025-04-17T18:47:38.759Z"
   },
   {
    "duration": 209,
    "start_time": "2025-04-17T18:47:38.778Z"
   },
   {
    "duration": 7,
    "start_time": "2025-04-17T18:47:38.988Z"
   },
   {
    "duration": 211,
    "start_time": "2025-04-17T18:47:38.997Z"
   },
   {
    "duration": 80,
    "start_time": "2025-04-17T18:49:51.343Z"
   },
   {
    "duration": 75,
    "start_time": "2025-04-17T18:52:30.677Z"
   },
   {
    "duration": 72,
    "start_time": "2025-04-17T18:52:36.033Z"
   },
   {
    "duration": 215,
    "start_time": "2025-04-17T18:52:42.922Z"
   },
   {
    "duration": 82,
    "start_time": "2025-04-17T18:52:57.355Z"
   },
   {
    "duration": 80,
    "start_time": "2025-04-17T18:54:02.649Z"
   },
   {
    "duration": 116,
    "start_time": "2025-04-17T18:54:06.074Z"
   },
   {
    "duration": 80,
    "start_time": "2025-04-17T18:54:11.154Z"
   },
   {
    "duration": 78,
    "start_time": "2025-04-17T18:54:14.315Z"
   },
   {
    "duration": 81,
    "start_time": "2025-04-17T18:54:25.793Z"
   },
   {
    "duration": 93,
    "start_time": "2025-04-17T19:00:07.387Z"
   },
   {
    "duration": 116,
    "start_time": "2025-04-17T19:01:07.761Z"
   },
   {
    "duration": 209,
    "start_time": "2025-04-17T19:01:26.609Z"
   },
   {
    "duration": 90,
    "start_time": "2025-04-17T19:01:31.066Z"
   },
   {
    "duration": 84,
    "start_time": "2025-04-17T19:01:43.244Z"
   },
   {
    "duration": 89,
    "start_time": "2025-04-17T19:01:52.350Z"
   },
   {
    "duration": 87,
    "start_time": "2025-04-17T19:02:01.488Z"
   },
   {
    "duration": 17,
    "start_time": "2025-04-17T19:03:18.675Z"
   },
   {
    "duration": 14,
    "start_time": "2025-04-17T19:03:40.842Z"
   },
   {
    "duration": 13,
    "start_time": "2025-04-17T19:03:45.889Z"
   },
   {
    "duration": 94,
    "start_time": "2025-04-17T19:04:15.303Z"
   },
   {
    "duration": 93,
    "start_time": "2025-04-17T19:04:26.971Z"
   },
   {
    "duration": 90,
    "start_time": "2025-04-17T19:04:44.808Z"
   },
   {
    "duration": 90,
    "start_time": "2025-04-17T19:04:50.640Z"
   },
   {
    "duration": 91,
    "start_time": "2025-04-17T19:04:54.976Z"
   },
   {
    "duration": 88,
    "start_time": "2025-04-17T19:05:01.454Z"
   },
   {
    "duration": 104,
    "start_time": "2025-04-17T19:05:03.836Z"
   },
   {
    "duration": 89,
    "start_time": "2025-04-17T19:05:16.074Z"
   },
   {
    "duration": 86,
    "start_time": "2025-04-17T19:05:46.798Z"
   },
   {
    "duration": 9,
    "start_time": "2025-04-17T19:07:37.947Z"
   },
   {
    "duration": 105,
    "start_time": "2025-04-17T19:07:38.264Z"
   },
   {
    "duration": 178,
    "start_time": "2025-04-17T19:09:29.438Z"
   },
   {
    "duration": 10,
    "start_time": "2025-04-17T19:09:42.663Z"
   },
   {
    "duration": 282,
    "start_time": "2025-04-17T19:09:43.787Z"
   },
   {
    "duration": 192,
    "start_time": "2025-04-17T19:09:56.033Z"
   },
   {
    "duration": 71,
    "start_time": "2025-04-17T19:10:07.122Z"
   },
   {
    "duration": 168,
    "start_time": "2025-04-17T19:10:10.217Z"
   },
   {
    "duration": 167,
    "start_time": "2025-04-17T19:10:24.275Z"
   },
   {
    "duration": 12,
    "start_time": "2025-04-17T19:11:30.480Z"
   },
   {
    "duration": 18,
    "start_time": "2025-04-17T19:12:07.977Z"
   },
   {
    "duration": 17,
    "start_time": "2025-04-17T19:12:12.404Z"
   },
   {
    "duration": 205,
    "start_time": "2025-04-17T19:12:21.238Z"
   },
   {
    "duration": 219,
    "start_time": "2025-04-17T19:12:37.200Z"
   },
   {
    "duration": 177,
    "start_time": "2025-04-17T19:12:44.195Z"
   },
   {
    "duration": 162,
    "start_time": "2025-04-17T19:12:56.822Z"
   },
   {
    "duration": 201,
    "start_time": "2025-04-17T19:13:02.237Z"
   },
   {
    "duration": 197,
    "start_time": "2025-04-17T19:13:20.079Z"
   },
   {
    "duration": 12,
    "start_time": "2025-04-17T19:13:44.245Z"
   },
   {
    "duration": 219,
    "start_time": "2025-04-17T19:13:54.004Z"
   },
   {
    "duration": 12,
    "start_time": "2025-04-17T19:14:11.922Z"
   },
   {
    "duration": 297,
    "start_time": "2025-04-17T19:14:18.972Z"
   },
   {
    "duration": 186,
    "start_time": "2025-04-17T19:18:25.933Z"
   },
   {
    "duration": 10,
    "start_time": "2025-04-17T19:19:01.203Z"
   },
   {
    "duration": 182,
    "start_time": "2025-04-17T19:19:11.028Z"
   },
   {
    "duration": 177,
    "start_time": "2025-04-17T19:19:25.657Z"
   },
   {
    "duration": 11,
    "start_time": "2025-04-17T19:19:42.106Z"
   },
   {
    "duration": 192,
    "start_time": "2025-04-17T19:19:49.906Z"
   },
   {
    "duration": 10,
    "start_time": "2025-04-17T19:20:46.365Z"
   },
   {
    "duration": 8,
    "start_time": "2025-04-17T19:21:24.577Z"
   },
   {
    "duration": 10,
    "start_time": "2025-04-17T19:21:27.221Z"
   },
   {
    "duration": 174,
    "start_time": "2025-04-17T19:21:48.445Z"
   },
   {
    "duration": 154,
    "start_time": "2025-04-17T19:31:37.453Z"
   },
   {
    "duration": 18,
    "start_time": "2025-04-17T19:33:53.907Z"
   },
   {
    "duration": 169,
    "start_time": "2025-04-17T19:34:06.659Z"
   },
   {
    "duration": 148,
    "start_time": "2025-04-17T19:34:15.826Z"
   },
   {
    "duration": 253,
    "start_time": "2025-04-17T19:35:55.583Z"
   },
   {
    "duration": 239,
    "start_time": "2025-04-17T19:36:00.233Z"
   },
   {
    "duration": 16,
    "start_time": "2025-04-17T19:38:08.469Z"
   },
   {
    "duration": 198,
    "start_time": "2025-04-17T19:38:10.830Z"
   },
   {
    "duration": 17,
    "start_time": "2025-04-17T19:38:18.155Z"
   },
   {
    "duration": 276,
    "start_time": "2025-04-17T19:38:18.767Z"
   },
   {
    "duration": 16,
    "start_time": "2025-04-17T19:38:37.536Z"
   },
   {
    "duration": 202,
    "start_time": "2025-04-17T19:38:38.420Z"
   },
   {
    "duration": 194,
    "start_time": "2025-04-17T19:38:51.360Z"
   },
   {
    "duration": 192,
    "start_time": "2025-04-17T19:38:56.114Z"
   },
   {
    "duration": 210,
    "start_time": "2025-04-17T19:39:01.381Z"
   },
   {
    "duration": 8,
    "start_time": "2025-04-17T19:40:06.200Z"
   },
   {
    "duration": 198,
    "start_time": "2025-04-17T19:40:06.667Z"
   },
   {
    "duration": 324,
    "start_time": "2025-04-17T19:43:32.422Z"
   },
   {
    "duration": 212,
    "start_time": "2025-04-17T19:43:38.759Z"
   },
   {
    "duration": 16,
    "start_time": "2025-04-17T19:43:52.045Z"
   },
   {
    "duration": 215,
    "start_time": "2025-04-17T19:44:13.242Z"
   },
   {
    "duration": 16,
    "start_time": "2025-04-17T19:44:17.405Z"
   },
   {
    "duration": 207,
    "start_time": "2025-04-17T19:44:30.073Z"
   },
   {
    "duration": 198,
    "start_time": "2025-04-17T19:45:15.580Z"
   },
   {
    "duration": 323,
    "start_time": "2025-04-17T19:45:19.335Z"
   },
   {
    "duration": 327,
    "start_time": "2025-04-17T19:45:23.209Z"
   },
   {
    "duration": 14,
    "start_time": "2025-04-17T19:45:59.699Z"
   },
   {
    "duration": 226,
    "start_time": "2025-04-17T19:46:02.628Z"
   },
   {
    "duration": 15,
    "start_time": "2025-04-17T19:46:08.323Z"
   },
   {
    "duration": 215,
    "start_time": "2025-04-17T19:46:11.297Z"
   },
   {
    "duration": 103,
    "start_time": "2025-04-17T19:58:39.316Z"
   },
   {
    "duration": 5338,
    "start_time": "2025-04-18T08:06:38.563Z"
   },
   {
    "duration": 240,
    "start_time": "2025-04-18T08:06:43.903Z"
   },
   {
    "duration": 23,
    "start_time": "2025-04-18T08:06:44.149Z"
   },
   {
    "duration": 20,
    "start_time": "2025-04-18T08:06:44.175Z"
   },
   {
    "duration": 10,
    "start_time": "2025-04-18T08:06:44.197Z"
   },
   {
    "duration": 58,
    "start_time": "2025-04-18T08:06:44.209Z"
   },
   {
    "duration": 11,
    "start_time": "2025-04-18T08:06:44.269Z"
   },
   {
    "duration": 13,
    "start_time": "2025-04-18T08:06:44.282Z"
   },
   {
    "duration": 8,
    "start_time": "2025-04-18T08:06:44.296Z"
   },
   {
    "duration": 5,
    "start_time": "2025-04-18T08:06:44.305Z"
   },
   {
    "duration": 9,
    "start_time": "2025-04-18T08:06:44.311Z"
   },
   {
    "duration": 38,
    "start_time": "2025-04-18T08:06:44.322Z"
   },
   {
    "duration": 17,
    "start_time": "2025-04-18T08:06:44.362Z"
   },
   {
    "duration": 9,
    "start_time": "2025-04-18T08:06:44.382Z"
   },
   {
    "duration": 11,
    "start_time": "2025-04-18T08:06:44.393Z"
   },
   {
    "duration": 5,
    "start_time": "2025-04-18T08:06:44.406Z"
   },
   {
    "duration": 17,
    "start_time": "2025-04-18T08:06:44.413Z"
   },
   {
    "duration": 192,
    "start_time": "2025-04-18T08:06:44.439Z"
   },
   {
    "duration": 26,
    "start_time": "2025-04-18T08:06:44.632Z"
   },
   {
    "duration": 211,
    "start_time": "2025-04-18T08:06:44.661Z"
   },
   {
    "duration": 197,
    "start_time": "2025-04-18T08:06:44.874Z"
   },
   {
    "duration": 6,
    "start_time": "2025-04-18T08:06:45.072Z"
   },
   {
    "duration": 128,
    "start_time": "2025-04-18T08:06:45.079Z"
   },
   {
    "duration": 11,
    "start_time": "2025-04-18T08:06:45.209Z"
   },
   {
    "duration": 75,
    "start_time": "2025-04-18T08:06:45.235Z"
   },
   {
    "duration": 229,
    "start_time": "2025-04-18T08:06:45.312Z"
   },
   {
    "duration": 160,
    "start_time": "2025-04-18T08:06:45.542Z"
   },
   {
    "duration": 183,
    "start_time": "2025-04-18T08:06:45.704Z"
   },
   {
    "duration": 259,
    "start_time": "2025-04-18T08:06:45.889Z"
   },
   {
    "duration": 276,
    "start_time": "2025-04-18T08:06:46.151Z"
   },
   {
    "duration": 284,
    "start_time": "2025-04-18T08:06:46.428Z"
   },
   {
    "duration": 5,
    "start_time": "2025-04-18T08:06:46.714Z"
   },
   {
    "duration": 95,
    "start_time": "2025-04-18T08:06:46.721Z"
   },
   {
    "duration": 227,
    "start_time": "2025-04-18T08:06:46.818Z"
   },
   {
    "duration": 20,
    "start_time": "2025-04-18T08:06:47.053Z"
   },
   {
    "duration": 224,
    "start_time": "2025-04-18T08:06:47.076Z"
   },
   {
    "duration": 7,
    "start_time": "2025-04-18T08:06:47.301Z"
   },
   {
    "duration": 236,
    "start_time": "2025-04-18T08:06:47.310Z"
   },
   {
    "duration": 136,
    "start_time": "2025-04-18T08:07:42.967Z"
   },
   {
    "duration": 258,
    "start_time": "2025-04-18T08:07:50.465Z"
   }
  ],
  "colab": {
   "provenance": []
  },
  "kernelspec": {
   "display_name": "Python 3 (ipykernel)",
   "language": "python",
   "name": "python3"
  },
  "language_info": {
   "codemirror_mode": {
    "name": "ipython",
    "version": 3
   },
   "file_extension": ".py",
   "mimetype": "text/x-python",
   "name": "python",
   "nbconvert_exporter": "python",
   "pygments_lexer": "ipython3",
   "version": "3.9.7"
  },
  "toc": {
   "base_numbering": 1,
   "nav_menu": {},
   "number_sections": true,
   "sideBar": true,
   "skip_h1_title": true,
   "title_cell": "Table of Contents",
   "title_sidebar": "Contents",
   "toc_cell": false,
   "toc_position": {},
   "toc_section_display": true,
   "toc_window_display": false
  }
 },
 "nbformat": 4,
 "nbformat_minor": 5
}
